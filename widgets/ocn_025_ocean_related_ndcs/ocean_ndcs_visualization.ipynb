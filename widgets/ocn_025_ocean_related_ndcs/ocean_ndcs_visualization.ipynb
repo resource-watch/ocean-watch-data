{
 "cells": [
  {
   "cell_type": "markdown",
   "metadata": {},
   "source": [
    "# Ocean Related NDCs"
   ]
  },
  {
   "cell_type": "markdown",
   "metadata": {},
   "source": [
    "A radial pie chart chart displaying whether sectoral adaptation and mitigation measures have been made by each country in sub-sectors related to ocean management. For the global widget, the radius of the pie peice represents the number of countries with measures in a given sub-sector. For the global widget, the radius of the pie peice represents the number of countries with measures in a given sub-sector.<br>\n",
    "\n",
    "Note that this is a parameterized widget; the specification passed to the API will not be renderable without the geostore identifier being inserted. "
   ]
  },
  {
   "cell_type": "markdown",
   "metadata": {},
   "source": [
    "*Author: Rachel Thoms\n",
    "<br>Created: 03 Sept 2021\n",
    "<br>Environment: jupyterlab*"
   ]
  },
  {
   "cell_type": "markdown",
   "metadata": {},
   "source": [
    "## Style"
   ]
  },
  {
   "cell_type": "markdown",
   "metadata": {},
   "source": [
    "- Vega chart\n",
    "- Chart type: [Radial Plot](https://vega.github.io/vega/examples/radial-plot/)\n",
    "- Value: Boolean- whether a measure is specified (country level), number of contributions (global level) "
   ]
  },
  {
   "cell_type": "markdown",
   "metadata": {},
   "source": [
    "## Data"
   ]
  },
  {
   "cell_type": "markdown",
   "metadata": {},
   "source": [
    "\n",
    "- Underlying dataset: [ocn_025](https://resourcewatch.carto.com/u/wri-rw/dataset/ocn_025_rw0_ocean_ndc_measures)\n",
    "- Source: [Climate Watch](https://www.climatewatchdata.org/data-explorer/ndc-content?ndc-content-categories=All%20Selected&ndc-content-countries=All%20Selected&ndc-content-indicators=All%20Selected&ndc-content-sectors=All%20Selected&page=1)"
   ]
  },
  {
   "cell_type": "markdown",
   "metadata": {},
   "source": [
    "## Preparation"
   ]
  },
  {
   "cell_type": "markdown",
   "metadata": {},
   "source": [
    "The underlying dataset was processed using a python script. See the script [here](../../datasets/ocn_025_rw0_ocean_ndcs/ocn_025_rw0_ocean_ndcs.py). TNo additional processing was executed to create the widget."
   ]
  },
  {
   "cell_type": "markdown",
   "metadata": {},
   "source": [
    "### Vega"
   ]
  },
  {
   "cell_type": "code",
   "execution_count": 1,
   "metadata": {},
   "outputs": [],
   "source": [
    "import json\n",
    "from vega import Vega\n",
    "from IPython.display import display"
   ]
  },
  {
   "cell_type": "code",
   "execution_count": 2,
   "metadata": {},
   "outputs": [],
   "source": [
    "def Vega(spec):\n",
    "    bundle = {}\n",
    "    bundle['application/vnd.vega.v5+json'] = spec\n",
    "    display(bundle, raw=True)"
   ]
  },
  {
   "cell_type": "code",
   "execution_count": 3,
   "metadata": {},
   "outputs": [],
   "source": [
    "widget_width = 500\n",
    "widget_height = 500"
   ]
  },
  {
   "cell_type": "markdown",
   "metadata": {},
   "source": [
    "## Visualization"
   ]
  },
  {
   "cell_type": "markdown",
   "metadata": {},
   "source": [
    "### Queries"
   ]
  },
  {
   "cell_type": "markdown",
   "metadata": {},
   "source": [
    "```gadm.gid_0 ILIKE 'GLB'``` used as stand-in for parameterized ```{{geostore_env}}='{{geostore_id}}'``` in production version"
   ]
  },
  {
   "cell_type": "markdown",
   "metadata": {},
   "source": [
    "```sql\n",
    "SELECT gid_0, name_0, sector, subsector, indicator_id, indicator_name as name, value, CAST(count AS int) FROM ocn_025_rw0_ocean_ndc_measures data INNER JOIN gadm36_0 gadm ON data.iso_code3 = gadm.gid_0 WHERE gid_0 ILIKE 'GLB' ORDER BY indicator_name ASC\n",
    "\n",
    "```"
   ]
  },
  {
   "cell_type": "markdown",
   "metadata": {},
   "source": [
    "### Testing Widget Config"
   ]
  },
  {
   "cell_type": "markdown",
   "metadata": {},
   "source": [
    "The following vega spec is used to visualize the intended widget display in the vega editor and this notebook. Due to differences in the rendering of the custom widget editor on Resource Watch, several changes were made to this specification before adding it to Resource Watch. Please see the 2nd spec for these changes."
   ]
  },
  {
   "cell_type": "markdown",
   "metadata": {},
   "source": [
    "### Resource Watch Widget Config"
   ]
  },
  {
   "cell_type": "code",
   "execution_count": 10,
   "metadata": {},
   "outputs": [],
   "source": [
    "spec=json.loads(\"\"\"\n",
    "{\n",
    "  \"$schema\": \"https://vega.github.io/schema/vega/v5.json\",\n",
    "  \"height\": 400,\n",
    "  \"width\": 400,\n",
    "  \"autosize\": {\"type\": \"fit\", \"resize\": true},\n",
    "  \"padding\": 35,\n",
    "  \"data\": [\n",
    "     {\n",
    "      \"name\": \"table\",\n",
    "      \"url\": \"https://wri-rw.carto.com/api/v2/sql?q= SELECT gid_0, name_0, sector, subsector, indicator_id, indicator_name as name, value, CAST(count AS int) FROM ocn_025_rw0_ocean_ndc_measures data INNER JOIN gadm36_0 gadm ON data.iso_code3 = gadm.gid_0 WHERE {{geostore_env}} ILIKE '{{geostore_id}}' ORDER BY indicator_name ASC\",\n",
    "      \"format\": {\"type\": \"json\", \"property\": \"rows\"},\n",
    "       \"transform\": [\n",
    "         {\"type\": \"formula\", \"expr\": \"1\", \"as\": \"angle\"}, \n",
    "         {\"type\": \"formula\", \"expr\": \"1\", \"as\": \"radius\"},\n",
    "         {\"type\": \"formula\", \"expr\": \"datum.indicator_id[0] === 'a' ? 'Adaptation Measure' : 'Mitigation Measure'\", \"as\": \"category\"}, \n",
    "         {\n",
    "          \"type\": \"collect\",\n",
    "          \"sort\": {\n",
    "            \"field\": [\"category\"],\n",
    "            \"order\": [\"ascending\"]\n",
    "            }\n",
    "          },    \n",
    "         {\"type\": \"pie\", \"field\": \"angle\"},\n",
    "          {\n",
    "          \"type\": \"formula\",\n",
    "          \"expr\": \"datum.name === 'Renewable Energy: Ocean' ? 'Renewable,Energy: Ocean' : datum.name === 'Sea-level Rise Protection' ? 'Sea-level,Rise Protection' : datum.name === 'Fisheries and Aquaculture' ? 'Fisheries and,Aquaculture': datum.name === 'Coastal Zone: General' ? 'Coastal Zone:,General' : datum.name === 'Coastal management' ? 'Coastal,Management' : datum.name === 'Coastal Fisheries' ? 'Coastal,Fisheries' :datum.name\",\n",
    "          \"as\": \"label\"\n",
    "        }\n",
    "        ]\n",
    "    }\n",
    "  ],\n",
    "\n",
    "  \"scales\": [\n",
    "    {\n",
    "      \"name\": \"r\",\n",
    "      \"type\": \"sqrt\",\n",
    "      \"domain\": {\"data\": \"table\", \"field\": \"count\"},\n",
    "      \"zero\": true,\n",
    "      \"range\": {\"signal\": \"[width/10, width/2.5]\"}\n",
    "    },\n",
    "        {\n",
    "      \"name\": \"r2\",\n",
    "      \"type\": \"sqrt\",\n",
    "      \"domain\": {\"data\": \"table\", \"field\": \"count\"},\n",
    "      \"zero\": true,\n",
    "      \"range\": {\"signal\": \"[width/4, width/4]\"}\n",
    "    },\n",
    "    {\n",
    "      \"name\": \"legend\",\n",
    "      \"type\": \"ordinal\",\n",
    "      \"domain\": [\n",
    "        \"Adaptation Measure\",\n",
    "        \"Mitigation Measure\"\n",
    "      ],\n",
    "      \"range\": [\n",
    "        \"#4670A5\",\n",
    "        \"#f5c93a\"\n",
    "      ]\n",
    "    }\n",
    "  ],\n",
    "\n",
    "  \"marks\": [\n",
    "    {\n",
    "      \"type\": \"arc\",\n",
    "      \"from\": {\"data\": \"table\"},\n",
    "      \"encode\": {\n",
    "        \"enter\": {\n",
    "          \"x\": {\"field\": {\"group\": \"width\"}, \"mult\": 0.5},\n",
    "          \"y\": {\"field\": {\"group\": \"height\"}, \"mult\": 0.5},\n",
    "          \"startAngle\": {\"field\": \"startAngle\"},\n",
    "          \"endAngle\": {\"field\": \"endAngle\"},\n",
    "          \"innerRadius\": {\"value\": 20},\n",
    "          \"outerRadius\": [{\"test\": \"datum.gid_0 === 'GLB'\", \"scale\": \"r\", \"field\": \"count\"}, {\"scale\": \"r2\", \"field\": \"radius\"}],\n",
    "          \"padAngle\": {\"value\": 0.025},\n",
    "          \"fill\": [{\"test\": \"datum.count >= 1\", \"scale\": \"legend\", \"field\": \"category\"},{\"value\": \"transparent\"}],\n",
    "          \"stroke\": {\"scale\": \"legend\", \"field\": \"category\"}\n",
    "        },\n",
    "        \"update\": {\n",
    "          \"fillOpacity\": {\"value\": 1}\n",
    "        },\n",
    "        \"hover\": {\n",
    "          \"fillOpacity\": {\"value\": 0.5}\n",
    "        }\n",
    "      }\n",
    "    },\n",
    "\n",
    "    {\n",
    "      \"type\": \"text\",\n",
    "      \"from\": {\"data\": \"table\"},\n",
    "      \"encode\": {\n",
    "        \"enter\": {\n",
    "          \"x\": {\"field\": {\"group\": \"width\"}, \"mult\": 0.5},\n",
    "          \"y\": {\"field\": {\"group\": \"height\"}, \"mult\": 0.5},\n",
    "          \"radius\": [{\"test\": \"datum.gid_0 === 'GLB'\", \"scale\": \"r\", \"field\": \"count\", \"offset\": 20}, {\"scale\": \"r2\", \"field\": \"radius\", \"offset\": 20}],\n",
    "          \"theta\": {\"signal\": \"(datum.startAngle + datum.endAngle)/2\"},\n",
    "          \"fill\": {\"value\": \"#000\"},\n",
    "          \"font\": {\"value\": \"Lato\"},\n",
    "         \"align\": [\n",
    "                {\n",
    "                  \"test\": \"datum.startAngle > (PI)\",\n",
    "                  \"value\": \"right\"\n",
    "                },\n",
    "                 {\n",
    "                  \"test\": \"datum.subsector === 'Mangroves' || datum.startAngle === 0 \",\n",
    "                  \"value\": \"center\"\n",
    "                },\n",
    "                {\n",
    "                  \"value\": \"left\"\n",
    "                }\n",
    "              ],\n",
    "              \"baseline\": [\n",
    "                {\n",
    "                  \"test\": \"datum.startAngle < (PI/2) \",\n",
    "                  \"value\": \"bottom\"\n",
    "                },\n",
    "                 {\n",
    "                  \"test\": \"datum.startAngle > (3*PI/2) \",\n",
    "                  \"value\": \"bottom\"\n",
    "                },\n",
    "                {\n",
    "                  \"value\": \"middle\"\n",
    "                }\n",
    "              ],\n",
    "          \"text\": {\"field\": \"label\"},\n",
    "          \"lineBreak\": {\"value\": \",\"}\n",
    "        }\n",
    "      }\n",
    "    }\n",
    "  ],\n",
    "  \"legends\": [\n",
    "    {\n",
    "      \"fill\": \"legend\",\n",
    "      \"orient\": \"top-left\",\n",
    "      \"labelFont\": {\n",
    "        \"value\": \"Lato\"\n",
    "      },\n",
    "      \"labelFontSize\": {\n",
    "        \"value\": 12\n",
    "      }\n",
    "    }\n",
    "  ],\n",
    "   \"interaction_config\": [\n",
    "    {\n",
    "      \"name\": \"tooltip\",\n",
    "      \"config\": {\n",
    "        \"fields\": [\n",
    "          {\n",
    "            \"column\": \"count\",\n",
    "            \"property\": \"Number of countries\",\n",
    "            \"type\": \"number\",\n",
    "            \"format\": \"\"\n",
    "          }\n",
    "        ]\n",
    "      }\n",
    "    }\n",
    "  ]\n",
    "}\"\"\")"
   ]
  },
  {
   "cell_type": "code",
   "execution_count": 11,
   "metadata": {},
   "outputs": [
    {
     "data": {
      "application/vnd.vega.v5+json": {
       "$schema": "https://vega.github.io/schema/vega/v5.json",
       "autosize": {
        "resize": true,
        "type": "fit"
       },
       "data": [
        {
         "format": {
          "property": "rows",
          "type": "json"
         },
         "name": "table",
         "transform": [
          {
           "as": "angle",
           "expr": "1",
           "type": "formula"
          },
          {
           "as": "radius",
           "expr": "1",
           "type": "formula"
          },
          {
           "as": "category",
           "expr": "datum.indicator_id[0] === 'a' ? 'Adaptation Measure' : 'Mitigation Measure'",
           "type": "formula"
          },
          {
           "sort": {
            "field": [
             "category"
            ],
            "order": [
             "ascending"
            ]
           },
           "type": "collect"
          },
          {
           "field": "angle",
           "type": "pie"
          },
          {
           "as": "label",
           "expr": "datum.name === 'Renewable Energy: Ocean' ? 'Renewable,Energy: Ocean' : datum.name === 'Sea-level Rise Protection' ? 'Sea-level,Rise Protection' : datum.name === 'Fisheries and Aquaculture' ? 'Fisheries and,Aquaculture': datum.name === 'Coastal Zone: General' ? 'Coastal Zone:,General' : datum.name === 'Coastal management' ? 'Coastal,Management' : datum.name === 'Coastal Fisheries' ? 'Coastal,Fisheries' :datum.name",
           "type": "formula"
          }
         ],
         "url": "https://wri-rw.carto.com/api/v2/sql?q= SELECT gid_0, name_0, sector, subsector, indicator_id, indicator_name as name, value, CAST(count AS int) FROM ocn_025_rw0_ocean_ndc_measures data INNER JOIN gadm36_0 gadm ON data.iso_code3 = gadm.gid_0 WHERE geostore_prod ILIKE 'fe855e0073d3a7c45ccd5f653841bb8d' ORDER BY indicator_name ASC"
        }
       ],
       "height": 500,
       "interaction_config": [
        {
         "config": {
          "fields": [
           {
            "column": "count",
            "format": "",
            "property": "Number of Countries Represented",
            "type": "number"
           }
          ]
         },
         "name": "tooltip"
        }
       ],
       "legends": [
        {
         "fill": "legend",
         "labelFont": "Arial",
         "labelFontSize": {
          "value": 12
         },
         "orient": "top-left"
        }
       ],
       "marks": [
        {
         "encode": {
          "enter": {
           "endAngle": {
            "field": "endAngle"
           },
           "fill": [
            {
             "field": "category",
             "scale": "legend",
             "test": "datum.count >= 1"
            },
            {
             "value": "transparent"
            }
           ],
           "innerRadius": {
            "value": 20
           },
           "outerRadius": [
            {
             "field": "count",
             "scale": "r",
             "test": "datum.gid_0 === 'GLB'"
            },
            {
             "field": "radius",
             "scale": "r2"
            }
           ],
           "padAngle": {
            "value": 0.025
           },
           "startAngle": {
            "field": "startAngle"
           },
           "stroke": {
            "field": "category",
            "scale": "legend"
           },
           "x": {
            "field": {
             "group": "width"
            },
            "mult": 0.5
           },
           "y": {
            "field": {
             "group": "height"
            },
            "mult": 0.5
           }
          },
          "hover": {
           "fillOpacity": {
            "value": 0.5
           }
          },
          "update": {
           "fillOpacity": {
            "value": 1
           }
          }
         },
         "from": {
          "data": "table"
         },
         "type": "arc"
        },
        {
         "encode": {
          "enter": {
           "align": [
            {
             "test": "datum.startAngle > (PI)",
             "value": "right"
            },
            {
             "test": "datum.subsector === 'Mangroves' || datum.startAngle === 0 ",
             "value": "center"
            },
            {
             "value": "left"
            }
           ],
           "baseline": [
            {
             "test": "datum.startAngle < (PI/2) ",
             "value": "bottom"
            },
            {
             "test": "datum.startAngle > (3*PI/2) ",
             "value": "bottom"
            },
            {
             "value": "middle"
            }
           ],
           "fill": {
            "value": "#000"
           },
           "font": "Arial",
           "lineBreak": {
            "value": ","
           },
           "radius": [
            {
             "field": "count",
             "offset": 20,
             "scale": "r",
             "test": "datum.gid_0 === 'GLB'"
            },
            {
             "field": "radius",
             "offset": 20,
             "scale": "r2"
            }
           ],
           "text": {
            "field": "label"
           },
           "theta": {
            "signal": "(datum.startAngle + datum.endAngle)/2"
           },
           "x": {
            "field": {
             "group": "width"
            },
            "mult": 0.5
           },
           "y": {
            "field": {
             "group": "height"
            },
            "mult": 0.5
           }
          }
         },
         "from": {
          "data": "table"
         },
         "type": "text"
        }
       ],
       "padding": 25,
       "scales": [
        {
         "domain": {
          "data": "table",
          "field": "count"
         },
         "name": "r",
         "range": {
          "signal": "[width/10, width/2.5]"
         },
         "type": "sqrt",
         "zero": true
        },
        {
         "domain": {
          "data": "table",
          "field": "count"
         },
         "name": "r2",
         "range": {
          "signal": "[width/4, width/4]"
         },
         "type": "sqrt",
         "zero": true
        },
        {
         "domain": [
          "Adaptation Measure",
          "Mitigation Measure"
         ],
         "name": "legend",
         "range": [
          "#4670A5",
          "#f5c93a"
         ],
         "type": "ordinal"
        }
       ],
       "width": 500
      },
      "image/png": "[encoded data removed]"
     },
     "metadata": {},
     "output_type": "display_data"
    }
   ],
   "source": [
    "vega_view=dict(spec)\n",
    "\n",
    "## DEFINE SIZE\n",
    "vega_view['height'] = widget_height\n",
    "vega_view['width'] = widget_width\n",
    "\n",
    "## PARAMETERIZE WIDGET\n",
    "vega_view['data'][0]['url']= vega_view['data'][0]['url'].replace('{{geostore_env}}','geostore_prod')\n",
    "vega_view['data'][0]['url'] = vega_view['data'][0]['url'].replace('{{geostore_id}}','fe855e0073d3a7c45ccd5f653841bb8d')\n",
    "\n",
    "## FONT\n",
    "vega_view['legends'][0]['labelFont'] = 'Arial'\n",
    "vega_view['marks'][1]['encode']['enter']['font'] = 'Arial'\n",
    "\n",
    "\n",
    "Vega(vega_view)"
   ]
  },
  {
   "cell_type": "markdown",
   "metadata": {},
   "source": [
    "# Indicator Value"
   ]
  },
  {
   "cell_type": "markdown",
   "metadata": {},
   "source": [
    "## Country"
   ]
  },
  {
   "cell_type": "markdown",
   "metadata": {},
   "source": [
    "``` sql\n",
    "SELECT \n",
    "    CONCAT(COUNT(DISTINCT(indicator_id)), ' of ', 9) AS value \n",
    "FROM ocn_025_rw0_ocean_ndc_measures \n",
    "INNER JOIN gadm36_0 gadm \n",
    "ON gadm.gid_0 = iso_code3\n",
    "WHERE value = 'Sectoral Measure Specified' \n",
    "GROUP BY iso_code3 \n",
    "```"
   ]
  },
  {
   "cell_type": "markdown",
   "metadata": {},
   "source": [
    "raw query: `https://wri-rw.carto.com/api/v2/sql?q=SELECT CONCAT(COUNT(DISTINCT(indicator_id)), ' of ', 9) AS value FROM ocn_025_rw0_ocean_ndc_measures INNER JOIN gadm36_0 gadm ON gadm.gid_0 = iso_code3 WHERE value = 'Sectoral Measure Specified' GROUP BY iso_code3`"
   ]
  },
  {
   "cell_type": "markdown",
   "metadata": {},
   "source": [
    "## World"
   ]
  },
  {
   "cell_type": "markdown",
   "metadata": {},
   "source": [
    "``` sql\n",
    "SELECT \n",
    "    CONCAT(countries_w_measures, ' of ', total_countries) \n",
    "FROM (\n",
    "    SELECT \n",
    "        'GLB' as gid_0, \n",
    "        COUNT(DISTINCT(iso_code3)) AS countries_w_measures \n",
    "    FROM ocn_025_rw0_ocean_ndc_measures WHERE value = 'Sectoral Measure Specified') measures\n",
    "    INNER JOIN (\n",
    "    SELECT \n",
    "        'GLB' as gid_0, \n",
    "        COUNT(DISTINCT(iso_code3)) AS total_countries \n",
    "    FROM ocn_025_rw0_ocean_ndc_measures) total \n",
    "    ON total.gid_0 = measures.gid_0\n",
    "```"
   ]
  },
  {
   "cell_type": "markdown",
   "metadata": {},
   "source": [
    "raw query: `https://wri-rw.carto.com/api/v2/sql?q=SELECT CONCAT(countries_w_measures, ' of ', total_countries) FROM (SELECT 'GLB' as gid_0, COUNT(DISTINCT(iso_code3)) AS countries_w_measures FROM ocn_025_rw0_ocean_ndc_measures WHERE value = 'Sectoral Measure Specified') measures INNER JOIN (SELECT 'GLB' as gid_0, COUNT(DISTINCT(iso_code3)) AS total_countries FROM ocn_025_rw0_ocean_ndc_measures) total ON total.gid_0 = measures.gid_0`"
   ]
  },
  {
   "cell_type": "markdown",
   "metadata": {},
   "source": [
    "## RW Backoffice"
   ]
  },
  {
   "cell_type": "markdown",
   "metadata": {},
   "source": [
    "5dba42e7-39da-496f-94ae-ee55863595e3- [back office](https://resourcewatch.org/admin/data/widgets/432ba622-36b9-4178-8a91-6a59446e7347/edit?dataset=5dba42e7-39da-496f-94ae-ee55863595e3)\n",
    "- parent dataset [ocn.025 ](https://resourcewatch.org/data/explore/5dba42e7-39da-496f-94ae-ee55863595e3) \n",
    "- dataset id ```5dba42e7-39da-496f-94ae-ee55863595e3```\n",
    "- widget id: ```432ba622-36b9-4178-8a91-6a59446e7347``` "
   ]
  }
 ],
 "metadata": {
  "kernelspec": {
   "display_name": "Python 3 (ipykernel)",
   "language": "python",
   "name": "python3"
  },
  "language_info": {
   "codemirror_mode": {
    "name": "ipython",
    "version": 3
   },
   "file_extension": ".py",
   "mimetype": "text/x-python",
   "name": "python",
   "nbconvert_exporter": "python",
   "pygments_lexer": "ipython3",
   "version": "3.7.8"
  }
 },
 "nbformat": 4,
 "nbformat_minor": 4
}
