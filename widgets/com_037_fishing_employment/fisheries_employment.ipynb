{
 "cells": [
  {
   "cell_type": "markdown",
   "metadata": {},
   "source": [
    "# Fisheries Employment"
   ]
  },
  {
   "cell_type": "markdown",
   "metadata": {},
   "source": [
    "Visualizing employment in the fishing sector as a proportion of total employmnet in Natural Sectors (agriculture, forestry, and hunting)"
   ]
  },
  {
   "cell_type": "markdown",
   "metadata": {},
   "source": [
    "*Author: Rachel Thoms\n",
    "<br>Created: 24 Aug 2021\n",
    "<br>Environment: jupyterlab*"
   ]
  },
  {
   "cell_type": "markdown",
   "metadata": {},
   "source": [
    "## Style"
   ]
  },
  {
   "cell_type": "markdown",
   "metadata": {},
   "source": [
    "- Vega chart\n",
    "- Chart type: stacked bar\n",
    "- Value: enumber of people employed"
   ]
  },
  {
   "cell_type": "markdown",
   "metadata": {},
   "source": [
    "## Data"
   ]
  },
  {
   "cell_type": "markdown",
   "metadata": {},
   "source": [
    "- Data: [com_037_rw0_fishing_employment_edit](https://resourcewatch.carto.com/u/wri-rw/dataset/com_037_rw0_fishing_employment_edit)\n",
    "- Source: [ILO](https://ilostat.ilo.org/data/#)"
   ]
  },
  {
   "cell_type": "markdown",
   "metadata": {},
   "source": [
    "## Preparation"
   ]
  },
  {
   "cell_type": "markdown",
   "metadata": {},
   "source": [
    "### Vega"
   ]
  },
  {
   "cell_type": "code",
   "execution_count": 1,
   "metadata": {},
   "outputs": [],
   "source": [
    "import json\n",
    "from vega import Vega\n",
    "from IPython.display import display"
   ]
  },
  {
   "cell_type": "code",
   "execution_count": 2,
   "metadata": {},
   "outputs": [],
   "source": [
    "def Vega(spec):\n",
    "    bundle = {}\n",
    "    bundle['application/vnd.vega.v5+json'] = spec\n",
    "    display(bundle, raw=True)"
   ]
  },
  {
   "cell_type": "code",
   "execution_count": 3,
   "metadata": {},
   "outputs": [],
   "source": [
    "widget_width = 800\n",
    "widget_height = 300"
   ]
  },
  {
   "cell_type": "markdown",
   "metadata": {},
   "source": [
    "## Visualization"
   ]
  },
  {
   "cell_type": "markdown",
   "metadata": {},
   "source": [
    "The ILO provides employment data collected classified according to the International Standard Industrial Classification (ISIC). Here we use two different \"levels\" of economic activity. ISIC Level 2 is a more detailed version of the groups in Level 1. Each level is provided as a dataset. Each dataset contains data collected by two revisios of the ISIC classification system- ISIC Revisions 3.1 (before 2007) and 4 (after 2007). More info [here](https://archive.unescwa.org/sites/www.unescwa.org/files/events/files/event_detail_id_681_tablesbtwnisicrev.pdf).\n",
    "\n",
    "At classfiication Level 1, in the 3rd revolution of the classifciation system (Rev 3.1) the Natural Sector Economic Activity was split into two classifications:\n",
    "'A. Agriculture, hunting and forestry' [ECO_ISIC3_A] & 'B. Fishing' [ECO_ISIC3_B]. These will need to be combined. In the 4th revolition of the classifcation system \n",
    "(Rev 4) the Natural Sector Economic Activity is aggregated into one classification: A. Agriculture; forestry and fishing [ECO_ISIC4_A]\n",
    "\n",
    "At classification Level 2, in Rev 3.1 Fishing Economic Activity is classified as '05 - Fishing, aquaculture and service activities incidental to fishing' \n",
    "[EC2_ISIC3_B05]. In Rev 4 Fishing Economic Activity is classified as '03 - Fishing and aquaculture' [EC2_ISIC4_A03].\n",
    "\n",
    "For the purpose of this widget, we want to use data collected *only* according to the most recent classification system. This will avoid changes in values that are a reflection of a change in methodolgy/classification as opposed to an actual change in employment. Therefore, we draw Rev 4 data where available. If a country does not have any employment data using the Rev 4 classficiation system, we draw on their records collected using Rev 3."
   ]
  },
  {
   "cell_type": "markdown",
   "metadata": {},
   "source": [
    "### Queries"
   ]
  },
  {
   "cell_type": "markdown",
   "metadata": {},
   "source": [
    "#### Testing"
   ]
  },
  {
   "cell_type": "markdown",
   "metadata": {},
   "source": [
    "```gadm.geostore_prod ILIKE 'ca5bfde08587530e76c17fe48362a01d'``` used as stand-in for parameterized ```{{{geostore_env}}='{{geostore_id}}'``` in production version"
   ]
  },
  {
   "cell_type": "markdown",
   "metadata": {},
   "source": [
    "```sql\n",
    "-- entries for countries where data was collected using rev 4\n",
    "SELECT rev,  gadm.gid_0 AS gid_0, gadm.name_0 AS name_0, CONCAT(data.type, ' ', data.sex) AS variable, data.year AS date, data.obs_value AS value, data.unit AS unit \n",
    "    FROM (SELECT area, year, rev, obs_value, concat(type, ' Employment ') AS type, sex, '1000 people' AS unit \n",
    "        FROM com_037_rw0_fishing_employment_edit \n",
    "    WHERE obs_value IS NOT NULL AND rev = 4) data \n",
    "    LEFT JOIN (SELECT DISTINCT(gid_0), name_0, geostore_prod FROM gadm36_0) AS gadm ON data.area = gadm.gid_0 WHERE gadm.geostore_prod ILIKE 'ca5bfde08587530e76c17fe48362a01d' \n",
    "UNION \n",
    "-- entries for countries where there is no data for rev 4 (in this case we pull data on the most recent classificiation - rev 3)\n",
    "SELECT rev, gadm.gid_0 AS gid_0, gadm.name_0 AS name_0, CONCAT(data.type, ' ', data.sex) AS variable, data.year AS date, data.obs_value AS value, data.unit AS unit \n",
    "    FROM (SELECT area, year, obs_value, rev, concat(type, ' Employment ') AS type, sex, '1000 people' AS unit \n",
    "        FROM com_037_rw0_fishing_employment_edit WHERE obs_value IS NOT NULL) data\n",
    "LEFT JOIN (SELECT DISTINCT(area), obs_value as rev4 FROM com_037_rw0_fishing_employment_edit WHERE obs_value IS NOT NULL AND rev = 4) rev4 ON rev4.area = data.area \n",
    "LEFT JOIN (SELECT DISTINCT(gid_0), name_0, geostore_prod FROM gadm36_0) AS gadm ON data.area = gadm.gid_0 WHERE gadm.geostore_prod ILIKE 'ca5bfde08587530e76c17fe48362a01d' AND rev4.rev4 IS NULL\n",
    "ORDER BY date ASC, variable ASC\n",
    "\n",
    "\n",
    "```"
   ]
  },
  {
   "cell_type": "markdown",
   "metadata": {},
   "source": [
    "#### Parameterized"
   ]
  },
  {
   "cell_type": "markdown",
   "metadata": {},
   "source": [
    "```sql\n",
    "SELECT rev, gadm.gid_0 AS gid_0, gadm.name_0 AS name_0, CONCAT(data.type, ' ', data.sex) AS variable, data.year AS date, data.obs_value AS value, data.unit AS unit FROM (SELECT area, year, obs_value, rev, concat(type, ' Employment ') AS type, sex, '1000 people' AS unit FROM com_037_rw0_fishing_employment_edit WHERE obs_value IS NOT NULL) data LEFT JOIN (SELECT DISTINCT(area), obs_value as rev4 FROM com_037_rw0_fishing_employment_edit WHERE obs_value IS NOT NULL AND rev = 4) rev4 ON rev4.area = data.area LEFT JOIN (SELECT DISTINCT(gid_0), name_0, geostore_prod FROM gadm36_0) AS gadm ON data.area = gadm.gid_0 WHERE gadm.{{geostore_env}} ILIKE '{{geostore_id}}' AND rev4.rev4 IS NULL UNION SELECT rev,  gadm.gid_0 AS gid_0, gadm.name_0 AS name_0, CONCAT(data.type, ' ', data.sex) AS variable, data.year AS date, data.obs_value AS value, data.unit AS unit FROM (SELECT area, year, rev, obs_value, concat(type, ' Employment ') AS type, sex, '1000 people' AS unit FROM com_037_rw0_fishing_employment_edit WHERE obs_value IS NOT NULL AND rev = 4) data LEFT JOIN (SELECT DISTINCT(gid_0), name_0, geostore_prod FROM gadm36_0) AS gadm ON data.area = gadm.gid_0 WHERE gadm.{{geostore_env}} ILIKE '{{geostore_id}}' ORDER BY date ASC, variable ASC \n",
    "```"
   ]
  },
  {
   "cell_type": "code",
   "execution_count": 4,
   "metadata": {},
   "outputs": [],
   "source": [
    "spec=json.loads(\"\"\"{\n",
    "  \"$schema\": \"https://vega.github.io/schema/vega/v5.json\",\n",
    "  \"description\": \"A searchable, stacked area chart of U.S. occupations from 1850 to 2000.\",\n",
    "  \"padding\": 5,\n",
    "  \"signals\": [\n",
    "    {\n",
    "      \"name\": \"sex\",\n",
    "      \"value\": \"Total\",\n",
    "      \"bind\": {\"input\": \"select\", \"options\": [\"Total\", \"Male\", \"Female\"]}\n",
    "    }\n",
    "  ],\n",
    "  \"data\": [\n",
    "    {\n",
    "      \"name\": \"table\",\n",
    "      \"url\": \"https://wri-rw.carto.com/api/v2/sql?q=SELECT rev, gadm.gid_0 AS gid_0, gadm.name_0 AS name_0, CONCAT(data.type, ' ', data.sex) AS variable, data.year AS date, data.obs_value AS value, data.unit AS unit FROM (SELECT area, year, obs_value, rev, concat(type, ' Employment ') AS type, sex, '1000 people' AS unit FROM com_037_rw0_fishing_employment_edit WHERE obs_value IS NOT NULL) data LEFT JOIN (SELECT DISTINCT(area), obs_value as rev4 FROM com_037_rw0_fishing_employment_edit WHERE obs_value IS NOT NULL AND rev = 4) rev4 ON rev4.area = data.area LEFT JOIN (SELECT DISTINCT(gid_0), name_0, geostore_prod FROM gadm36_0) AS gadm ON data.area = gadm.gid_0 WHERE gadm.{{geostore_env}} ILIKE '{{geostore_id}}' AND rev4.rev4 IS NULL UNION SELECT rev,  gadm.gid_0 AS gid_0, gadm.name_0 AS name_0, CONCAT(data.type, ' ', data.sex) AS variable, data.year AS date, data.obs_value AS value, data.unit AS unit FROM (SELECT area, year, rev, obs_value, concat(type, ' Employment ') AS type, sex, '1000 people' AS unit FROM com_037_rw0_fishing_employment_edit WHERE obs_value IS NOT NULL AND rev = 4) data LEFT JOIN (SELECT DISTINCT(gid_0), name_0, geostore_prod FROM gadm36_0) AS gadm ON data.area = gadm.gid_0 WHERE gadm.{{geostore_env}} ILIKE '{{geostore_id}}' ORDER BY date ASC, variable ASC \",\n",
    "      \"format\": {\"type\": \"json\", \"property\": \"rows\"},\n",
    "      \"transform\": [\n",
    "        {\"type\": \"stack\", \"field\": \"value\", \"groupby\": [\"gid_0\", \"date\"]},\n",
    "        {\n",
    "          \"type\": \"formula\",\n",
    "          \"expr\": \"split(datum.variable, ' Employment')[0]\",\n",
    "          \"as\": \"sector\"\n",
    "        },\n",
    "        {\n",
    "          \"type\": \"formula\",\n",
    "          \"expr\": \"split(datum.variable, '_')[1]\",\n",
    "          \"as\": \"sex\"\n",
    "        },\n",
    "        {\"type\": \"formula\", \"expr\": \"datum.value*1000\", \"as\": \"value\"},\n",
    "        {\n",
    "          \"type\": \"formula\",\n",
    "          \"expr\": \"replace(datum.sector, ' ', '_')\",\n",
    "          \"as\": \"sector\"\n",
    "        },\n",
    "        {\n",
    "          \"type\": \"formula\",\n",
    "          \"expr\": \"replace(datum.sector, ' ', '_')\",\n",
    "          \"as\": \"sector\"\n",
    "        },\n",
    "        {\n",
    "          \"type\": \"pivot\",\n",
    "          \"groupby\": [\"gid_0\", \"date\", \"sex\"],\n",
    "          \"field\": \"sector\",\n",
    "          \"value\": \"value\"\n",
    "        },\n",
    "        {\n",
    "          \"type\": \"formula\",\n",
    "          \"expr\": \"datum.Fishing > datum.Natural_Sector_Total ? null: datum.Natural_Sector_Total\",\n",
    "          \"as\": \"Natural_Sector_Total\"\n",
    "        },\n",
    "        {\n",
    "          \"type\": \"formula\",\n",
    "          \"expr\": \"datum.Fishing ? datum.Natural_Sector_Total - datum.Fishing: datum.Natural_Sector_Total\",\n",
    "          \"as\": \"Other Natural Sectors\"\n",
    "        },\n",
    "        {\n",
    "          \"type\": \"fold\",\n",
    "          \"fields\": [\"Fishing\", \"Other Natural Sectors\"],\n",
    "          \"as\": [\"sector\", \"value\"]\n",
    "        },\n",
    "        {\"type\": \"filter\", \"expr\": \"isValid(datum.Natural_Sector_Total)\"},\n",
    "        {\n",
    "          \"type\": \"stack\",\n",
    "          \"field\": \"value\",\n",
    "          \"groupby\": [\"date\", \"sex\"],\n",
    "          \"sort\": {\n",
    "            \"field\": [\"gid_0\", \"date\", \"sector\"],\n",
    "            \"order\": [\"descending\", \"ascending\", \"descending\"]\n",
    "          }\n",
    "        }\n",
    "      ]\n",
    "    },\n",
    "    {\n",
    "      \"name\": \"filter\",\n",
    "      \"source\": \"table\",\n",
    "      \"transform\": [\n",
    "        {\n",
    "          \"type\": \"formula\",\n",
    "          \"expr\": \"test(/M/, datum.sex) ? 'Male': test(/F/, datum.sex) ? 'Female' : 'Total'\",\n",
    "          \"as\": \"sex\"\n",
    "        },\n",
    "        {\"type\": \"filter\", \"expr\": \"datum.sex==sex\"}\n",
    "      ]\n",
    "    }\n",
    "  ],\n",
    "  \"scales\": [\n",
    "    {\n",
    "      \"name\": \"x\",\n",
    "      \"type\": \"band\",\n",
    "      \"range\": \"width\",\n",
    "      \"domain\": {\"data\": \"filter\", \"field\": \"date\"}\n",
    "    },\n",
    "    {\n",
    "      \"name\": \"y\",\n",
    "      \"type\": \"linear\",\n",
    "      \"range\": \"height\",\n",
    "      \"nice\": true,\n",
    "      \"zero\": true,\n",
    "      \"domain\": {\"data\": \"table\", \"field\": \"y1\"}\n",
    "    },\n",
    "    {\n",
    "      \"name\": \"color\",\n",
    "      \"type\": \"ordinal\",\n",
    "      \"range\": [\"#84c0d0\", \"#f3b229\"],\n",
    "      \"domain\": {\"data\": \"filter\", \"field\": \"sector\"}\n",
    "    },\n",
    "      {\n",
    "      \"name\": \"legend\",\n",
    "      \"type\": \"ordinal\",\n",
    "      \"range\": [\"#84c0d0\", \"#f3b229\"],\n",
    "      \"domain\": [\"Fishing\", \"Other Natural Sectors/ (Agriculture, Forestry, /and Hunting)\"]\n",
    "    }\n",
    "  ],\n",
    "  \"axes\": [\n",
    "    {\n",
    "      \"orient\": \"bottom\",\n",
    "      \"scale\": \"x\",\n",
    "      \"zindex\": 1,\n",
    "      \"labelFontSize\": 11,\n",
    "      \"labelOverlap\": true\n",
    "    },\n",
    "    {\n",
    "      \"orient\": \"left\",\n",
    "      \"scale\": \"y\",\n",
    "      \"zindex\": 0,\n",
    "      \"title\": \"Number of people\",\n",
    "      \"titlePadding\": 8,\n",
    "      \"titleFontSize\": 12,\n",
    "      \"titleFont\": \"Lato\",\n",
    "      \"labelBaseline\": \"middle\",\n",
    "      \"labelAlign\": \"right\",\n",
    "      \"labelPadding\": 8,\n",
    "      \"ticks\": true,\n",
    "      \"tickSize\": 5,\n",
    "      \"grid\": true,\n",
    "      \"gridOpacity\": 0.2,\n",
    "      \"encode\": {\n",
    "        \"labels\": {\"update\": {\"text\": {\"signal\": \"format(datum.value, ',')\"}}}\n",
    "      }\n",
    "    }\n",
    "  ],\n",
    "  \"marks\": [\n",
    "    {\n",
    "      \"type\": \"rect\",\n",
    "      \"from\": {\"data\": \"filter\"},\n",
    "      \"encode\": {\n",
    "        \"enter\": {\n",
    "          \"x\": {\"scale\": \"x\", \"field\": \"date\"},\n",
    "          \"width\": {\"scale\": \"x\", \"band\": 1, \"offset\": -1},\n",
    "          \"y\": {\"scale\": \"y\", \"field\": \"y0\"},\n",
    "          \"y2\": {\"scale\": \"y\", \"field\": \"y1\"},\n",
    "          \"fill\": {\"scale\": \"color\", \"field\": \"sector\"}},\n",
    "        \"update\": {\n",
    "          \"fillOpacity\": [\n",
    "            {\n",
    "              \"test\": \"test(/Other Natural Sectors/, datum.sector)\",\n",
    "              \"value\": 0.8\n",
    "            },\n",
    "            {\"value\": 1}\n",
    "          ]\n",
    "        },\n",
    "        \"hover\": {\"fillOpacity\": {\"value\": 0.5}}\n",
    "      }\n",
    "    }\n",
    "  ],\n",
    "  \"legends\": [\n",
    "    {\n",
    "      \"title\": [\"Sector:\"], \n",
    "      \"fill\": \"legend\", \n",
    "      \"orient\": \"right\",\n",
    "      \"labelFont\": \"Lato\",\n",
    "      \"titleFont\": \"Lato\",\n",
    "      \"encode\": {\n",
    "      \"labels\": {\n",
    "        \"update\": {\n",
    "        \"lineBreak\": {\"value\": \"/\"}\n",
    "        }}\n",
    "      }\n",
    "      }\n",
    "    ],\n",
    "   \"interaction_config\": [\n",
    "    {\n",
    "      \"name\": \"tooltip\",\n",
    "      \"config\": {\n",
    "        \"fields\": [\n",
    "          {\n",
    "            \"column\": \"name_0\",\n",
    "            \"property\": \"Country\",\n",
    "            \"type\": \"string\",\n",
    "            \"format\": \"\"\n",
    "          },\n",
    "          {\n",
    "            \"column\": \"sector\",\n",
    "            \"property\": \"Sector\",\n",
    "            \"type\": \"string\",\n",
    "            \"format\": \"\"\n",
    "          },\n",
    "          {\n",
    "            \"column\": \"value\",\n",
    "            \"property\": \"Number of people employed\",\n",
    "            \"type\": \"number\",\n",
    "            \"format\": \"\"\n",
    "          }\n",
    "        ]\n",
    "      }\n",
    "    }\n",
    "  ]\n",
    "}\"\"\")\n"
   ]
  },
  {
   "cell_type": "code",
   "execution_count": 5,
   "metadata": {},
   "outputs": [
    {
     "data": {
      "application/vnd.vega.v5+json": {
       "$schema": "https://vega.github.io/schema/vega/v5.json",
       "axes": [
        {
         "labelBaseline": "top",
         "labelFontSize": 11,
         "labelOverlap": true,
         "orient": "bottom",
         "scale": "x",
         "zindex": 1
        },
        {
         "encode": {
          "labels": {
           "update": {
            "text": {
             "signal": "format(datum.value, ',')"
            }
           }
          }
         },
         "grid": true,
         "gridOpacity": 0.2,
         "labelAlign": "right",
         "labelBaseline": "middle",
         "labelPadding": 8,
         "orient": "left",
         "scale": "y",
         "tickSize": 5,
         "ticks": true,
         "title": "Number of people",
         "titleFont": "Arial",
         "titleFontSize": 12,
         "titlePadding": 8,
         "zindex": 0
        }
       ],
       "data": [
        {
         "format": {
          "property": "rows",
          "type": "json"
         },
         "name": "table",
         "transform": [
          {
           "field": "value",
           "groupby": [
            "gid_0",
            "date"
           ],
           "type": "stack"
          },
          {
           "as": "sector",
           "expr": "split(datum.variable, ' Employment')[0]",
           "type": "formula"
          },
          {
           "as": "sex",
           "expr": "split(datum.variable, '_')[1]",
           "type": "formula"
          },
          {
           "as": "value",
           "expr": "datum.value*1000",
           "type": "formula"
          },
          {
           "as": "sector",
           "expr": "replace(datum.sector, ' ', '_')",
           "type": "formula"
          },
          {
           "as": "sector",
           "expr": "replace(datum.sector, ' ', '_')",
           "type": "formula"
          },
          {
           "field": "sector",
           "groupby": [
            "gid_0",
            "date",
            "sex"
           ],
           "type": "pivot",
           "value": "value"
          },
          {
           "as": "Natural_Sector_Total",
           "expr": "datum.Fishing > datum.Natural_Sector_Total ? null: datum.Natural_Sector_Total",
           "type": "formula"
          },
          {
           "as": "Other Natural Sectors",
           "expr": "datum.Fishing ? datum.Natural_Sector_Total - datum.Fishing: datum.Natural_Sector_Total",
           "type": "formula"
          },
          {
           "as": [
            "sector",
            "value"
           ],
           "fields": [
            "Fishing",
            "Other Natural Sectors"
           ],
           "type": "fold"
          },
          {
           "expr": "isValid(datum.Natural_Sector_Total)",
           "type": "filter"
          },
          {
           "field": "value",
           "groupby": [
            "date",
            "sex"
           ],
           "sort": {
            "field": [
             "gid_0",
             "date",
             "sector"
            ],
            "order": [
             "descending",
             "ascending",
             "descending"
            ]
           },
           "type": "stack"
          }
         ],
         "url": "https://wri-rw.carto.com/api/v2/sql?q=SELECT rev, gadm.gid_0 AS gid_0, gadm.name_0 AS name_0, CONCAT(data.type, ' ', data.sex) AS variable, data.year AS date, data.obs_value AS value, data.unit AS unit FROM (SELECT area, year, obs_value, rev, concat(type, ' Employment ') AS type, sex, '1000 people' AS unit FROM com_037_rw0_fishing_employment_edit WHERE obs_value IS NOT NULL) data LEFT JOIN (SELECT DISTINCT(area), obs_value as rev4 FROM com_037_rw0_fishing_employment_edit WHERE obs_value IS NOT NULL AND rev = 4) rev4 ON rev4.area = data.area LEFT JOIN (SELECT DISTINCT(gid_0), name_0, geostore_prod FROM gadm36_0) AS gadm ON data.area = gadm.gid_0 WHERE gadm.geostore_prod ILIKE 'ca5bfde08587530e76c17fe48362a01d' AND rev4.rev4 IS NULL UNION SELECT rev,  gadm.gid_0 AS gid_0, gadm.name_0 AS name_0, CONCAT(data.type, ' ', data.sex) AS variable, data.year AS date, data.obs_value AS value, data.unit AS unit FROM (SELECT area, year, rev, obs_value, concat(type, ' Employment ') AS type, sex, '1000 people' AS unit FROM com_037_rw0_fishing_employment_edit WHERE obs_value IS NOT NULL AND rev = 4) data LEFT JOIN (SELECT DISTINCT(gid_0), name_0, geostore_prod FROM gadm36_0) AS gadm ON data.area = gadm.gid_0 WHERE gadm.geostore_prod ILIKE 'ca5bfde08587530e76c17fe48362a01d' ORDER BY date ASC, variable ASC "
        },
        {
         "name": "filter",
         "source": "table",
         "transform": [
          {
           "as": "sex",
           "expr": "test(/M/, datum.sex) ? 'Male': test(/F/, datum.sex) ? 'Female' : 'Total'",
           "type": "formula"
          },
          {
           "expr": "datum.sex==sex",
           "type": "filter"
          }
         ]
        }
       ],
       "description": "A searchable, stacked area chart of U.S. occupations from 1850 to 2000.",
       "height": 300,
       "interaction_config": [
        {
         "config": {
          "fields": [
           {
            "column": "name_0",
            "format": "",
            "property": "Country",
            "type": "string"
           },
           {
            "column": "sector",
            "format": "",
            "property": "Sector",
            "type": "string"
           },
           {
            "column": "value",
            "format": "",
            "property": "Number of people employed",
            "type": "number"
           }
          ]
         },
         "name": "tooltip"
        }
       ],
       "legends": [
        {
         "encode": {
          "labels": {
           "update": {
            "lineBreak": {
             "value": "/"
            }
           }
          }
         },
         "fill": "legend",
         "labelFont": "Arial",
         "orient": "right",
         "title": [
          "Sector:"
         ],
         "titleFont": "Arial"
        }
       ],
       "marks": [
        {
         "encode": {
          "enter": {
           "fill": {
            "field": "sector",
            "scale": "color"
           },
           "width": {
            "band": 1,
            "offset": -1,
            "scale": "x"
           },
           "x": {
            "field": "date",
            "scale": "x"
           },
           "y": {
            "field": "y0",
            "scale": "y"
           },
           "y2": {
            "field": "y1",
            "scale": "y"
           }
          },
          "hover": {
           "fillOpacity": {
            "value": 0.5
           }
          },
          "update": {
           "fillOpacity": [
            {
             "test": "test(/Other Natural Sectors/, datum.sector)",
             "value": 0.8
            },
            {
             "value": 1
            }
           ]
          }
         },
         "from": {
          "data": "filter"
         },
         "type": "rect"
        }
       ],
       "padding": 5,
       "scales": [
        {
         "domain": {
          "data": "filter",
          "field": "date"
         },
         "name": "x",
         "range": "width",
         "type": "band"
        },
        {
         "domain": {
          "data": "table",
          "field": "y1"
         },
         "name": "y",
         "nice": true,
         "range": "height",
         "type": "linear",
         "zero": true
        },
        {
         "domain": {
          "data": "filter",
          "field": "sector"
         },
         "name": "color",
         "range": [
          "#84c0d0",
          "#f3b229"
         ],
         "type": "ordinal"
        },
        {
         "domain": [
          "Fishing",
          "Other Natural Sectors/ (Agriculture, Forestry, /and Hunting)"
         ],
         "name": "legend",
         "range": [
          "#84c0d0",
          "#f3b229"
         ],
         "type": "ordinal"
        }
       ],
       "signals": [
        {
         "bind": {
          "input": "select",
          "options": [
           "Total",
           "Male",
           "Female"
          ]
         },
         "name": "sex",
         "value": "Total"
        }
       ],
       "width": 800
      },
      "image/png": "[encoded data removed]"
     },
     "metadata": {},
     "output_type": "display_data"
    }
   ],
   "source": [
    "vega_view=dict(spec)\n",
    "\n",
    "## DEFINE SIZE\n",
    "vega_view['height'] = widget_height\n",
    "vega_view['width'] = widget_width\n",
    "\n",
    "## PARAMETERIZE WIDGET\n",
    "vega_view['data'][0]['url']= vega_view['data'][0]['url'].replace('{{geostore_env}}','geostore_prod')\n",
    "vega_view['data'][0]['url'] = vega_view['data'][0]['url'].replace('{{geostore_id}}','ca5bfde08587530e76c17fe48362a01d')\n",
    "\n",
    "## ADJUST X AXIS\n",
    "vega_view['axes'][0]['labelBaseline']= \"top\"\n",
    "\n",
    "## FONT\n",
    "vega_view['axes'][1]['titleFont'] = 'Arial'\n",
    "vega_view['legends'][0]['labelFont'] = 'Arial'\n",
    "vega_view['legends'][0]['titleFont'] = 'Arial'\n",
    "\n",
    "Vega(vega_view)\n"
   ]
  },
  {
   "cell_type": "markdown",
   "metadata": {},
   "source": [
    "[Open the Chart in the Vega Editor](https://vega.github.io/editor/#/url/vega/N4IgJAzgxgFgpgWwIYgFwhgF0wBwqgegIDc4BzJAOjIEtMYBXAI0poHsDp5kTykSArJQBWENgDsQAGhAATONABONHJnaT0AQQAEEOEkWwkTADZwpuzEigBrOLO0H92o4sza2AM20BVSgGVKDygoBhwkNQkIbU9FNgRtAEYADgEABm1MNm0AJjT8ymkQAHcaWXo0ZPyZeBoyLDQAZmqQcNlZGnEyNAEZCDrxJBMINABtUEGEODQQPQAPIuIhhmn0ABU2KxMipk7ZNFBOnAZMGb0zKFOZNlV1EdRRkA2tooBZIemZADFED5AAXQAvoD-jJZBEUA8JkgpjMrKZPiAGIptugsLh8ERisoALSKYqUKAGLKE+IEJA4GgkHKcACOJgA-LSALz+ACiABk2QBhNbaCiyBDUMoAfTSFgFQsmcDFFnBmHM2iWymMZgsSxMKwsDHEdG0XwASgB5V4eYoi0qyMhwTAihWKZRZRQAT20mn82nlSG0XK+fKNPjWbIN2gAUkaAJIAOX5SEFjQAbGLY4LtEaY17hbJk8yU0LaNmMgB1AASwbZeeocDYECdMpwcQcEY5EYA0hWAOREgRMTzyNKpZIAdgEzTgQ4TUESQ88cAALMlEzkkGlErIO26owARbSW63uXMdzw0CAwTpkbSIHAmNjOqbiTAbo0GrfB7QAIQAmp6InA3f5uXVAwaFVP93W5bQik8NhFGQU5UFATBnRwVYQFECQigbG44DcZ0ZjiYoRkBGRMEUJBxAgaDYLGRDkNQ2trBsKCaDgEx9nQDUViKMg4jCJg8IeEACzFIp5WmIEpFolCZiohAGBMFAZDgOYGzOa86AACnlBghWVECEQsDc2QQa9b3vR8AEpRjSf4iiQe5ZjgS4YJAYipNQ2T5MUkBlNU9AIHUzAtIiHTKD00DDJFDsrMSWyZHss5lNcySQCQ6T0E8hSil8xQZm03TljgAAqRJ8jSOyHM46Y3NSuiZJguSsqUlTcvQRQ4Gvaw4GCzBQr0ZzFEM7QO0i6KKsSgbkvc+rYK87KWvwjqFKgbr8sofqnSGkbhqiizxv8pynSm2r0taGhiE2bjeJwfixiE0VyrBX8inmAEZGPVj2McyaZCqmY-pqtKPIaubmr8uQQqFL4TzPLptAAPh-XqhSjEKyJMEV-EOmCRWeIZtAZbRxHkkxUCR0LUd69HMexxRcc2IZ9pASnkSGGmBvpl5AbqjKQaanyFvQNbodPc8CfJlG0bZrGObxkxtBxCXKBF2GyDJtaWepmWnU5xn4oco16Bw7RNfx7WYKIlKgfqtjmM++5HhV88ikN+BFBNqX5fNxQRlBEAEsEjaXN+wqAW507jxMe15vBk8ADUhjKHqKc99mdblvbw-oqxbDt22ONDmQeLYPiBMeMSXqSv2xDcA4QA+-PHmEx6IYVSvJr9mD5Fa8uFBW8QOi6Cr+8H7owT7uAB+doEQRq6UZJoKOcJekvDFQ+EzCKUjyMohqaJO4HZv5nK4QUIKCFeAg5Uh9blIs8WO3eMwOzJhVaw0ggvivpX5nvwmOx+MgZ+2gyYdjlh2Jmr0s4LyXrlMGrVW59WUsyZkUCgTVyJGYB20JYToAWCRHmIAmDkX2DIMiXRUKWgqGCeISBOh1y9DA6O70WL51btVOeMJUJ4QIadEwnR9BwJAOQ60Mxaj1CuCAXUK00CkS1CAAAXjhNgsjFDyNkLQ+hCFW6QlSqBPOX1nSJFcpw3BIAoBsBvEI626Au6dD1sI8iojBIAGJkhzigGkWQLcXGeEaEwHIOQACcb05CaI0KARhGVF7MPrqwr6QdcrAj9kgOYCh94wRYg+GYTBNhZAQC9TBqF8GKL2ElVAiQZAKSYKxL4Eh4IgE0CqbYVTjC1Pqf4GgSi0CJEqSAaprEjSkBRBSVRKwaqZMng0swnhJHQD+OgHhpSB7lPFKlOgm90BRh0jU92XhtAoRuJvEiGy4AAAU4yj0qCczAZg6kPk6d0ipORWk1JMPchpTSQItP6W0kw757KsQETMBAZRZDHN+W8zQ-CyAaGEXUBorzWIXPaM7VAyQTm2HuHI8w6zbCPNWL0ISyh2I4qLiSo04QoB0AEmkSgLyfLiAsfIOuAzhh1zCBXbRCo5jwVAP0WFjNeawQiMnAqmpFQjTGsCGVftkCKBsNgg+i1LhQTiAU7RUS4mwOSoy5lqxQBTOXtohY2j5mbJACUhuX0K7ERKGUCoZqikzBKcQgePTrieE8HoeCOJEh2oEvy51iyDEzGdOVANOQ67mu4aGxZxi7WR1REGhZ5jLHBziZ9CaR07VZEsWoHA0aBhCpAMADsn5BEvyVmJQyxlTJ3imboWmVaxW3wGtoFBh5XbG1Nl7WmEANz-00DxGgoQo7Ij-AAMn1DBM+LoNzqxvokiytaTI3gbQ+UBZNZKirWlVQyUhKACEUNFQEJiZCcuetopNlLrA0v3m-Bpj6P7dvdr27Q3sIDfzWsuxYodUB0uSDVP6FTZ41DYMMuuN6qX3u0SBulAgZUgiqeQSesglVqFuasR43t0B+yTTMCxViiiTOyW1BFpxZ5AA)"
   ]
  },
  {
   "cell_type": "markdown",
   "metadata": {},
   "source": [
    "# Indicator"
   ]
  },
  {
   "cell_type": "markdown",
   "metadata": {},
   "source": [
    "Percentage of the workforce that is female "
   ]
  },
  {
   "cell_type": "markdown",
   "metadata": {},
   "source": [
    "## Rank"
   ]
  },
  {
   "cell_type": "markdown",
   "metadata": {},
   "source": [
    "```sql\n",
    "SELECT CONCAT(rank, ' of ', max_rank) AS value FROM (SELECT *, MAX(rank) OVER (PARTITION BY true) AS max_rank FROM(SELECT \n",
    "    *, RANK() OVER(ORDER BY ratio DESC) as rank\n",
    "FROM (\n",
    "            SELECT \n",
    "                area, \n",
    "                RANK() OVER(PARTITION BY area ORDER BY year DESC) as yr_rank,  \n",
    "                SUM(CASE \n",
    "                  WHEN sex = 'SEX_F' THEN obs_value\n",
    "                    ELSE 0\n",
    "                  END)/NULLIF(SUM(CASE\n",
    "                  WHEN sex = 'SEX_T' THEN obs_value\n",
    "                  ELSE 0\n",
    "                  END),0)*100 AS ratio\n",
    "            FROM com_037_rw0_fishing_employment_edit \n",
    "            WHERE type = 'Fishing' \n",
    "            GROUP BY area, year\n",
    "            ) data  \n",
    "LEFT JOIN gadm36_0 gadm on gadm.gid_0 = data.area \n",
    "WHERE yr_rank =1 AND coastal=true AND ratio IS NOT NULL) ranked ) max_rank\n",
    "WHERE geostore_prod ILIKE 'ca5bfde08587530e76c17fe48362a01d' \n",
    "```"
   ]
  },
  {
   "cell_type": "markdown",
   "metadata": {},
   "source": [
    "#### Raw\n",
    "`https://wri-rw.carto.com/api/v2/sql?q=SELECT CONCAT(rank, ' of ', max_rank) AS value FROM (SELECT *, MAX(rank) OVER (PARTITION BY true) AS max_rank FROM(SELECT *, RANK() OVER(ORDER BY ratio DESC) as rank FROM (SELECT area, RANK() OVER(PARTITION BY area ORDER BY year DESC) as yr_rank, SUM(CASE WHEN sex = 'SEX_F' THEN obs_value ELSE 0 END)/NULLIF(SUM(CASE WHEN sex = 'SEX_T' THEN obs_value ELSE 0 END),0)*100 AS ratio FROM com_037_rw0_fishing_employment_edit WHERE type = 'Fishing' GROUP BY area, year) data  LEFT JOIN gadm36_0 gadm on gadm.gid_0 = data.area WHERE yr_rank =1 AND coastal=true AND ratio IS NOT NULL) ranked ) max_rank WHERE {{geostore_env}} ILIKE '{{geostore_id}}'`\n",
    "\n",
    "#### [Demo](https://wri-rw.carto.com/api/v2/sql?q=SELECT%20CONCAT(rank,%20%27%20of%20%27,%20max_rank)%20AS%20value%20FROM%20(SELECT%20*,%20MAX(rank)%20OVER%20(PARTITION%20BY%20true)%20AS%20max_rank%20FROM(SELECT%20*,%20RANK()%20OVER(ORDER%20BY%20ratio%20DESC)%20as%20rank%20FROM%20(SELECT%20area,%20RANK()%20OVER(PARTITION%20BY%20area%20ORDER%20BY%20year%20DESC)%20as%20yr_rank,%20SUM(CASE%20WHEN%20sex%20=%20%27SEX_F%27%20THEN%20obs_value%20ELSE%200%20END)/NULLIF(SUM(CASE%20WHEN%20sex%20=%20%27SEX_T%27%20THEN%20obs_value%20ELSE%200%20END),0)*100%20AS%20ratio%20FROM%20com_037_rw0_fishing_employment_edit%20WHERE%20type%20=%20%27Fishing%27%20GROUP%20BY%20area,%20year)%20data%20%20LEFT%20JOIN%20gadm36_0%20gadm%20on%20gadm.gid_0%20=%20data.area%20WHERE%20yr_rank%20=1%20AND%20coastal=true%20AND%20ratio%20IS%20NOT%20NULL)%20ranked%20)%20max_rank%20WHERE%20geostore_prod%20ILIKE%20%27ca5bfde08587530e76c17fe48362a01d%27)"
   ]
  },
  {
   "cell_type": "markdown",
   "metadata": {},
   "source": [
    "## Value"
   ]
  },
  {
   "cell_type": "markdown",
   "metadata": {},
   "source": [
    "``` sql\n",
    "SELECT \n",
    "    ROUND(female_employment/NULLIF(total_employment,0)*100) AS value\n",
    "FROM (\n",
    "    SELECT \n",
    "        area, \n",
    "        year,  \n",
    "        SUM(CASE \n",
    "            WHEN sex = 'SEX_F' THEN obs_value\n",
    "            ELSE 0\n",
    "            END) female_employment,\n",
    "        SUM(CASE\n",
    "            WHEN sex = 'SEX_T' THEN obs_value\n",
    "            ELSE 0\n",
    "            END) total_employment,\n",
    "        RANK() OVER(PARTITION BY area ORDER BY year DESC) as yr_rank \n",
    "    FROM com_037_rw0_fishing_employment_edit \n",
    "    WHERE type = 'Fishing' \n",
    "    GROUP BY area, year \n",
    ") data\n",
    "LEFT JOIN gadm36_0 gadm on gadm.gid_0 = data.area\n",
    "WHERE yr_rank = 1 AND gadm.{{geostore_env}} ILIKE '{{geostore_id}}'\n",
    "```"
   ]
  },
  {
   "cell_type": "markdown",
   "metadata": {},
   "source": [
    "query: [`https://wri-rw.carto.com/api/v2/sql?q=SELECT ROUND(female_employment/NULLIF(total_employment,0)*100) AS value FROM (SELECT area, year, SUM(CASE WHEN sex = 'SEX_F' THEN obs_value ELSE 0 END) female_employment, SUM(CASE WHEN sex = 'SEX_T' THEN obs_value ELSE 0 END) total_employment, RANK() OVER(PARTITION BY area ORDER BY year DESC) as yr_rank FROM com_037_rw0_fishing_employment_edit WHERE type = 'Fishing' GROUP BY area, year ) data\n",
    "LEFT JOIN gadm36_0 gadm on gadm.gid_0 = data.area WHERE yr_rank = 1 AND gadm.{{geostore_env}} ILIKE '{{geostore_id}}'`](https://wri-rw.carto.com/api/v2/sql?q=SELECT%20ROUND(female_employment/NULLIF(total_employment,0)*100)%20AS%20value%20FROM%20(SELECT%20area,%20year,%20SUM(CASE%20WHEN%20sex%20=%20%27SEX_F%27%20THEN%20obs_value%20ELSE%200%20END)%20female_employment,%20SUM(CASE%20WHEN%20sex%20=%20%27SEX_T%27%20THEN%20obs_value%20ELSE%200%20END)%20total_employment,%20RANK()%20OVER(PARTITION%20BY%20area%20ORDER%20BY%20year%20DESC)%20as%20yr_rank%20FROM%20com_037_rw0_fishing_employment_edit%20WHERE%20type%20=%20%27Fishing%27%20GROUP%20BY%20area,%20year%20)%20data%20LEFT%20JOIN%20gadm36_0%20gadm%20on%20gadm.gid_0%20=%20data.area%20WHERE%20yr_rank%20=%201%20AND%20gadm.gid_0%20ILIKE%20%27MEX%27)"
   ]
  },
  {
   "cell_type": "markdown",
   "metadata": {},
   "source": [
    "## RW Backoffice"
   ]
  },
  {
   "cell_type": "markdown",
   "metadata": {},
   "source": [
    "- [back office](https://resourcewatch.org/admin/data/widgets/49e474c1-014b-476c-b832-8c9a556ad6e3/edit?dataset=4487e012-9571-4175-991a-101268d6bb3f)\n",
    "- parent dataset [com.037.rw0](https://resourcewatch.org/data/explore/4487e012-9571-4175-991a-101268d6bb3f) (unpublished)\n",
    "- dataset id ```4487e012-9571-4175-991a-101268d6bb3f```\n",
    "- widget id: ```49e474c1-014b-476c-b832-8c9a556ad6e3```"
   ]
  }
 ],
 "metadata": {
  "kernelspec": {
   "display_name": "Python 3",
   "language": "python",
   "name": "python3"
  },
  "language_info": {
   "codemirror_mode": {
    "name": "ipython",
    "version": 3
   },
   "file_extension": ".py",
   "mimetype": "text/x-python",
   "name": "python",
   "nbconvert_exporter": "python",
   "pygments_lexer": "ipython3",
   "version": "3.7.7"
  }
 },
 "nbformat": 4,
 "nbformat_minor": 4
}
