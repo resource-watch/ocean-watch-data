{
 "cells": [
  {
   "cell_type": "markdown",
   "metadata": {},
   "source": [
    "# Nutrient Balance - Phosphorus and Nitrogen\n",
    "Phosphorus and nitrogen balance (surfeit +, deficit -) time series by country/territory.  \n",
    "\n",
    "Note that this is a parameterized widget; the specification passed to the API will not be renderable without the geostore identifier being inserted.  \n",
    "\n",
    "_Author: Peter Kerins_  \n",
    "_Created: 23 Aug 2021_  \n",
    "_Environment: jupyterlab_  "
   ]
  },
  {
   "cell_type": "markdown",
   "metadata": {},
   "source": [
    "## Style\n",
    "- Vega chart\n",
    "- Ocean Watch country page - parameterized chart\n",
    "- Line chart\n",
    "- Multiline"
   ]
  },
  {
   "cell_type": "markdown",
   "metadata": {},
   "source": [
    "## Data\n",
    "Underlying dataset: [foo.063.rw0 Nutrient Balance](https://resourcewatch.carto.com/u/wri-rw/dataset/foo_063_rw0_nutrient_balance_edit)  \n",
    "Widget data: [ow_widget_territory](https://resourcewatch.carto.com/u/wri-rw/dataset/ow_widget_territory) (master table for all territory-based widgets on Ocean Watch)  "
   ]
  },
  {
   "cell_type": "markdown",
   "metadata": {},
   "source": [
    "## Preparation"
   ]
  },
  {
   "cell_type": "code",
   "execution_count": 1,
   "metadata": {
    "tags": []
   },
   "outputs": [],
   "source": [
    "import json\n",
    "from vega import Vega\n",
    "from IPython.display import display"
   ]
  },
  {
   "cell_type": "code",
   "execution_count": 2,
   "metadata": {},
   "outputs": [],
   "source": [
    "def Vega(spec):\n",
    "    bundle = {}\n",
    "    bundle['application/vnd.vega.v5+json'] = spec\n",
    "    display(bundle, raw=True)"
   ]
  },
  {
   "cell_type": "code",
   "execution_count": 3,
   "metadata": {
    "tags": []
   },
   "outputs": [],
   "source": [
    "widget_width = 400\n",
    "widget_height = 300"
   ]
  },
  {
   "cell_type": "markdown",
   "metadata": {},
   "source": [
    "# Widget"
   ]
  },
  {
   "cell_type": "markdown",
   "metadata": {},
   "source": [
    "## Demo Query\n",
    "`gid_0 = <territory>` used as stand-in for parameterization\n",
    "```sql\n",
    "SELECT gid_0, name_0, CONCAT(nutrients, ' ', indicator) AS variable, time as date, value \n",
    "FROM foo_063_rw0_nutrient_balance_edit \n",
    "INNER JOIN gadm36_0 gadm on gadm.gid_0 = iso  \n",
    "WHERE indicator = 'Balance per hectare' and gid_0 = 'MEX'\n",
    "```"
   ]
  },
  {
   "cell_type": "markdown",
   "metadata": {},
   "source": [
    "## Parameterized Query\n",
    "```sql\n",
    "SELECT gid_0, name_0, CONCAT(nutrients, ' ', indicator) AS variable, time as date, value \n",
    "FROM foo_063_rw0_nutrient_balance_edit \n",
    "INNER JOIN gadm36_0 gadm on gadm.gid_0 = iso  \n",
    "WHERE indicator = 'Balance per hectare' and {{geostore_env}}= '{{geostore_id}}'\n",
    "```"
   ]
  },
  {
   "cell_type": "markdown",
   "metadata": {},
   "source": [
    "## Specification\n",
    "Vega code presumes RW-style `config` element present"
   ]
  },
  {
   "cell_type": "code",
   "execution_count": 10,
   "metadata": {},
   "outputs": [],
   "source": [
    "spec=json.loads(\"\"\"\n",
    "{\n",
    "  \"schema\": \"https://vega.github.io/schema/vega/v5.json\",\n",
    "  \"description\": \"Nutrient balance of phosphorus and nitrogen time series, by country\",\n",
    "  \"padding\": 0,\n",
    "  \"autosize\": {\n",
    "    \"type\": \"fit\",\n",
    "    \"contains\": \"padding\"\n",
    "  },\n",
    "  \"signals\": [],\n",
    "  \"data\": [\n",
    "    {\n",
    "      \"name\": \"table\",\n",
    "      \"url\": \"https://wri-rw.carto.com/api/v2/sql?q=SELECT gid_0, name_0, CONCAT(nutrients, ' ', indicator) AS variable, time as date, value FROM foo_063_rw0_nutrient_balance_edit INNER JOIN gadm36_0 gadm on gadm.gid_0 = iso  WHERE indicator = 'Balance per hectare' and {{geostore_env}}= '{{geostore_id}}'\",\n",
    "      \"format\": {\n",
    "        \"type\": \"json\",\n",
    "        \"property\": \"rows\",\n",
    "        \"parse\": {\n",
    "          \"date\": \"utc:'%Y'\"\n",
    "        }\n",
    "      },\n",
    "      \"transform\": [\n",
    "        {\n",
    "          \"type\": \"formula\",\n",
    "          \"expr\": \"slice(datum.variable,0,indexof(datum.variable,' '))\",\n",
    "          \"as\": \"nutrient\"\n",
    "        },\n",
    "        {\n",
    "          \"type\": \"formula\",\n",
    "          \"expr\": \"utcyear(datum.date)\",\n",
    "          \"as\": \"time\"\n",
    "        }\n",
    "      ]\n",
    "    }\n",
    "  ],\n",
    "  \"scales\": [\n",
    "    {\n",
    "      \"name\": \"xscale\",\n",
    "      \"type\": \"time\",\n",
    "      \"domain\": {\n",
    "        \"data\": \"table\",\n",
    "        \"fields\": [\n",
    "          \"date\"\n",
    "        ]\n",
    "      },\n",
    "      \"range\": \"width\",\n",
    "      \"padding\": 0\n",
    "    },\n",
    "    {\n",
    "      \"name\": \"yscale\",\n",
    "      \"type\": \"linear\",\n",
    "      \"domain\": {\n",
    "        \"data\": \"table\",\n",
    "        \"field\": \"value\"\n",
    "      },\n",
    "      \"range\": \"height\",\n",
    "      \"padding\": 0\n",
    "    },\n",
    "    {\n",
    "      \"name\": \"colorscale\",\n",
    "      \"type\": \"ordinal\",\n",
    "      \"domain\": [\n",
    "        \"Nitrogen\",\n",
    "        \"Phosphorus\"\n",
    "      ],\n",
    "      \"range\": [\n",
    "        \"#f3b229\",\n",
    "        \"#5DBAB2\"\n",
    "      ]\n",
    "    },\n",
    "    {\n",
    "      \"name\": \"shapescale\",\n",
    "      \"type\": \"ordinal\",\n",
    "      \"domain\": [\n",
    "        \"Nitrogen\",\n",
    "        \"Phosphorus\"\n",
    "      ],\n",
    "      \"range\": [\n",
    "        \"circle\",\n",
    "        \"diamond\"\n",
    "      ]\n",
    "    }\n",
    "  ],\n",
    "  \"axes\": [\n",
    "    {\n",
    "      \"orient\": \"bottom\",\n",
    "      \"scale\": \"xscale\",\n",
    "      \"labelFlush\": true,\n",
    "      \"labelOverlap\": true,\n",
    "      \"labelBaseline\": \"middle\",\n",
    "      \"domain\": true,\n",
    "      \"ticks\": true,\n",
    "      \"tickSize\": 5,\n",
    "      \"grid\": false,\n",
    "      \"format\": \"%Y\"\n",
    "    },\n",
    "    {\n",
    "      \"orient\": \"left\",\n",
    "      \"scale\": \"yscale\",\n",
    "      \"title\": \"Nutrient balance (kg/ha)\",\n",
    "      \"labelBaseline\": \"middle\",\n",
    "      \"labelAlign\": \"right\",\n",
    "      \"labelPadding\": 5,\n",
    "      \"domain\": false,\n",
    "      \"grid\": true,\n",
    "      \"gridOpacity\": 0.2,\n",
    "      \"offset\": 3,\n",
    "      \"ticks\": false,\n",
    "      \"titleFont\": \"Lato\",\n",
    "      \"encode\": {\n",
    "        \"ticks\": {\n",
    "          \"update\": {\n",
    "            \"stroke\": {\n",
    "              \"value\": \"steelblue\"\n",
    "            }\n",
    "          }\n",
    "        },\n",
    "        \"labels\": {\n",
    "          \"interactive\": true,\n",
    "          \"update\": {\n",
    "            \"fill\": {\n",
    "              \"value\": \"grey\"\n",
    "            }\n",
    "          },\n",
    "          \"hover\": {\n",
    "            \"fill\": {\n",
    "              \"value\": \"firebrick\"\n",
    "            }\n",
    "          }\n",
    "        }\n",
    "      }\n",
    "    }\n",
    "  ],\n",
    "  \"marks\": [\n",
    "    {\n",
    "      \"type\": \"group\",\n",
    "      \"from\": {\n",
    "        \"facet\": {\n",
    "          \"name\": \"series\",\n",
    "          \"data\": \"table\",\n",
    "          \"groupby\": \"nutrient\"\n",
    "        }\n",
    "      },\n",
    "      \"marks\": [\n",
    "        {\n",
    "          \"type\": \"line\",\n",
    "          \"from\": {\n",
    "            \"data\": \"series\"\n",
    "          },\n",
    "          \"interactive\": false,\n",
    "          \"encode\": {\n",
    "            \"enter\": {\n",
    "              \"x\": {\n",
    "                \"scale\": \"xscale\",\n",
    "                \"field\": \"date\"\n",
    "              },\n",
    "              \"y\": {\n",
    "                \"scale\": \"yscale\",\n",
    "                \"field\": \"value\"\n",
    "              },\n",
    "              \"stroke\": {\n",
    "                \"scale\": \"colorscale\",\n",
    "                \"field\": \"nutrient\"\n",
    "              },\n",
    "              \"strokeWidth\": {\n",
    "                \"value\": 1.5\n",
    "              },\n",
    "              \"interpolate\": {\n",
    "                \"value\": \"linear\"\n",
    "              }\n",
    "            }\n",
    "          }\n",
    "        },\n",
    "        {\n",
    "          \"type\": \"symbol\",\n",
    "          \"from\": {\n",
    "            \"data\": \"series\"\n",
    "          },\n",
    "          \"encode\": {\n",
    "            \"enter\": {\n",
    "              \"x\": {\n",
    "                \"scale\": \"xscale\",\n",
    "                \"field\": \"date\"\n",
    "              },\n",
    "              \"y\": {\n",
    "                \"scale\": \"yscale\",\n",
    "                \"field\": \"value\"\n",
    "              },\n",
    "              \"stroke\": {\n",
    "                \"scale\": \"colorscale\",\n",
    "                \"field\": \"nutrient\"\n",
    "              },\n",
    "              \"shape\": {\n",
    "                \"scale\": \"shapescale\",\n",
    "                \"field\": \"nutrient\"\n",
    "              },\n",
    "              \"strokeWidth\": {\n",
    "                \"value\": 1.5\n",
    "              },\n",
    "              \"size\": {\n",
    "                \"signal\": \"width/8\"\n",
    "              },\n",
    "              \"interpolate\": {\n",
    "                \"value\": \"monotone\"\n",
    "              },\n",
    "              \"fillOpacity\": {\n",
    "                \"value\": 1\n",
    "              },\n",
    "              \"strokeOpacity\": {\n",
    "                \"value\": 1\n",
    "              }\n",
    "            },\n",
    "            \"update\": {\n",
    "              \"fill\": {\n",
    "                \"scale\": \"colorscale\",\n",
    "                \"field\": \"nutrient\"\n",
    "              },\n",
    "              \"fillOpacity\": {\"value\": 0.2}\n",
    "            },\n",
    "            \"hover\": {\n",
    "              \"fill\": {\n",
    "                \"scale\": \"colorscale\",\n",
    "                \"field\": \"nutrient\"\n",
    "              },\n",
    "              \"fillOpacity\": {\"value\": 1}\n",
    "            }\n",
    "          }\n",
    "        }\n",
    "      ]\n",
    "    }\n",
    "  ],\n",
    "  \"legends\": [\n",
    "    {\n",
    "      \"type\": \"symbol\",\n",
    "      \"direction\": \"horizontal\",\n",
    "      \"orient\": \"bottom\",\n",
    "      \"stroke\": \"colorscale\",\n",
    "      \"fill\": \"colorscale\",\n",
    "      \"fillOpacity\": 0.2,\n",
    "      \"shape\": \"shapescale\",\n",
    "      \"labelFont\": \"Lato\"\n",
    "    }\n",
    "  ],\n",
    "    \"interaction_config\": [\n",
    "    {\n",
    "      \"name\": \"tooltip\",\n",
    "      \"config\": {\n",
    "        \"fields\": [\n",
    "         {\n",
    "            \"column\": \"time\",\n",
    "            \"property\": \"Year\",\n",
    "            \"type\": \"text\",\n",
    "            \"format\": \"\"\n",
    "          },\n",
    "          {\n",
    "            \"column\": \"nutrient\",\n",
    "            \"property\": \"Nutrient\",\n",
    "            \"type\": \"text\",\n",
    "            \"format\": \"\"\n",
    "          },\n",
    "           {\n",
    "            \"column\": \"value\",\n",
    "            \"property\": \"Nutrient balance (kg/ha)\",\n",
    "            \"type\": \"number\",\n",
    "            \"format\": \"\"\n",
    "          }\n",
    "        ]\n",
    "      }\n",
    "    }\n",
    "  ]\n",
    "}\n",
    "\"\"\")"
   ]
  },
  {
   "cell_type": "code",
   "execution_count": 11,
   "metadata": {},
   "outputs": [
    {
     "data": {
      "application/vnd.vega.v5+json": {
       "autosize": {
        "contains": "padding",
        "type": "fit"
       },
       "axes": [
        {
         "domain": true,
         "format": "%Y",
         "grid": false,
         "labelBaseline": "top",
         "labelFlush": true,
         "labelFontSize": 10,
         "labelOverlap": true,
         "orient": "bottom",
         "scale": "xscale",
         "tickSize": 5,
         "ticks": true
        },
        {
         "domain": false,
         "encode": {
          "labels": {
           "hover": {
            "fill": {
             "value": "firebrick"
            }
           },
           "interactive": true,
           "update": {
            "fill": {
             "value": "grey"
            }
           }
          },
          "ticks": {
           "update": {
            "stroke": {
             "value": "steelblue"
            }
           }
          }
         },
         "grid": true,
         "gridOpacity": 0.2,
         "labelAlign": "right",
         "labelBaseline": "middle",
         "labelFontSize": 10,
         "labelPadding": 5,
         "offset": 3,
         "orient": "left",
         "scale": "yscale",
         "ticks": false,
         "title": "Nutrient balance (kg/ha)",
         "titleFont": "Arial"
        }
       ],
       "data": [
        {
         "format": {
          "parse": {
           "date": "utc:'%Y'"
          },
          "property": "rows",
          "type": "json"
         },
         "name": "table",
         "transform": [
          {
           "as": "nutrient",
           "expr": "slice(datum.variable,0,indexof(datum.variable,' '))",
           "type": "formula"
          },
          {
           "as": "time",
           "expr": "utcyear(datum.date)",
           "type": "formula"
          }
         ],
         "url": "https://wri-rw.carto.com/api/v2/sql?q=SELECT gid_0, name_0, CONCAT(nutrients, ' ', indicator) AS variable, time as date, value FROM foo_063_rw0_nutrient_balance_edit INNER JOIN gadm36_0 gadm on gadm.gid_0 = iso  WHERE indicator = 'Balance per hectare' and geostore_prod= 'ca5bfde08587530e76c17fe48362a01d'"
        }
       ],
       "description": "Nutrient balance of phosphorus and nitrogen time series, by country",
       "height": 300,
       "interaction_config": [
        {
         "config": {
          "fields": [
           {
            "column": "time",
            "format": "",
            "property": "Year",
            "type": "text"
           },
           {
            "column": "nutrient",
            "format": "",
            "property": "Nutrient",
            "type": "text"
           },
           {
            "column": "value",
            "format": "",
            "property": "Nutrient balance (kg/ha)",
            "type": "number"
           }
          ]
         },
         "name": "tooltip"
        }
       ],
       "legends": [
        {
         "direction": "horizontal",
         "fill": "colorscale",
         "fillOpacity": 0.2,
         "labelFont": "Arial",
         "orient": "bottom",
         "shape": "shapescale",
         "stroke": "colorscale",
         "type": "symbol"
        }
       ],
       "marks": [
        {
         "from": {
          "facet": {
           "data": "table",
           "groupby": "nutrient",
           "name": "series"
          }
         },
         "marks": [
          {
           "encode": {
            "enter": {
             "interpolate": {
              "value": "linear"
             },
             "stroke": {
              "field": "nutrient",
              "scale": "colorscale"
             },
             "strokeWidth": {
              "value": 1.5
             },
             "x": {
              "field": "date",
              "scale": "xscale"
             },
             "y": {
              "field": "value",
              "scale": "yscale"
             }
            }
           },
           "from": {
            "data": "series"
           },
           "interactive": false,
           "type": "line"
          },
          {
           "encode": {
            "enter": {
             "fillOpacity": {
              "value": 1
             },
             "interpolate": {
              "value": "monotone"
             },
             "shape": {
              "field": "nutrient",
              "scale": "shapescale"
             },
             "size": {
              "signal": "width/8"
             },
             "stroke": {
              "field": "nutrient",
              "scale": "colorscale"
             },
             "strokeOpacity": {
              "value": 1
             },
             "strokeWidth": {
              "value": 1.5
             },
             "x": {
              "field": "date",
              "scale": "xscale"
             },
             "y": {
              "field": "value",
              "scale": "yscale"
             }
            },
            "hover": {
             "fill": {
              "field": "nutrient",
              "scale": "colorscale"
             },
             "fillOpacity": {
              "value": 1
             }
            },
            "update": {
             "fill": {
              "field": "nutrient",
              "scale": "colorscale"
             },
             "fillOpacity": {
              "value": 0.2
             }
            }
           },
           "from": {
            "data": "series"
           },
           "type": "symbol"
          }
         ],
         "type": "group"
        }
       ],
       "padding": 0,
       "scales": [
        {
         "domain": {
          "data": "table",
          "fields": [
           "date"
          ]
         },
         "name": "xscale",
         "padding": 0,
         "range": "width",
         "type": "time"
        },
        {
         "domain": {
          "data": "table",
          "field": "value"
         },
         "name": "yscale",
         "padding": 0,
         "range": "height",
         "type": "linear"
        },
        {
         "domain": [
          "Nitrogen",
          "Phosphorus"
         ],
         "name": "colorscale",
         "range": [
          "#f3b229",
          "#5DBAB2"
         ],
         "type": "ordinal"
        },
        {
         "domain": [
          "Nitrogen",
          "Phosphorus"
         ],
         "name": "shapescale",
         "range": [
          "circle",
          "diamond"
         ],
         "type": "ordinal"
        }
       ],
       "schema": "https://vega.github.io/schema/vega/v5.json",
       "signals": [],
       "width": 400
      },
      "image/png": "[encoded data removed]"
     },
     "metadata": {},
     "output_type": "display_data"
    }
   ],
   "source": [
    "vega_view=dict(spec)\n",
    "\n",
    "## DEFINE SIZE\n",
    "vega_view['height'] = widget_height\n",
    "vega_view['width'] = widget_width\n",
    "\n",
    "## PARAMETERIZE WIDGET\n",
    "vega_view['data'][0]['url']= vega_view['data'][0]['url'].replace('{{geostore_env}}','geostore_prod')\n",
    "vega_view['data'][0]['url'] = vega_view['data'][0]['url'].replace('{{geostore_id}}','ca5bfde08587530e76c17fe48362a01d')\n",
    "\n",
    "## ADJUST X AXIS\n",
    "vega_view['axes'][0]['labelBaseline']= \"top\"\n",
    "\n",
    "## FONT\n",
    "vega_view['axes'][1]['titleFont'] = 'Arial'\n",
    "vega_view['legends'][0]['labelFont'] = 'Arial'\n",
    "\n",
    "Vega(vega_view)\n"
   ]
  },
  {
   "cell_type": "markdown",
   "metadata": {},
   "source": [
    "# RW API"
   ]
  },
  {
   "cell_type": "markdown",
   "metadata": {},
   "source": [
    "Parameterized widgets created via [widget scripts](https://github.com/resource-watch/data-team-tools/tree/master/advanced_widget_writer).  "
   ]
  },
  {
   "cell_type": "markdown",
   "metadata": {},
   "source": [
    "[foo.063.rw0 Nutrient Balance]() ([Admin](https://resourcewatch.org/admin/data/datasets/adba3cb5-7f18-491f-b31a-1b8b8c03fa67/edit))  \n",
    "`adba3cb5-7f18-491f-b31a-1b8b8c03fa67`  \n",
    "[Dataset](https://api.resourcewatch.org/v1/dataset/adba3cb5-7f18-491f-b31a-1b8b8c03fa67/), [Widgets](https://api.resourcewatch.org/v1/dataset/adba3cb5-7f18-491f-b31a-1b8b8c03fa67/widget)"
   ]
  },
  {
   "cell_type": "code",
   "execution_count": 5,
   "metadata": {},
   "outputs": [],
   "source": [
    "dataset_id = 'adba3cb5-7f18-491f-b31a-1b8b8c03fa67'\n",
    "name = 'Nutrient Balance'\n",
    "description = 'Time series of nutrient balance for phosphorus and nitrogen, by country'"
   ]
  },
  {
   "cell_type": "markdown",
   "metadata": {},
   "source": [
    "- [Country](https://api.resourcewatch.org/v1/widget/4e8f077f-bed7-44f7-8d52-d793b485f301?env=production) `4e8f077f-bed7-44f7-8d52-d793b485f301`  "
   ]
  }
 ],
 "metadata": {
  "kernelspec": {
   "display_name": "Python 3",
   "language": "python",
   "name": "python3"
  },
  "language_info": {
   "codemirror_mode": {
    "name": "ipython",
    "version": 3
   },
   "file_extension": ".py",
   "mimetype": "text/x-python",
   "name": "python",
   "nbconvert_exporter": "python",
   "pygments_lexer": "ipython3",
   "version": "3.7.7"
  }
 },
 "nbformat": 4,
 "nbformat_minor": 5
}
