{
 "cells": [
  {
   "cell_type": "markdown",
   "id": "fc4cfe93",
   "metadata": {},
   "source": [
    "# Shipping Emissions\n",
    "Share of total CO<sub>2</sub> emissions attributable to maritime bunker fuel, by country by year.\n",
    "\n",
    "Note that this is a parameterized widget; the specification passed to the API will not be renderable without the geostore identifier being inserted.  \n",
    "\n",
    "_Author: Peter Kerins_  \n",
    "_Created: 26 Aug 2021_  \n",
    "_Environment: jupyterlab_  "
   ]
  },
  {
   "cell_type": "markdown",
   "id": "dd4c4419",
   "metadata": {},
   "source": [
    "## Style\n",
    "- Vega chart\n",
    "- Ocean Watch country page - parameterized chart\n",
    "- Time series\n",
    "- Line chart"
   ]
  },
  {
   "cell_type": "markdown",
   "id": "9e82bda0",
   "metadata": {},
   "source": [
    "## Data\n",
    "Underlying dataset: [com.038 Shipping Emissions](https://resourcewatch.carto.com/u/wri-rw/dataset/com_038_rw0_shipping_emissions_edit)  \n",
    "Widget data: [ow_widget_territory](https://resourcewatch.carto.com/u/wri-rw/dataset/ow_widget_territory) (master table for all territory-based widgets on Ocean Watch)  "
   ]
  },
  {
   "cell_type": "markdown",
   "id": "765d1285",
   "metadata": {},
   "source": [
    "## Preparation"
   ]
  },
  {
   "cell_type": "code",
   "execution_count": 1,
   "id": "85a9869d",
   "metadata": {
    "jupyter": {
     "source_hidden": true
    }
   },
   "outputs": [],
   "source": [
    "import json\n",
    "from vega import Vega\n",
    "from IPython.display import display"
   ]
  },
  {
   "cell_type": "code",
   "execution_count": 2,
   "id": "d4800ba8",
   "metadata": {
    "jupyter": {
     "source_hidden": true
    }
   },
   "outputs": [],
   "source": [
    "def Vega(spec):\n",
    "    bundle = {}\n",
    "    bundle['application/vnd.vega.v5+json'] = spec\n",
    "    display(bundle, raw=True)"
   ]
  },
  {
   "cell_type": "code",
   "execution_count": 3,
   "id": "60e8da8c",
   "metadata": {
    "jupyter": {
     "source_hidden": true
    },
    "tags": []
   },
   "outputs": [],
   "source": [
    "widget_width = 400\n",
    "widget_height = 300"
   ]
  },
  {
   "cell_type": "markdown",
   "id": "5f4aa444",
   "metadata": {},
   "source": [
    "# County Widget"
   ]
  },
  {
   "cell_type": "markdown",
   "id": "1f4fe582",
   "metadata": {},
   "source": [
    "## Demo Query\n",
    "`gid_0 = <territory>` used as stand-in for parameterization\n",
    "```sql\n",
    "SELECT gid_0, name_0, date, value/100.0 AS value\n",
    "FROM ow_widget_territory\n",
    "WHERE widget = 'shipping_emissions'\n",
    "AND gid_0 = 'CAN'\n",
    "```"
   ]
  },
  {
   "cell_type": "markdown",
   "id": "b9f82774",
   "metadata": {},
   "source": [
    "## Parameterized Query\n",
    "```sql\n",
    "SELECT data.gid_0, data.name_0, data.date, data.value/100.0 AS value\n",
    "FROM ow_widget_territory AS data\n",
    "LEFT OUTER JOIN gadm36_0 AS gadm ON data.gid_0 = gadm.gid_0\n",
    "WHERE data.widget = 'shipping_emissions'\n",
    "AND gadm.{{geostore_env}}='{{geostore_id}}'\n",
    "ORDER BY data.date ASC\n",
    "```"
   ]
  },
  {
   "cell_type": "markdown",
   "id": "18b771e5",
   "metadata": {},
   "source": [
    "## Specification\n",
    "Vega code presumes RW-style `config` element present"
   ]
  },
  {
   "cell_type": "code",
   "execution_count": 4,
   "id": "b6a2ab41",
   "metadata": {},
   "outputs": [
    {
     "data": {
      "application/vnd.vega.v5+json": {
       "autosize": {
        "contains": "padding",
        "type": "fit"
       },
       "axes": [
        {
         "domain": true,
         "grid": false,
         "labelBaseline": "middle",
         "labelFlush": true,
         "labelFont": "Arial",
         "labelFontSize": 10,
         "labelOverlap": true,
         "labelPadding": 7,
         "orient": "bottom",
         "scale": "datescale",
         "ticks": true
        },
        {
         "domain": true,
         "format": ".1%",
         "grid": true,
         "gridOpacity": 0.2,
         "labelAlign": "right",
         "labelBaseline": "middle",
         "labelFont": "Arial",
         "labelFontSize": 10,
         "labelPadding": 5,
         "orient": "left",
         "scale": "yscale",
         "title": "Share of total CO2 emissions"
        }
       ],
       "data": [
        {
         "format": {
          "parse": {
           "date": "utc:'%Y-%m-%d'"
          },
          "property": "rows",
          "type": "json"
         },
         "name": "table",
         "transform": [],
         "url": "https://wri-rw.carto.com/api/v2/sql?q=SELECT gid_0, name_0, date, value/100.0 AS value FROM ow_widget_territory WHERE widget = 'shipping_emissions' AND gid_0 = 'CAN'"
        }
       ],
       "description": "Share of national/territorial CO2 emissions due to maritime bunker fuels",
       "height": 300,
       "legends": [],
       "marks": [
        {
         "encode": {
          "enter": {
           "clip": {
            "value": true
           },
           "interpolate": {
            "value": "monotone"
           },
           "stroke": {
            "value": "#f768a1"
           },
           "strokeWidth": {
            "value": 3
           },
           "tooltip": {
            "signal": "{'Year':utcFormat(datum.date,'%Y'), 'Share of emissions':format(datum.value,'.1%')}"
           },
           "x": {
            "field": "date",
            "scale": "datescale"
           },
           "y": {
            "field": "value",
            "scale": "yscale"
           }
          },
          "hover": {
           "strokeOpacity": {
            "value": 0.5
           }
          },
          "update": {
           "strokeOpacity": {
            "value": 1
           }
          }
         },
         "from": {
          "data": "table"
         },
         "type": "line"
        }
       ],
       "padding": 0,
       "scales": [
        {
         "domain": {
          "data": "table",
          "field": "date"
         },
         "name": "datescale",
         "range": "width",
         "type": "time"
        },
        {
         "domain": {
          "data": "table",
          "fields": [
           "value"
          ]
         },
         "name": "yscale",
         "padding": 0.1,
         "range": "height",
         "type": "linear"
        }
       ],
       "schema": "https://vega.github.io/schema/vega/v5.json",
       "signals": [],
       "width": 400
      },
      "image/png": "[encoded data removed]"
     },
     "metadata": {},
     "output_type": "display_data"
    }
   ],
   "source": [
    "spec=json.loads(\"\"\"\n",
    "{\n",
    "  \"schema\": \"https://vega.github.io/schema/vega/v5.json\",\n",
    "  \"description\": \"Share of national/territorial CO2 emissions due to maritime bunker fuels\",\n",
    "  \"width\": 400,\n",
    "  \"height\": 250,\n",
    "  \"padding\": 0,\n",
    "  \"autosize\": {\"type\": \"fit\", \"contains\": \"padding\"},\n",
    "  \"signals\": [],\n",
    "  \"data\": [\n",
    "    {\n",
    "      \"name\": \"table\",\n",
    "      \"url\": \"https://wri-rw.carto.com/api/v2/sql?q=SELECT gid_0, name_0, date, value/100.0 AS value FROM ow_widget_territory WHERE widget = 'shipping_emissions' AND gid_0 = 'CAN'\",\n",
    "      \"format\": {\n",
    "        \"type\": \"json\",\n",
    "        \"property\": \"rows\",\n",
    "        \"parse\": {\"date\": \"utc:'%Y-%m-%d'\"}\n",
    "      },\n",
    "      \"transform\": []\n",
    "    }\n",
    "  ],\n",
    "  \"scales\": [\n",
    "    {\n",
    "      \"name\": \"datescale\",\n",
    "      \"type\": \"time\",\n",
    "      \"domain\": {\"data\": \"table\", \"field\": \"date\"},\n",
    "      \"range\": \"width\"\n",
    "    },\n",
    "    {\n",
    "      \"name\": \"yscale\",\n",
    "      \"type\": \"linear\",\n",
    "      \"domain\": {\n",
    "        \"data\": \"table\", \n",
    "        \"fields\": [\"value\"]\n",
    "      },\n",
    "      \"range\": \"height\",\n",
    "      \"padding\": 0.1\n",
    "    }\n",
    "  ],\n",
    "  \"axes\": [\n",
    "    {\n",
    "      \"orient\": \"bottom\",\n",
    "      \"scale\": \"datescale\",\n",
    "      \"domain\": true,\n",
    "      \"labelFlush\": true,\n",
    "      \"labelOverlap\": true,\n",
    "      \"labelBaseline\": \"middle\",\n",
    "      \"ticks\": true,\n",
    "      \"grid\": false,\n",
    "      \"labelFontSize\": 10,\n",
    "      \"labelFont\": \"Arial\",\n",
    "      \"labelPadding\": 7\n",
    "    },\n",
    "    {\n",
    "      \"orient\": \"left\",\n",
    "      \"scale\": \"yscale\",\n",
    "      \"domain\": true,\n",
    "      \"labelBaseline\": \"middle\",\n",
    "      \"labelAlign\": \"right\",\n",
    "      \"labelPadding\": 5,\n",
    "      \"grid\": true,\n",
    "      \"gridOpacity\": 0.2,\n",
    "      \"labelFontSize\": 10,\n",
    "      \"labelFont\": \"Arial\",\n",
    "      \"format\": \".1%\",\n",
    "      \"title\": \"Share of total CO2 emissions\"\n",
    "    }\n",
    "  ],\n",
    "  \"marks\": [\n",
    "    {\n",
    "      \"type\": \"line\",\n",
    "      \"from\": {\"data\": \"table\"},\n",
    "      \"encode\": {\n",
    "        \"enter\": {\n",
    "          \"x\": {\"scale\": \"datescale\", \"field\": \"date\"},\n",
    "          \"y\": {\"scale\": \"yscale\", \"field\": \"value\"},\n",
    "          \"stroke\": {\"value\": \"#f768a1\"},\n",
    "          \"strokeWidth\": {\"value\": 3},\n",
    "          \"clip\": {\"value\": true},\n",
    "          \"interpolate\": {\"value\": \"monotone\"},\n",
    "          \"tooltip\": {\n",
    "            \"signal\": \"{'Year':utcFormat(datum.date,'%Y'), 'Share of emissions':format(datum.value,'.1%')}\"\n",
    "          }\n",
    "        },\n",
    "        \"update\": {\n",
    "          \"strokeOpacity\": {\"value\": 1}\n",
    "        },\n",
    "        \"hover\": {\n",
    "          \"strokeOpacity\": {\"value\": 0.5}\n",
    "        }\n",
    "      }\n",
    "    }\n",
    "  ],\n",
    "  \"legends\": [\n",
    "  ]\n",
    "}\n",
    "\"\"\")\n",
    "vega_view=dict(spec)\n",
    "vega_view['width']=widget_width\n",
    "vega_view['height']=widget_height\n",
    "Vega(vega_view)"
   ]
  },
  {
   "cell_type": "markdown",
   "id": "45647e49",
   "metadata": {},
   "source": [
    "# Global Widget"
   ]
  },
  {
   "cell_type": "markdown",
   "id": "265ed977",
   "metadata": {},
   "source": [
    "## Queries\n",
    "Basic data selection, subsequently transformed via `facet` within specification\n",
    "```sql\n",
    "SELECT gid_0, name_0, date, value/100.0 AS value\n",
    "FROM ow_widget_territory\n",
    "WHERE widget = 'shipping_emissions'\n",
    "```\n",
    "\n",
    "Identifying \"top\" countries to reduce clutter (here limited to 15 countries)\n",
    "```sql\n",
    "SELECT gid_0, name_0, MAX(value/100.0) AS max_value \n",
    "FROM ow_widget_territory \n",
    "WHERE widget = 'shipping_emissions'\n",
    "GROUP BY gid_0, name_0\n",
    "ORDER BY max_value DESC\n",
    "LIMIT 15\n",
    "```\n",
    "\n",
    "Combination query to include all records from \"top\" _n_ countries\n",
    "```sql\n",
    "SELECT main.gid_0, main.name_0, main.date, main.value/100.0 AS value\n",
    "FROM ow_widget_territory AS main\n",
    "INNER JOIN (\n",
    "  SELECT gid_0, name_0, MAX(value/100.0) AS max_value \n",
    "  FROM ow_widget_territory \n",
    "  WHERE widget = 'shipping_emissions'\n",
    "  GROUP BY gid_0, name_0\n",
    "  ORDER BY max_value DESC\n",
    "  LIMIT 15) AS sub\n",
    "ON main.gid_0 = sub.gid_0\n",
    "WHERE widget = 'shipping_emissions'\n",
    "```"
   ]
  },
  {
   "cell_type": "markdown",
   "id": "1ea7a2b2",
   "metadata": {},
   "source": [
    "## Specification\n",
    "Vega code presumes RW-style `config` element present"
   ]
  },
  {
   "cell_type": "code",
   "execution_count": 5,
   "id": "3be4e2c8",
   "metadata": {},
   "outputs": [
    {
     "data": {
      "application/vnd.vega.v5+json": {
       "autosize": {
        "contains": "padding",
        "type": "fit"
       },
       "axes": [
        {
         "domain": true,
         "grid": false,
         "labelBaseline": "middle",
         "labelFlush": true,
         "labelFont": "Arial",
         "labelFontSize": 10,
         "labelOverlap": true,
         "labelPadding": 7,
         "orient": "bottom",
         "scale": "datescale",
         "ticks": true
        },
        {
         "domain": true,
         "format": ".0%",
         "grid": true,
         "gridOpacity": 0.2,
         "labelAlign": "right",
         "labelBaseline": "middle",
         "labelFont": "Arial",
         "labelFontSize": 10,
         "labelPadding": 5,
         "orient": "left",
         "scale": "yscale",
         "title": "Share of total CO2 emissions"
        }
       ],
       "data": [
        {
         "format": {
          "parse": {
           "date": "utc:'%Y-%m-%d'"
          },
          "property": "rows",
          "type": "json"
         },
         "name": "table",
         "transform": [],
         "url": "https://wri-rw.carto.com/api/v2/sql?q=SELECT main.gid_0, main.name_0, main.date, main.value/100.0 AS value FROM ow_widget_territory AS main INNER JOIN (SELECT gid_0, name_0, MAX(value/100.0) AS max_value FROM ow_widget_territory WHERE widget = 'shipping_emissions' GROUP BY gid_0, name_0 ORDER BY max_value DESC LIMIT 15) AS sub ON main.gid_0 = sub.gid_0 WHERE widget = 'shipping_emissions'"
        }
       ],
       "description": "Share of national/territorial CO2 emissions due to maritime bunker fuels",
       "height": 300,
       "legends": [],
       "marks": [
        {
         "encode": {
          "enter": {
           "baseline": "middle",
           "fill": {
            "value": "grey"
           },
           "font": {
            "value": "Arial"
           },
           "fontSize": {
            "value": 14
           },
           "fontStyle": {
            "value": "normal"
           },
           "fontWeight": {
            "value": "normal"
           },
           "text": {
            "signal": "active_name"
           },
           "x": {
            "mult": 0.03,
            "signal": "width"
           },
           "y": {
            "mult": 0.08,
            "signal": "height"
           }
          },
          "update": {
           "fill": {
            "signal": "scale('colorscale',active_name)"
           },
           "text": {
            "signal": "active_name"
           }
          }
         },
         "name": "net-label",
         "type": "text"
        },
        {
         "from": {
          "facet": {
           "data": "table",
           "groupby": "gid_0",
           "name": "series"
          }
         },
         "marks": [
          {
           "encode": {
            "enter": {
             "clip": {
              "value": true
             },
             "interpolate": {
              "value": "monotone"
             },
             "stroke": {
              "field": "name_0",
              "scale": "colorscale"
             },
             "tooltip": {
              "signal": "{'Country':datum.name_0,'Year':utcFormat(datum.date,'%Y'), 'Share of emissions':format(datum.value,'.1%')}"
             },
             "x": {
              "field": "date",
              "scale": "datescale"
             },
             "y": {
              "field": "value",
              "scale": "yscale"
             }
            },
            "hover": {
             "strokeOpacity": {
              "value": 1
             }
            },
            "update": {
             "strokeOpacity": {
              "signal": "datum.name_0 == active_name ? 1.0 : 0.5"
             },
             "strokeWidth": {
              "signal": "datum.name_0 == active_name ? 2.0 : 1.5"
             }
            }
           },
           "from": {
            "data": "series"
           },
           "type": "line"
          },
          {
           "encode": {
            "enter": {
             "size": {
              "signal": "width/6"
             },
             "stroke": {
              "field": "name_0",
              "scale": "colorscale"
             },
             "strokeWidth": {
              "value": 1.5
             },
             "tooltip": {
              "signal": "{'Country':datum.name_0,'Year':utcFormat(datum.date,'%Y'), 'Share of emissions':format(datum.value,'.1%')}"
             },
             "x": {
              "field": "date",
              "scale": "datescale"
             },
             "y": {
              "field": "value",
              "scale": "yscale"
             }
            },
            "hover": {
             "fill": {
              "field": "name_0",
              "scale": "colorscale"
             },
             "fillOpacity": {
              "value": 1
             }
            },
            "update": {
             "fill": {
              "value": "white"
             },
             "fillOpacity": {
              "value": 0
             },
             "strokeOpacity": {
              "signal": "datum.name_0 == active_name ? 1.0 : 0.0"
             }
            }
           },
           "from": {
            "data": "series"
           },
           "type": "symbol"
          }
         ],
         "type": "group"
        }
       ],
       "padding": 0,
       "scales": [
        {
         "domain": {
          "data": "table",
          "field": "date"
         },
         "name": "datescale",
         "range": "width",
         "type": "time"
        },
        {
         "domain": {
          "data": "table",
          "fields": [
           "value"
          ]
         },
         "name": "yscale",
         "padding": 0.1,
         "range": "height",
         "type": "linear"
        },
        {
         "domain": {
          "data": "table",
          "field": "name_0"
         },
         "name": "colorscale",
         "range": "category",
         "type": "ordinal"
        }
       ],
       "schema": "https://vega.github.io/schema/vega/v5.json",
       "signals": [
        {
         "name": "active_name",
         "on": [
          {
           "events": "*:mouseover",
           "update": "datum.name_0"
          }
         ],
         "value": ""
        }
       ],
       "width": 400
      },
      "image/png": "[encoded data removed]"
     },
     "metadata": {},
     "output_type": "display_data"
    }
   ],
   "source": [
    "spec=json.loads(\"\"\"\n",
    "{\n",
    "  \"schema\": \"https://vega.github.io/schema/vega/v5.json\",\n",
    "  \"description\": \"Share of national/territorial CO2 emissions due to maritime bunker fuels\",\n",
    "  \"width\": 400,\n",
    "  \"height\": 250,\n",
    "  \"padding\": 0,\n",
    "  \"autosize\": {\"type\": \"fit\", \"contains\": \"padding\"},\n",
    "  \"signals\": [\n",
    "    {\n",
    "      \"name\": \"active_name\",\n",
    "      \"value\": \"\",\n",
    "      \"on\": [\n",
    "        {\"events\": \"*:mouseover\", \"update\": \"datum.name_0\"}\n",
    "      ]\n",
    "    }\n",
    "  ],\n",
    "  \"data\": [\n",
    "    {\n",
    "      \"name\": \"table\",\n",
    "      \"url\": \"https://wri-rw.carto.com/api/v2/sql?q=SELECT main.gid_0, main.name_0, main.date, main.value/100.0 AS value FROM ow_widget_territory AS main INNER JOIN (SELECT gid_0, name_0, MAX(value/100.0) AS max_value FROM ow_widget_territory WHERE widget = 'shipping_emissions' GROUP BY gid_0, name_0 ORDER BY max_value DESC LIMIT 15) AS sub ON main.gid_0 = sub.gid_0 WHERE widget = 'shipping_emissions'\",\n",
    "      \"format\": {\n",
    "        \"type\": \"json\",\n",
    "        \"property\": \"rows\",\n",
    "        \"parse\": {\"date\": \"utc:'%Y-%m-%d'\"}\n",
    "      },\n",
    "      \"transform\": []\n",
    "    }\n",
    "  ],\n",
    "  \"scales\": [\n",
    "    {\n",
    "      \"name\": \"datescale\",\n",
    "      \"type\": \"time\",\n",
    "      \"domain\": {\"data\": \"table\", \"field\": \"date\"},\n",
    "      \"range\": \"width\"\n",
    "    },\n",
    "    {\n",
    "      \"name\": \"yscale\",\n",
    "      \"type\": \"linear\",\n",
    "      \"domain\": {\n",
    "        \"data\": \"table\", \n",
    "        \"fields\": [\"value\"]\n",
    "      },\n",
    "      \"range\": \"height\",\n",
    "      \"padding\": 0.1\n",
    "    },\n",
    "    {\n",
    "      \"name\": \"colorscale\",\n",
    "      \"type\": \"ordinal\",\n",
    "      \"domain\": {\n",
    "        \"data\": \"table\",\n",
    "        \"field\": \"name_0\"\n",
    "      },\n",
    "      \"range\": \"category\"\n",
    "    }\n",
    "  ],\n",
    "  \"axes\": [\n",
    "    {\n",
    "      \"orient\": \"bottom\",\n",
    "      \"scale\": \"datescale\",\n",
    "      \"domain\": true,\n",
    "      \"labelFlush\": true,\n",
    "      \"labelOverlap\": true,\n",
    "      \"labelBaseline\": \"middle\",\n",
    "      \"ticks\": true,\n",
    "      \"grid\": false,\n",
    "      \"labelFontSize\": 10,\n",
    "      \"labelFont\": \"Arial\",\n",
    "      \"labelPadding\": 7\n",
    "    },\n",
    "    {\n",
    "      \"orient\": \"left\",\n",
    "      \"scale\": \"yscale\",\n",
    "      \"domain\": true,\n",
    "      \"labelBaseline\": \"middle\",\n",
    "      \"labelAlign\": \"right\",\n",
    "      \"labelPadding\": 5,\n",
    "      \"grid\": true,\n",
    "      \"gridOpacity\": 0.2,\n",
    "      \"labelFontSize\": 10,\n",
    "      \"labelFont\": \"Arial\",\n",
    "      \"format\": \".0%\",\n",
    "      \"title\": \"Share of total CO2 emissions\"\n",
    "    }\n",
    "  ],\n",
    "  \"marks\": [\n",
    "    {\n",
    "      \"type\": \"text\",\n",
    "      \"name\": \"net-label\",\n",
    "      \"encode\": {\n",
    "        \"enter\": {\n",
    "          \"font\": {\"value\": \"Arial\"},\n",
    "          \"fontSize\": {\"value\": 14},\n",
    "          \"fontWeight\": {\"value\": \"normal\"},\n",
    "          \"fontStyle\": {\"value\": \"normal\"},\n",
    "          \"fill\": {\"value\": \"grey\"},\n",
    "          \"baseline\": \"middle\",\n",
    "          \"text\": {\n",
    "            \"signal\": \"active_name\"\n",
    "          },\n",
    "          \"x\": {\"signal\": \"width\", \"mult\": 0.03},\n",
    "          \"y\": {\"signal\": \"height\", \"mult\": 0.08}\n",
    "        },\n",
    "        \"update\": {\n",
    "          \"text\": {\n",
    "            \"signal\": \"active_name\"\n",
    "          },\n",
    "          \"fill\": {\"signal\": \"scale('colorscale',active_name)\"}\n",
    "        }\n",
    "      }\n",
    "    },\n",
    "    {\n",
    "      \"type\": \"group\",\n",
    "      \"from\": {\n",
    "        \"facet\": {\n",
    "          \"name\": \"series\",\n",
    "          \"data\": \"table\",\n",
    "          \"groupby\": \"gid_0\"\n",
    "        }\n",
    "      },\n",
    "      \"marks\": [\n",
    "        {\n",
    "          \"type\": \"line\",\n",
    "          \"from\": {\"data\": \"series\"},\n",
    "          \"encode\": {\n",
    "            \"enter\": {\n",
    "              \"x\": {\"scale\": \"datescale\", \"field\": \"date\"},\n",
    "              \"y\": {\"scale\": \"yscale\", \"field\": \"value\"},\n",
    "              \"stroke\": {\"scale\": \"colorscale\", \"field\": \"name_0\"},\n",
    "              \"clip\": {\"value\": true},\n",
    "              \"interpolate\": {\"value\": \"monotone\"},\n",
    "              \"tooltip\": {\n",
    "                \"signal\": \"{'Country':datum.name_0,'Year':utcFormat(datum.date,'%Y'), 'Share of emissions':format(datum.value,'.1%')}\"\n",
    "              }\n",
    "            },\n",
    "            \"update\": {\n",
    "              \"strokeWidth\": {\"signal\": \"datum.name_0 == active_name ? 2.0 : 1.5\"},\n",
    "              \"strokeOpacity\": {\"signal\": \"datum.name_0 == active_name ? 1.0 : 0.5\"}\n",
    "            },\n",
    "            \"hover\": {\n",
    "              \"strokeOpacity\": {\"value\": 1.0}\n",
    "            }\n",
    "          }\n",
    "        },\n",
    "        {\n",
    "          \"type\": \"symbol\",\n",
    "          \"from\": {\"data\": \"series\"},\n",
    "          \"encode\": {\n",
    "            \"enter\": {\n",
    "              \"x\": {\"scale\": \"datescale\", \"field\": \"date\"},\n",
    "              \"y\": {\"scale\": \"yscale\", \"field\": \"value\"},\n",
    "              \"stroke\": {\"scale\": \"colorscale\", \"field\": \"name_0\"},\n",
    "              \"strokeWidth\": {\"value\": 1.5},\n",
    "              \"size\": {\"signal\": \"width/6\"},\n",
    "              \"tooltip\": {\n",
    "                \"signal\": \"{'Country':datum.name_0,'Year':utcFormat(datum.date,'%Y'), 'Share of emissions':format(datum.value,'.1%')}\"\n",
    "              }\n",
    "            },\n",
    "            \"update\": {\n",
    "              \"fill\": {\"value\": \"white\"},\n",
    "              \"fillOpacity\": {\"value\": 0.0},\n",
    "              \"strokeOpacity\": {\"signal\": \"datum.name_0 == active_name ? 1.0 : 0.0\"}\n",
    "            },\n",
    "            \"hover\": {\n",
    "              \"fill\": {\"scale\": \"colorscale\", \"field\": \"name_0\"},\n",
    "              \"fillOpacity\": {\"value\": 1.0}\n",
    "            }\n",
    "          }\n",
    "        }\n",
    "      ]\n",
    "    }\n",
    "  ],\n",
    "  \"legends\": [\n",
    "  ]\n",
    "}\n",
    "\"\"\")\n",
    "vega_view=dict(spec)\n",
    "vega_view['width']=widget_width\n",
    "vega_view['height']=widget_height\n",
    "Vega(vega_view)"
   ]
  },
  {
   "cell_type": "markdown",
   "id": "a50c56c4",
   "metadata": {},
   "source": [
    "#Indicator\n",
    "\n",
    "```sql\n",
    "SELECT CASE \n",
    "    WHEN value < 1 AND value > 0 THEN '<1' \n",
    "    WHEN  value >= 1 THEN CAST(ROUND(CAST(value AS NUMERIC),2) AS TEXT)  \n",
    "    ELSE '0' END AS value \n",
    "    FROM com_038_rw0_shipping_emissions_edit \n",
    "INNER JOIN gadm36_0 gadm ON gid_0 ILIKE iso \n",
    "WHERE datetime = CAST('2018-01-01' AS date) AND {{geostore_env}} ILIKE '{{geostore_id}}'\n",
    "```\n",
    "query: [`https://wri-rw.carto.com/api/v2/sql?q=SELECT CASE WHEN value < 1 AND value > 0 THEN '<1' WHEN  value >= 1 THEN CAST(ROUND(CAST(value AS NUMERIC),2) AS TEXT) ELSE '0' END AS value  FROM com_038_rw0_shipping_emissions_edit INNER JOIN gadm36_0 gadm ON gid_0 ILIKE iso WHERE datetime = CAST('2018-01-01' AS date) AND {{geostore_env}} ILIKE '{{geostore_id}}'`](https://wri-rw.carto.com/api/v2/sql?q=SELECT%20CASE%20WHEN%20value%20%3C%201%20AND%20value%20%3E%200%20THEN%20%27%3C1%27%20WHEN%20%20value%20%3E=%201%20THEN%20CAST(ROUND(CAST(value%20AS%20NUMERIC),2)%20AS%20TEXT)%20ELSE%20%270%27%20END%20AS%20value%20%20FROM%20com_038_rw0_shipping_emissions_edit%20INNER%20JOIN%20gadm36_0%20gadm%20ON%20gid_0%20ILIKE%20iso%20WHERE%20datetime%20=%20CAST(%272018-01-01%27%20AS%20date)%20AND%20gid_0%20ILIKE%20%27AUS%27)"
   ]
  },
  {
   "cell_type": "markdown",
   "id": "09f178fe",
   "metadata": {},
   "source": [
    "# RW API"
   ]
  },
  {
   "cell_type": "markdown",
   "id": "150f1248",
   "metadata": {},
   "source": [
    "Parameterized widgets created via [widget scripts](https://github.com/resource-watch/data-team-tools/tree/master/advanced_widget_writer).  "
   ]
  },
  {
   "cell_type": "markdown",
   "id": "f81ec498",
   "metadata": {},
   "source": [
    "[com.038.rw0 Shipping Emissions](https://resourcewatch.org/data/explore/c9937085-22ec-4f8c-b819-5fa02473abdb) ([Admin](https://resourcewatch.org/admin/data/datasets/c9937085-22ec-4f8c-b819-5fa02473abdb/edit))  \n",
    "`c9937085-22ec-4f8c-b819-5fa02473abdb`  \n",
    "[Dataset](https://api.resourcewatch.org/v1/dataset/c9937085-22ec-4f8c-b819-5fa02473abdb/), [Widgets](https://api.resourcewatch.org/v1/dataset/c9937085-22ec-4f8c-b819-5fa02473abdb/widget)"
   ]
  },
  {
   "cell_type": "code",
   "execution_count": 6,
   "id": "14a10215",
   "metadata": {},
   "outputs": [],
   "source": [
    "dataset_id = 'c9937085-22ec-4f8c-b819-5fa02473abdb'\n",
    "name = 'Shipping Emissions'\n",
    "description = 'Share of national/territorial CO2 emissions due to maritime bunker fuels'"
   ]
  },
  {
   "cell_type": "markdown",
   "id": "e0ed1390",
   "metadata": {},
   "source": [
    "- [Country](https://api.resourcewatch.org/v1/widget/830f2880-527c-4272-8aaf-8ff8d87a83a8?env=production) `830f2880-527c-4272-8aaf-8ff8d87a83a8`  \n",
    "- [Global](https://api.resourcewatch.org/v1/widget/8d7a8386-9723-454e-9139-cd0fceb02d24?env=production) `8d7a8386-9723-454e-9139-cd0fceb02d24`  "
   ]
  }
 ],
 "metadata": {
  "kernelspec": {
   "display_name": "rw",
   "language": "python",
   "name": "rw"
  },
  "language_info": {
   "codemirror_mode": {
    "name": "ipython",
    "version": 3
   },
   "file_extension": ".py",
   "mimetype": "text/x-python",
   "name": "python",
   "nbconvert_exporter": "python",
   "pygments_lexer": "ipython3",
   "version": "3.7.10"
  }
 },
 "nbformat": 4,
 "nbformat_minor": 5
}
