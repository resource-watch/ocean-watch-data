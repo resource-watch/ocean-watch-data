{
 "cells": [
  {
   "cell_type": "markdown",
   "id": "fc4cfe93",
   "metadata": {},
   "source": [
    "# Shipping Emissions\n",
    "Share of total CO<sub>2</sub> emissions attributable to maritime bunker fuel, by country by year.\n",
    "\n",
    "Note that this is a parameterized widget; the specification passed to the API will not be renderable without the geostore identifier being inserted.  \n",
    "\n",
    "_Author: Peter Kerins_  \n",
    "_Created: 26 Aug 2021_  \n",
    "_Environment: jupyterlab_  "
   ]
  },
  {
   "cell_type": "markdown",
   "id": "dd4c4419",
   "metadata": {},
   "source": [
    "## Style\n",
    "- Vega chart\n",
    "- Ocean Watch country page - parameterized chart\n",
    "- Time series\n",
    "- Line chart"
   ]
  },
  {
   "cell_type": "markdown",
   "id": "9e82bda0",
   "metadata": {},
   "source": [
    "## Data\n",
    "Underlying dataset: [com.038 Shipping Emissions](https://resourcewatch.carto.com/u/wri-rw/dataset/com_038_rw0_shipping_emissions_edit)  \n",
    "Widget data: [ow_widget_territory](https://resourcewatch.carto.com/u/wri-rw/dataset/ow_widget_territory) (master table for all territory-based widgets on Ocean Watch)  "
   ]
  },
  {
   "cell_type": "markdown",
   "id": "765d1285",
   "metadata": {},
   "source": [
    "## Preparation"
   ]
  },
  {
   "cell_type": "code",
   "execution_count": 6,
   "id": "85a9869d",
   "metadata": {
    "jupyter": {
     "source_hidden": true
    }
   },
   "outputs": [],
   "source": [
    "import json\n",
    "from vega import Vega\n",
    "from IPython.display import display"
   ]
  },
  {
   "cell_type": "code",
   "execution_count": 7,
   "id": "d4800ba8",
   "metadata": {
    "jupyter": {
     "source_hidden": true
    }
   },
   "outputs": [],
   "source": [
    "def Vega(spec):\n",
    "    bundle = {}\n",
    "    bundle['application/vnd.vega.v5+json'] = spec\n",
    "    display(bundle, raw=True)"
   ]
  },
  {
   "cell_type": "code",
   "execution_count": 8,
   "id": "60e8da8c",
   "metadata": {
    "jupyter": {
     "source_hidden": true
    },
    "tags": []
   },
   "outputs": [],
   "source": [
    "widget_width = 400\n",
    "widget_height = 300"
   ]
  },
  {
   "cell_type": "markdown",
   "id": "5f4aa444",
   "metadata": {},
   "source": [
    "# County Widget"
   ]
  },
  {
   "cell_type": "markdown",
   "id": "1f4fe582",
   "metadata": {},
   "source": [
    "## Demo Query\n",
    "`gid_0 = <territory>` used as stand-in for parameterization\n",
    "```sql\n",
    "SELECT gid_0, name_0, date_part('year', datetime) as date, value \n",
    "FROM com_038_rw0_shipping_emissions_edit \n",
    "INNER JOIN gadm36_0 gadm on gid_0 = iso WHERE gadm.gid_0='CAN' ORDER BY date ASC\n",
    "```"
   ]
  },
  {
   "cell_type": "markdown",
   "id": "b9f82774",
   "metadata": {},
   "source": [
    "## Parameterized Query\n",
    "```sql\n",
    "SELECT gid_0, name_0, date_part('year', datetime) as date, value \n",
    "FROM com_038_rw0_shipping_emissions_edit \n",
    "INNER JOIN gadm36_0 gadm on gid_0 = iso WHERE gadm.{{geostore_env}}='{{geostore_id}}' ORDER BY date ASC\n",
    "```"
   ]
  },
  {
   "cell_type": "markdown",
   "id": "18b771e5",
   "metadata": {},
   "source": [
    "## Specification\n",
    "Vega code presumes RW-style `config` element present"
   ]
  },
  {
   "cell_type": "code",
   "execution_count": 9,
   "id": "b6a2ab41",
   "metadata": {},
   "outputs": [
    {
     "data": {
      "application/vnd.vega.v5+json": {
       "autosize": {
        "contains": "padding",
        "type": "fit"
       },
       "axes": [
        {
         "domain": true,
         "grid": false,
         "labelBaseline": "middle",
         "labelFlush": true,
         "labelOverlap": true,
         "labelPadding": 7,
         "orient": "bottom",
         "scale": "datescale",
         "ticks": true
        },
        {
         "domain": true,
         "format": ".2%",
         "grid": true,
         "gridOpacity": 0.2,
         "labelAlign": "right",
         "labelBaseline": "middle",
         "labelPadding": 5,
         "orient": "left",
         "scale": "yscale",
         "title": "Share of total CO₂ emissions",
         "titleFont": "Arial"
        }
       ],
       "data": [
        {
         "format": {
          "parse": {
           "date": "utc:'%Y'"
          },
          "property": "rows",
          "type": "json"
         },
         "name": "table",
         "transform": [
          {
           "as": "time",
           "expr": "utcyear(datum.date)",
           "type": "formula"
          }
         ],
         "url": "https://wri-rw.carto.com/api/v2/sql?q=SELECT gid_0, name_0, date_part('year', datetime) as date, value/100 as value FROM com_038_rw0_shipping_emissions_edit INNER JOIN gadm36_0 gadm on gid_0 = iso WHERE gadm.geostore_prod='99fb5a38372eaf2a389227fee37191c6' ORDER BY date ASC"
        }
       ],
       "description": "Share of national/territorial CO2 emissions due to maritime bunker fuels",
       "height": 300,
       "interaction_config": [
        {
         "config": {
          "fields": [
           {
            "column": "name_0",
            "format": "",
            "property": "Location",
            "type": "string"
           },
           {
            "column": "time",
            "format": "",
            "property": "Year",
            "type": "string"
           },
           {
            "column": "value",
            "format": ".2%",
            "property": "Share of emissions",
            "type": "number"
           }
          ]
         },
         "name": "tooltip"
        }
       ],
       "legends": [],
       "marks": [
        {
         "encode": {
          "enter": {
           "clip": {
            "value": true
           },
           "interpolate": {
            "value": "monotone"
           },
           "stroke": {
            "value": "#c32d7b"
           },
           "strokeWidth": {
            "value": 3
           },
           "x": {
            "field": "date",
            "scale": "datescale"
           },
           "y": {
            "field": "value",
            "scale": "yscale"
           }
          },
          "hover": {
           "strokeOpacity": {
            "value": 0.5
           }
          },
          "update": {
           "strokeOpacity": {
            "value": 1
           }
          }
         },
         "from": {
          "data": "table"
         },
         "interactive": false,
         "type": "line",
         "zindex": 0
        },
        {
         "encode": {
          "enter": {
           "fill": {
            "value": "#c32d7b"
           },
           "interpolate": {
            "value": "monotone"
           },
           "size": {
            "signal": "width/5"
           },
           "stroke": {
            "value": "white"
           },
           "strokeOpacity": {
            "value": 1
           },
           "strokeWidth": {
            "value": 3
           },
           "x": {
            "field": "date",
            "scale": "datescale"
           },
           "y": {
            "field": "value",
            "scale": "yscale"
           }
          },
          "hover": {
           "fill": {
            "value": "lightgrey"
           }
          },
          "update": {
           "fill": {
            "value": "#c32d7b"
           }
          }
         },
         "from": {
          "data": "table"
         },
         "interactive": true,
         "type": "symbol",
         "zindex": 1
        }
       ],
       "padding": 0,
       "scales": [
        {
         "domain": {
          "data": "table",
          "field": "date"
         },
         "name": "datescale",
         "range": "width",
         "type": "time"
        },
        {
         "domain": {
          "data": "table",
          "fields": [
           "value"
          ]
         },
         "name": "yscale",
         "padding": 0.1,
         "range": "height",
         "type": "linear"
        }
       ],
       "schema": "https://vega.github.io/schema/vega/v5.json",
       "signals": [],
       "width": 400
      }
     },
     "metadata": {},
     "output_type": "display_data"
    }
   ],
   "source": [
    "spec=json.loads(\"\"\"\n",
    "{\n",
    "  \"schema\": \"https://vega.github.io/schema/vega/v5.json\",\n",
    "  \"description\": \"Share of national/territorial CO2 emissions due to maritime bunker fuels\",\n",
    "  \"width\": 400,\n",
    "  \"height\": 250,\n",
    "  \"padding\": 0,\n",
    "  \"autosize\": {\n",
    "    \"type\": \"fit\",\n",
    "    \"contains\": \"padding\"\n",
    "  },\n",
    "  \"signals\": [],\n",
    "  \"data\": [\n",
    "    {\n",
    "      \"name\": \"table\",\n",
    "      \"url\": \"https://wri-rw.carto.com/api/v2/sql?q=SELECT gid_0, name_0, date_part('year', datetime) as date, value/100 as value FROM com_038_rw0_shipping_emissions_edit INNER JOIN gadm36_0 gadm on gid_0 = iso WHERE gadm.{{geostore_env}}='{{geostore_id}}' ORDER BY date ASC\",\n",
    "      \"format\": {\n",
    "        \"type\": \"json\",\n",
    "        \"property\": \"rows\",\n",
    "        \"parse\": {\n",
    "          \"date\": \"utc:'%Y'\"\n",
    "        }\n",
    "      },\n",
    "      \"transform\": [{\n",
    "          \"type\": \"formula\",\n",
    "          \"expr\": \"utcyear(datum.date)\",\n",
    "          \"as\": \"time\"\n",
    "        }]\n",
    "    }\n",
    "  ],\n",
    "  \"scales\": [\n",
    "    {\n",
    "      \"name\": \"datescale\",\n",
    "      \"type\": \"time\",\n",
    "      \"domain\": {\n",
    "        \"data\": \"table\",\n",
    "        \"field\": \"date\"\n",
    "      },\n",
    "      \"range\": \"width\"\n",
    "    },\n",
    "    {\n",
    "      \"name\": \"yscale\",\n",
    "      \"type\": \"linear\",\n",
    "      \"domain\": {\n",
    "        \"data\": \"table\",\n",
    "        \"fields\": [\n",
    "          \"value\"\n",
    "        ]\n",
    "      },\n",
    "      \"range\": \"height\",\n",
    "      \"padding\": 0.1\n",
    "    }\n",
    "  ],\n",
    "  \"axes\": [\n",
    "    {\n",
    "      \"orient\": \"bottom\",\n",
    "      \"scale\": \"datescale\",\n",
    "      \"domain\": true,\n",
    "      \"labelFlush\": true,\n",
    "      \"labelOverlap\": true,\n",
    "      \"labelBaseline\": \"middle\",\n",
    "      \"ticks\": true,\n",
    "      \"grid\": false,\n",
    "      \"labelPadding\": 7\n",
    "    },\n",
    "    {\n",
    "      \"orient\": \"left\",\n",
    "      \"scale\": \"yscale\",\n",
    "      \"domain\": true,\n",
    "      \"titleFont\": \"Lato\",\n",
    "      \"labelBaseline\": \"middle\",\n",
    "      \"labelAlign\": \"right\",\n",
    "      \"labelPadding\": 5,\n",
    "      \"grid\": true,\n",
    "      \"gridOpacity\": 0.2,\n",
    "      \"format\": \".2%\",\n",
    "      \"title\": \"Share of total CO\\u2082 emissions\"\n",
    "    }\n",
    "  ],\n",
    "  \"marks\": [\n",
    "    {\n",
    "      \"type\": \"line\",\n",
    "      \"from\": {\n",
    "        \"data\": \"table\"\n",
    "      },\n",
    "      \"interactive\": false,\n",
    "      \"zindex\": 0,\n",
    "      \"encode\": {\n",
    "        \"enter\": {\n",
    "          \"x\": {\n",
    "            \"scale\": \"datescale\",\n",
    "            \"field\": \"date\"\n",
    "          },\n",
    "          \"y\": {\n",
    "            \"scale\": \"yscale\",\n",
    "            \"field\": \"value\"\n",
    "          },\n",
    "          \"stroke\": {\n",
    "            \"value\": \"#c32d7b\"\n",
    "          },\n",
    "          \"strokeWidth\": {\n",
    "            \"value\": 3\n",
    "          },\n",
    "          \"clip\": {\n",
    "            \"value\": true\n",
    "          },\n",
    "          \"interpolate\": {\n",
    "            \"value\": \"monotone\"\n",
    "          }\n",
    "        },\n",
    "        \"update\": {\n",
    "          \"strokeOpacity\": {\n",
    "            \"value\": 1\n",
    "          }\n",
    "        },\n",
    "        \"hover\": {\n",
    "          \"strokeOpacity\": {\n",
    "            \"value\": 0.5\n",
    "          }\n",
    "        }\n",
    "      }\n",
    "    },\n",
    "     {\n",
    "          \"type\": \"symbol\",\n",
    "          \"from\": {\n",
    "            \"data\": \"table\"\n",
    "          },\n",
    "          \"interactive\": true,\n",
    "          \"zindex\": 1,\n",
    "          \"encode\": {\n",
    "            \"enter\": {\n",
    "              \"x\": {\n",
    "                \"scale\": \"datescale\",\n",
    "                \"field\": \"date\"\n",
    "              },\n",
    "              \"y\": {\n",
    "                \"scale\": \"yscale\",\n",
    "                \"field\": \"value\"\n",
    "              },\n",
    "               \"fill\": {\n",
    "                \"value\": \"#c32d7b\"\n",
    "              },\n",
    "              \"stroke\": {\n",
    "                \"value\": \"white\"\n",
    "              },\n",
    "              \"strokeWidth\": {\n",
    "                \"value\": 3\n",
    "              },\n",
    "              \"size\": {\n",
    "                \"signal\": \"width/5\"\n",
    "              },\n",
    "              \"interpolate\": {\n",
    "                \"value\": \"monotone\"\n",
    "              },\n",
    "              \"strokeOpacity\": {\n",
    "                \"value\": 1\n",
    "              }\n",
    "            },\n",
    "            \"update\": {\n",
    "              \"fill\": {\n",
    "                \"value\":\"#c32d7b\"\n",
    "              }\n",
    "            },\n",
    "            \"hover\": {\n",
    "              \"fill\": {\n",
    "                \"value\": \"lightgrey\"\n",
    "              }\n",
    "            }\n",
    "          }\n",
    "    }\n",
    "  ],\n",
    "  \"legends\": [],\n",
    "   \"interaction_config\": [\n",
    "    {\n",
    "      \"name\": \"tooltip\",\n",
    "      \"config\": {\n",
    "        \"fields\": [\n",
    "          {\n",
    "            \"column\": \"name_0\",\n",
    "            \"property\": \"Location\",\n",
    "            \"type\": \"string\",\n",
    "            \"format\": \"\"\n",
    "          },\n",
    "          {\n",
    "            \"column\": \"time\",\n",
    "            \"property\": \"Year\",\n",
    "            \"type\": \"string\",\n",
    "            \"format\": \"\"\n",
    "          },\n",
    "          {\n",
    "            \"column\": \"value\",\n",
    "            \"property\": \"Share of emissions\",\n",
    "            \"type\": \"number\",\n",
    "            \"format\": \".2%\"\n",
    "          }\n",
    "        ]\n",
    "      }\n",
    "    }\n",
    "  ]\n",
    "}\n",
    "\"\"\")\n",
    "vega_view=dict(spec)\n",
    "vega_view['width']=widget_width\n",
    "vega_view['height']=widget_height\n",
    "vega_view['data'][0]['url']= vega_view['data'][0]['url'].replace('{{geostore_env}}','geostore_prod').replace('{{geostore_id}}','99fb5a38372eaf2a389227fee37191c6')\n",
    "vega_view['axes'][1]['titleFont'] = 'Arial'\n",
    "Vega(vega_view)"
   ]
  },
  {
   "cell_type": "markdown",
   "id": "45647e49",
   "metadata": {},
   "source": [
    "# Global Widget"
   ]
  },
  {
   "cell_type": "markdown",
   "id": "265ed977",
   "metadata": {},
   "source": [
    "## Queries\n",
    "\n",
    "Identifying \"top\" countries to reduce clutter (here limited to 15 countries)\n",
    "```sql\n",
    "SELECT gid_0, name_0, date_part('year', datetime) as date, main.value/100.0 AS value \n",
    "  FROM com_038_rw0_shipping_emissions_edit AS main \n",
    "INNER JOIN (SELECT gid_0, name_0, MAX(value/100.0) AS max_value FROM com_038_rw0_shipping_emissions_edit\n",
    "            INNER JOIN gadm36_0 ON gid_0 = iso\n",
    "            GROUP BY gid_0, name_0 ORDER BY max_value DESC LIMIT 15) AS sub ON main.iso = sub.gid_0\n",
    "```\n",
    "```"
   ]
  },
  {
   "cell_type": "markdown",
   "id": "1ea7a2b2",
   "metadata": {},
   "source": [
    "## Specification\n",
    "Vega code presumes RW-style `config` element present"
   ]
  },
  {
   "cell_type": "code",
   "execution_count": 13,
   "id": "3be4e2c8",
   "metadata": {},
   "outputs": [
    {
     "data": {
      "application/vnd.vega.v5+json": {
       "autosize": {
        "contains": "padding",
        "type": "fit"
       },
       "axes": [
        {
         "domain": true,
         "grid": false,
         "labelBaseline": "middle",
         "labelFlush": true,
         "labelOverlap": true,
         "labelPadding": 7,
         "orient": "bottom",
         "scale": "datescale",
         "ticks": true,
         "titleFont": "Lato"
        },
        {
         "domain": true,
         "format": ".0%",
         "grid": true,
         "gridOpacity": 0.2,
         "labelAlign": "right",
         "labelBaseline": "middle",
         "labelPadding": 5,
         "orient": "left",
         "scale": "yscale",
         "title": "Share of total CO₂ emissions",
         "titleFont": "Arial"
        }
       ],
       "data": [
        {
         "format": {
          "parse": {
           "date": "utc:'%Y'"
          },
          "property": "rows",
          "type": "json"
         },
         "name": "table",
         "transform": [
          {
           "as": "time",
           "expr": "utcyear(datum.date)",
           "type": "formula"
          }
         ],
         "url": "https://wri-rw.carto.com/api/v2/sql?q=SELECT gid_0, name_0, date_part('year', datetime) as date, main.value/100.0 AS value FROM com_038_rw0_shipping_emissions_edit AS main INNER JOIN (SELECT gid_0, name_0, MAX(value/100.0) AS max_value FROM com_038_rw0_shipping_emissions_edit INNER JOIN gadm36_0 ON gid_0 = iso GROUP BY gid_0, name_0 ORDER BY max_value DESC LIMIT 15) AS sub ON main.iso = sub.gid_0"
        }
       ],
       "description": "Share of national/territorial CO2 emissions due to maritime bunker fuels",
       "height": 300,
       "interaction_config": [
        {
         "config": {
          "fields": [
           {
            "column": "name_0",
            "format": "",
            "property": "Location",
            "type": "string"
           },
           {
            "column": "time",
            "format": "",
            "property": "Year",
            "type": "string"
           },
           {
            "column": "value",
            "format": ".0%",
            "property": "Share of emissions",
            "type": "number"
           }
          ]
         },
         "name": "tooltip"
        }
       ],
       "legends": [],
       "marks": [
        {
         "encode": {
          "enter": {
           "baseline": "middle",
           "fill": {
            "value": "grey"
           },
           "font": {
            "value": "Arial"
           },
           "fontSize": {
            "value": 14
           },
           "fontStyle": {
            "value": "normal"
           },
           "fontWeight": {
            "value": "normal"
           },
           "text": {
            "signal": "active_name"
           },
           "x": {
            "mult": 0.03,
            "signal": "width"
           },
           "y": {
            "mult": 0.08,
            "signal": "height"
           }
          },
          "update": {
           "fill": {
            "signal": "scale('colorscale',active_name)"
           },
           "text": {
            "signal": "active_name"
           }
          }
         },
         "name": "net-label",
         "type": "text"
        },
        {
         "from": {
          "facet": {
           "data": "table",
           "groupby": "gid_0",
           "name": "series"
          }
         },
         "marks": [
          {
           "encode": {
            "enter": {
             "clip": {
              "value": true
             },
             "interpolate": {
              "value": "monotone"
             },
             "stroke": {
              "field": "name_0",
              "scale": "colorscale"
             },
             "tooltip": {
              "signal": "{'Country':datum.name_0,'Year':utcFormat(datum.date,'%Y'), 'Share of emissions':format(datum.value,'.1%')}"
             },
             "x": {
              "field": "date",
              "scale": "datescale"
             },
             "y": {
              "field": "value",
              "scale": "yscale"
             }
            },
            "hover": {
             "strokeOpacity": {
              "value": 1
             }
            },
            "update": {
             "strokeOpacity": {
              "signal": "datum.name_0 == active_name ? 1.0 : 0.5"
             },
             "strokeWidth": {
              "signal": "datum.name_0 == active_name ? 2.0 : 1.5"
             }
            }
           },
           "from": {
            "data": "series"
           },
           "type": "line"
          },
          {
           "encode": {
            "enter": {
             "size": {
              "signal": "width/6"
             },
             "stroke": {
              "field": "name_0",
              "scale": "colorscale"
             },
             "strokeWidth": {
              "value": 1.5
             },
             "x": {
              "field": "date",
              "scale": "datescale"
             },
             "y": {
              "field": "value",
              "scale": "yscale"
             }
            },
            "hover": {
             "fill": {
              "field": "name_0",
              "scale": "colorscale"
             },
             "fillOpacity": {
              "value": 1
             }
            },
            "update": {
             "fill": {
              "value": "white"
             },
             "fillOpacity": {
              "value": 0
             },
             "strokeOpacity": {
              "signal": "datum.name_0 == active_name ? 1.0 : 0.0"
             }
            }
           },
           "from": {
            "data": "series"
           },
           "type": "symbol"
          }
         ],
         "type": "group"
        }
       ],
       "padding": 0,
       "scales": [
        {
         "domain": {
          "data": "table",
          "field": "date"
         },
         "name": "datescale",
         "range": "width",
         "type": "time"
        },
        {
         "domain": {
          "data": "table",
          "fields": [
           "value"
          ]
         },
         "name": "yscale",
         "padding": 0.1,
         "range": "height",
         "type": "linear"
        },
        {
         "domain": {
          "data": "table",
          "field": "name_0"
         },
         "name": "colorscale",
         "range": "category",
         "type": "ordinal"
        }
       ],
       "schema": "https://vega.github.io/schema/vega/v5.json",
       "signals": [
        {
         "name": "active_name",
         "on": [
          {
           "events": "*:mouseover",
           "update": "datum.name_0"
          }
         ],
         "value": ""
        }
       ],
       "width": 400
      }
     },
     "metadata": {},
     "output_type": "display_data"
    }
   ],
   "source": [
    "spec=json.loads(\"\"\"\n",
    "{\n",
    "  \"schema\": \"https://vega.github.io/schema/vega/v5.json\",\n",
    "  \"description\": \"Share of national/territorial CO2 emissions due to maritime bunker fuels\",\n",
    "  \"width\": 400,\n",
    "  \"height\": 250,\n",
    "  \"padding\": 0,\n",
    "  \"autosize\": {\n",
    "    \"type\": \"fit\",\n",
    "    \"contains\": \"padding\"\n",
    "  },\n",
    "  \"signals\": [\n",
    "    {\n",
    "      \"name\": \"active_name\",\n",
    "      \"value\": \"\",\n",
    "      \"on\": [\n",
    "        {\n",
    "          \"events\": \"*:mouseover\",\n",
    "          \"update\": \"datum.name_0\"\n",
    "        }\n",
    "      ]\n",
    "    }\n",
    "  ],\n",
    "  \"data\": [\n",
    "    {\n",
    "      \"name\": \"table\",\n",
    "      \"url\": \"https://wri-rw.carto.com/api/v2/sql?q=SELECT gid_0, name_0, date_part('year', datetime) as date, main.value/100.0 AS value FROM com_038_rw0_shipping_emissions_edit AS main INNER JOIN (SELECT gid_0, name_0, MAX(value/100.0) AS max_value FROM com_038_rw0_shipping_emissions_edit INNER JOIN gadm36_0 ON gid_0 = iso GROUP BY gid_0, name_0 ORDER BY max_value DESC LIMIT 15) AS sub ON main.iso = sub.gid_0\",\n",
    "      \"format\": {\n",
    "        \"type\": \"json\",\n",
    "        \"property\": \"rows\",\n",
    "        \"parse\": {\n",
    "          \"date\": \"utc:'%Y'\"\n",
    "        }\n",
    "      },\n",
    "      \"transform\": [\n",
    "        {\n",
    "            \"type\": \"formula\",\n",
    "            \"expr\": \"utcyear(datum.date)\",\n",
    "            \"as\": \"time\"\n",
    "          }\n",
    "        ]\n",
    "    }\n",
    "  ],\n",
    "  \"scales\": [\n",
    "    {\n",
    "      \"name\": \"datescale\",\n",
    "      \"type\": \"time\",\n",
    "      \"domain\": {\n",
    "        \"data\": \"table\",\n",
    "        \"field\": \"date\"\n",
    "      },\n",
    "      \"range\": \"width\"\n",
    "    },\n",
    "    {\n",
    "      \"name\": \"yscale\",\n",
    "      \"type\": \"linear\",\n",
    "      \"domain\": {\n",
    "        \"data\": \"table\",\n",
    "        \"fields\": [\n",
    "          \"value\"\n",
    "        ]\n",
    "      },\n",
    "      \"range\": \"height\",\n",
    "      \"padding\": 0.1\n",
    "    },\n",
    "    {\n",
    "      \"name\": \"colorscale\",\n",
    "      \"type\": \"ordinal\",\n",
    "      \"domain\": {\n",
    "        \"data\": \"table\",\n",
    "        \"field\": \"name_0\"\n",
    "      },\n",
    "      \"range\": \"category\"\n",
    "    }\n",
    "  ],\n",
    "  \"axes\": [\n",
    "    {\n",
    "      \"orient\": \"bottom\",\n",
    "      \"scale\": \"datescale\",\n",
    "      \"domain\": true,\n",
    "      \"titleFont\": \"Lato\",\n",
    "      \"labelFlush\": true,\n",
    "      \"labelOverlap\": true,\n",
    "      \"labelBaseline\": \"middle\",\n",
    "      \"ticks\": true,\n",
    "      \"grid\": false,\n",
    "      \"labelPadding\": 7\n",
    "    },\n",
    "    {\n",
    "      \"orient\": \"left\",\n",
    "      \"scale\": \"yscale\",\n",
    "      \"domain\": true,\n",
    "      \"labelBaseline\": \"middle\",\n",
    "      \"labelAlign\": \"right\",\n",
    "      \"labelPadding\": 5,\n",
    "      \"grid\": true,\n",
    "      \"gridOpacity\": 0.2,\n",
    "      \"format\": \".0%\",\n",
    "      \"title\": \"Share of total CO\\u2082 emissions\"\n",
    "    }\n",
    "  ],\n",
    "  \"marks\": [\n",
    "    {\n",
    "      \"type\": \"text\",\n",
    "      \"name\": \"net-label\",\n",
    "      \"encode\": {\n",
    "        \"enter\": {\n",
    "          \"font\": {\n",
    "            \"value\": \"Arial\"\n",
    "          },\n",
    "          \"fontSize\": {\n",
    "            \"value\": 14\n",
    "          },\n",
    "          \"fontWeight\": {\n",
    "            \"value\": \"normal\"\n",
    "          },\n",
    "          \"fontStyle\": {\n",
    "            \"value\": \"normal\"\n",
    "          },\n",
    "          \"fill\": {\n",
    "            \"value\": \"grey\"\n",
    "          },\n",
    "          \"baseline\": \"middle\",\n",
    "          \"text\": {\n",
    "            \"signal\": \"active_name\"\n",
    "          },\n",
    "          \"x\": {\n",
    "            \"signal\": \"width\",\n",
    "            \"mult\": 0.03\n",
    "          },\n",
    "          \"y\": {\n",
    "            \"signal\": \"height\",\n",
    "            \"mult\": 0.08\n",
    "          }\n",
    "        },\n",
    "        \"update\": {\n",
    "          \"text\": {\n",
    "            \"signal\": \"active_name\"\n",
    "          },\n",
    "          \"fill\": {\n",
    "            \"signal\": \"scale('colorscale',active_name)\"\n",
    "          }\n",
    "        }\n",
    "      }\n",
    "    },\n",
    "    {\n",
    "      \"type\": \"group\",\n",
    "      \"from\": {\n",
    "        \"facet\": {\n",
    "          \"name\": \"series\",\n",
    "          \"data\": \"table\",\n",
    "          \"groupby\": \"gid_0\"\n",
    "        }\n",
    "      },\n",
    "      \"marks\": [\n",
    "        {\n",
    "          \"type\": \"line\",\n",
    "          \"from\": {\n",
    "            \"data\": \"series\"\n",
    "          },\n",
    "          \"encode\": {\n",
    "            \"enter\": {\n",
    "              \"x\": {\n",
    "                \"scale\": \"datescale\",\n",
    "                \"field\": \"date\"\n",
    "              },\n",
    "              \"y\": {\n",
    "                \"scale\": \"yscale\",\n",
    "                \"field\": \"value\"\n",
    "              },\n",
    "              \"stroke\": {\n",
    "                \"scale\": \"colorscale\",\n",
    "                \"field\": \"name_0\"\n",
    "              },\n",
    "              \"clip\": {\n",
    "                \"value\": true\n",
    "              },\n",
    "              \"interpolate\": {\n",
    "                \"value\": \"monotone\"\n",
    "              },\n",
    "              \"tooltip\": {\n",
    "                \"signal\": \"{'Country':datum.name_0,'Year':utcFormat(datum.date,'%Y'), 'Share of emissions':format(datum.value,'.1%')}\"\n",
    "              }\n",
    "            },\n",
    "            \"update\": {\n",
    "              \"strokeWidth\": {\n",
    "                \"signal\": \"datum.name_0 == active_name ? 2.0 : 1.5\"\n",
    "              },\n",
    "              \"strokeOpacity\": {\n",
    "                \"signal\": \"datum.name_0 == active_name ? 1.0 : 0.5\"\n",
    "              }\n",
    "            },\n",
    "            \"hover\": {\n",
    "              \"strokeOpacity\": {\n",
    "                \"value\": 1\n",
    "              }\n",
    "            }\n",
    "          }\n",
    "        },\n",
    "        {\n",
    "          \"type\": \"symbol\",\n",
    "          \"from\": {\n",
    "            \"data\": \"series\"\n",
    "          },\n",
    "          \"encode\": {\n",
    "            \"enter\": {\n",
    "              \"x\": {\n",
    "                \"scale\": \"datescale\",\n",
    "                \"field\": \"date\"\n",
    "              },\n",
    "              \"y\": {\n",
    "                \"scale\": \"yscale\",\n",
    "                \"field\": \"value\"\n",
    "              },\n",
    "              \"stroke\": {\n",
    "                \"scale\": \"colorscale\",\n",
    "                \"field\": \"name_0\"\n",
    "              },\n",
    "              \"strokeWidth\": {\n",
    "                \"value\": 1.5\n",
    "              },\n",
    "              \"size\": {\n",
    "                \"signal\": \"width/6\"\n",
    "              }\n",
    "            },\n",
    "            \"update\": {\n",
    "              \"fill\": {\n",
    "                \"value\": \"white\"\n",
    "              },\n",
    "              \"fillOpacity\": {\n",
    "                \"value\": 0\n",
    "              },\n",
    "              \"strokeOpacity\": {\n",
    "                \"signal\": \"datum.name_0 == active_name ? 1.0 : 0.0\"\n",
    "              }\n",
    "            },\n",
    "            \"hover\": {\n",
    "              \"fill\": {\n",
    "                \"scale\": \"colorscale\",\n",
    "                \"field\": \"name_0\"\n",
    "              },\n",
    "              \"fillOpacity\": {\n",
    "                \"value\": 1\n",
    "              }\n",
    "            }\n",
    "          }\n",
    "        }\n",
    "      ]\n",
    "    }\n",
    "  ],\n",
    "  \"legends\": [],\n",
    "   \"interaction_config\": [\n",
    "    {\n",
    "      \"name\": \"tooltip\",\n",
    "      \"config\": {\n",
    "        \"fields\": [\n",
    "          {\n",
    "            \"column\": \"name_0\",\n",
    "            \"property\": \"Location\",\n",
    "            \"type\": \"string\",\n",
    "            \"format\": \"\"\n",
    "          },\n",
    "          {\n",
    "            \"column\": \"time\",\n",
    "            \"property\": \"Year\",\n",
    "            \"type\": \"string\",\n",
    "            \"format\": \"\"\n",
    "          },\n",
    "          {\n",
    "            \"column\": \"value\",\n",
    "            \"property\": \"Share of emissions\",\n",
    "            \"type\": \"number\",\n",
    "            \"format\": \".0%\"\n",
    "          }\n",
    "        ]\n",
    "      }\n",
    "    }\n",
    "  ]\n",
    "}\n",
    "\"\"\")\n",
    "vega_view=dict(spec)\n",
    "vega_view['width']=widget_width\n",
    "vega_view['height']=widget_height\n",
    "vega_view['axes'][1]['titleFont'] = 'Arial'\n",
    "Vega(vega_view)"
   ]
  },
  {
   "cell_type": "markdown",
   "id": "a50c56c4",
   "metadata": {},
   "source": [
    "#Indicator\n",
    "\n",
    "```sql\n",
    "SELECT CASE \n",
    "    WHEN value < 1 AND value > 0 THEN '<1%25' \n",
    "    WHEN  value >= 1 THEN CONCAT(CAST(ROUND(CAST(value AS NUMERIC),2) AS TEXT), '%25')  \n",
    "    ELSE '0%25' END AS value \n",
    "    FROM com_038_rw0_shipping_emissions_edit \n",
    "INNER JOIN gadm36_0 gadm ON gid_0 ILIKE iso \n",
    "WHERE datetime = CAST('2018-01-01' AS date) AND {{geostore_env}} ILIKE '{{geostore_id}}'\n",
    "```\n",
    "query: [`https://wri-rw.carto.com/api/v2/sql?q=SELECT CASE WHEN value < 1 AND value > 0 THEN '<1%25' WHEN  value >= 1 THEN CONCAT(CAST(ROUND(CAST(value AS NUMERIC),2) AS TEXT), '%25') ELSE '0%25' END AS value FROM com_038_rw0_shipping_emissions_edit INNER JOIN gadm36_0 gadm ON gid_0 ILIKE iso WHERE datetime = CAST('2018-01-01' AS date) AND {{geostore_env}} ILIKE '{{geostore_id}}`](https://wri-rw.carto.com/api/v2/sql?q=SELECT%20CASE%20WHEN%20value%20%3C%201%20AND%20value%20%3E%200%20THEN%20%27%3C1%25%27%20WHEN%20%20value%20%3E=%201%20THEN%20CONCAT(CAST(ROUND(CAST(value%20AS%20NUMERIC),2)%20AS%20TEXT),%20%27%25%27)%20ELSE%20%270%25%27%20END%20AS%20value%20FROM%20com_038_rw0_shipping_emissions_edit%20INNER%20JOIN%20gadm36_0%20gadm%20ON%20gid_0%20ILIKE%20iso%20WHERE%20datetime%20=%20CAST(%272018-01-01%27%20AS%20date)%20AND%20%20gid_0%20ILIKE%20%27CHN%27)"
   ]
  },
  {
   "cell_type": "markdown",
   "id": "09f178fe",
   "metadata": {},
   "source": [
    "# RW API"
   ]
  },
  {
   "cell_type": "markdown",
   "id": "150f1248",
   "metadata": {},
   "source": [
    "Parameterized widgets created via [widget scripts](https://github.com/resource-watch/data-team-tools/tree/master/advanced_widget_writer).  "
   ]
  },
  {
   "cell_type": "markdown",
   "id": "f81ec498",
   "metadata": {},
   "source": [
    "[com.038.rw0 Shipping Emissions](https://resourcewatch.org/data/explore/c9937085-22ec-4f8c-b819-5fa02473abdb) ([Admin](https://resourcewatch.org/admin/data/datasets/c9937085-22ec-4f8c-b819-5fa02473abdb/edit))  \n",
    "`c9937085-22ec-4f8c-b819-5fa02473abdb`  \n",
    "[Dataset](https://api.resourcewatch.org/v1/dataset/c9937085-22ec-4f8c-b819-5fa02473abdb/), [Widgets](https://api.resourcewatch.org/v1/dataset/c9937085-22ec-4f8c-b819-5fa02473abdb/widget)"
   ]
  },
  {
   "cell_type": "code",
   "execution_count": 6,
   "id": "14a10215",
   "metadata": {},
   "outputs": [],
   "source": [
    "dataset_id = 'c9937085-22ec-4f8c-b819-5fa02473abdb'\n",
    "name = 'Shipping Emissions'\n",
    "description = 'Share of national/territorial CO2 emissions due to maritime bunker fuels'"
   ]
  },
  {
   "cell_type": "markdown",
   "id": "e0ed1390",
   "metadata": {},
   "source": [
    "- [Country](https://api.resourcewatch.org/v1/widget/830f2880-527c-4272-8aaf-8ff8d87a83a8?env=production) `830f2880-527c-4272-8aaf-8ff8d87a83a8`  \n",
    "- [Global](https://api.resourcewatch.org/v1/widget/8d7a8386-9723-454e-9139-cd0fceb02d24?env=production) `8d7a8386-9723-454e-9139-cd0fceb02d24`  "
   ]
  }
 ],
 "metadata": {
  "interpreter": {
   "hash": "ddaddeadec558af86f7229c24386d30e394b32dc3a4cc649c7f02c06d14c7e4a"
  },
  "kernelspec": {
   "display_name": "rw",
   "language": "python",
   "name": "python3"
  },
  "language_info": {
   "codemirror_mode": {
    "name": "ipython",
    "version": 3
   },
   "file_extension": ".py",
   "mimetype": "text/x-python",
   "name": "python",
   "nbconvert_exporter": "python",
   "pygments_lexer": "ipython3",
   "version": "3.7.8"
  }
 },
 "nbformat": 4,
 "nbformat_minor": 5
}
