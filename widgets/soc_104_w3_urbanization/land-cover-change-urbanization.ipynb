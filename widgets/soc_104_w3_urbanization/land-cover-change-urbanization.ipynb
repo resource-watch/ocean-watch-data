{
 "cells": [
  {
   "cell_type": "markdown",
   "id": "ff20c035",
   "metadata": {},
   "source": [
    "# Land Cover Change - Urbanization\n",
    "Change in land cover class (as defined by [Copernicus Global Land Cover](https://lcviewer.vito.be/about)): any type of land cover (excluding water) changing into built-up space. Not disaggregated.  \n",
    "\n",
    "Note that this is a parameterized widget; the specification passed to the API will not be renderable without the geostore identifier being inserted.\n",
    "\n",
    "_Author: Peter Kerins_  \n",
    "_Created: 14 Jun 2021_  \n",
    "_Environment: jupyterlab_  "
   ]
  },
  {
   "cell_type": "markdown",
   "id": "97bbe1c7",
   "metadata": {},
   "source": [
    "## Style\n",
    "- Vega chart\n",
    "- Ocean Watch country page - parameterized chart\n",
    "- Time series\n",
    "- Vertical bar"
   ]
  },
  {
   "cell_type": "markdown",
   "id": "28943108",
   "metadata": {},
   "source": [
    "## Data\n",
    "Surface areas [calculated on Google Earth Engine](https://code.earthengine.google.com/1a106a75689826e6bf7283b7d7c7f6f5); outputs combined and restructured via [Python script](../../datasets/ocn_calcs_016_land_cover_change/land-cover-change-structuring.py).  \n",
    "Carto: [ocn_calcs_016](https://resourcewatch.carto.com/u/wri-rw/dataset/ocn_calcs_016_land_cover_change_by_territory)  "
   ]
  },
  {
   "cell_type": "markdown",
   "id": "c59cf9b1",
   "metadata": {},
   "source": [
    "## Preparation"
   ]
  },
  {
   "cell_type": "code",
   "execution_count": 1,
   "id": "408b51f8",
   "metadata": {
    "jupyter": {
     "source_hidden": true
    }
   },
   "outputs": [],
   "source": [
    "import json\n",
    "from vega import Vega\n",
    "from IPython.display import display"
   ]
  },
  {
   "cell_type": "code",
   "execution_count": 2,
   "id": "ba31dbca",
   "metadata": {
    "jupyter": {
     "source_hidden": true
    }
   },
   "outputs": [],
   "source": [
    "def Vega(spec):\n",
    "    bundle = {}\n",
    "    bundle['application/vnd.vega.v5+json'] = spec\n",
    "    display(bundle, raw=True)"
   ]
  },
  {
   "cell_type": "code",
   "execution_count": 3,
   "id": "cb66399c",
   "metadata": {
    "jupyter": {
     "source_hidden": true
    },
    "tags": []
   },
   "outputs": [],
   "source": [
    "widget_width = 400\n",
    "widget_height = 300"
   ]
  },
  {
   "cell_type": "markdown",
   "id": "e237561d",
   "metadata": {},
   "source": [
    "# Widget"
   ]
  },
  {
   "cell_type": "markdown",
   "id": "e75edaeb",
   "metadata": {},
   "source": [
    "## Demo Query\n",
    "`gid_0 ILIKE <iso3>` used as stand-in for parameterized `geostore_id={{geostore_id}}` in production version\n",
    "```sql\n",
    "SELECT gadm.gid_0, gadm.name_0, variable, date, value, unit \n",
    "FROM ocn_calcs_016_land_cover_change_by_territory data INNER JOIN gadm36_0 gadm ON gadm.gid_0 = data.gid_0 \n",
    "WHERE variable = 'anyUrban' AND gadm.gid_0 ILIKE 'BRA' \n",
    "ORDER BY gadm.gid_0 ASC, date ASC, variable DESC\n",
    "```"
   ]
  },
  {
   "cell_type": "markdown",
   "id": "b2ddecef",
   "metadata": {},
   "source": [
    "## Parameterized Query\n",
    "```sql\n",
    "SELECT gadm.gid_0, gadm.name_0, variable, date, value, unit \n",
    "FROM ocn_calcs_016_land_cover_change_by_territory data INNER JOIN gadm36_0 gadm ON gadm.gid_0 = data.gid_0 \n",
    "WHERE variable = 'anyUrban' AND gadm.{{geostore_env}} ILIKE '{{geostore_id}}' \n",
    "ORDER BY gadm.gid_0 ASC, date ASC, variable DESC\n",
    "```"
   ]
  },
  {
   "cell_type": "markdown",
   "id": "38aab8bb",
   "metadata": {},
   "source": [
    "## Specification\n",
    "Code presented in notebook is already written for RW (rather than standard Vega). This does not extent to parameterization."
   ]
  },
  {
   "cell_type": "code",
   "execution_count": 4,
   "id": "8ce5001c",
   "metadata": {},
   "outputs": [
    {
     "data": {
      "application/vnd.vega.v5+json": {
       "autosize": {
        "contains": "padding",
        "resize": true,
        "type": "pad"
       },
       "axes": [
        {
         "encode": {
          "labels": {
           "enter": {},
           "hover": {
            "fill": {
             "value": "firebrick"
            }
           },
           "interactive": true,
           "update": {
            "align": {
             "value": "right"
            },
            "baseline": {
             "value": "middle"
            },
            "dx": {
             "value": 4
            },
            "fill": {
             "value": "#717171"
            }
           }
          }
         },
         "orient": "left",
         "scale": "yscale",
         "title": "Area (sq. km)"
        },
        {
         "encode": {
          "labels": {
           "enter": {},
           "hover": {
            "fill": {
             "value": "black"
            }
           },
           "interactive": true,
           "update": {
            "fill": {
             "value": "#717171"
            }
           }
          }
         },
         "labelPadding": 4,
         "orient": "bottom",
         "scale": "xscale",
         "tickSize": 0,
         "zindex": 1
        }
       ],
       "data": [
        {
         "format": {
          "property": "rows",
          "type": "json"
         },
         "name": "table",
         "transform": [],
         "url": "https://wri-rw.carto.com/api/v2/sql?q=SELECT gid_0, name_0, variable, date, value, unit FROM ow_widget_territory WHERE widget ILIKE %27land cover change: urbanization%27 AND gid_0 ILIKE %27BRA%27 ORDER BY gid_0 ASC, date ASC, variable DESC"
        }
       ],
       "height": 300,
       "interaction_config": [
        {
         "config": {
          "fields": [
           {
            "column": "value",
            "format": ",.1f",
            "property": "Area (sq. km)",
            "type": "number"
           }
          ]
         },
         "name": "tooltip"
        }
       ],
       "legends": [],
       "marks": [
        {
         "encode": {
          "enter": {
           "fill": {
            "value": "#E70000"
           },
           "width": {
            "band": 1,
            "scale": "xscale"
           },
           "x": {
            "field": "date",
            "scale": "xscale"
           },
           "y": {
            "scale": "yscale",
            "value": 0
           },
           "y2": {
            "field": "value",
            "scale": "yscale"
           }
          },
          "hover": {
           "fillOpacity": {
            "value": 0.5
           }
          },
          "update": {
           "fillOpacity": {
            "value": 1
           }
          }
         },
         "from": {
          "data": "table"
         },
         "name": "bars",
         "type": "rect"
        }
       ],
       "scales": [
        {
         "domain": {
          "data": "table",
          "field": "date"
         },
         "name": "xscale",
         "padding": 0.2,
         "range": "width",
         "type": "band"
        },
        {
         "domain": {
          "data": "table",
          "field": "value"
         },
         "name": "yscale",
         "nice": true,
         "range": "height",
         "round": true,
         "type": "linear",
         "zero": true
        }
       ],
       "signals": [
        {
         "name": "hover",
         "on": [
          {
           "events": "@cell:mouseover",
           "update": "datum"
          },
          {
           "events": "@cell:mouseout",
           "update": "null"
          }
         ],
         "value": null
        }
       ],
       "width": 400
      },
      "image/png": "[encoded data removed]"
     },
     "metadata": {},
     "output_type": "display_data"
    }
   ],
   "source": [
    "spec=json.loads(\"\"\"\n",
    "{\n",
    "  \"autosize\": {\"type\": \"pad\", \"resize\": true, \"contains\": \"padding\"},\n",
    "  \"signals\": [\n",
    "    {\n",
    "      \"name\": \"hover\",\n",
    "      \"value\": null,\n",
    "      \"on\": [\n",
    "        {\"events\": \"@cell:mouseover\", \"update\": \"datum\"},\n",
    "        {\"events\": \"@cell:mouseout\", \"update\": \"null\"}\n",
    "      ]\n",
    "    }\n",
    "  ],\n",
    "  \"data\": [\n",
    "    {\n",
    "      \"name\": \"table\",\n",
    "      \"url\": \"https://wri-rw.carto.com/api/v2/sql?q=SELECT gadm.gid_0, gadm.name_0, variable, date, value, unit FROM ocn_calcs_016_land_cover_change_by_territory data INNER JOIN gadm36_0 gadm ON gadm.gid_0 = data.gid_0 WHERE variable = 'anyUrban' AND gadm.{{geostore_env}} ILIKE '{{geostore_id}}' ORDER BY gadm.gid_0 ASC, date ASC, variable DESC\",\n",
    "      \"format\": {\n",
    "        \"type\": \"json\", \"property\": \"rows\"\n",
    "      },\n",
    "      \"transform\": [\n",
    "      ]\n",
    "    }\n",
    "  ],\n",
    "  \"scales\": [\n",
    "    {\n",
    "      \"name\": \"xscale\",\n",
    "      \"type\": \"band\",\n",
    "      \"domain\": {\"data\": \"table\", \"field\": \"date\"},\n",
    "      \"range\": \"width\",\n",
    "      \"padding\": 0.2\n",
    "    },\n",
    "    {\n",
    "      \"name\": \"yscale\",\n",
    "      \"type\": \"linear\",\n",
    "      \"domain\": {\"data\": \"table\", \"field\": \"value\"},\n",
    "      \"range\": \"height\",\n",
    "      \"round\": true,\n",
    "      \"zero\": true,\n",
    "      \"nice\": true\n",
    "    }\n",
    "  ],\n",
    "  \"axes\": [\n",
    "    {\n",
    "      \"orient\": \"left\",\n",
    "      \"scale\": \"yscale\",\n",
    "      \"title\": \"Area (sq. km)\",\n",
    "      \"titleFont\": \"Lato\",\n",
    "      \"encode\": {\n",
    "        \"labels\": {\n",
    "          \"interactive\": false,\n",
    "          \"enter\": {\n",
    "          },\n",
    "          \"update\": {\n",
    "            \"align\": {\"value\": \"right\"},\n",
    "            \"baseline\": {\"value\": \"middle\"},\n",
    "            \"dx\": {\"value\": 4},\n",
    "            \"fill\": {\"value\": \"#717171\"}\n",
    "          },\n",
    "          \"hover\": {\"fill\": {\"value\": \"firebrick\"}}\n",
    "        }\n",
    "      }\n",
    "    },\n",
    "    {\n",
    "      \"orient\": \"bottom\",\n",
    "      \"scale\": \"xscale\",\n",
    "      \"tickSize\": 0,\n",
    "      \"labelPadding\": 4,\n",
    "      \"zindex\": 1,\n",
    "      \"encode\": {\n",
    "        \"labels\": {\n",
    "          \"interactive\": true,\n",
    "          \"enter\": {\n",
    "          },\n",
    "          \"update\": {\n",
    "            \"fill\": {\"value\": \"#717171\"}\n",
    "          },\n",
    "          \"hover\": {\n",
    "            \"fill\": {\n",
    "              \"value\": \"black\"\n",
    "            }\n",
    "          }\n",
    "        }\n",
    "      }\n",
    "    }\n",
    "  ],\n",
    "  \"marks\": [\n",
    "    {\n",
    "      \"name\": \"bars\",\n",
    "      \"from\": {\"data\": \"table\"},\n",
    "      \"type\": \"rect\",\n",
    "      \"encode\": {\n",
    "        \"enter\": {\n",
    "          \"x\": {\"scale\": \"xscale\", \"field\": \"date\"},\n",
    "          \"width\": {\"scale\": \"xscale\", \"band\": 1},\n",
    "          \"y\": {\"scale\": \"yscale\", \"value\": 0},\n",
    "          \"y2\": {\"scale\": \"yscale\", \"field\": \"value\"},\n",
    "          \"fill\": {\"value\": \"#E70000\"}\n",
    "        },\n",
    "        \"hover\": {\"fillOpacity\": {\"value\": 0.5}},\n",
    "        \"update\": {\"fillOpacity\": {\"value\": 1}}\n",
    "      }\n",
    "    }\n",
    "  ],\n",
    "  \"legends\": [\n",
    "  ],\n",
    "  \"interaction_config\": [\n",
    "    {\n",
    "      \"name\": \"tooltip\",\n",
    "      \"config\": {\n",
    "        \"fields\": [\n",
    "          {\n",
    "            \"column\": \"value\",\n",
    "            \"property\": \"Area (sq. km)\",\n",
    "            \"type\": \"number\",\n",
    "            \"format\": \",.1f\"\n",
    "          }\n",
    "        ]\n",
    "      }\n",
    "    }\n",
    "  ]\n",
    "}\n",
    "\"\"\")\n",
    "vega_view=dict(spec)\n",
    "vega_view['width']=widget_width\n",
    "vega_view['height']=widget_height\n",
    "Vega(vega_view)"
   ]
  },
  {
   "cell_type": "markdown",
   "id": "0df19649",
   "metadata": {},
   "source": [
    "# RW API\n",
    "Parent dataset [soc.104.rw0 Global Land Cover](https://resourcewatch.org/data/explore/Global-Land-Cover-UN-FAO-LCCS-Classification) ([Admin](https://resourcewatch.org/admin/data/datasets/b2f00f99-46ed-43e6-a7a1-a5809d9369d4/edit))    \n",
    "[API ID](https://api.resourcewatch.org/v1/dataset/b2f00f99-46ed-43e6-a7a1-a5809d9369d4/) `b2f00f99-46ed-43e6-a7a1-a5809d9369d4`  \n",
    "[Widgets](https://api.resourcewatch.org/v1/dataset/b2f00f99-46ed-43e6-a7a1-a5809d9369d4/widget)"
   ]
  },
  {
   "cell_type": "markdown",
   "id": "9ca97fc0",
   "metadata": {},
   "source": [
    "Widgets created via [widget scripts](https://github.com/resource-watch/data-team-tools/tree/master/advanced_widget_writer).  "
   ]
  },
  {
   "cell_type": "markdown",
   "id": "508a9f27",
   "metadata": {},
   "source": [
    "## Example: Brazil"
   ]
  },
  {
   "cell_type": "code",
   "execution_count": 2,
   "id": "64ba2903",
   "metadata": {},
   "outputs": [],
   "source": [
    "dataset_id = 'b2f00f99-46ed-43e6-a7a1-a5809d9369d4'\n",
    "name = 'Land Cover Change in Brazil, 2015–2019: Urbanization'\n",
    "description = 'Area of land that transitioned to built-up, year on year'"
   ]
  },
  {
   "cell_type": "markdown",
   "id": "d0ddcb53",
   "metadata": {},
   "source": [
    "- [Brazil](https://api.resourcewatch.org/v1/widget/6010a72c-3b62-4076-abd7-f4921f6f4605?env=production) `6010a72c-3b62-4076-abd7-f4921f6f4605`  "
   ]
  },
  {
   "cell_type": "markdown",
   "id": "70666241",
   "metadata": {},
   "source": [
    "## Parameterized Version"
   ]
  },
  {
   "cell_type": "code",
   "execution_count": null,
   "id": "408d8f6c",
   "metadata": {},
   "outputs": [],
   "source": [
    "dataset_id = 'b2f00f99-46ed-43e6-a7a1-a5809d9369d4'\n",
    "name = 'Urbanization, 2015–2019'\n",
    "description = 'Area of land that transitioned to built-up, year on year'"
   ]
  },
  {
   "cell_type": "markdown",
   "id": "ee526745",
   "metadata": {},
   "source": [
    "- [Country Page](https://api.resourcewatch.org/v1/widget/b8e454be-9a0f-4a8f-8e92-3d7b0fd6423f?env=production) `b8e454be-9a0f-4a8f-8e92-3d7b0fd6423f`  "
   ]
  }
 ],
 "metadata": {
  "kernelspec": {
   "display_name": "Python 3 (ipykernel)",
   "language": "python",
   "name": "python3"
  },
  "language_info": {
   "codemirror_mode": {
    "name": "ipython",
    "version": 3
   },
   "file_extension": ".py",
   "mimetype": "text/x-python",
   "name": "python",
   "nbconvert_exporter": "python",
   "pygments_lexer": "ipython3",
   "version": "3.7.8"
  }
 },
 "nbformat": 4,
 "nbformat_minor": 5
}
