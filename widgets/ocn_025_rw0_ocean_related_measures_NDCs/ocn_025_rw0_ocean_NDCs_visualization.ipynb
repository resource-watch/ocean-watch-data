{
 "cells": [
  {
   "cell_type": "markdown",
   "metadata": {},
   "source": [
    "# Ocean Related NDCs"
   ]
  },
  {
   "cell_type": "markdown",
   "metadata": {},
   "source": [
    "A radial pie chart chart displaying whether sectoral adaptation and mitigation measures have been made by each country in sub-sectors related to ocean management. For the global widget, the radius of the pie peice represents the number of countries with measures in a given sub-sector. For the global widget, the radius of the pie peice represents the number of countries with measures in a given sub-sector fit to a log scale.<br>\n",
    "\n",
    "Note that this is a parameterized widget; the specification passed to the API will not be renderable without the geostore identifier being inserted. "
   ]
  },
  {
   "cell_type": "markdown",
   "metadata": {},
   "source": [
    "*Author: Rachel Thoms\n",
    "<br>Created: 03 Sept 2021\n",
    "<br>Environment: jupyterlab*"
   ]
  },
  {
   "cell_type": "markdown",
   "metadata": {},
   "source": [
    "## Style"
   ]
  },
  {
   "cell_type": "markdown",
   "metadata": {},
   "source": [
    "- Vega chart\n",
    "- Chart type: Radial Pie Chart\n",
    "- Value: Boolean- whether a measure is specified (country level), number of measures (global level) "
   ]
  },
  {
   "cell_type": "markdown",
   "metadata": {},
   "source": [
    "## Data"
   ]
  },
  {
   "cell_type": "markdown",
   "metadata": {},
   "source": [
    "\n",
    "- Underlying dataset: [ocn_025](https://resourcewatch.carto.com/u/wri-rw/dataset/ocn_025_rw0_ocean_ndc_measures)\n",
    "- Source: [Climate Watch](https://www.climatewatchdata.org/data-explorer/ndc-content?ndc-content-categories=All%20Selected&ndc-content-countries=All%20Selected&ndc-content-indicators=All%20Selected&ndc-content-sectors=All%20Selected&page=1)"
   ]
  },
  {
   "cell_type": "markdown",
   "metadata": {},
   "source": [
    "## Preparation"
   ]
  },
  {
   "cell_type": "markdown",
   "metadata": {},
   "source": [
    "The underlying dataset was processed using a python script. See the script [here](../../datasets/ocn_025_rw0_ocean_ndcs/ocn_025_rw0_ocean_ndcs.py). TNo additional processing was executed to create the widget."
   ]
  },
  {
   "cell_type": "markdown",
   "metadata": {},
   "source": [
    "### Vega"
   ]
  },
  {
   "cell_type": "code",
   "execution_count": 35,
   "metadata": {},
   "outputs": [],
   "source": [
    "import json\n",
    "from vega import Vega\n",
    "from IPython.display import display"
   ]
  },
  {
   "cell_type": "code",
   "execution_count": 36,
   "metadata": {},
   "outputs": [],
   "source": [
    "def Vega(spec):\n",
    "    bundle = {}\n",
    "    bundle['application/vnd.vega.v5+json'] = spec\n",
    "    display(bundle, raw=True)"
   ]
  },
  {
   "cell_type": "code",
   "execution_count": 28,
   "metadata": {},
   "outputs": [],
   "source": [
    "widget_width = 500\n",
    "widget_height = 500"
   ]
  },
  {
   "cell_type": "markdown",
   "metadata": {},
   "source": [
    "## Visualization"
   ]
  },
  {
   "cell_type": "markdown",
   "metadata": {},
   "source": [
    "### Queries"
   ]
  },
  {
   "cell_type": "markdown",
   "metadata": {},
   "source": [
    "```gadm.geostore_prod ILIKE 'ca5bfde08587530e76c17fe48362a01d'``` used as stand-in for parameterized ```{{geostore_env}}='{{geostore_id}}'``` in production version"
   ]
  },
  {
   "cell_type": "markdown",
   "metadata": {},
   "source": [
    "```sql\n",
    "SELECT gid_0, name_0, sector, subsector, indicator_id, indicator_name, value, count FROM ocn_025_rw0_ocean_ndc_measures data INNER JOIN gadm36_0 gadm ON data.iso_code3 = gadm.gid_0 WHERE gadm.geostore_prod ILIKE '4c97375ec074beb743fd972130cb1d3b'\n",
    "\n",
    "```"
   ]
  },
  {
   "cell_type": "markdown",
   "metadata": {},
   "source": [
    "### Testing Widget Config"
   ]
  },
  {
   "cell_type": "markdown",
   "metadata": {},
   "source": [
    "The following vega spec is used to visualize the intended widget display in the vega editor and this notebook. Due to differences in the rendering of the custom widget editor on Resource Watch, several changes were made to this specification before adding it to Resource Watch. Please see the 2nd spec for these changes."
   ]
  },
  {
   "cell_type": "code",
   "execution_count": 49,
   "metadata": {},
   "outputs": [
    {
     "data": {
      "application/vnd.vega.v5+json": {
       "$schema": "https://vega.github.io/schema/vega/v5.json",
       "autosize": {
        "contains": "padding",
        "type": "none"
       },
       "data": [
        {
         "format": {
          "property": "rows",
          "type": "json"
         },
         "name": "data",
         "url": "https://wri-rw.carto.com/api/v2/sql?q= SELECT gid_0, name_0, sector, subsector, indicator_id, indicator_name, value, count FROM ocn_025_rw0_ocean_ndc_measures data INNER JOIN gadm36_0 gadm ON data.iso_code3 = gadm.gid_0 WHERE gid_0 ILIKE 'GLB'"
        },
        {
         "name": "key1",
         "transform": [
          {
           "as": [
            "country",
            "value",
            "category",
            "name",
            "measure"
           ],
           "fields": [
            "indicator"
           ],
           "from": "data",
           "key": "indicator_id",
           "type": "lookup",
           "values": [
            "name_0",
            "count",
            "indicator_id",
            "indicator_name",
            "value"
           ]
          },
          {
           "as": "label",
           "expr": "datum.name === 'Renewable Energy: Ocean' ? 'Renewable,Energy: Ocean' : datum.name === 'Sea-level Rise Protection' ? 'Sea-level,Rise Protection' : datum.name === 'Fisheries and Aquaculture' ? 'Fisheries and,Aquaculture': datum.name === 'Coastal Zone: General' ? 'Coastal Zone:,General' : datum.name === 'Coastal management' ? 'Coastal,Management' : datum.name === 'Coastal Fisheries' ? 'Coastal,Fisheries' :datum.name",
           "type": "formula"
          }
         ],
         "values": [
          {
           "category": "a_coastal_fisheries_auto",
           "country": "Global",
           "indicator": "a_coastal_fisheries_auto",
           "key": 0,
           "label": "Coastal,Fisheries",
           "measure": "NaN",
           "name": "Coastal Fisheries",
           "type": "Adaptation",
           "value": "0"
          },
          {
           "category": "a_coastal_zone_general_auto",
           "country": "Global",
           "indicator": "a_coastal_zone_general_auto",
           "key": 1,
           "label": "Coastal Zone:,General",
           "measure": "NaN",
           "name": "Coastal Zone: General",
           "type": "Adaptation",
           "value": "1"
          },
          {
           "category": "a_coastal_management_auto",
           "country": "Global",
           "indicator": "a_coastal_management_auto",
           "key": 2,
           "label": "Coastal,Management",
           "measure": "NaN",
           "name": "Coastal management",
           "type": "Adaptation",
           "value": "56"
          },
          {
           "category": "a_mangroves_auto",
           "country": "Global",
           "indicator": "a_mangroves_auto",
           "key": 3,
           "label": "Mangroves",
           "measure": "NaN",
           "name": "Mangroves",
           "type": "Adaptation",
           "value": "18"
          },
          {
           "category": "a_sea_level_rise_protection_auto",
           "country": "Global",
           "indicator": "a_sea_level_rise_protection_auto",
           "key": 4,
           "label": "Sea-level,Rise Protection",
           "measure": "NaN",
           "name": "Sea-level Rise Protection",
           "type": "Adaptation",
           "value": "16"
          },
          {
           "category": "a_fisheries_and_aquaculture_auto",
           "country": "Global",
           "indicator": "a_fisheries_and_aquaculture_auto",
           "key": 5,
           "label": "Fisheries and,Aquaculture",
           "measure": "NaN",
           "name": "Fisheries and Aquaculture",
           "type": "Adaptation",
           "value": "22"
          },
          {
           "category": "m_fisheries_and_aquaculture_auto",
           "country": "Global",
           "indicator": "m_fisheries_and_aquaculture_auto",
           "key": 6,
           "label": "Fisheries and,Aquaculture",
           "measure": "NaN",
           "name": "Fisheries and Aquaculture",
           "type": "Mitigation",
           "value": "2"
          },
          {
           "category": "m_renewable_energy_ocean_auto",
           "country": "Global",
           "indicator": "m_renewable_energy_ocean_auto",
           "key": 7,
           "label": "Renewable,Energy: Ocean",
           "measure": "NaN",
           "name": "Renewable Energy: Ocean",
           "type": "Mitigation",
           "value": "3"
          },
          {
           "category": "m_maritime_auto",
           "country": "Global",
           "indicator": "m_maritime_auto",
           "key": 8,
           "label": "Maritime",
           "measure": "NaN",
           "name": "Maritime",
           "type": "Mitigation",
           "value": "3"
          }
         ]
        },
        {
         "name": "key2",
         "transform": [
          {
           "as": [
            "country",
            "value",
            "category",
            "name",
            "measure"
           ],
           "fields": [
            "indicator"
           ],
           "from": "data",
           "key": "indicator_id",
           "type": "lookup",
           "values": [
            "name_0",
            "count",
            "indicator_id",
            "indicator_name",
            "value"
           ]
          }
         ],
         "values": [
          {
           "category": "a_coastal_fisheries_auto",
           "country": "Global",
           "indicator": "a_coastal_fisheries_auto",
           "key": 1,
           "measure": "NaN",
           "name": "Coastal Fisheries",
           "type": "Adaptation",
           "value": "0"
          },
          {
           "category": "a_coastal_zone_general_auto",
           "country": "Global",
           "indicator": "a_coastal_zone_general_auto",
           "key": 2,
           "measure": "NaN",
           "name": "Coastal Zone: General",
           "type": "Adaptation",
           "value": "1"
          },
          {
           "category": "a_coastal_management_auto",
           "country": "Global",
           "indicator": "a_coastal_management_auto",
           "key": 3,
           "measure": "NaN",
           "name": "Coastal management",
           "type": "Adaptation",
           "value": "56"
          },
          {
           "category": "a_mangroves_auto",
           "country": "Global",
           "indicator": "a_mangroves_auto",
           "key": 4,
           "measure": "NaN",
           "name": "Mangroves",
           "type": "Adaptation",
           "value": "18"
          },
          {
           "category": "a_sea_level_rise_protection_auto",
           "country": "Global",
           "indicator": "a_sea_level_rise_protection_auto",
           "key": 5,
           "measure": "NaN",
           "name": "Sea-level Rise Protection",
           "type": "Adaptation",
           "value": "16"
          },
          {
           "category": "a_fisheries_and_aquaculture_auto",
           "country": "Global",
           "indicator": "a_fisheries_and_aquaculture_auto",
           "key": 6,
           "measure": "NaN",
           "name": "Fisheries and Aquaculture",
           "type": "Adaptation",
           "value": "22"
          },
          {
           "category": "m_fisheries_and_aquaculture_auto",
           "country": "Global",
           "indicator": "m_fisheries_and_aquaculture_auto",
           "key": 7,
           "measure": "NaN",
           "name": "Fisheries and Aquaculture",
           "type": "Mitigation",
           "value": "2"
          },
          {
           "category": "m_renewable_energy_ocean_auto",
           "country": "Global",
           "indicator": "m_renewable_energy_ocean_auto",
           "key": 8,
           "measure": "NaN",
           "name": "Renewable Energy: Ocean",
           "type": "Mitigation",
           "value": "3"
          },
          {
           "category": "m_maritime_auto",
           "country": "Global",
           "indicator": "m_maritime_auto",
           "key": 0,
           "measure": "NaN",
           "name": "Maritime",
           "type": "Mitigation",
           "value": "3"
          }
         ]
        },
        {
         "name": "lines",
         "source": [
          "key1",
          "key2"
         ]
        },
        {
         "name": "zeros",
         "transform": [
          {
           "as": "value",
           "expr": "0",
           "type": "formula"
          },
          {
           "as": "category",
           "expr": "datum.indicator",
           "type": "formula"
          },
          {
           "as": [
            "country",
            "name",
            "measure"
           ],
           "fields": [
            "indicator"
           ],
           "from": "data",
           "key": "indicator_id",
           "type": "lookup",
           "values": [
            "name_0",
            "indicator_name",
            "value"
           ]
          }
         ],
         "values": [
          {
           "category": "a_coastal_fisheries_auto",
           "country": "Global",
           "indicator": "a_coastal_fisheries_auto",
           "key": 2,
           "measure": "NaN",
           "name": "Coastal Fisheries",
           "type": "Adaptation",
           "value": 0
          },
          {
           "category": "a_coastal_zone_general_auto",
           "country": "Global",
           "indicator": "a_coastal_zone_general_auto",
           "key": 3,
           "measure": "NaN",
           "name": "Coastal Zone: General",
           "type": "Adaptation",
           "value": 0
          },
          {
           "category": "a_coastal_management_auto",
           "country": "Global",
           "indicator": "a_coastal_management_auto",
           "key": 4,
           "measure": "NaN",
           "name": "Coastal management",
           "type": "Adaptation",
           "value": 0
          },
          {
           "category": "a_mangroves_auto",
           "country": "Global",
           "indicator": "a_mangroves_auto",
           "key": 5,
           "measure": "NaN",
           "name": "Mangroves",
           "type": "Adaptation",
           "value": 0
          },
          {
           "category": "a_sea_level_rise_protection_auto",
           "country": "Global",
           "indicator": "a_sea_level_rise_protection_auto",
           "key": 6,
           "measure": "NaN",
           "name": "Sea-level Rise Protection",
           "type": "Adaptation",
           "value": 0
          },
          {
           "category": "a_fisheries_and_aquaculture_auto",
           "country": "Global",
           "indicator": "a_fisheries_and_aquaculture_auto",
           "key": 7,
           "measure": "NaN",
           "name": "Fisheries and Aquaculture",
           "type": "Adaptation",
           "value": 0
          },
          {
           "category": "m_fisheries_and_aquaculture_auto",
           "country": "Global",
           "indicator": "m_fisheries_and_aquaculture_auto",
           "key": 8,
           "measure": "NaN",
           "name": "Fisheries and Aquaculture",
           "type": "Mitigation",
           "value": 0
          },
          {
           "category": "m_renewable_energy_ocean_auto",
           "country": "Global",
           "indicator": "m_renewable_energy_ocean_auto",
           "key": 0,
           "measure": "NaN",
           "name": "Renewable Energy: Ocean",
           "type": "Mitigation",
           "value": 0
          },
          {
           "category": "m_maritime_auto",
           "country": "Global",
           "indicator": "m_maritime_auto",
           "key": 1,
           "measure": "NaN",
           "name": "Maritime",
           "type": "Mitigation",
           "value": 0
          }
         ]
        },
        {
         "name": "table",
         "source": [
          "key1",
          "key2",
          "zeros"
         ],
         "transform": [
          {
           "as": [
            "count"
           ],
           "fields": [
            "indicator"
           ],
           "from": "key1",
           "key": "indicator",
           "type": "lookup",
           "values": [
            "value"
           ]
          }
         ]
        },
        {
         "name": "keys",
         "source": "table",
         "transform": [
          {
           "groupby": [
            "key"
           ],
           "type": "aggregate"
          }
         ]
        }
       ],
       "description": "A radar chart example, showing multiple dimensions in a radial layout.",
       "encode": {
        "enter": {
         "x": {
          "signal": "radius"
         },
         "y": {
          "signal": "radius"
         }
        }
       },
       "height": 500,
       "legends": [
        {
         "fill": "legend",
         "labelFont": {
          "value": "Arial"
         },
         "labelFontSize": {
          "value": 12
         },
         "legendX": {
          "signal": "-width/1.5"
         },
         "legendY": {
          "signal": "height/1.75"
         },
         "orient": "none"
        }
       ],
       "marks": [
        {
         "from": {
          "facet": {
           "data": "table",
           "groupby": [
            "category"
           ],
           "name": "facet"
          }
         },
         "marks": [
          {
           "encode": {
            "enter": {
             "fill": [
              {
               "test": "datum.measure === 'No Sectoral Measure Specified'",
               "value": "transparent"
              },
              {
               "field": "category",
               "scale": "mitigation",
               "test": "datum.type === 'Mitigation'"
              },
              {
               "field": "category",
               "scale": "adaptation"
              }
             ],
             "fillOpacity": {
              "value": 0.7
             },
             "interpolate": {
              "value": "linear-closed"
             },
             "stroke": [
              {
               "test": "datum.measure === 'No Sectoral Measure Specified'",
               "value": "transparent"
              },
              {
               "field": "category",
               "scale": "mitigation",
               "test": "datum.type === 'Mitigation'"
              },
              {
               "field": "category",
               "scale": "adaptation"
              }
             ],
             "strokeWidth": {
              "value": 1.5
             },
             "x": {
              "signal": "scale('radial', datum.value) * cos(scale('angular', datum.key))"
             },
             "y": {
              "signal": "scale('radial', datum.value) * sin(scale('angular', datum.key))"
             }
            }
           },
           "from": {
            "data": "facet"
           },
           "name": "category-line",
           "type": "line"
          },
          {
           "encode": {
            "enter": {
             "fill": [
              {
               "test": "datum.measure === 'No Sectoral Measure Specified'",
               "value": "transparent"
              },
              {
               "field": "category",
               "scale": "mitigation",
               "test": "datum.type === 'Mitigation'"
              },
              {
               "field": "category",
               "scale": "adaptation"
              }
             ],
             "fillOpacity": {
              "value": 0.1
             },
             "interpolate": {
              "value": "linear-closed"
             },
             "stroke": {
              "value": "transparent"
             },
             "strokeWidth": {
              "value": 1.5
             },
             "tooltip": {
              "signal": "{'Countries Represented': datum.country === 'Global' ? datum.count : datum.country}"
             },
             "x": {
              "signal": "scale('radial', datum.value) * cos(scale('angular', datum.key))"
             },
             "y": {
              "signal": "scale('radial', datum.value) * sin(scale('angular', datum.key))"
             },
             "y2": {
              "value": 0
             }
            }
           },
           "from": {
            "data": "facet"
           },
           "name": "area",
           "type": "area"
          },
          {
           "encode": {
            "enter": {
             "align": [
              {
               "test": "abs(scale('angular_text', datum.key)) > (PI / 2) ",
               "value": "right"
              },
              {
               "value": "left"
              }
             ],
             "angle": {
              "value": 0
             },
             "baseline": [
              {
               "test": "scale('angular_text', datum.key) > 0 ",
               "value": "middle"
              },
              {
               "test": "scale('angular_text', datum.key) == 0",
               "value": "middle"
              },
              {
               "value": "bottom"
              }
             ],
             "fill": {
              "value": "black"
             },
             "font": {
              "value": "Arial"
             },
             "fontSize": {
              "value": 12
             },
             "lineBreak": {
              "value": ","
             },
             "text": {
              "signal": "datum.label"
             },
             "x": {
              "signal": "(radius) * cos(scale('angular_text', datum.key))"
             },
             "y": {
              "signal": "(radius+radius/20) * sin(scale('angular_text', datum.key))"
             }
            }
           },
           "from": {
            "data": "key1"
           },
           "name": "value-text",
           "type": "text"
          }
         ],
         "name": "categories",
         "type": "group",
         "zindex": 0
        },
        {
         "encode": {
          "enter": {
           "stroke": {
            "value": "slategrey"
           },
           "strokeOpacity": {
            "value": 0.5
           },
           "strokeWidth": {
            "value": 1.5
           },
           "x": {
            "value": 0
           },
           "x2": {
            "signal": "radius * cos(scale('angular', datum.key))"
           },
           "y": {
            "value": 0
           },
           "y2": {
            "signal": "radius * sin(scale('angular', datum.key))"
           }
          }
         },
         "from": {
          "data": "keys"
         },
         "name": "radial-grid",
         "type": "rule",
         "zindex": 5
        },
        {
         "from": {
          "facet": {
           "data": "lines",
           "groupby": [
            "category"
           ],
           "name": "facet"
          }
         },
         "marks": [
          {
           "encode": {
            "enter": {
             "interpolate": {
              "value": "linear-closed"
             },
             "stroke": {
              "value": "slategrey"
             },
             "strokeOpacity": {
              "value": 0.5
             },
             "strokeWidth": {
              "value": 1.5
             },
             "x2": {
              "signal": "radius * cos(scale('angular', datum.key))"
             },
             "y2": {
              "signal": "radius * sin(scale('angular', datum.key))"
             }
            }
           },
           "from": {
            "data": "facet"
           },
           "name": "line",
           "type": "line"
          }
         ],
         "name": "out-lines",
         "type": "group",
         "zindex": 0
        }
       ],
       "padding": 75,
       "scales": [
        {
         "domain": {
          "data": "table",
          "field": "key"
         },
         "name": "angular",
         "padding": 0.5,
         "range": {
          "signal": "[-PI, PI]"
         },
         "type": "point"
        },
        {
         "domain": {
          "data": "table",
          "field": "key"
         },
         "name": "angular_text",
         "padding": 0.5,
         "range": {
          "signal": "[-PI + PI/9, PI + PI/9]"
         },
         "type": "point"
        },
        {
         "domain": {
          "data": "table",
          "field": "value"
         },
         "domainMin": 0,
         "name": "radial",
         "nice": false,
         "range": {
          "signal": "[0, radius]"
         },
         "type": "symlog",
         "zero": true
        },
        {
         "domain": {
          "data": "table",
          "field": "category"
         },
         "name": "mitigation",
         "range": [
          "#e9a81f"
         ],
         "type": "ordinal"
        },
        {
         "domain": {
          "data": "table",
          "field": "category"
         },
         "name": "adaptation",
         "range": [
          "#235487"
         ],
         "reverse": true,
         "type": "ordinal"
        },
        {
         "domain": [
          "Adaptation Measure",
          "Mitigation Measure"
         ],
         "name": "legend",
         "range": [
          "#4670A5",
          "#f5c93a"
         ],
         "type": "ordinal"
        }
       ],
       "signals": [
        {
         "name": "radius",
         "update": "width / 2"
        }
       ],
       "width": 500
      },
      "image/png": "[encoded data removed]"
     },
     "metadata": {},
     "output_type": "display_data"
    }
   ],
   "source": [
    "spec=json.loads(\"\"\"{\n",
    "  \"$schema\": \"https://vega.github.io/schema/vega/v5.json\",\n",
    "  \"description\": \"A radar chart example, showing multiple dimensions in a radial layout.\",\n",
    "  \"width\": 500,\n",
    "  \"height\": 500,\n",
    "  \"padding\": 75,\n",
    "  \"autosize\": {\"type\": \"none\", \"contains\": \"padding\"},\n",
    "\n",
    "  \"signals\": [\n",
    "    {\"name\": \"radius\", \"update\": \"width / 2\"}\n",
    "  ],\n",
    "\n",
    "   \"data\": [\n",
    "    {\n",
    "      \"name\": \"data\",\n",
    "      \"url\": \"https://wri-rw.carto.com/api/v2/sql?q= SELECT gid_0, name_0, sector, subsector, indicator_id, indicator_name, value, count FROM ocn_025_rw0_ocean_ndc_measures data INNER JOIN gadm36_0 gadm ON data.iso_code3 = gadm.gid_0 WHERE gid_0 ILIKE 'GLB'\",\n",
    "      \"format\": {\"type\": \"json\", \"property\": \"rows\"}\n",
    "    },\n",
    "    {\n",
    "    \"name\": \"key1\",\n",
    "    \"values\": [\n",
    "        {\"indicator\": \"a_coastal_fisheries_auto\", \"key\": 0, \"type\": \"Adaptation\"},\n",
    "        {\"indicator\": \"a_coastal_zone_general_auto\", \"key\": 1, \"type\": \"Adaptation\"},\n",
    "        {\"indicator\": \"a_coastal_management_auto\", \"key\": 2, \"type\": \"Adaptation\"},\n",
    "        {\"indicator\": \"a_mangroves_auto\", \"key\": 3, \"type\": \"Adaptation\"},\n",
    "        {\"indicator\": \"a_sea_level_rise_protection_auto\", \"key\": 4, \"type\": \"Adaptation\"},\n",
    "        {\"indicator\": \"a_fisheries_and_aquaculture_auto\", \"key\": 5, \"type\": \"Adaptation\"},\n",
    "        {\"indicator\": \"m_fisheries_and_aquaculture_auto\", \"key\": 6, \"type\": \"Mitigation\"},\n",
    "        {\"indicator\": \"m_renewable_energy_ocean_auto\", \"key\": 7, \"type\": \"Mitigation\"},\n",
    "        {\"indicator\": \"m_maritime_auto\", \"key\": 8, \"type\": \"Mitigation\"}\n",
    "      ],\n",
    "    \"transform\": [\n",
    "        {\n",
    "          \"as\": [\"country\",\"value\",\"category\",\"name\", \"measure\"],\n",
    "          \"fields\": [\"indicator\"],\n",
    "          \"from\": \"data\",\n",
    "          \"key\": \"indicator_id\",\n",
    "          \"type\": \"lookup\",\n",
    "          \"values\": [\"name_0\",\"count\",\"indicator_id\",\"indicator_name\", \"value\"]\n",
    "        },\n",
    "        {\n",
    "          \"type\": \"formula\",\n",
    "          \"expr\": \"datum.name === 'Renewable Energy: Ocean' ? 'Renewable,Energy: Ocean' : datum.name === 'Sea-level Rise Protection' ? 'Sea-level,Rise Protection' : datum.name === 'Fisheries and Aquaculture' ? 'Fisheries and,Aquaculture': datum.name === 'Coastal Zone: General' ? 'Coastal Zone:,General' : datum.name === 'Coastal management' ? 'Coastal,Management' : datum.name === 'Coastal Fisheries' ? 'Coastal,Fisheries' :datum.name\",\n",
    "          \"as\": \"label\"\n",
    "        }\n",
    "      ]\n",
    "    },\n",
    "    {\n",
    "    \"name\": \"key2\",\n",
    "    \"values\": [\n",
    "        {\"indicator\": \"a_coastal_fisheries_auto\", \"key\": 1, \"type\": \"Adaptation\"},\n",
    "        {\"indicator\": \"a_coastal_zone_general_auto\", \"key\": 2, \"type\": \"Adaptation\"},\n",
    "        {\"indicator\": \"a_coastal_management_auto\", \"key\": 3, \"type\": \"Adaptation\"},\n",
    "        {\"indicator\": \"a_mangroves_auto\", \"key\": 4, \"type\": \"Adaptation\"},\n",
    "        {\"indicator\": \"a_sea_level_rise_protection_auto\", \"key\": 5, \"type\": \"Adaptation\"},\n",
    "        {\"indicator\": \"a_fisheries_and_aquaculture_auto\", \"key\": 6, \"type\": \"Adaptation\"},\n",
    "        {\"indicator\": \"m_fisheries_and_aquaculture_auto\", \"key\": 7, \"type\": \"Mitigation\"},\n",
    "        {\"indicator\": \"m_renewable_energy_ocean_auto\", \"key\": 8, \"type\": \"Mitigation\"},\n",
    "        {\"indicator\": \"m_maritime_auto\", \"key\": 0, \"type\": \"Mitigation\"}\n",
    "      ],\n",
    "    \"transform\": [\n",
    "        {\n",
    "          \"as\": [\"country\",\"value\", \"category\", \"name\", \"measure\"],\n",
    "          \"fields\": [\"indicator\"],\n",
    "          \"from\": \"data\",\n",
    "          \"key\": \"indicator_id\",\n",
    "          \"type\": \"lookup\",\n",
    "          \"values\": [\"name_0\",\"count\",\"indicator_id\", \"indicator_name\", \"value\"]\n",
    "        }\n",
    "      ]\n",
    "    },\n",
    "    {\n",
    "      \"name\": \"lines\",\n",
    "      \"source\": [\"key1\",\"key2\"]\n",
    "    },\n",
    "    {\n",
    "    \"name\": \"zeros\",\n",
    "    \"values\": [\n",
    "        {\"indicator\": \"a_coastal_fisheries_auto\", \"key\": 2, \"type\": \"Adaptation\"},\n",
    "        {\"indicator\": \"a_coastal_zone_general_auto\", \"key\": 3, \"type\": \"Adaptation\"},\n",
    "        {\"indicator\": \"a_coastal_management_auto\", \"key\": 4, \"type\": \"Adaptation\"},\n",
    "        {\"indicator\": \"a_mangroves_auto\", \"key\": 5, \"type\": \"Adaptation\"},\n",
    "        {\"indicator\": \"a_sea_level_rise_protection_auto\", \"key\": 6, \"type\": \"Adaptation\"},\n",
    "        {\"indicator\": \"a_fisheries_and_aquaculture_auto\", \"key\": 7, \"type\": \"Adaptation\"},\n",
    "        {\"indicator\": \"m_fisheries_and_aquaculture_auto\", \"key\": 8, \"type\": \"Mitigation\"},\n",
    "        {\"indicator\": \"m_renewable_energy_ocean_auto\", \"key\": 0, \"type\": \"Mitigation\"},\n",
    "        {\"indicator\": \"m_maritime_auto\", \"key\": 1, \"type\": \"Mitigation\"}\n",
    "      ],\n",
    "    \"transform\": [\n",
    "        {\n",
    "          \"type\": \"formula\",\n",
    "          \"expr\": \"0\",\n",
    "          \"as\": \"value\"\n",
    "        },\n",
    "        {\n",
    "          \"type\": \"formula\",\n",
    "          \"expr\": \"datum.indicator\",\n",
    "          \"as\": \"category\"\n",
    "        },\n",
    "        {\n",
    "          \"as\": [\"country\",\"name\",\"measure\"],\n",
    "          \"fields\": [\"indicator\"],\n",
    "          \"from\": \"data\",\n",
    "          \"key\": \"indicator_id\",\n",
    "          \"type\": \"lookup\",\n",
    "          \"values\": [\"name_0\",\"indicator_name\", \"value\"]\n",
    "        }\n",
    "      ]\n",
    "    },\n",
    "    {\n",
    "      \"name\": \"table\",\n",
    "      \"source\": [\"key1\",\"key2\",\"zeros\"],\n",
    "      \"transform\": [\n",
    "        {\n",
    "          \"as\": [\"count\"],\n",
    "          \"fields\": [\"indicator\"],\n",
    "          \"from\": \"key1\",\n",
    "          \"key\": \"indicator\",\n",
    "          \"type\": \"lookup\",\n",
    "          \"values\": [\"value\"]\n",
    "        }\n",
    "      ]\n",
    "    },\n",
    "    {\n",
    "      \"name\": \"keys\",\n",
    "      \"source\": \"table\",\n",
    "      \"transform\": [\n",
    "        {\n",
    "          \"type\": \"aggregate\",\n",
    "          \"groupby\": [\"key\"]\n",
    "        }\n",
    "      ]\n",
    "    }\n",
    "  ],\n",
    "\n",
    "  \"scales\": [\n",
    "    {\n",
    "      \"name\": \"angular\",\n",
    "      \"type\": \"point\",\n",
    "      \"range\": {\"signal\": \"[-PI, PI]\"},\n",
    "      \"padding\": 0.5,\n",
    "      \"domain\": {\"data\": \"table\", \"field\": \"key\"}\n",
    "    },\n",
    "    {\n",
    "      \"name\": \"angular_text\",\n",
    "      \"type\": \"point\",\n",
    "      \"range\": {\"signal\": \"[-PI + PI/9, PI + PI/9]\"},\n",
    "      \"padding\": 0.5,\n",
    "      \"domain\": {\"data\": \"table\", \"field\": \"key\"}\n",
    "    },\n",
    "    {\n",
    "      \"name\": \"radial\",\n",
    "      \"type\": \"symlog\",\n",
    "      \"range\": {\"signal\": \"[0, radius]\"},\n",
    "      \"zero\": true,\n",
    "      \"nice\": false,\n",
    "      \"domain\": {\"data\": \"table\", \"field\": \"value\"},\n",
    "      \"domainMin\": 0\n",
    "    },\n",
    "    {\n",
    "      \"name\": \"mitigation\",\n",
    "      \"type\": \"ordinal\",\n",
    "      \"domain\": {\n",
    "        \"data\": \"table\",\n",
    "        \"field\": \"category\"\n",
    "      },\n",
    "      \"range\": [\"#e9a81f\"]\n",
    "    },\n",
    "    {\n",
    "      \"name\": \"adaptation\",\n",
    "      \"type\": \"ordinal\",\n",
    "      \"domain\": {\n",
    "        \"data\": \"table\",\n",
    "        \"field\": \"category\"\n",
    "      },\n",
    "      \"range\": [\n",
    "        \"#235487\"\n",
    "      ],\n",
    "      \"reverse\": true\n",
    "    },\n",
    "    {\n",
    "      \"name\": \"legend\",\n",
    "      \"type\": \"ordinal\",\n",
    "      \"domain\": [\n",
    "        \"Adaptation Measure\",\n",
    "        \"Mitigation Measure\"\n",
    "      ],\n",
    "      \"range\": [\n",
    "        \"#4670A5\",\n",
    "        \"#f5c93a\"\n",
    "      ]\n",
    "    }\n",
    "  ],\n",
    "\n",
    "  \"encode\": {\n",
    "    \"enter\": {\n",
    "      \"x\": {\"signal\": \"radius\"},\n",
    "      \"y\": {\"signal\": \"radius\"}\n",
    "    }\n",
    "  },\n",
    "\n",
    "  \"marks\": [\n",
    "    {\n",
    "      \"type\": \"group\",\n",
    "      \"name\": \"categories\",\n",
    "      \"zindex\": 0,\n",
    "      \"from\": {\n",
    "        \"facet\": {\"data\": \"table\", \"name\": \"facet\", \"groupby\": [\"category\"]}\n",
    "      },\n",
    "      \"marks\": [\n",
    "        {\n",
    "          \"type\": \"line\",\n",
    "          \"name\": \"category-line\",\n",
    "          \"from\": {\"data\": \"facet\"},\n",
    "          \"encode\": {\n",
    "            \"enter\": {\n",
    "              \"interpolate\": {\"value\": \"linear-closed\"},\n",
    "              \"x\": {\n",
    "                \"signal\": \"scale('radial', datum.value) * cos(scale('angular', datum.key))\"\n",
    "              },\n",
    "              \"y\": {\n",
    "                \"signal\": \"scale('radial', datum.value) * sin(scale('angular', datum.key))\"\n",
    "              },\n",
    "               \"stroke\": [\n",
    "                {\"test\":\"datum.measure === 'No Sectoral Measure Specified'\", \n",
    "                \"value\":\"transparent\"}, \n",
    "                {\"test\":\"datum.type === 'Mitigation'\", \n",
    "                \"scale\": \"mitigation\", \n",
    "                \"field\": \"category\"},\n",
    "                {\"scale\": \"adaptation\", \n",
    "                \"field\": \"category\"}\n",
    "              ],\n",
    "              \"strokeWidth\": {\"value\": 1.5},\n",
    "              \"fill\": [\n",
    "                {\"test\":\"datum.measure === 'No Sectoral Measure Specified'\", \n",
    "                \"value\":\"transparent\"}, \n",
    "                {\"test\":\"datum.type === 'Mitigation'\", \n",
    "                \"scale\": \"mitigation\", \n",
    "                \"field\": \"category\"},\n",
    "                {\"scale\": \"adaptation\", \n",
    "                \"field\": \"category\"}\n",
    "              ],\n",
    "              \"fillOpacity\": {\"value\": 0.7}\n",
    "            }\n",
    "          }\n",
    "        },\n",
    "        {\n",
    "          \"type\": \"area\",\n",
    "          \"name\": \"area\",\n",
    "          \"from\": {\"data\": \"facet\"},\n",
    "          \"encode\": {\n",
    "            \"enter\": {\n",
    "              \"interpolate\": {\"value\": \"linear-closed\"},\n",
    "              \"x\": {\"signal\": \"scale('radial', datum.value) * cos(scale('angular', datum.key))\"},\n",
    "              \"y\": {\"signal\": \"scale('radial', datum.value) * sin(scale('angular', datum.key))\"},\n",
    "              \"y2\": {\"value\": 0},\n",
    "              \"stroke\": {\"value\": \"transparent\"},\n",
    "              \"strokeWidth\": {\"value\": 1.5},\n",
    "              \"fill\": [\n",
    "                {\"test\":\"datum.measure === 'No Sectoral Measure Specified'\", \n",
    "                \"value\":\"transparent\"}, \n",
    "                {\"test\":\"datum.type === 'Mitigation'\", \n",
    "                \"scale\": \"mitigation\", \n",
    "                \"field\": \"category\"},\n",
    "                {\"scale\": \"adaptation\", \n",
    "                \"field\": \"category\"}\n",
    "              ],\n",
    "              \"fillOpacity\": {\"value\": 0.1},\n",
    "              \"tooltip\": \n",
    "              {\n",
    "              \"signal\": \"{'Countries Represented': datum.country === 'Global' ? datum.count : datum.country}\"\n",
    "              }\n",
    "            }\n",
    "          }\n",
    "        },\n",
    "         {\n",
    "          \"type\": \"text\",\n",
    "          \"name\": \"value-text\",\n",
    "          \"from\": {\"data\": \"key1\"},\n",
    "          \"encode\": {\n",
    "            \"enter\": {\n",
    "              \"x\": {\"signal\": \"(radius) * cos(scale('angular_text', datum.key))\"},\n",
    "              \"y\": {\"signal\": \"(radius+radius/20) * sin(scale('angular_text', datum.key))\"},\n",
    "              \"text\": {\"signal\": \"datum.label\"},\n",
    "              \"angle\": {\"value\": 0},\n",
    "               \"align\": [\n",
    "                {\"test\": \"abs(scale('angular_text', datum.key)) > (PI / 2) \",\n",
    "                \"value\": \"right\"},\n",
    "                {\"value\": \"left\"}\n",
    "              ],\n",
    "              \"baseline\": [\n",
    "                {\"test\": \"scale('angular_text', datum.key) > 0 \", \"value\": \"middle\"},\n",
    "                {\"test\": \"scale('angular_text', datum.key) == 0\", \"value\": \"middle\"},\n",
    "                {\"value\": \"bottom\"}\n",
    "              ],\n",
    "              \"fill\": {\"value\": \"black\"},\n",
    "              \"font\": {\"value\": \"Arial\"},\n",
    "              \"fontSize\": {\"value\": 12},\n",
    "              \"lineBreak\": {\"value\": \",\"}\n",
    "            }\n",
    "          }\n",
    "        }\n",
    "      ]\n",
    "    },\n",
    "    {\n",
    "      \"type\": \"rule\",\n",
    "      \"name\": \"radial-grid\",\n",
    "      \"from\": {\"data\": \"keys\"},\n",
    "      \"zindex\": 5,\n",
    "      \"encode\": {\n",
    "        \"enter\": {\n",
    "          \"x\": {\"value\": 0},\n",
    "          \"y\": {\"value\": 0},\n",
    "          \"x2\": {\"signal\": \"radius * cos(scale('angular', datum.key))\"},\n",
    "          \"y2\": {\"signal\": \"radius * sin(scale('angular', datum.key))\"},\n",
    "          \"stroke\": {\"value\": \"slategrey\"},\n",
    "          \"strokeWidth\": {\"value\": 1.5},\n",
    "          \"strokeOpacity\":{\"value\": 0.5}\n",
    "        }\n",
    "      }\n",
    "    },\n",
    "    {\n",
    "      \"type\": \"group\",\n",
    "      \"name\": \"out-lines\",\n",
    "      \"zindex\": 0,\n",
    "      \"from\": {\n",
    "        \"facet\": {\"data\": \"lines\", \"name\": \"facet\", \"groupby\": [\"category\"]}\n",
    "      },\n",
    "      \"marks\": [\n",
    "        {\n",
    "        \"type\": \"line\",\n",
    "        \"name\": \"line\",\n",
    "        \"from\": {\"data\": \"facet\"},\n",
    "        \"encode\": {\n",
    "          \"enter\": {\n",
    "            \"interpolate\": {\"value\": \"linear-closed\"},\n",
    "            \"x2\": {\"signal\": \"radius * cos(scale('angular', datum.key))\"},\n",
    "            \"y2\": {\"signal\": \"radius * sin(scale('angular', datum.key))\"},\n",
    "            \"stroke\": {\"value\": \"slategrey\"},\n",
    "            \"strokeWidth\": {\"value\": 1.5},\n",
    "            \"strokeOpacity\":{\"value\": 0.5}\n",
    "            }\n",
    "          }\n",
    "        }\n",
    "      ]\n",
    "    }\n",
    "  ],\n",
    "  \"legends\": [\n",
    "    {\n",
    "      \"fill\": \"legend\",\n",
    "      \"orient\": \"none\",\n",
    "      \"legendX\": {\"signal\": \"-width/1.5\"},\n",
    "      \"legendY\":{\"signal\": \"height/1.75\"},\n",
    "      \"labelFont\": {\"value\": \"Arial\"},\n",
    "      \"labelFontSize\": {\"value\": 12}\n",
    "    }\n",
    "  ]\n",
    "}\n",
    "\"\"\")\n",
    "vegaview=dict(spec)\n",
    "Vega(vegaview)"
   ]
  },
  {
   "cell_type": "markdown",
   "metadata": {},
   "source": [
    "### Resource Watch Widget Config"
   ]
  },
  {
   "cell_type": "code",
   "execution_count": 50,
   "metadata": {},
   "outputs": [],
   "source": [
    "spec=json.loads(\"\"\"{\n",
    "  \"autosize\": \"fit\",\n",
    "  \"signals\": [\n",
    "    {\n",
    "      \"name\": \"radius\",\n",
    "      \"update\": \"width / 2\"\n",
    "    }\n",
    "  ],\n",
    "  \"data\": [\n",
    "    {\n",
    "      \"name\": \"data\",\n",
    "      \"url\": \"https://wri-rw.carto.com/api/v2/sql?q= SELECT gid_0, name_0, sector, subsector, indicator_id, indicator_name, value, count FROM ocn_025_rw0_ocean_ndc_measures data INNER JOIN gadm36_0 gadm ON data.iso_code3 = gadm.gid_0 WHERE gadm.{{geostore_env}} ILIKE '{{geostore_id}}'\",\n",
    "      \"format\": {\n",
    "        \"type\": \"json\",\n",
    "        \"property\": \"rows\"\n",
    "      }\n",
    "    },\n",
    "    {\n",
    "      \"name\": \"key1\",\n",
    "      \"values\": [\n",
    "        {\n",
    "          \"indicator\": \"a_coastal_fisheries_auto\",\n",
    "          \"key\": 0,\n",
    "          \"type\": \"Adaptation\",\n",
    "          \"country\": \"Global\",\n",
    "          \"value\": \"7\",\n",
    "          \"category\": \"a_coastal_fisheries_auto\",\n",
    "          \"name\": \"Coastal fisheries\",\n",
    "          \"measure\": \"NaN\",\n",
    "          \"label\": \"Coastal fisheries\"\n",
    "        },\n",
    "        {\n",
    "          \"indicator\": \"a_coastal_zone_general_auto\",\n",
    "          \"key\": 1,\n",
    "          \"type\": \"Adaptation\",\n",
    "          \"country\": \"Global\",\n",
    "          \"value\": \"1\",\n",
    "          \"category\": \"a_coastal_zone_general_auto\",\n",
    "          \"name\": \"Coastal Zone: General\",\n",
    "          \"measure\": \"NaN\",\n",
    "          \"label\": \"Coastal Zone:,General\"\n",
    "        },\n",
    "        {\n",
    "          \"indicator\": \"a_coastal_management_auto\",\n",
    "          \"key\": 2,\n",
    "          \"type\": \"Adaptation\",\n",
    "          \"country\": \"Global\",\n",
    "          \"value\": \"56\",\n",
    "          \"category\": \"a_coastal_management_auto\",\n",
    "          \"name\": \"Coastal management\",\n",
    "          \"measure\": \"NaN\",\n",
    "          \"label\": \"Coastal,Management\"\n",
    "        },\n",
    "        {\n",
    "          \"indicator\": \"a_mangroves_auto\",\n",
    "          \"key\": 3,\n",
    "          \"type\": \"Adaptation\",\n",
    "          \"country\": \"Global\",\n",
    "          \"value\": \"18\",\n",
    "          \"category\": \"a_mangroves_auto\",\n",
    "          \"name\": \"Mangroves\",\n",
    "          \"measure\": \"NaN\",\n",
    "          \"label\": \"Mangroves\"\n",
    "        },\n",
    "        {\n",
    "          \"indicator\": \"a_sea_level_rise_protection_auto\",\n",
    "          \"key\": 4,\n",
    "          \"type\": \"Adaptation\",\n",
    "          \"country\": \"Global\",\n",
    "          \"value\": \"16\",\n",
    "          \"category\": \"a_sea_level_rise_protection_auto\",\n",
    "          \"name\": \"Sea-level Rise Protection\",\n",
    "          \"measure\": \"NaN\",\n",
    "          \"label\": \"Sea-level,Rise Protection\"\n",
    "        },\n",
    "        {\n",
    "          \"indicator\": \"a_fisheries_and_aquaculture_auto\",\n",
    "          \"key\": 5,\n",
    "          \"type\": \"Adaptation\",\n",
    "          \"country\": \"Global\",\n",
    "          \"value\": \"22\",\n",
    "          \"category\": \"a_fisheries_and_aquaculture_auto\",\n",
    "          \"name\": \"Fisheries and Aquaculture\",\n",
    "          \"measure\": \"NaN\",\n",
    "          \"label\": \"Fisheries and,Aquaculture\"\n",
    "        },\n",
    "        {\n",
    "          \"indicator\": \"m_fisheries_and_aquaculture_auto\",\n",
    "          \"key\": 6,\n",
    "          \"type\": \"Mitigation\",\n",
    "          \"country\": \"Global\",\n",
    "          \"value\": \"2\",\n",
    "          \"category\": \"m_fisheries_and_aquaculture_auto\",\n",
    "          \"name\": \"Fisheries and Aquaculture\",\n",
    "          \"measure\": \"NaN\",\n",
    "          \"label\": \"Fisheries and,Aquaculture\"\n",
    "        },\n",
    "        {\n",
    "          \"indicator\": \"m_renewable_energy_ocean_auto\",\n",
    "          \"key\": 7,\n",
    "          \"type\": \"Mitigation\",\n",
    "          \"country\": \"Global\",\n",
    "          \"value\": \"3\",\n",
    "          \"category\": \"m_renewable_energy_ocean_auto\",\n",
    "          \"name\": \"Renewable Energy: Ocean\",\n",
    "          \"measure\": \"NaN\",\n",
    "          \"label\": \"Renewable,Energy: Ocean\"\n",
    "        },\n",
    "        {\n",
    "          \"indicator\": \"m_maritime_auto\",\n",
    "          \"key\": 8,\n",
    "          \"type\": \"Mitigation\",\n",
    "          \"country\": \"Global\",\n",
    "          \"value\": \"3\",\n",
    "          \"category\": \"m_maritime_auto\",\n",
    "          \"name\": \"Maritime\",\n",
    "          \"measure\": \"NaN\",\n",
    "          \"label\": \"Maritime\"\n",
    "        }\n",
    "      ],\n",
    "      \"transform\": [\n",
    "        {\n",
    "          \"as\": [\n",
    "            \"country\",\n",
    "            \"value\",\n",
    "            \"category\",\n",
    "            \"name\",\n",
    "            \"measure\"\n",
    "          ],\n",
    "          \"fields\": [\n",
    "            \"indicator\"\n",
    "          ],\n",
    "          \"from\": \"data\",\n",
    "          \"key\": \"indicator_id\",\n",
    "          \"type\": \"lookup\",\n",
    "          \"values\": [\n",
    "            \"name_0\",\n",
    "            \"count\",\n",
    "            \"indicator_id\",\n",
    "            \"indicator_name\",\n",
    "            \"value\"\n",
    "          ]\n",
    "        },\n",
    "        {\n",
    "          \"type\": \"formula\",\n",
    "          \"expr\": \"datum.name === 'Renewable Energy: Ocean' ? 'Renewable,Energy: Ocean' : datum.name === 'Sea-level Rise Protection' ? 'Sea-level,Rise Protection' : datum.name === 'Fisheries and Aquaculture' ? 'Fisheries and,Aquaculture': datum.name === 'Coastal Zone: General' ? 'Coastal Zone:,General' : datum.name === 'Coastal management' ? 'Coastal,Management' : datum.name === 'Coastal Fisheries' ? 'Coastal,Fisheries' :datum.name\",\n",
    "          \"as\": \"label\"\n",
    "        }\n",
    "      ]\n",
    "    },\n",
    "    {\n",
    "      \"name\": \"key2\",\n",
    "      \"values\": [\n",
    "        {\n",
    "          \"indicator\": \"a_coastal_fisheries_auto\",\n",
    "          \"key\": 1,\n",
    "          \"type\": \"Adaptation\",\n",
    "          \"country\": \"Global\",\n",
    "          \"value\": \"7\",\n",
    "          \"category\": \"a_coastal_fisheries_auto\",\n",
    "          \"name\": \"Coastal fisheries\",\n",
    "          \"measure\": \"NaN\"\n",
    "        },\n",
    "        {\n",
    "          \"indicator\": \"a_coastal_zone_general_auto\",\n",
    "          \"key\": 2,\n",
    "          \"type\": \"Adaptation\",\n",
    "          \"country\": \"Global\",\n",
    "          \"value\": \"1\",\n",
    "          \"category\": \"a_coastal_zone_general_auto\",\n",
    "          \"name\": \"Coastal Zone: General\",\n",
    "          \"measure\": \"NaN\"\n",
    "        },\n",
    "        {\n",
    "          \"indicator\": \"a_coastal_management_auto\",\n",
    "          \"key\": 3,\n",
    "          \"type\": \"Adaptation\",\n",
    "          \"country\": \"Global\",\n",
    "          \"value\": \"56\",\n",
    "          \"category\": \"a_coastal_management_auto\",\n",
    "          \"name\": \"Coastal management\",\n",
    "          \"measure\": \"NaN\"\n",
    "        },\n",
    "        {\n",
    "          \"indicator\": \"a_mangroves_auto\",\n",
    "          \"key\": 4,\n",
    "          \"type\": \"Adaptation\",\n",
    "          \"country\": \"Global\",\n",
    "          \"value\": \"18\",\n",
    "          \"category\": \"a_mangroves_auto\",\n",
    "          \"name\": \"Mangroves\",\n",
    "          \"measure\": \"NaN\"\n",
    "        },\n",
    "        {\n",
    "          \"indicator\": \"a_sea_level_rise_protection_auto\",\n",
    "          \"key\": 5,\n",
    "          \"type\": \"Adaptation\",\n",
    "          \"country\": \"Global\",\n",
    "          \"value\": \"16\",\n",
    "          \"category\": \"a_sea_level_rise_protection_auto\",\n",
    "          \"name\": \"Sea-level Rise Protection\",\n",
    "          \"measure\": \"NaN\"\n",
    "        },\n",
    "        {\n",
    "          \"indicator\": \"a_fisheries_and_aquaculture_auto\",\n",
    "          \"key\": 6,\n",
    "          \"type\": \"Adaptation\",\n",
    "          \"country\": \"Global\",\n",
    "          \"value\": \"22\",\n",
    "          \"category\": \"a_fisheries_and_aquaculture_auto\",\n",
    "          \"name\": \"Fisheries and Aquaculture\",\n",
    "          \"measure\": \"NaN\"\n",
    "        },\n",
    "        {\n",
    "          \"indicator\": \"m_fisheries_and_aquaculture_auto\",\n",
    "          \"key\": 7,\n",
    "          \"type\": \"Mitigation\",\n",
    "          \"country\": \"Global\",\n",
    "          \"value\": \"2\",\n",
    "          \"category\": \"m_fisheries_and_aquaculture_auto\",\n",
    "          \"name\": \"Fisheries and Aquaculture\",\n",
    "          \"measure\": \"NaN\"\n",
    "        },\n",
    "        {\n",
    "          \"indicator\": \"m_renewable_energy_ocean_auto\",\n",
    "          \"key\": 8,\n",
    "          \"type\": \"Mitigation\",\n",
    "          \"country\": \"Global\",\n",
    "          \"value\": \"3\",\n",
    "          \"category\": \"m_renewable_energy_ocean_auto\",\n",
    "          \"name\": \"Renewable Energy: Ocean\",\n",
    "          \"measure\": \"NaN\"\n",
    "        },\n",
    "        {\n",
    "          \"indicator\": \"m_maritime_auto\",\n",
    "          \"key\": 0,\n",
    "          \"type\": \"Mitigation\",\n",
    "          \"country\": \"Global\",\n",
    "          \"value\": \"3\",\n",
    "          \"category\": \"m_maritime_auto\",\n",
    "          \"name\": \"Maritime\",\n",
    "          \"measure\": \"NaN\"\n",
    "        }\n",
    "      ],\n",
    "      \"transform\": [\n",
    "        {\n",
    "          \"as\": [\n",
    "            \"country\",\n",
    "            \"value\",\n",
    "            \"category\",\n",
    "            \"name\",\n",
    "            \"measure\"\n",
    "          ],\n",
    "          \"fields\": [\n",
    "            \"indicator\"\n",
    "          ],\n",
    "          \"from\": \"data\",\n",
    "          \"key\": \"indicator_id\",\n",
    "          \"type\": \"lookup\",\n",
    "          \"values\": [\n",
    "            \"name_0\",\n",
    "            \"count\",\n",
    "            \"indicator_id\",\n",
    "            \"indicator_name\",\n",
    "            \"value\"\n",
    "          ]\n",
    "        }\n",
    "      ]\n",
    "    },\n",
    "    {\n",
    "      \"name\": \"lines\",\n",
    "      \"source\": [\n",
    "        \"key1\",\n",
    "        \"key2\"\n",
    "      ]\n",
    "    },\n",
    "    {\n",
    "      \"name\": \"zeros\",\n",
    "      \"values\": [\n",
    "        {\n",
    "          \"indicator\": \"a_coastal_fisheries_auto\",\n",
    "          \"key\": 2,\n",
    "          \"type\": \"Adaptation\",\n",
    "          \"value\": 0,\n",
    "          \"category\": \"a_coastal_fisheries_auto\",\n",
    "          \"country\": \"Global\",\n",
    "          \"name\": \"Coastal fisheries\",\n",
    "          \"measure\": \"NaN\"\n",
    "        },\n",
    "        {\n",
    "          \"indicator\": \"a_coastal_zone_general_auto\",\n",
    "          \"key\": 3,\n",
    "          \"type\": \"Adaptation\",\n",
    "          \"value\": 0,\n",
    "          \"category\": \"a_coastal_zone_general_auto\",\n",
    "          \"country\": \"Global\",\n",
    "          \"name\": \"Coastal Zone: General\",\n",
    "          \"measure\": \"NaN\"\n",
    "        },\n",
    "        {\n",
    "          \"indicator\": \"a_coastal_management_auto\",\n",
    "          \"key\": 4,\n",
    "          \"type\": \"Adaptation\",\n",
    "          \"value\": 0,\n",
    "          \"category\": \"a_coastal_management_auto\",\n",
    "          \"country\": \"Global\",\n",
    "          \"name\": \"Coastal management\",\n",
    "          \"measure\": \"NaN\"\n",
    "        },\n",
    "        {\n",
    "          \"indicator\": \"a_mangroves_auto\",\n",
    "          \"key\": 5,\n",
    "          \"type\": \"Adaptation\",\n",
    "          \"value\": 0,\n",
    "          \"category\": \"a_mangroves_auto\",\n",
    "          \"country\": \"Global\",\n",
    "          \"name\": \"Mangroves\",\n",
    "          \"measure\": \"NaN\"\n",
    "        },\n",
    "        {\n",
    "          \"indicator\": \"a_sea_level_rise_protection_auto\",\n",
    "          \"key\": 6,\n",
    "          \"type\": \"Adaptation\",\n",
    "          \"value\": 0,\n",
    "          \"category\": \"a_sea_level_rise_protection_auto\",\n",
    "          \"country\": \"Global\",\n",
    "          \"name\": \"Sea-level Rise Protection\",\n",
    "          \"measure\": \"NaN\"\n",
    "        },\n",
    "        {\n",
    "          \"indicator\": \"a_fisheries_and_aquaculture_auto\",\n",
    "          \"key\": 7,\n",
    "          \"type\": \"Adaptation\",\n",
    "          \"value\": 0,\n",
    "          \"category\": \"a_fisheries_and_aquaculture_auto\",\n",
    "          \"country\": \"Global\",\n",
    "          \"name\": \"Fisheries and Aquaculture\",\n",
    "          \"measure\": \"NaN\"\n",
    "        },\n",
    "        {\n",
    "          \"indicator\": \"m_fisheries_and_aquaculture_auto\",\n",
    "          \"key\": 8,\n",
    "          \"type\": \"Mitigation\",\n",
    "          \"value\": 0,\n",
    "          \"category\": \"m_fisheries_and_aquaculture_auto\",\n",
    "          \"country\": \"Global\",\n",
    "          \"name\": \"Fisheries and Aquaculture\",\n",
    "          \"measure\": \"NaN\"\n",
    "        },\n",
    "        {\n",
    "          \"indicator\": \"m_renewable_energy_ocean_auto\",\n",
    "          \"key\": 0,\n",
    "          \"type\": \"Mitigation\",\n",
    "          \"value\": 0,\n",
    "          \"category\": \"m_renewable_energy_ocean_auto\",\n",
    "          \"country\": \"Global\",\n",
    "          \"name\": \"Renewable Energy: Ocean\",\n",
    "          \"measure\": \"NaN\"\n",
    "        },\n",
    "        {\n",
    "          \"indicator\": \"m_maritime_auto\",\n",
    "          \"key\": 1,\n",
    "          \"type\": \"Mitigation\",\n",
    "          \"value\": 0,\n",
    "          \"category\": \"m_maritime_auto\",\n",
    "          \"country\": \"Global\",\n",
    "          \"name\": \"Maritime\",\n",
    "          \"measure\": \"NaN\"\n",
    "        }\n",
    "      ],\n",
    "      \"transform\": [\n",
    "        {\n",
    "          \"type\": \"formula\",\n",
    "          \"expr\": \"0\",\n",
    "          \"as\": \"value\"\n",
    "        },\n",
    "        {\n",
    "          \"type\": \"formula\",\n",
    "          \"expr\": \"datum.indicator\",\n",
    "          \"as\": \"category\"\n",
    "        },\n",
    "        {\n",
    "          \"as\": [\n",
    "            \"country\",\n",
    "            \"name\",\n",
    "            \"measure\"\n",
    "          ],\n",
    "          \"fields\": [\n",
    "            \"indicator\"\n",
    "          ],\n",
    "          \"from\": \"data\",\n",
    "          \"key\": \"indicator_id\",\n",
    "          \"type\": \"lookup\",\n",
    "          \"values\": [\n",
    "            \"name_0\",\n",
    "            \"indicator_name\",\n",
    "            \"value\"\n",
    "          ]\n",
    "        }\n",
    "      ]\n",
    "    },\n",
    "    {\n",
    "      \"name\": \"table\",\n",
    "      \"source\": [\n",
    "        \"key1\",\n",
    "        \"key2\",\n",
    "        \"zeros\"\n",
    "      ],\n",
    "      \"transform\": [\n",
    "        {\n",
    "          \"as\": [\n",
    "            \"count\"\n",
    "          ],\n",
    "          \"fields\": [\n",
    "            \"indicator\"\n",
    "          ],\n",
    "          \"from\": \"key1\",\n",
    "          \"key\": \"indicator\",\n",
    "          \"type\": \"lookup\",\n",
    "          \"values\": [\n",
    "            \"value\"\n",
    "          ]\n",
    "        }\n",
    "      ]\n",
    "    },\n",
    "    {\n",
    "      \"name\": \"keys\",\n",
    "      \"source\": \"table\",\n",
    "      \"transform\": [\n",
    "        {\n",
    "          \"type\": \"aggregate\",\n",
    "          \"groupby\": [\n",
    "            \"key\"\n",
    "          ]\n",
    "        }\n",
    "      ]\n",
    "    }\n",
    "  ],\n",
    "  \"scales\": [\n",
    "    {\n",
    "      \"name\": \"angular\",\n",
    "      \"type\": \"point\",\n",
    "      \"range\": {\n",
    "        \"signal\": \"[-PI, PI]\"\n",
    "      },\n",
    "      \"padding\": 0.5,\n",
    "      \"domain\": {\n",
    "        \"data\": \"table\",\n",
    "        \"field\": \"key\"\n",
    "      }\n",
    "    },\n",
    "    {\n",
    "      \"name\": \"angular_text\",\n",
    "      \"type\": \"point\",\n",
    "      \"range\": {\n",
    "        \"signal\": \"[-PI + PI/9, PI + PI/9]\"\n",
    "      },\n",
    "      \"padding\": 0.5,\n",
    "      \"domain\": {\n",
    "        \"data\": \"table\",\n",
    "        \"field\": \"key\"\n",
    "      }\n",
    "    },\n",
    "    {\n",
    "      \"name\": \"radial\",\n",
    "      \"type\": \"symlog\",\n",
    "      \"range\": {\n",
    "        \"signal\": \"[0, radius]\"\n",
    "      },\n",
    "      \"zero\": true,\n",
    "      \"nice\": false,\n",
    "      \"domain\": {\n",
    "        \"data\": \"table\",\n",
    "        \"field\": \"value\"\n",
    "      },\n",
    "      \"domainMin\": 0\n",
    "    },\n",
    "    {\n",
    "      \"name\": \"mitigation\",\n",
    "      \"type\": \"ordinal\",\n",
    "      \"domain\": {\n",
    "        \"data\": \"table\",\n",
    "        \"field\": \"category\"\n",
    "      },\n",
    "      \"range\": [\"#e9a81f\"]\n",
    "    },\n",
    "    {\n",
    "      \"name\": \"adaptation\",\n",
    "      \"type\": \"ordinal\",\n",
    "      \"domain\": {\n",
    "        \"data\": \"table\",\n",
    "        \"field\": \"category\"\n",
    "      },\n",
    "      \"range\": [\n",
    "        \"#235487\"\n",
    "      ],\n",
    "      \"reverse\": true\n",
    "    },\n",
    "    {\n",
    "      \"name\": \"legend\",\n",
    "      \"type\": \"ordinal\",\n",
    "      \"domain\": [\n",
    "        \"Adaptation Measure\",\n",
    "        \"Mitigation Measure\"\n",
    "      ],\n",
    "      \"range\": [\n",
    "        \"#4670A5\",\n",
    "        \"#f5c93a\"\n",
    "      ]\n",
    "    }\n",
    "  ],\n",
    "  \"encode\": {\n",
    "    \"enter\": {\n",
    "      \"x\": {\n",
    "        \"signal\": \"-2*width/6\"\n",
    "      },\n",
    "      \"y\": {\n",
    "        \"signal\": \"-2*width/2.5\"\n",
    "      }\n",
    "    }\n",
    "  },\n",
    "  \"marks\": [\n",
    "    {\n",
    "      \"type\": \"group\",\n",
    "      \"name\": \"categories\",\n",
    "      \"zindex\": 0,\n",
    "      \"from\": {\n",
    "        \"facet\": {\n",
    "          \"data\": \"table\",\n",
    "          \"name\": \"facet\",\n",
    "          \"groupby\": [\n",
    "            \"category\"\n",
    "          ]\n",
    "        }\n",
    "      },\n",
    "      \"marks\": [\n",
    "        {\n",
    "          \"type\": \"line\",\n",
    "          \"name\": \"category-line\",\n",
    "          \"from\": {\n",
    "            \"data\": \"facet\"\n",
    "          },\n",
    "          \"encode\": {\n",
    "            \"enter\": {\n",
    "              \"interpolate\": {\n",
    "                \"value\": \"linear-closed\"\n",
    "              },\n",
    "              \"x\": {\n",
    "                \"signal\": \"scale('radial', datum.value) * cos(scale('angular', datum.key))\"\n",
    "              },\n",
    "              \"y\": {\n",
    "                \"signal\": \"scale('radial', datum.value) * sin(scale('angular', datum.key))\"\n",
    "              },\n",
    "              \"stroke\": [\n",
    "                {\n",
    "                  \"test\": \"datum.measure === 'No Sectoral Measure Specified'\",\n",
    "                  \"value\": \"transparent\"\n",
    "                },\n",
    "                {\n",
    "                  \"test\": \"datum.type === 'Mitigation'\",\n",
    "                  \"scale\": \"mitigation\",\n",
    "                  \"field\": \"category\"\n",
    "                },\n",
    "                {\n",
    "                  \"scale\": \"adaptation\",\n",
    "                  \"field\": \"category\"\n",
    "                }\n",
    "              ],\n",
    "              \"strokeWidth\": {\n",
    "                \"value\": 1\n",
    "              },\n",
    "              \"fill\": [\n",
    "                {\n",
    "                  \"test\": \"datum.measure === 'No Sectoral Measure Specified'\",\n",
    "                  \"value\": \"transparent\"\n",
    "                },\n",
    "                {\n",
    "                  \"test\": \"datum.type === 'Mitigation'\",\n",
    "                  \"scale\": \"mitigation\",\n",
    "                  \"field\": \"category\"\n",
    "                },\n",
    "                {\n",
    "                  \"scale\": \"adaptation\",\n",
    "                  \"field\": \"category\"\n",
    "                }\n",
    "              ],\n",
    "              \"fillOpacity\": {\n",
    "                \"value\": 0.9\n",
    "              }\n",
    "            }\n",
    "          }\n",
    "        },\n",
    "        {\n",
    "          \"type\": \"area\",\n",
    "          \"name\": \"area\",\n",
    "          \"from\": {\n",
    "            \"data\": \"facet\"\n",
    "          },\n",
    "          \"encode\": {\n",
    "            \"enter\": {\n",
    "              \"interpolate\": {\n",
    "                \"value\": \"linear-closed\"\n",
    "              },\n",
    "              \"x\": {\n",
    "                \"signal\": \"scale('radial', datum.value) * cos(scale('angular', datum.key))\"\n",
    "              },\n",
    "              \"y\": {\n",
    "                \"signal\": \"scale('radial', datum.value) * sin(scale('angular', datum.key))\"\n",
    "              },\n",
    "              \"y2\": {\n",
    "                \"value\": 0\n",
    "              },\n",
    "              \"stroke\": {\n",
    "                \"value\": \"transparent\"\n",
    "              },\n",
    "              \"strokeWidth\": {\n",
    "                \"value\": 1\n",
    "              },\n",
    "              \"fill\": [\n",
    "                {\n",
    "                  \"test\": \"datum.measure === 'No Sectoral Measure Specified'\",\n",
    "                  \"value\": \"transparent\"\n",
    "                },\n",
    "                {\n",
    "                  \"test\": \"datum.type === 'Mitigation'\",\n",
    "                  \"scale\": \"mitigation\",\n",
    "                  \"field\": \"category\"\n",
    "                },\n",
    "                {\n",
    "                  \"scale\": \"adaptation\",\n",
    "                  \"field\": \"category\"\n",
    "                }\n",
    "              ],\n",
    "              \"fillOpacity\": {\n",
    "                \"value\": 0.25\n",
    "              }\n",
    "            }\n",
    "          }\n",
    "        },\n",
    "        {\n",
    "          \"type\": \"text\",\n",
    "          \"name\": \"value-text\",\n",
    "          \"from\": {\n",
    "            \"data\": \"key1\"\n",
    "          },\n",
    "          \"encode\": {\n",
    "            \"enter\": {\n",
    "              \"x\": {\n",
    "                \"signal\": \"(radius) * cos(scale('angular_text', datum.key))\"\n",
    "              },\n",
    "              \"y\": {\n",
    "                \"signal\": \"(radius+radius/5) * sin(scale('angular_text', datum.key))\"\n",
    "              },\n",
    "              \"text\": {\n",
    "                \"signal\": \"datum.label\"\n",
    "              },\n",
    "              \"angle\": {\n",
    "                \"value\": 0\n",
    "              },\n",
    "              \"align\": [\n",
    "                {\n",
    "                  \"test\": \"abs(scale('angular_text', datum.key)) > (PI / 2) \",\n",
    "                  \"value\": \"right\"\n",
    "                },\n",
    "                {\n",
    "                  \"value\": \"left\"\n",
    "                }\n",
    "              ],\n",
    "              \"baseline\": [\n",
    "                {\n",
    "                  \"test\": \"scale('angular_text', datum.key) > 0 \",\n",
    "                  \"value\": \"bottom\"\n",
    "                },\n",
    "                {\n",
    "                  \"test\": \"scale('angular_text', datum.key) == 0\",\n",
    "                  \"value\": \"middle\"\n",
    "                },\n",
    "                {\n",
    "                  \"value\": \"bottom\"\n",
    "                }\n",
    "              ],\n",
    "              \"fill\": {\n",
    "                \"value\": \"black\"\n",
    "              },\n",
    "              \"font\": {\n",
    "                \"value\": \"Lato\"\n",
    "              },\n",
    "              \"fontWeight\": {\"value\": \"normal\"},\n",
    "              \"fontStyle\": {\"value\": \"normal\"},\n",
    "              \"fontSize\": {\n",
    "                \"value\": 12\n",
    "              },\n",
    "              \"lineBreak\": {\n",
    "                \"value\": \",\"\n",
    "              }\n",
    "            }\n",
    "          }\n",
    "        }\n",
    "      ]\n",
    "    },\n",
    "    {\n",
    "      \"type\": \"rule\",\n",
    "      \"name\": \"radial-grid\",\n",
    "      \"from\": {\n",
    "        \"data\": \"keys\"\n",
    "      },\n",
    "      \"zindex\": 1,\n",
    "      \"encode\": {\n",
    "        \"enter\": {\n",
    "          \"x\": {\n",
    "            \"value\": 0\n",
    "          },\n",
    "          \"y\": {\n",
    "            \"value\": 0\n",
    "          },\n",
    "          \"x2\": {\n",
    "            \"signal\": \"radius * cos(scale('angular', datum.key))\"\n",
    "          },\n",
    "          \"y2\": {\n",
    "            \"signal\": \"radius * sin(scale('angular', datum.key))\"\n",
    "          },\n",
    "          \"stroke\": {\n",
    "            \"value\": \"lightgrey\"\n",
    "          },\n",
    "          \"strokeWidth\": {\n",
    "            \"value\": 1\n",
    "          },\n",
    "          \"strokeOpacity\": {\n",
    "            \"value\": 1\n",
    "          },\n",
    "          \"tooltip\": {\n",
    "            \"signal\": \"{'indicator': datum}\"\n",
    "          }\n",
    "        }\n",
    "      }\n",
    "    },\n",
    "    {\n",
    "      \"type\": \"group\",\n",
    "      \"name\": \"out-lines\",\n",
    "      \"zindex\": 1,\n",
    "      \"from\": {\n",
    "        \"facet\": {\n",
    "          \"data\": \"lines\",\n",
    "          \"name\": \"facet\",\n",
    "          \"groupby\": [\n",
    "            \"category\"\n",
    "          ]\n",
    "        }\n",
    "      },\n",
    "      \"marks\": [\n",
    "        {\n",
    "          \"type\": \"line\",\n",
    "          \"name\": \"line\",\n",
    "          \"from\": {\n",
    "            \"data\": \"facet\"\n",
    "          },\n",
    "          \"encode\": {\n",
    "            \"enter\": {\n",
    "              \"interpolate\": {\n",
    "                \"value\": \"linear-closed\"\n",
    "              },\n",
    "              \"x2\": {\n",
    "                \"signal\": \"radius * cos(scale('angular', datum.key))\"\n",
    "              },\n",
    "              \"y2\": {\n",
    "                \"signal\": \"radius * sin(scale('angular', datum.key))\"\n",
    "              },\n",
    "              \"stroke\": {\n",
    "                \"value\": \"lightgrey\"\n",
    "              },\n",
    "              \"strokeWidth\": {\n",
    "                \"value\": 1\n",
    "              },\n",
    "              \"strokeOpacity\": {\n",
    "                \"value\": 1\n",
    "              }\n",
    "            }\n",
    "          }\n",
    "        }\n",
    "      ]\n",
    "    }\n",
    "  ],\n",
    "  \"legends\": [\n",
    "    {\n",
    "      \"fill\": \"legend\",\n",
    "      \"orient\": \"bottom\",\n",
    "      \"labelFont\": {\n",
    "        \"value\": \"Lato\"\n",
    "      },\n",
    "      \"labelFontSize\": {\n",
    "        \"value\": 12\n",
    "      }\n",
    "    }\n",
    "  ],\n",
    "      \"interaction_config\": [\n",
    "    {\n",
    "      \"name\": \"tooltip\",\n",
    "      \"config\": {\n",
    "        \"fields\": [\n",
    "          {\n",
    "            \"column\": \"count\",\n",
    "            \"property\": \"Number of Countries Represented\",\n",
    "            \"type\": \"number\",\n",
    "            \"format\": \"\"\n",
    "          }\n",
    "        ]\n",
    "      }\n",
    "    }\n",
    "  ]\n",
    "} \"\"\")"
   ]
  },
  {
   "cell_type": "code",
   "execution_count": 51,
   "metadata": {},
   "outputs": [
    {
     "data": {
      "application/vnd.vega.v5+json": {
       "autosize": "fit",
       "data": [
        {
         "format": {
          "property": "rows",
          "type": "json"
         },
         "name": "data",
         "url": "https://wri-rw.carto.com/api/v2/sql?q= SELECT gid_0, name_0, sector, subsector, indicator_id, indicator_name, value, count FROM ocn_025_rw0_ocean_ndc_measures data INNER JOIN gadm36_0 gadm ON data.iso_code3 = gadm.gid_0 WHERE gadm.{{geostore_env}} ILIKE '{{geostore_id}}'"
        },
        {
         "name": "key1",
         "transform": [
          {
           "as": [
            "country",
            "value",
            "category",
            "name",
            "measure"
           ],
           "fields": [
            "indicator"
           ],
           "from": "data",
           "key": "indicator_id",
           "type": "lookup",
           "values": [
            "name_0",
            "count",
            "indicator_id",
            "indicator_name",
            "value"
           ]
          },
          {
           "as": "label",
           "expr": "datum.name === 'Renewable Energy: Ocean' ? 'Renewable,Energy: Ocean' : datum.name === 'Sea-level Rise Protection' ? 'Sea-level,Rise Protection' : datum.name === 'Fisheries and Aquaculture' ? 'Fisheries and,Aquaculture': datum.name === 'Coastal Zone: General' ? 'Coastal Zone:,General' : datum.name === 'Coastal management' ? 'Coastal,Management' : datum.name === 'Coastal Fisheries' ? 'Coastal,Fisheries' :datum.name",
           "type": "formula"
          }
         ],
         "values": [
          {
           "category": null,
           "country": null,
           "indicator": "a_coastal_fisheries_auto",
           "key": 0,
           "label": null,
           "measure": null,
           "name": null,
           "type": "Adaptation",
           "value": null
          },
          {
           "category": null,
           "country": null,
           "indicator": "a_coastal_zone_general_auto",
           "key": 1,
           "label": null,
           "measure": null,
           "name": null,
           "type": "Adaptation",
           "value": null
          },
          {
           "category": null,
           "country": null,
           "indicator": "a_coastal_management_auto",
           "key": 2,
           "label": null,
           "measure": null,
           "name": null,
           "type": "Adaptation",
           "value": null
          },
          {
           "category": null,
           "country": null,
           "indicator": "a_mangroves_auto",
           "key": 3,
           "label": null,
           "measure": null,
           "name": null,
           "type": "Adaptation",
           "value": null
          },
          {
           "category": null,
           "country": null,
           "indicator": "a_sea_level_rise_protection_auto",
           "key": 4,
           "label": null,
           "measure": null,
           "name": null,
           "type": "Adaptation",
           "value": null
          },
          {
           "category": null,
           "country": null,
           "indicator": "a_fisheries_and_aquaculture_auto",
           "key": 5,
           "label": null,
           "measure": null,
           "name": null,
           "type": "Adaptation",
           "value": null
          },
          {
           "category": null,
           "country": null,
           "indicator": "m_fisheries_and_aquaculture_auto",
           "key": 6,
           "label": null,
           "measure": null,
           "name": null,
           "type": "Mitigation",
           "value": null
          },
          {
           "category": null,
           "country": null,
           "indicator": "m_renewable_energy_ocean_auto",
           "key": 7,
           "label": null,
           "measure": null,
           "name": null,
           "type": "Mitigation",
           "value": null
          },
          {
           "category": null,
           "country": null,
           "indicator": "m_maritime_auto",
           "key": 8,
           "label": null,
           "measure": null,
           "name": null,
           "type": "Mitigation",
           "value": null
          }
         ]
        },
        {
         "name": "key2",
         "transform": [
          {
           "as": [
            "country",
            "value",
            "category",
            "name",
            "measure"
           ],
           "fields": [
            "indicator"
           ],
           "from": "data",
           "key": "indicator_id",
           "type": "lookup",
           "values": [
            "name_0",
            "count",
            "indicator_id",
            "indicator_name",
            "value"
           ]
          }
         ],
         "values": [
          {
           "category": null,
           "country": null,
           "indicator": "a_coastal_fisheries_auto",
           "key": 1,
           "measure": null,
           "name": null,
           "type": "Adaptation",
           "value": null
          },
          {
           "category": null,
           "country": null,
           "indicator": "a_coastal_zone_general_auto",
           "key": 2,
           "measure": null,
           "name": null,
           "type": "Adaptation",
           "value": null
          },
          {
           "category": null,
           "country": null,
           "indicator": "a_coastal_management_auto",
           "key": 3,
           "measure": null,
           "name": null,
           "type": "Adaptation",
           "value": null
          },
          {
           "category": null,
           "country": null,
           "indicator": "a_mangroves_auto",
           "key": 4,
           "measure": null,
           "name": null,
           "type": "Adaptation",
           "value": null
          },
          {
           "category": null,
           "country": null,
           "indicator": "a_sea_level_rise_protection_auto",
           "key": 5,
           "measure": null,
           "name": null,
           "type": "Adaptation",
           "value": null
          },
          {
           "category": null,
           "country": null,
           "indicator": "a_fisheries_and_aquaculture_auto",
           "key": 6,
           "measure": null,
           "name": null,
           "type": "Adaptation",
           "value": null
          },
          {
           "category": null,
           "country": null,
           "indicator": "m_fisheries_and_aquaculture_auto",
           "key": 7,
           "measure": null,
           "name": null,
           "type": "Mitigation",
           "value": null
          },
          {
           "category": null,
           "country": null,
           "indicator": "m_renewable_energy_ocean_auto",
           "key": 8,
           "measure": null,
           "name": null,
           "type": "Mitigation",
           "value": null
          },
          {
           "category": null,
           "country": null,
           "indicator": "m_maritime_auto",
           "key": 0,
           "measure": null,
           "name": null,
           "type": "Mitigation",
           "value": null
          }
         ]
        },
        {
         "name": "lines",
         "source": [
          "key1",
          "key2"
         ]
        },
        {
         "name": "zeros",
         "transform": [
          {
           "as": "value",
           "expr": "0",
           "type": "formula"
          },
          {
           "as": "category",
           "expr": "datum.indicator",
           "type": "formula"
          },
          {
           "as": [
            "country",
            "name",
            "measure"
           ],
           "fields": [
            "indicator"
           ],
           "from": "data",
           "key": "indicator_id",
           "type": "lookup",
           "values": [
            "name_0",
            "indicator_name",
            "value"
           ]
          }
         ],
         "values": [
          {
           "category": "a_coastal_fisheries_auto",
           "country": null,
           "indicator": "a_coastal_fisheries_auto",
           "key": 2,
           "measure": null,
           "name": null,
           "type": "Adaptation",
           "value": 0
          },
          {
           "category": "a_coastal_zone_general_auto",
           "country": null,
           "indicator": "a_coastal_zone_general_auto",
           "key": 3,
           "measure": null,
           "name": null,
           "type": "Adaptation",
           "value": 0
          },
          {
           "category": "a_coastal_management_auto",
           "country": null,
           "indicator": "a_coastal_management_auto",
           "key": 4,
           "measure": null,
           "name": null,
           "type": "Adaptation",
           "value": 0
          },
          {
           "category": "a_mangroves_auto",
           "country": null,
           "indicator": "a_mangroves_auto",
           "key": 5,
           "measure": null,
           "name": null,
           "type": "Adaptation",
           "value": 0
          },
          {
           "category": "a_sea_level_rise_protection_auto",
           "country": null,
           "indicator": "a_sea_level_rise_protection_auto",
           "key": 6,
           "measure": null,
           "name": null,
           "type": "Adaptation",
           "value": 0
          },
          {
           "category": "a_fisheries_and_aquaculture_auto",
           "country": null,
           "indicator": "a_fisheries_and_aquaculture_auto",
           "key": 7,
           "measure": null,
           "name": null,
           "type": "Adaptation",
           "value": 0
          },
          {
           "category": "m_fisheries_and_aquaculture_auto",
           "country": null,
           "indicator": "m_fisheries_and_aquaculture_auto",
           "key": 8,
           "measure": null,
           "name": null,
           "type": "Mitigation",
           "value": 0
          },
          {
           "category": "m_renewable_energy_ocean_auto",
           "country": null,
           "indicator": "m_renewable_energy_ocean_auto",
           "key": 0,
           "measure": null,
           "name": null,
           "type": "Mitigation",
           "value": 0
          },
          {
           "category": "m_maritime_auto",
           "country": null,
           "indicator": "m_maritime_auto",
           "key": 1,
           "measure": null,
           "name": null,
           "type": "Mitigation",
           "value": 0
          }
         ]
        },
        {
         "name": "table",
         "source": [
          "key1",
          "key2",
          "zeros"
         ],
         "transform": [
          {
           "as": [
            "count"
           ],
           "fields": [
            "indicator"
           ],
           "from": "key1",
           "key": "indicator",
           "type": "lookup",
           "values": [
            "value"
           ]
          }
         ]
        },
        {
         "name": "keys",
         "source": "table",
         "transform": [
          {
           "groupby": [
            "key"
           ],
           "type": "aggregate"
          }
         ]
        }
       ],
       "encode": {
        "enter": {
         "x": {
          "signal": "radius"
         },
         "y": {
          "signal": "radius"
         }
        }
       },
       "interaction_config": [
        {
         "config": {
          "fields": [
           {
            "column": "count",
            "format": "",
            "property": "Number of Countries Represented",
            "type": "number"
           }
          ]
         },
         "name": "tooltip"
        }
       ],
       "legends": [
        {
         "fill": "legend",
         "labelFont": {
          "value": "Lato"
         },
         "labelFontSize": {
          "value": 12
         },
         "orient": "bottom"
        }
       ],
       "marks": [
        {
         "from": {
          "facet": {
           "data": "table",
           "groupby": [
            "category"
           ],
           "name": "facet"
          }
         },
         "marks": [
          {
           "encode": {
            "enter": {
             "fill": [
              {
               "test": "datum.measure === 'No Sectoral Measure Specified'",
               "value": "transparent"
              },
              {
               "field": "category",
               "scale": "mitigation",
               "test": "datum.type === 'Mitigation'"
              },
              {
               "field": "category",
               "scale": "adaptation"
              }
             ],
             "fillOpacity": {
              "value": 0.9
             },
             "interpolate": {
              "value": "linear-closed"
             },
             "stroke": [
              {
               "test": "datum.measure === 'No Sectoral Measure Specified'",
               "value": "transparent"
              },
              {
               "field": "category",
               "scale": "mitigation",
               "test": "datum.type === 'Mitigation'"
              },
              {
               "field": "category",
               "scale": "adaptation"
              }
             ],
             "strokeWidth": {
              "value": 1
             },
             "x": {
              "signal": "scale('radial', datum.value) * cos(scale('angular', datum.key))"
             },
             "y": {
              "signal": "scale('radial', datum.value) * sin(scale('angular', datum.key))"
             }
            }
           },
           "from": {
            "data": "facet"
           },
           "name": "category-line",
           "type": "line"
          },
          {
           "encode": {
            "enter": {
             "fill": [
              {
               "test": "datum.measure === 'No Sectoral Measure Specified'",
               "value": "transparent"
              },
              {
               "field": "category",
               "scale": "mitigation",
               "test": "datum.type === 'Mitigation'"
              },
              {
               "field": "category",
               "scale": "adaptation"
              }
             ],
             "fillOpacity": {
              "value": 0.25
             },
             "interpolate": {
              "value": "linear-closed"
             },
             "stroke": {
              "value": "transparent"
             },
             "strokeWidth": {
              "value": 1
             },
             "x": {
              "signal": "scale('radial', datum.value) * cos(scale('angular', datum.key))"
             },
             "y": {
              "signal": "scale('radial', datum.value) * sin(scale('angular', datum.key))"
             },
             "y2": {
              "value": 0
             }
            }
           },
           "from": {
            "data": "facet"
           },
           "name": "area",
           "type": "area"
          },
          {
           "encode": {
            "enter": {
             "align": [
              {
               "test": "abs(scale('angular_text', datum.key)) > (PI / 2) ",
               "value": "right"
              },
              {
               "value": "left"
              }
             ],
             "angle": {
              "value": 0
             },
             "baseline": [
              {
               "test": "scale('angular_text', datum.key) > 0 ",
               "value": "bottom"
              },
              {
               "test": "scale('angular_text', datum.key) == 0",
               "value": "middle"
              },
              {
               "value": "bottom"
              }
             ],
             "fill": {
              "value": "black"
             },
             "font": {
              "value": "Lato"
             },
             "fontSize": {
              "value": 12
             },
             "fontStyle": {
              "value": "normal"
             },
             "fontWeight": {
              "value": "normal"
             },
             "lineBreak": {
              "value": ","
             },
             "text": {
              "signal": "datum.label"
             },
             "x": {
              "signal": "(radius) * cos(scale('angular_text', datum.key))"
             },
             "y": {
              "signal": "(radius+radius/5) * sin(scale('angular_text', datum.key))"
             }
            }
           },
           "from": {
            "data": "key1"
           },
           "name": "value-text",
           "type": "text"
          }
         ],
         "name": "categories",
         "type": "group",
         "zindex": 0
        },
        {
         "encode": {
          "enter": {
           "stroke": {
            "value": "lightgrey"
           },
           "strokeOpacity": {
            "value": 1
           },
           "strokeWidth": {
            "value": 1
           },
           "tooltip": {
            "signal": "{'indicator': datum}"
           },
           "x": {
            "value": 0
           },
           "x2": {
            "signal": "radius * cos(scale('angular', datum.key))"
           },
           "y": {
            "value": 0
           },
           "y2": {
            "signal": "radius * sin(scale('angular', datum.key))"
           }
          }
         },
         "from": {
          "data": "keys"
         },
         "name": "radial-grid",
         "type": "rule",
         "zindex": 1
        },
        {
         "from": {
          "facet": {
           "data": "lines",
           "groupby": [
            "category"
           ],
           "name": "facet"
          }
         },
         "marks": [
          {
           "encode": {
            "enter": {
             "interpolate": {
              "value": "linear-closed"
             },
             "stroke": {
              "value": "lightgrey"
             },
             "strokeOpacity": {
              "value": 1
             },
             "strokeWidth": {
              "value": 1
             },
             "x2": {
              "signal": "radius * cos(scale('angular', datum.key))"
             },
             "y2": {
              "signal": "radius * sin(scale('angular', datum.key))"
             }
            }
           },
           "from": {
            "data": "facet"
           },
           "name": "line",
           "type": "line"
          }
         ],
         "name": "out-lines",
         "type": "group",
         "zindex": 1
        }
       ],
       "scales": [
        {
         "domain": {
          "data": "table",
          "field": "key"
         },
         "name": "angular",
         "padding": 0.5,
         "range": {
          "signal": "[-PI, PI]"
         },
         "type": "point"
        },
        {
         "domain": {
          "data": "table",
          "field": "key"
         },
         "name": "angular_text",
         "padding": 0.5,
         "range": {
          "signal": "[-PI + PI/9, PI + PI/9]"
         },
         "type": "point"
        },
        {
         "domain": {
          "data": "table",
          "field": "value"
         },
         "domainMin": 0,
         "name": "radial",
         "nice": false,
         "range": {
          "signal": "[0, radius]"
         },
         "type": "symlog",
         "zero": true
        },
        {
         "domain": {
          "data": "table",
          "field": "category"
         },
         "name": "mitigation",
         "range": [
          "#e9a81f"
         ],
         "type": "ordinal"
        },
        {
         "domain": {
          "data": "table",
          "field": "category"
         },
         "name": "adaptation",
         "range": [
          "#235487"
         ],
         "reverse": true,
         "type": "ordinal"
        },
        {
         "domain": [
          "Adaptation Measure",
          "Mitigation Measure"
         ],
         "name": "legend",
         "range": [
          "#4670A5",
          "#f5c93a"
         ],
         "type": "ordinal"
        }
       ],
       "signals": [
        {
         "name": "radius",
         "update": "width / 2"
        }
       ]
      },
      "image/png": ""
     },
     "metadata": {},
     "output_type": "display_data"
    }
   ],
   "source": [
    "vega_view=dict(spec)\n",
    "vega_view['encode']['enter'] = {\n",
    "      \"x\": {\"signal\": \"radius\"},\n",
    "      \"y\": {\"signal\": \"radius\"}}\n",
    "Vega(vega_view)"
   ]
  },
  {
   "cell_type": "markdown",
   "metadata": {},
   "source": [
    "# Indicator Value"
   ]
  },
  {
   "cell_type": "markdown",
   "metadata": {},
   "source": [
    "## Country"
   ]
  },
  {
   "cell_type": "markdown",
   "metadata": {},
   "source": [
    "``` sql\n",
    "SELECT \n",
    "    CONCAT(COUNT(DISTINCT(indicator_id)), ' of ', 9) AS value \n",
    "FROM ocn_025_rw0_ocean_ndc_measures \n",
    "INNER JOIN gadm36_0 gadm \n",
    "ON gadm.gid_0 = iso_code3\n",
    "WHERE value = 'Sectoral Measure Specified' \n",
    "GROUP BY iso_code3 \n",
    "```"
   ]
  },
  {
   "cell_type": "markdown",
   "metadata": {},
   "source": [
    "raw query: `https://wri-rw.carto.com/api/v2/sql?q=SELECT CONCAT(COUNT(DISTINCT(indicator_id)), ' of ', 9) AS value FROM ocn_025_rw0_ocean_ndc_measures INNER JOIN gadm36_0 gadm ON gadm.gid_0 = iso_code3 WHERE value = 'Sectoral Measure Specified' GROUP BY iso_code3`"
   ]
  },
  {
   "cell_type": "markdown",
   "metadata": {},
   "source": [
    "## World"
   ]
  },
  {
   "cell_type": "markdown",
   "metadata": {},
   "source": [
    "``` sql\n",
    "SELECT \n",
    "    CONCAT(countries_w_measures, ' of ', total_countries) \n",
    "FROM (\n",
    "    SELECT \n",
    "        'GLB' as gid_0, \n",
    "        COUNT(DISTINCT(iso_code3)) AS countries_w_measures \n",
    "    FROM ocn_025_rw0_ocean_ndc_measures WHERE value = 'Sectoral Measure Specified') measures\n",
    "    INNER JOIN (\n",
    "    SELECT \n",
    "        'GLB' as gid_0, \n",
    "        COUNT(DISTINCT(iso_code3)) AS total_countries \n",
    "    FROM ocn_025_rw0_ocean_ndc_measures) total \n",
    "    ON total.gid_0 = measures.gid_0\n",
    "```"
   ]
  },
  {
   "cell_type": "markdown",
   "metadata": {},
   "source": [
    "raw query: `https://wri-rw.carto.com/api/v2/sql?q=SELECT CONCAT(countries_w_measures, ' of ', total_countries) FROM (SELECT 'GLB' as gid_0, COUNT(DISTINCT(iso_code3)) AS countries_w_measures FROM ocn_025_rw0_ocean_ndc_measures WHERE value = 'Sectoral Measure Specified') measures INNER JOIN (SELECT 'GLB' as gid_0, COUNT(DISTINCT(iso_code3)) AS total_countries FROM ocn_025_rw0_ocean_ndc_measures) total ON total.gid_0 = measures.gid_0`"
   ]
  },
  {
   "cell_type": "markdown",
   "metadata": {},
   "source": [
    "## RW Backoffice"
   ]
  },
  {
   "cell_type": "markdown",
   "metadata": {},
   "source": [
    "- [back office](https://resourcewatch.org/admin/data/widgets/432ba622-36b9-4178-8a91-6a59446e7347/edit?dataset=5dba42e7-39da-496f-94ae-ee55863595e3)\n",
    "- parent dataset [ocn.025 ](https://resourcewatch.org/data/explore/5dba42e7-39da-496f-94ae-ee55863595e3) \n",
    "- dataset id ```5dba42e7-39da-496f-94ae-ee55863595e3```\n",
    "- widget id: ```432ba622-36b9-4178-8a91-6a59446e7347```"
   ]
  }
 ],
 "metadata": {
  "kernelspec": {
   "display_name": "Python 3",
   "language": "python",
   "name": "python3"
  },
  "language_info": {
   "codemirror_mode": {
    "name": "ipython",
    "version": 3
   },
   "file_extension": ".py",
   "mimetype": "text/x-python",
   "name": "python",
   "nbconvert_exporter": "python",
   "pygments_lexer": "ipython3",
   "version": "3.7.7"
  }
 },
 "nbformat": 4,
 "nbformat_minor": 4
}
