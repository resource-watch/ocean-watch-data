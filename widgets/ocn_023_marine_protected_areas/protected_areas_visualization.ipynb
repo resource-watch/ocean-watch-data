{
 "cells": [
  {
   "cell_type": "markdown",
   "metadata": {},
   "source": [
    "# Protected Areas"
   ]
  },
  {
   "cell_type": "markdown",
   "metadata": {},
   "source": [
    "An area chart displaying the proportion of marine area that is protected by country or territory over time. The total marine area includes shared marine areas and any overseas territories.<br>\n",
    "\n",
    "Note that the country/territory widget is a parameterized widget; the specification passed to the API will not be renderable without the geostore identifier being inserted. \n"
   ]
  },
  {
   "cell_type": "markdown",
   "metadata": {},
   "source": [
    "*Author: Rachel Thoms\n",
    "<br>Created: 08 24 2021\n",
    "<br>Environment: jupyterlab*"
   ]
  },
  {
   "cell_type": "markdown",
   "metadata": {},
   "source": [
    "## Style"
   ]
  },
  {
   "cell_type": "markdown",
   "metadata": {},
   "source": [
    "- Vega chart\n",
    "- Chart type: area (country/territory) and stacked area (global) chart\n",
    "- Value: Proportion (country/territory) or area in km<sup>2</sup> (global) of marine area that is protected"
   ]
  },
  {
   "cell_type": "markdown",
   "metadata": {},
   "source": [
    "## Data"
   ]
  },
  {
   "cell_type": "markdown",
   "metadata": {},
   "source": [
    "- Underlying data: [ocn_023_rw0_marine_protection](https://resourcewatch.carto.com/u/wri-rw/dataset/ocn_023_rw0_marine_protection_edit))\n",
    "- Source: [OECD](https://data.oecd.org/biodiver/protected-areas.htm) (from the WDPA)"
   ]
  },
  {
   "cell_type": "markdown",
   "metadata": {},
   "source": [
    "## Preparation"
   ]
  },
  {
   "cell_type": "markdown",
   "metadata": {},
   "source": [
    "### Aliasing and Inserting Data"
   ]
  },
  {
   "cell_type": "markdown",
   "metadata": {},
   "source": [
    "#### Queries"
   ]
  },
  {
   "cell_type": "markdown",
   "metadata": {},
   "source": [
    "not inserted into master table"
   ]
  },
  {
   "cell_type": "markdown",
   "metadata": {},
   "source": [
    "### Vega"
   ]
  },
  {
   "cell_type": "code",
   "execution_count": 4,
   "metadata": {},
   "outputs": [],
   "source": [
    "import json\n",
    "from vega import Vega\n",
    "from IPython.display import display"
   ]
  },
  {
   "cell_type": "code",
   "execution_count": 5,
   "metadata": {},
   "outputs": [],
   "source": [
    "def Vega(spec):\n",
    "    bundle = {}\n",
    "    bundle['application/vnd.vega.v5+json'] = spec\n",
    "    display(bundle, raw=True)"
   ]
  },
  {
   "cell_type": "code",
   "execution_count": 6,
   "metadata": {},
   "outputs": [],
   "source": [
    "widget_width = 500\n",
    "widget_height = 200"
   ]
  },
  {
   "cell_type": "markdown",
   "metadata": {},
   "source": [
    "## Visualization"
   ]
  },
  {
   "cell_type": "markdown",
   "metadata": {},
   "source": [
    "### Queries"
   ]
  },
  {
   "cell_type": "markdown",
   "metadata": {},
   "source": [
    "#### Testing version"
   ]
  },
  {
   "cell_type": "markdown",
   "metadata": {},
   "source": [
    "```gadm.geostore_prod ILIKE 'f4599aaeedacb9e6ddca177a93795e4c'``` used as stand-in for parameterized ```{{geostore_env}}='{{geostore_id}}'``` in production version"
   ]
  },
  {
   "cell_type": "markdown",
   "metadata": {},
   "source": [
    "Global level (no parameterization)"
   ]
  },
  {
   "cell_type": "markdown",
   "metadata": {},
   "source": [
    "```sql\n",
    "SELECT gadm.gid_0, country, year AS date, value \n",
    "    FROM \n",
    "    (SELECT iso, country, year, value \n",
    "        FROM ocn_023_rw1_marine_protection_edit \n",
    "    UNION \n",
    "    SELECT 'GLB' AS iso, 'National waters' as country, year, value \n",
    "        FROM ocn_023_rw1_marine_protection_edit \n",
    "        WHERE iso='WLD' AND measure = 'Square kilometers' \n",
    "    UNION \n",
    "    SELECT 'GLB' AS iso, country, year, value \n",
    "        FROM ocn_023_rw1_marine_protection_edit \n",
    "        WHERE iso='ABNJ' AND measure = 'Square kilometers') AS data \n",
    "LEFT OUTER JOIN gadm36_0 gadm ON data.iso = gadm.gid_0 \n",
    "    WHERE gadm.gid_0= 'GLB' AND country != 'Global' \n",
    "ORDER BY date ASC, name_0 ASC\n",
    "```"
   ]
  },
  {
   "cell_type": "markdown",
   "metadata": {},
   "source": [
    "Country/territory level"
   ]
  },
  {
   "cell_type": "markdown",
   "metadata": {},
   "source": [
    "```sql\n",
    "SELECT gadm.gid_0, country, year AS date, value \n",
    "FROM ocn_023_rw1_marine_protection_edit data \n",
    "LEFT OUTER JOIN gadm36_0 gadm ON data.iso = gadm.gid_0 \n",
    "WHERE gadm.geostore_prod= 'f4599aaeedacb9e6ddca177a93795e4c' AND measure = 'Percent of total land/EEZ area' \n",
    "ORDER BY date ASC, name_0 ASC\n",
    "```"
   ]
  },
  {
   "cell_type": "markdown",
   "metadata": {},
   "source": [
    "#### Parameterized version"
   ]
  },
  {
   "cell_type": "markdown",
   "metadata": {},
   "source": [
    "Global level (no parameterization; see above)"
   ]
  },
  {
   "cell_type": "markdown",
   "metadata": {},
   "source": [
    "Country/territory level"
   ]
  },
  {
   "cell_type": "markdown",
   "metadata": {},
   "source": [
    "```sql\n",
    "SELECT gadm.gid_0, country, year AS date, value \n",
    "FROM ocn_023_rw1_marine_protection_edit data \n",
    "LEFT OUTER JOIN gadm36_0 gadm ON data.iso = gadm.gid_0 \n",
    "WHERE gadm.{{geostore_env}}= '{{geostore_id}}' AND measure = 'Percent of total land/EEZ area' \n",
    "ORDER BY date ASC, name_0 ASC\n",
    "```"
   ]
  },
  {
   "cell_type": "markdown",
   "metadata": {},
   "source": [
    "## Resource Watch Widget Config"
   ]
  },
  {
   "cell_type": "markdown",
   "metadata": {},
   "source": [
    "### Country/ Territory"
   ]
  },
  {
   "cell_type": "code",
   "execution_count": 9,
   "metadata": {},
   "outputs": [],
   "source": [
    "spec=json.loads(\"\"\"{\n",
    "  \"$schema\": \"https://vega.github.io/schema/vega/v5.json\",\n",
    "  \"padding\": 5,\n",
    "  \"data\": [\n",
    "    {\n",
    "      \"name\": \"table\",\n",
    "      \"url\": \"https://wri-rw.carto.com/api/v2/sql?q= SELECT gadm.gid_0, country, year AS date, value FROM ocn_023_rw1_marine_protection_edit data LEFT OUTER JOIN gadm36_0 gadm ON data.iso = gadm.gid_0 WHERE gadm.{{geostore_env}}= '{{geostore_id}}' AND measure = 'Percent of total land/EEZ area' ORDER BY date ASC, name_0 ASC\",\n",
    "      \"format\": {\"type\": \"json\", \"property\": \"rows\"}},\n",
    "      {\"name\": \"maximum\",\n",
    "    \"source\": \"table\",\n",
    "    \"transform\": [{\"type\": \"collect\", \"sort\": {\"field\": \"value\",\"order\": \"descending\"}}\n",
    "  ]},\n",
    "      {\"name\": \"mpa\",\n",
    "      \"source\": \"table\",\n",
    "      \"transform\": [ {\n",
    "          \"type\":\"formula\",\n",
    "          \"expr\": \"'30%'\",\n",
    "          \"as\": \"goal\"\n",
    "        },\n",
    "        {\n",
    "          \"type\":\"formula\",\n",
    "          \"expr\": \"datum.value/100\",\n",
    "          \"as\": \"value\"\n",
    "        },\n",
    "        {\n",
    "          \"type\": \"stack\",\n",
    "          \"groupby\": [\"date\"],\n",
    "          \"sort\": {\"field\": \"country\"},\n",
    "          \"field\": \"value\"\n",
    "        },\n",
    "        {\"type\": \"formula\",\n",
    "        \"expr\": \"datum.y0 + datum.y1\",\n",
    "        \"as\": \"total\"},\n",
    "        {\"type\": \"collect\", \"sort\": {\"field\": [\"date\",\"country\"],\"order\": [\"ascending\", \"ascending\"]}}\n",
    "      ]\n",
    "    },\n",
    "    {\n",
    "      \"name\": \"highlightedPoint\",\n",
    "      \"source\": \"mpa\",\n",
    "      \"transform\": [\n",
    "        {\n",
    "          \"type\": \"filter\",\n",
    "          \"expr\": \"(point_hover && point_hover.datum.date === datum.date) \"\n",
    "        }\n",
    "      ]\n",
    "    }],\n",
    "  \"signals\": [\n",
    "    {\n",
    "      \"name\": \"active_country\",\n",
    "      \"value\": \"\",\n",
    "      \"on\": [\n",
    "        {\"events\": \"*:mouseover\", \"update\": \"datum.datum.country\"},\n",
    "        {\"events\": \"*:mouseout\", \"update\": \"null\"}\n",
    "      ]\n",
    "    },\n",
    "    {\n",
    "      \"name\": \"point_hover\",\n",
    "      \"value\": null,\n",
    "      \"on\": [\n",
    "        {\"events\": \"@points_voronoi:mouseover\", \"update\": \"datum\"},\n",
    "        {\"events\": \"@points_voronoi:mouseout\", \"update\": \"null\"}\n",
    "      ]\n",
    "    },\n",
    "    {\"name\": \"gid\", \"update\": \"data('mpa')[0]['gid_0']\"},\n",
    "    {\"name\": \"max\", \"update\": \"data('maximum')[0]['value']/100\"}\n",
    "  ],\n",
    "  \"scales\": [\n",
    "    {\n",
    "      \"name\": \"x\",\n",
    "      \"type\": \"point\",\n",
    "      \"range\": \"width\",\n",
    "      \"domain\": {\"data\": \"mpa\", \"field\": \"date\"}\n",
    "    },\n",
    "    {\n",
    "      \"name\": \"y\",\n",
    "      \"type\": \"linear\",\n",
    "      \"range\": \"height\",\n",
    "      \"nice\": true,\n",
    "      \"zero\": true,\n",
    "      \"domain\": {\"data\": \"mpa\", \"field\": \"value\"},\n",
    "      \"domainMax\": {\"signal\": \"gid === 'GLB' ? 0.30 : max < 0.80 ? max + 0.10 : 1\"}\n",
    "    },\n",
    "    {\n",
    "      \"name\": \"color\",\n",
    "      \"type\": \"ordinal\",\n",
    "      \"range\": [\"#005c7e\"],\n",
    "      \"domain\": {\"data\": \"mpa\", \"field\": \"country\"}\n",
    "    }\n",
    "  ],\n",
    "  \"axes\": [\n",
    "    {\n",
    "      \"orient\": \"bottom\",\n",
    "      \"scale\": \"x\",\n",
    "      \"labelBaseline\": \"middle\",\n",
    "      \"labelOverlap\": true,\n",
    "      \"labelFontSize\": 10\n",
    "    },\n",
    "    {\n",
    "      \"orient\": \"left\",\n",
    "      \"scale\": \"y\",\n",
    "      \"labelBaseline\": \"middle\",\n",
    "      \"labelAlign\": \"right\",\n",
    "      \"labelPadding\": 3,\n",
    "      \"grid\": true,\n",
    "      \"gridOpacity\": 0.1,\n",
    "      \"labelFontSize\": 10,\n",
    "      \"format\": \"%\"\n",
    "    }\n",
    "  ],\n",
    "  \"marks\": [\n",
    "    {\n",
    "      \"type\": \"group\",\n",
    "      \"from\": {\"facet\": {\"name\": \"series\", \"data\": \"mpa\", \"groupby\": \"country\"}},\n",
    "      \"marks\": [\n",
    "        {\n",
    "          \"type\": \"area\",\n",
    "          \"from\": {\"data\": \"series\"},\n",
    "          \"encode\": {\n",
    "            \"enter\": {\n",
    "              \"x\": {\"scale\": \"x\", \"field\": \"date\"},\n",
    "              \"y\": {\"scale\": \"y\", \"field\": \"y0\"},\n",
    "              \"y2\": {\"scale\": \"y\",\"field\": \"y1\"},\n",
    "              \"fill\": {\"scale\": \"color\", \"field\": \"country\"},\n",
    "              \"fillOpacity\": {\"value\": 0.8}\n",
    "            },\n",
    "            \"update\": {\n",
    "              \"interpolate\": {\"value\": \"monotone\"},\n",
    "              \"fillOpacity\": {\"signal\": \"datum.country == active_country ? 0.85 : 0.8\"}\n",
    "            }\n",
    "          }\n",
    "        },\n",
    "        {\n",
    "          \"type\": \"line\",\n",
    "          \"from\": {\"data\": \"series\"},\n",
    "          \"encode\": {\n",
    "            \"enter\": {\n",
    "              \"x\": {\"scale\": \"x\", \"field\": \"date\"},\n",
    "              \"y\": {\"scale\": \"y\", \"field\": \"y1\"},\n",
    "              \"stroke\": {\"scale\": \"color\", \"field\": \"country\"},\n",
    "              \"strokeWidth\": {\"value\": 2}\n",
    "            },\n",
    "            \"update\": {\n",
    "              \"interpolate\": {\"value\": \"monotone\"},\n",
    "              \"strokeOpacity\": {\"signal\": \"datum.country == active_country ? 1 : 0.0\"}\n",
    "            }\n",
    "          }\n",
    "        },\n",
    "        {\n",
    "          \"name\": \"points\",\n",
    "          \"type\": \"symbol\",\n",
    "          \"from\": {\"data\": \"mpa\"},\n",
    "          \"encode\": {\n",
    "            \"update\": {\n",
    "              \"x\": {\"scale\": \"x\", \"field\": \"date\"},\n",
    "              \"y\": {\"scale\": \"y\", \"field\": \"y1\"},\n",
    "              \"size\": {\"value\": 30},\n",
    "              \"shape\": {\"value\": \"circle\"},\n",
    "              \"strokeWidth\": {\"value\": 2},\n",
    "              \"stroke\": {\"scale\": \"color\", \"field\": \"country\"},\n",
    "              \"fill\": [{\"test\": \"datum.country == active_country\", \"value\": \"white\"},{\"value\":\"transparent\"}],\n",
    "              \"strokeOpacity\": {\"signal\": \"datum.country == active_country ? 1 : 0.0\"}\n",
    "            }\n",
    "          }\n",
    "        },\n",
    "        {\n",
    "          \"name\": \"points_voronoi\",\n",
    "          \"type\": \"path\",\n",
    "          \"from\": {\"data\": \"points\"},\n",
    "          \"encode\": {\n",
    "            \"update\": {\n",
    "              \"fill\": {\"value\": \"transparent\"},\n",
    "              \"strokeWidth\": {\"value\": 0.35},\n",
    "              \"stroke\": {\"value\": \"transparent\"},\n",
    "              \"strokeOpacity\": {\"value\": 0.2},\n",
    "              \"isVoronoi\": {\"value\": true}\n",
    "            }\n",
    "          },\n",
    "          \"transform\": [\n",
    "            {\n",
    "              \"type\": \"voronoi\",\n",
    "              \"x\": \"datum.x\",\n",
    "              \"y\": \"datum.y\",\n",
    "              \"extent\": {\"signal\": \"[[0, scale('y', max)],[width, height]]\"}\n",
    "            }\n",
    "          ]\n",
    "        },\n",
    "        {\n",
    "          \"from\": {\"data\": \"highlightedPoint\"},\n",
    "          \"type\": \"symbol\",\n",
    "          \"interactive\": false,\n",
    "          \"encode\": {\n",
    "            \"update\": {\n",
    "              \"x\": {\"scale\": \"x\", \"field\": \"date\"},\n",
    "              \"y\": {\"scale\": \"y\", \"field\": \"y1\"},\n",
    "              \"stroke\": [{\"test\": \"datum.country == active_country\", \"scale\": \"color\", \"field\": \"country\"},{\"value\":\"transparent\"}],\n",
    "              \"strokeWidth\": {\"value\": 1},\n",
    "              \"fill\": [{\"test\": \"datum.country == active_country\", \"scale\": \"color\", \"field\": \"country\"},{\"value\":\"transparent\"}],\n",
    "              \"size\": {\"value\":25},\n",
    "              \"fillOpacity\": {\"value\": 1}\n",
    "            }\n",
    "          }\n",
    "        }\n",
    "      ]\n",
    "    }\n",
    "  ],\n",
    "    \"interaction_config\": [\n",
    "    {\n",
    "      \"name\": \"tooltip\",\n",
    "      \"config\": {\n",
    "        \"fields\": [\n",
    "          {\n",
    "            \"column\": \"datum.country\",\n",
    "            \"property\": \"Country\",\n",
    "            \"type\": \"text\",\n",
    "            \"format\": \"\"\n",
    "          },\n",
    "          {\n",
    "            \"column\": \"datum.date\",\n",
    "            \"property\": \"Year\",\n",
    "            \"type\": \"text\",\n",
    "            \"format\": \"\"\n",
    "          },\n",
    "          {\n",
    "            \"column\": \"datum.value\",\n",
    "            \"property\": \"Proportion Protected\",\n",
    "            \"type\": \"number\",\n",
    "            \"format\": \".1%\"\n",
    "          }\n",
    "        ]\n",
    "      }\n",
    "    }\n",
    "  ]\n",
    "}\"\"\")"
   ]
  },
  {
   "cell_type": "markdown",
   "metadata": {},
   "source": [
    "Parameterize the widget to view it in the notebook. A few parameters can also be adjusted for improved display."
   ]
  },
  {
   "cell_type": "code",
   "execution_count": 11,
   "metadata": {},
   "outputs": [
    {
     "data": {
      "application/vnd.vega.v5+json": {
       "$schema": "https://vega.github.io/schema/vega/v5.json",
       "axes": [
        {
         "labelBaseline": "top",
         "labelFontSize": 10,
         "labelOverlap": true,
         "orient": "bottom",
         "scale": "x"
        },
        {
         "format": "%",
         "grid": true,
         "gridOpacity": 0.1,
         "labelAlign": "right",
         "labelBaseline": "middle",
         "labelFontSize": 10,
         "labelPadding": 3,
         "orient": "left",
         "scale": "y"
        }
       ],
       "data": [
        {
         "format": {
          "property": "rows",
          "type": "json"
         },
         "name": "table",
         "url": "https://wri-rw.carto.com/api/v2/sql?q= SELECT gadm.gid_0, country, year AS date, value FROM ocn_023_rw1_marine_protection_edit data LEFT OUTER JOIN gadm36_0 gadm ON data.iso = gadm.gid_0 WHERE gadm.geostore_prod= 'ca5bfde08587530e76c17fe48362a01d' AND measure = 'Percent of total land/EEZ area' ORDER BY date ASC, name_0 ASC"
        },
        {
         "name": "maximum",
         "source": "table",
         "transform": [
          {
           "sort": {
            "field": "value",
            "order": "descending"
           },
           "type": "collect"
          }
         ]
        },
        {
         "name": "mpa",
         "source": "table",
         "transform": [
          {
           "as": "goal",
           "expr": "'30%'",
           "type": "formula"
          },
          {
           "as": "value",
           "expr": "datum.value/100",
           "type": "formula"
          },
          {
           "field": "value",
           "groupby": [
            "date"
           ],
           "sort": {
            "field": "country"
           },
           "type": "stack"
          },
          {
           "as": "total",
           "expr": "datum.y0 + datum.y1",
           "type": "formula"
          },
          {
           "sort": {
            "field": [
             "date",
             "country"
            ],
            "order": [
             "ascending",
             "ascending"
            ]
           },
           "type": "collect"
          }
         ]
        },
        {
         "name": "highlightedPoint",
         "source": "mpa",
         "transform": [
          {
           "expr": "(point_hover && point_hover.datum.date === datum.date) ",
           "type": "filter"
          }
         ]
        }
       ],
       "height": 200,
       "interaction_config": [
        {
         "config": {
          "fields": [
           {
            "column": "datum.country",
            "format": "",
            "property": "Country",
            "type": "text"
           },
           {
            "column": "datum.date",
            "format": "",
            "property": "Year",
            "type": "text"
           },
           {
            "column": "datum.value",
            "format": ".1%",
            "property": "Proportion Protected",
            "type": "number"
           }
          ]
         },
         "name": "tooltip"
        }
       ],
       "marks": [
        {
         "from": {
          "facet": {
           "data": "mpa",
           "groupby": "country",
           "name": "series"
          }
         },
         "marks": [
          {
           "encode": {
            "enter": {
             "fill": {
              "field": "country",
              "scale": "color"
             },
             "fillOpacity": {
              "value": 0.8
             },
             "x": {
              "field": "date",
              "scale": "x"
             },
             "y": {
              "field": "y0",
              "scale": "y"
             },
             "y2": {
              "field": "y1",
              "scale": "y"
             }
            },
            "update": {
             "fillOpacity": {
              "signal": "datum.country == active_country ? 0.85 : 0.8"
             },
             "interpolate": {
              "value": "monotone"
             }
            }
           },
           "from": {
            "data": "series"
           },
           "type": "area"
          },
          {
           "encode": {
            "enter": {
             "stroke": {
              "field": "country",
              "scale": "color"
             },
             "strokeWidth": {
              "value": 2
             },
             "x": {
              "field": "date",
              "scale": "x"
             },
             "y": {
              "field": "y1",
              "scale": "y"
             }
            },
            "update": {
             "interpolate": {
              "value": "monotone"
             },
             "strokeOpacity": {
              "signal": "datum.country == active_country ? 1 : 0.0"
             }
            }
           },
           "from": {
            "data": "series"
           },
           "type": "line"
          },
          {
           "encode": {
            "update": {
             "fill": [
              {
               "test": "datum.country == active_country",
               "value": "white"
              },
              {
               "value": "transparent"
              }
             ],
             "shape": {
              "value": "circle"
             },
             "size": {
              "value": 30
             },
             "stroke": {
              "field": "country",
              "scale": "color"
             },
             "strokeOpacity": {
              "signal": "datum.country == active_country ? 1 : 0.0"
             },
             "strokeWidth": {
              "value": 2
             },
             "x": {
              "field": "date",
              "scale": "x"
             },
             "y": {
              "field": "y1",
              "scale": "y"
             }
            }
           },
           "from": {
            "data": "mpa"
           },
           "name": "points",
           "type": "symbol"
          },
          {
           "encode": {
            "update": {
             "fill": {
              "value": "transparent"
             },
             "isVoronoi": {
              "value": true
             },
             "stroke": {
              "value": "transparent"
             },
             "strokeOpacity": {
              "value": 0.2
             },
             "strokeWidth": {
              "value": 0.35
             }
            }
           },
           "from": {
            "data": "points"
           },
           "name": "points_voronoi",
           "transform": [
            {
             "extent": {
              "signal": "[[0, scale('y', max)],[width, height]]"
             },
             "type": "voronoi",
             "x": "datum.x",
             "y": "datum.y"
            }
           ],
           "type": "path"
          },
          {
           "encode": {
            "update": {
             "fill": [
              {
               "field": "country",
               "scale": "color",
               "test": "datum.country == active_country"
              },
              {
               "value": "transparent"
              }
             ],
             "fillOpacity": {
              "value": 1
             },
             "size": {
              "value": 25
             },
             "stroke": [
              {
               "field": "country",
               "scale": "color",
               "test": "datum.country == active_country"
              },
              {
               "value": "transparent"
              }
             ],
             "strokeWidth": {
              "value": 1
             },
             "x": {
              "field": "date",
              "scale": "x"
             },
             "y": {
              "field": "y1",
              "scale": "y"
             }
            }
           },
           "from": {
            "data": "highlightedPoint"
           },
           "interactive": false,
           "type": "symbol"
          }
         ],
         "type": "group"
        }
       ],
       "padding": 5,
       "scales": [
        {
         "domain": {
          "data": "mpa",
          "field": "date"
         },
         "name": "x",
         "range": "width",
         "type": "point"
        },
        {
         "domain": {
          "data": "mpa",
          "field": "value"
         },
         "domainMax": {
          "signal": "gid === 'GLB' ? 0.30 : max < 0.80 ? max + 0.10 : 1"
         },
         "name": "y",
         "nice": true,
         "range": "height",
         "type": "linear",
         "zero": true
        },
        {
         "domain": {
          "data": "mpa",
          "field": "country"
         },
         "name": "color",
         "range": [
          "#005c7e"
         ],
         "type": "ordinal"
        }
       ],
       "signals": [
        {
         "name": "active_country",
         "on": [
          {
           "events": "*:mouseover",
           "update": "datum.datum.country"
          },
          {
           "events": "*:mouseout",
           "update": "null"
          }
         ],
         "value": ""
        },
        {
         "name": "point_hover",
         "on": [
          {
           "events": "@points_voronoi:mouseover",
           "update": "datum"
          },
          {
           "events": "@points_voronoi:mouseout",
           "update": "null"
          }
         ],
         "value": null
        },
        {
         "name": "gid",
         "update": "data('mpa')[0]['gid_0']"
        },
        {
         "name": "max",
         "update": "data('maximum')[0]['value']/100"
        }
       ],
       "width": 500
      },
      "image/png": "[encoded data removed]"
     },
     "metadata": {},
     "output_type": "display_data"
    }
   ],
   "source": [
    "vega_view=dict(spec)\n",
    "vega_view['height'] = widget_height\n",
    "vega_view['width'] = widget_width\n",
    "vega_view['data'][0]['url']= vega_view['data'][0]['url'].replace('{{geostore_env}}','geostore_prod')\n",
    "vega_view['data'][0]['url'] = vega_view['data'][0]['url'].replace('{{geostore_id}}','ca5bfde08587530e76c17fe48362a01d')\n",
    "vega_view['axes'][0]['labelBaseline']= \"top\"\n",
    "Vega(vega_view)"
   ]
  },
  {
   "cell_type": "markdown",
   "metadata": {},
   "source": [
    "[Open the Chart in the Vega Editor](https://vega.github.io/editor/#/url/vega/N4IgJAzgxgFgpgWwIYgFwhgF0wBwqgegIDc4BzJAOjIEtMYBXAI0poHsDp5kTykSArJQBWENgDsQAGhAB3GgBN6aAQAZVM+DTJY0AJnUycSBQpriyKmQqSYUqANqhxSBHDQg7TADbuZDACdvDyxcfCJZAJoAWgDZSigkAMw2BLYEAiQcGhI9TgBHbwB+fIBeAAIAZQBRABlqgGEAFXKKBQRqRQB9DXKoNgZxTACATylykbgk8oBBSvKbTDhx4iRvBjhygDEAJQB5AFlytihxHr0AZi64gEYu5CjxOC6cALYlqEx2M7gzTAXbEhyvUti09gBVJrVHblABSewAkgA5VomBAXABsPVR7XKexRiyoNDE5QqbQ6tAU2IA6gAJaHVHEU7qqCoAcgAQjsZmzZkiACLlNxICCBTbsgAKcACUDgQ2OADNyik7N5yt4kOIFARqtUAFrlJJTXl7Hb86HlDkATQBS1mlQa4xcbmxcwa0hACrYAWQmDQoEwIxw7nQogkHtebGDyRGHjesggIAAvkmpM5XCGQMgAB40BAMBAesSBWUeLy+D3DTUQL0+tBOTxBzP9by+T5F71+1CgBU0ODeBQeVbrPwgb0KaUeCfQOVmCzJpMAXVT6bcHgQxg7Jcz5dHVfENe9hccAabHlr+Y1Hrg2deHjZF1UAFI2R6RR4yGw1sm043g+ejwYK8ZBvO90EWAtKGHDYCBudQ30TdBoPcFc-0zCA7CgABrD0yDeBgcCYWNHBARZ3EXGQxGSf1PT7AcPH6QZhljVNaP7QckLWDYf1Pf90AvICUBA28AinWxIJGVRygAaltCSbgQst3m-VDAz4kAWzbP1KM7Gje3Y+tSNsUdGKGUYQAoscAgnUSSJFWUtXMSwZHs2cnIslNl1-Z1MxgbQYG8fylgUCU2HMbSQGLGVMw3ITPACasL3rXjM17bwllE4SwJAAAKHAwqGLoYDYUgAnKAAycryny8KipK6VKAgjoyNJUoKiaxrjIASnKZNl0siBtBcbxEIbHyPCQT4aFILpTOYj1kI8D1wxPEA4FIIZEJAAAqVAEAGCA4HqzKQAIsixMwSCOrm8zUPWuVMC23b9oYQ6Bgis7jI8cQgOCJdUPG9AasK4rSoWriQx+1sZBWht7s2jwAAFgcerpiG9CQwr2g6jrB-wcHO8DxMLO6NsepGUYgNGMfELGXrehgPoJr70Chv6vNXTNKQ9T6lgupAcrZWK2S6hxVEXBw2UpHo2UXHiQEBrMkGzHnmb5om7EFnM8wLEWxYltlkNl2D4KXSjEl8UbOY8FWZDUzMUY9BKLEzeQlBgD0FHSJBzBowl103GR9PojWUIBjMPFjO2z3QQKniSJ3NTIXy4CCj1xBoUtUGGDYZAAL2lNg0Bz5ZSO933uyMuwA7i4OOJARbWK95BzAOZWaMGshho-RRWvZABxWoOV5IpylUShH3KVAhWV8oAB4x8oAAOKTR5zGTF7gqfygUlNvIj9AW29SsY6sudvxkZ3k8MgBidQBCgAB2cjrHLyRK-99BYo9OuGIGMyWJmxAMrOAVsrJ9iGB4Jg7wUiFnNmsTMtsQAaiYP2DkIp+zmB3FGD0KD+x7FKhqHAxcAi52QUgVB3gtgSEwJUGgBc0BwVQt6CBXZkFwAVBFaACDI64IoWgjBccYqKAUBWGQeDvAzECl3OMadxH8O8BKEwc5LCoAuDIPCigSFkM0QoPYxgoB0GIuPG48jKHUKGHQhhqA4JByPLYDwT4+oyAeFhMB9sPz4WIUHN4x4eyTTgF2a26BDpRFAZ7QENdcJeKIn-Jit1WKuPcafI0tdfF+0iSE6UfZEysTlP0CcNEHqTkrirSu3CKzoCQb-UOP4QDEVABUzMUc2Ih3qaoOpIw9Adwts0n+dF64jF3kHGgrYek8MPmwbwx8RkGUmfEliIzWz6MmkYmii1UDjyXnvU6asQygHCtKfKGp1agA2VmTGKQnh1LSt4FZhjAwdyGt+DWkEbojFaoaKaM13nlFHlsgQ28tkLj3ilDwQif7pI-pkyK2Twl5PEAU-Za0hglNAGUxpvSbb9LmVXFCMgGmRSxegFpNT6nDMisMNgWFkVNL-tMk6ZL3l1Iwm8Gl1JFDKErhsvQOzebIsOQEY5LMzkQ3XJciQ+LKVsrgPctZ5TnnBFeR0X5bUvlfB+f-Zifyd5AsoB0lMoKFYHxAJTE+6kIAjAQNA4IPj0gZOrl-TcCKkU0X5TRDFRKJkgGqQMi6UrCV0pJTitpQyWX0ORRsx8rEIAwCyJGsVh8aAygrDGql7LOUe25Ym3llF020uJRpKZMzWn12ZaxW5yVPCgLYddLVoxPmTQ1c8ZlMhzmyD8nzVC5z9wQGMAEB6zjpXUtlQY+VjTFUXTefWj5aqm3TRbTOnVNw9UGsNfvNcQMCqo3Rm8WmNBzUO1sB7O1fiq72FNdu3JIFEVsEKZXd1ldK3ZpHGWZ2fajSQLTTKjl7t1mJvHhcAQ36R3-tfegXt-bB0gZpXKx5L7uKbMoLmkAxIABqNMwpgcQyXdd8VEpHirR4pCmGD0yDKVXSCSDiKUY6C0m8SxIEKq7i8kADgxbjCaYLEYbJxg5i6hRBwbt6DjC0DoTAi45aeVQgqKFoBP4YH8tIrAvxQrhTqcRyKVqbUekFfO0gaAFRrEOje11D69kevGZUn1Ib67nVYoGwtpK-Ukopay0Dq0lgYSnSqpdc7vmLoWUWQtR9GUuaLUF7tib8MHig1+ga+bf1ctFeBm4FbRlKobF52txM0gLMbQF2aM7gvetC7ZuJAD5Y9vfXFv0QDBrWJS4hvQwGll3LHfBprIY0uGv6jIPTU0JBFfEL2VRY0TUpCmV8bxRaRvaD0gMsBLYCzv1o3lyrRg3jRngyABoxXo7qSWNmCKF4HHoHlsthAq2OrnU21GaUO2rRTBOppo7J37FsIu1MlbPmoJiru9tmjEotudm+OUYH7w4CfF+Ie76BZUGMo+x4SgNwnH-X+kAA)"
   ]
  },
  {
   "cell_type": "markdown",
   "metadata": {},
   "source": [
    "### Global Chart"
   ]
  },
  {
   "cell_type": "code",
   "execution_count": 12,
   "metadata": {},
   "outputs": [],
   "source": [
    "spec=json.loads(\"\"\"{\n",
    "  \"schema\": \"https://vega.github.io/schema/vega/v5.json\",\n",
    "  \"padding\": 5,\n",
    "  \"data\": [\n",
    "    {\n",
    "      \"name\": \"table\",\n",
    "      \"url\": \"https://wri-rw.carto.com/api/v2/sql?q= SELECT gadm.gid_0, country, year AS date, value FROM (SELECT iso, country, year, value FROM ocn_023_rw1_marine_protection_edit UNION SELECT 'GLB' AS iso, 'National waters' as country, year, value FROM ocn_023_rw1_marine_protection_edit WHERE iso='WLD' AND measure = 'Square kilometers' UNION SELECT 'GLB' AS iso, country, year, value FROM ocn_023_rw1_marine_protection_edit WHERE iso='ABNJ' AND measure = 'Square kilometers') AS data LEFT OUTER JOIN gadm36_0 gadm ON data.iso = gadm.gid_0 WHERE gadm.gid_0= 'GLB' AND country != 'Global' ORDER BY date ASC, name_0 ASC\",\n",
    "      \"format\": {\n",
    "        \"type\": \"json\",\n",
    "        \"property\": \"rows\"\n",
    "      }\n",
    "    },\n",
    "    {\n",
    "      \"name\": \"maximum\",\n",
    "      \"source\": \"table\",\n",
    "      \"transform\": [\n",
    "        {\n",
    "          \"type\": \"collect\",\n",
    "          \"sort\": {\n",
    "            \"field\": \"value\",\n",
    "            \"order\": \"descending\"\n",
    "          }\n",
    "        }\n",
    "      ]\n",
    "    },\n",
    "    {\n",
    "      \"name\": \"mpa\",\n",
    "      \"source\": \"table\",\n",
    "      \"transform\": [\n",
    "        {\n",
    "          \"type\": \"formula\",\n",
    "          \"expr\": \"'30%'\",\n",
    "          \"as\": \"goal\"\n",
    "        },\n",
    "        {\n",
    "          \"type\": \"formula\",\n",
    "          \"expr\": \"'108,650,000 km²'\",\n",
    "          \"as\": \"goal_area\"\n",
    "        },\n",
    "        {\n",
    "          \"type\": \"stack\",\n",
    "          \"groupby\": [\n",
    "            \"date\"\n",
    "          ],\n",
    "          \"sort\": {\n",
    "            \"field\": \"country\"\n",
    "          },\n",
    "          \"field\": \"value\"\n",
    "        },\n",
    "        {\n",
    "          \"type\": \"formula\",\n",
    "          \"expr\": \"datum.y0 + datum.y1\",\n",
    "          \"as\": \"total\"\n",
    "        },\n",
    "        {\n",
    "          \"type\": \"collect\",\n",
    "          \"sort\": {\n",
    "            \"field\": [\n",
    "              \"date\",\n",
    "              \"country\"\n",
    "            ],\n",
    "            \"order\": [\n",
    "              \"ascending\",\n",
    "              \"ascending\"\n",
    "            ]\n",
    "          }\n",
    "        }\n",
    "      ]\n",
    "    },\n",
    "    {\n",
    "      \"name\": \"highlightedPoint\",\n",
    "      \"source\": \"mpa\",\n",
    "      \"transform\": [\n",
    "        {\n",
    "          \"type\": \"filter\",\n",
    "          \"expr\": \"(point_hover && point_hover.datum.date === datum.date) \"\n",
    "        }\n",
    "      ]\n",
    "    }\n",
    "  ],\n",
    "  \"signals\": [\n",
    "    {\n",
    "      \"name\": \"active_country\",\n",
    "      \"value\": \"\",\n",
    "      \"on\": [\n",
    "        {\n",
    "          \"events\": \"*:mouseover\",\n",
    "          \"update\": \"datum.datum.country\"\n",
    "        },\n",
    "        {\n",
    "          \"events\": \"*:mouseout\",\n",
    "          \"update\": \"null\"\n",
    "        }\n",
    "      ]\n",
    "    },\n",
    "    {\n",
    "      \"name\": \"point_hover\",\n",
    "      \"value\": null,\n",
    "      \"on\": [\n",
    "        {\n",
    "          \"events\": \"@points_voronoi:mouseover\",\n",
    "          \"update\": \"datum\"\n",
    "        },\n",
    "        {\n",
    "          \"events\": \"@points_voronoi:mouseout\",\n",
    "          \"update\": \"null\"\n",
    "        }\n",
    "      ]\n",
    "    },\n",
    "    {\n",
    "      \"name\": \"gid\",\n",
    "      \"update\": \"data('mpa')[0]['gid_0']\"\n",
    "    },\n",
    "    {\n",
    "      \"name\": \"max\",\n",
    "      \"update\": \"data('maximum')[0]['value']*3/2\"\n",
    "    }\n",
    "  ],\n",
    "  \"scales\": [\n",
    "    {\n",
    "      \"name\": \"x\",\n",
    "      \"type\": \"point\",\n",
    "      \"range\": \"width\",\n",
    "      \"domain\": {\n",
    "        \"data\": \"mpa\",\n",
    "        \"field\": \"date\"\n",
    "      }\n",
    "    },\n",
    "    {\n",
    "      \"name\": \"y\",\n",
    "      \"type\": \"linear\",\n",
    "      \"range\": \"height\",\n",
    "      \"nice\": true,\n",
    "      \"zero\": true,\n",
    "      \"domain\": {\n",
    "        \"data\": \"mpa\",\n",
    "        \"field\": \"value\"\n",
    "      },\n",
    "      \"domainMax\": 108654490\n",
    "    },\n",
    "    {\n",
    "      \"name\": \"colors\",\n",
    "      \"type\": \"ordinal\",\n",
    "      \"range\": [\n",
    "        \"#FFAE00\",\n",
    "        \"#5079AF\"\n",
    "      ],\n",
    "      \"domain\": {\n",
    "        \"data\": \"mpa\",\n",
    "        \"field\": \"country\"\n",
    "      }\n",
    "    },\n",
    "    {\n",
    "      \"name\": \"goal\",\n",
    "      \"type\": \"ordinal\",\n",
    "      \"range\": [\n",
    "        \"gold\"\n",
    "      ],\n",
    "      \"domain\": [\n",
    "        \"Post-2020 Global Biodiversity Framework target\"\n",
    "      ]\n",
    "    }\n",
    "  ],\n",
    "  \"axes\": [\n",
    "    {\n",
    "      \"orient\": \"bottom\",\n",
    "      \"scale\": \"x\",\n",
    "      \"labelBaseline\": \"middle\",\n",
    "      \"labelOverlap\": true,\n",
    "      \"labelFontSize\": 10\n",
    "    },\n",
    "    {\n",
    "      \"orient\": \"left\",\n",
    "      \"scale\": \"y\",\n",
    "      \"labelBaseline\": \"middle\",\n",
    "      \"labelAlign\": \"right\",\n",
    "      \"labelPadding\": 3,\n",
    "      \"grid\": true,\n",
    "      \"gridOpacity\": 0.1,\n",
    "      \"labelFontSize\": 10,\n",
    "      \"format\": \"~s\",\n",
    "      \"title\": \"Protected area (km²)\",\n",
    "      \"titleFont\": \"Lato\"\n",
    "    }\n",
    "  ],\n",
    "  \"marks\": [\n",
    "    {\n",
    "      \"type\": \"group\",\n",
    "      \"from\": {\n",
    "        \"facet\": {\n",
    "          \"name\": \"series\",\n",
    "          \"data\": \"mpa\",\n",
    "          \"groupby\": \"country\"\n",
    "        }\n",
    "      },\n",
    "      \"marks\": [\n",
    "        {\n",
    "          \"type\": \"area\",\n",
    "          \"from\": {\n",
    "            \"data\": \"series\"\n",
    "          },\n",
    "          \"encode\": {\n",
    "            \"enter\": {\n",
    "              \"x\": {\n",
    "                \"scale\": \"x\",\n",
    "                \"field\": \"date\"\n",
    "              },\n",
    "              \"y\": {\n",
    "                \"scale\": \"y\",\n",
    "                \"field\": \"y0\"\n",
    "              },\n",
    "              \"y2\": {\n",
    "                \"scale\": \"y\",\n",
    "                \"field\": \"y1\"\n",
    "              },\n",
    "              \"fill\": {\n",
    "                \"scale\": \"colors\",\n",
    "                \"field\": \"country\"\n",
    "              },\n",
    "              \"fillOpacity\": {\n",
    "                \"value\": 0.8\n",
    "              }\n",
    "            },\n",
    "            \"update\": {\n",
    "              \"interpolate\": {\n",
    "                \"value\": \"monotone\"\n",
    "              },\n",
    "              \"fillOpacity\": {\n",
    "                \"signal\": \"datum.country == active_country ? 0.85 : 0.8\"\n",
    "              }\n",
    "            }\n",
    "          }\n",
    "        },\n",
    "        {\n",
    "          \"type\": \"line\",\n",
    "          \"from\": {\n",
    "            \"data\": \"series\"\n",
    "          },\n",
    "          \"encode\": {\n",
    "            \"enter\": {\n",
    "              \"x\": {\n",
    "                \"scale\": \"x\",\n",
    "                \"field\": \"date\"\n",
    "              },\n",
    "              \"y\": {\n",
    "                \"scale\": \"y\",\n",
    "                \"field\": \"y1\"\n",
    "              },\n",
    "              \"stroke\": {\n",
    "                \"scale\": \"colors\",\n",
    "                \"field\": \"country\"\n",
    "              },\n",
    "              \"strokeWidth\": {\n",
    "                \"value\": 2\n",
    "              }\n",
    "            },\n",
    "            \"update\": {\n",
    "              \"interpolate\": {\n",
    "                \"value\": \"monotone\"\n",
    "              },\n",
    "              \"strokeOpacity\": {\n",
    "                \"signal\": \"datum.country == active_country ? 1 : 0.0\"\n",
    "              }\n",
    "            }\n",
    "          }\n",
    "        },\n",
    "        {\n",
    "          \"name\": \"points\",\n",
    "          \"type\": \"symbol\",\n",
    "          \"from\": {\n",
    "            \"data\": \"mpa\"\n",
    "          },\n",
    "          \"encode\": {\n",
    "            \"update\": {\n",
    "              \"x\": {\n",
    "                \"scale\": \"x\",\n",
    "                \"field\": \"date\"\n",
    "              },\n",
    "              \"y\": {\n",
    "                \"scale\": \"y\",\n",
    "                \"field\": \"y1\"\n",
    "              },\n",
    "              \"size\": {\n",
    "                \"value\": 30\n",
    "              },\n",
    "              \"shape\": {\n",
    "                \"value\": \"circle\"\n",
    "              },\n",
    "              \"strokeWidth\": {\n",
    "                \"value\": 2\n",
    "              },\n",
    "              \"stroke\": {\n",
    "                \"scale\": {\n",
    "                  \"signal\": \"(datum.gid_0=== 'GLB' ? 'colors' : 'color')\"\n",
    "                },\n",
    "                \"field\": \"country\"\n",
    "              },\n",
    "              \"fill\": [\n",
    "                {\n",
    "                  \"test\": \"datum.country == active_country\",\n",
    "                  \"value\": \"white\"\n",
    "                },\n",
    "                {\n",
    "                  \"value\": \"transparent\"\n",
    "                }\n",
    "              ],\n",
    "              \"strokeOpacity\": {\n",
    "                \"signal\": \"datum.country == active_country ? 1 : 0.0\"\n",
    "              }\n",
    "            }\n",
    "          }\n",
    "        },\n",
    "        {\n",
    "          \"name\": \"points_voronoi\",\n",
    "          \"type\": \"path\",\n",
    "          \"from\": {\n",
    "            \"data\": \"points\"\n",
    "          },\n",
    "          \"encode\": {\n",
    "            \"update\": {\n",
    "              \"fill\": {\n",
    "                \"value\": \"transparent\"\n",
    "              },\n",
    "              \"strokeWidth\": {\n",
    "                \"value\": 0.35\n",
    "              },\n",
    "              \"stroke\": {\n",
    "                \"value\": \"transparent\"\n",
    "              },\n",
    "              \"strokeOpacity\": {\n",
    "                \"value\": 0.2\n",
    "              },\n",
    "              \"isVoronoi\": {\n",
    "                \"value\": true\n",
    "              }\n",
    "            }\n",
    "          },\n",
    "          \"transform\": [\n",
    "            {\n",
    "              \"type\": \"voronoi\",\n",
    "              \"x\": \"datum.x\",\n",
    "              \"y\": \"datum.y\",\n",
    "              \"extent\": {\n",
    "                \"signal\": \"[[0, scale('y', max)],[width, height]]\"\n",
    "              }\n",
    "            }\n",
    "          ]\n",
    "        },\n",
    "        {\n",
    "          \"from\": {\n",
    "            \"data\": \"highlightedPoint\"\n",
    "          },\n",
    "          \"type\": \"symbol\",\n",
    "          \"interactive\": false,\n",
    "          \"encode\": {\n",
    "            \"update\": {\n",
    "              \"x\": {\n",
    "                \"scale\": \"x\",\n",
    "                \"field\": \"date\"\n",
    "              },\n",
    "              \"y\": {\n",
    "                \"scale\": \"y\",\n",
    "                \"field\": \"y1\"\n",
    "              },\n",
    "              \"stroke\": [\n",
    "                {\n",
    "                  \"test\": \"datum.country == active_country\",\n",
    "                  \"scale\": \"colors\",\n",
    "                  \"field\": \"country\"\n",
    "                },\n",
    "                {\n",
    "                  \"value\": \"transparent\"\n",
    "                }\n",
    "              ],\n",
    "              \"strokeWidth\": {\n",
    "                \"value\": 1\n",
    "              },\n",
    "              \"fill\": [\n",
    "                {\n",
    "                  \"test\": \"datum.country == active_country\",\n",
    "                  \"scale\": \"colors\",\n",
    "                  \"field\": \"country\"\n",
    "                },\n",
    "                {\n",
    "                  \"value\": \"transparent\"\n",
    "                }\n",
    "              ],\n",
    "              \"size\": {\n",
    "                \"value\": 25\n",
    "              },\n",
    "              \"fillOpacity\": {\n",
    "                \"value\": 1\n",
    "              }\n",
    "            }\n",
    "          }\n",
    "        }\n",
    "      ]\n",
    "    },\n",
    "    {\n",
    "      \"name\": \"line\",\n",
    "      \"from\": {\n",
    "        \"data\": \"mpa\"\n",
    "      },\n",
    "      \"type\": \"line\",\n",
    "      \"zindex\": 1,\n",
    "      \"encode\": {\n",
    "        \"enter\": {\n",
    "          \"x\": {\n",
    "            \"scale\": \"x\",\n",
    "            \"field\": \"date\"\n",
    "          },\n",
    "          \"y\": {\n",
    "            \"scale\": \"y\",\n",
    "            \"value\": 0.3\n",
    "          },\n",
    "          \"strokeOpacity\": [\n",
    "            {\n",
    "              \"test\": \"gid === 'GLB'\",\n",
    "              \"value\": 1\n",
    "            },\n",
    "            {\n",
    "              \"value\": 0\n",
    "            }\n",
    "          ],\n",
    "          \"stroke\": {\n",
    "            \"value\": \"transparent\"\n",
    "          },\n",
    "          \"strokeWidth\": {\n",
    "            \"value\": 3\n",
    "          },\n",
    "          \"strokeDash\": {\n",
    "            \"value\": [\n",
    "              8,\n",
    "              4\n",
    "            ]\n",
    "          }\n",
    "        },\n",
    "        \"update\": {\n",
    "          \"strokeOpacity\": {\n",
    "            \"value\": 1\n",
    "          }\n",
    "        },\n",
    "        \"hover\": {\n",
    "          \"strokeOpacity\": {\n",
    "            \"value\": 0.5\n",
    "          }\n",
    "        }\n",
    "      }\n",
    "    },\n",
    "    {\n",
    "      \"name\": \"goal\",\n",
    "      \"from\": {\n",
    "        \"data\": \"mpa\"\n",
    "      },\n",
    "      \"type\": \"line\",\n",
    "      \"zindex\": 1,\n",
    "      \"encode\": {\n",
    "        \"enter\": {\n",
    "          \"x\": {\n",
    "            \"scale\": \"x\",\n",
    "            \"field\": \"date\"\n",
    "          },\n",
    "          \"y\": {\n",
    "            \"scale\": \"y\",\n",
    "            \"value\": 108654490\n",
    "          },\n",
    "          \"stroke\": {\n",
    "            \"value\": \"gold\"\n",
    "          },\n",
    "          \"strokeWidth\": {\n",
    "            \"value\": 2\n",
    "          },\n",
    "          \"strokeDash\": {\n",
    "            \"value\": [\n",
    "              8,\n",
    "              4\n",
    "            ]\n",
    "          }\n",
    "        },\n",
    "        \"update\": {\n",
    "          \"strokeOpacity\": {\n",
    "            \"value\": 1\n",
    "          }\n",
    "        },\n",
    "        \"hover\": {\n",
    "          \"strokeOpacity\": {\n",
    "            \"value\": 0.5\n",
    "          }\n",
    "        }\n",
    "      }\n",
    "    }\n",
    "  ],\n",
    "  \"legends\": [\n",
    "    {\n",
    "      \"titleFont\": \"Lato\",\n",
    "      \"labelFont\": \"Lato\",\n",
    "      \"fill\": \"colors\",\n",
    "      \"symbolOpacity\": 0.7,\n",
    "      \"direction\": \"horizontal\",\n",
    "      \"orient\": \"bottom\"\n",
    "    },\n",
    "    {\n",
    "      \"fill\": \"goal\",\n",
    "      \"zindex\": 4,\n",
    "      \"orient\": \"bottom\",\n",
    "      \"labelFont\": \"Lato\",\n",
    "      \"encode\": {\n",
    "        \"symbols\": {\n",
    "          \"update\": {\n",
    "            \"size\": {\n",
    "              \"value\": 80\n",
    "            },\n",
    "            \"stroke\": {\n",
    "              \"value\": \"gold\"\n",
    "            },\n",
    "            \"strokeDash\": {\n",
    "              \"value\": [\n",
    "                4,\n",
    "                2\n",
    "              ]\n",
    "            },\n",
    "            \"shape\": {\n",
    "              \"value\": \"stroke\"\n",
    "            }\n",
    "          }\n",
    "        },\n",
    "        \"labels\": {\n",
    "          \"interactive\": true,\n",
    "          \"update\": {\n",
    "            \"fill\": {\n",
    "              \"value\": \"black\"\n",
    "            }\n",
    "          },\n",
    "          \"hover\": {\n",
    "            \"fill\": {\n",
    "              \"value\": \"firebrick\"\n",
    "            }\n",
    "          }\n",
    "        }\n",
    "      }\n",
    "    }\n",
    "  ],\n",
    "  \"interaction_config\": [\n",
    "    {\n",
    "      \"name\": \"tooltip\",\n",
    "      \"config\": {\n",
    "        \"fields\": [\n",
    "          {\n",
    "            \"column\": \"datum.country\",\n",
    "            \"property\": \"Area\",\n",
    "            \"type\": \"text\",\n",
    "            \"format\": \"\"\n",
    "          },\n",
    "          {\n",
    "            \"column\": \"datum.date\",\n",
    "            \"property\": \"Year\",\n",
    "            \"type\": \"text\",\n",
    "            \"format\": \"\"\n",
    "          },\n",
    "          {\n",
    "            \"column\": \"datum.value\",\n",
    "            \"property\": \"Area protected (km²)\",\n",
    "            \"type\": \"number\",\n",
    "            \"format\": \",.0f\"\n",
    "          },\n",
    "          {\n",
    "            \"column\": \"goal\",\n",
    "            \"property\": \"Post-2020 global biodiversity framework target\",\n",
    "            \"type\": \"text\",\n",
    "            \"format\": \"\"\n",
    "          },\n",
    "          {\n",
    "            \"column\": \"goal_area\",\n",
    "            \"property\": \"Area\",\n",
    "            \"type\": \"text\",\n",
    "            \"format\": \"\"\n",
    "          },\n",
    "          {\n",
    "            \"column\": \"label\",\n",
    "            \"property\": \"Area\",\n",
    "            \"type\": \"text\",\n",
    "            \"format\": \"\"\n",
    "          }\n",
    "        ]\n",
    "      }\n",
    "    }\n",
    "  ]\n",
    "}\"\"\")"
   ]
  },
  {
   "cell_type": "code",
   "execution_count": 17,
   "metadata": {},
   "outputs": [
    {
     "data": {
      "application/vnd.vega.v5+json": {
       "axes": [
        {
         "labelBaseline": "top",
         "labelFontSize": 10,
         "labelOverlap": true,
         "orient": "bottom",
         "scale": "x"
        },
        {
         "format": "~s",
         "grid": true,
         "gridOpacity": 0.1,
         "labelAlign": "right",
         "labelBaseline": "middle",
         "labelFontSize": 10,
         "labelPadding": 3,
         "orient": "left",
         "scale": "y",
         "title": "Protected area (km²)",
         "titleFont": "Arial"
        }
       ],
       "data": [
        {
         "format": {
          "property": "rows",
          "type": "json"
         },
         "name": "table",
         "url": "https://wri-rw.carto.com/api/v2/sql?q= SELECT gadm.gid_0, country, year AS date, value FROM (SELECT iso, country, year, value FROM ocn_023_rw1_marine_protection_edit UNION SELECT 'GLB' AS iso, 'National waters' as country, year, value FROM ocn_023_rw1_marine_protection_edit WHERE iso='WLD' AND measure = 'Square kilometers' UNION SELECT 'GLB' AS iso, country, year, value FROM ocn_023_rw1_marine_protection_edit WHERE iso='ABNJ' AND measure = 'Square kilometers') AS data LEFT OUTER JOIN gadm36_0 gadm ON data.iso = gadm.gid_0 WHERE gadm.gid_0= 'GLB' AND country != 'Global' ORDER BY date ASC, name_0 ASC"
        },
        {
         "name": "maximum",
         "source": "table",
         "transform": [
          {
           "sort": {
            "field": "value",
            "order": "descending"
           },
           "type": "collect"
          }
         ]
        },
        {
         "name": "mpa",
         "source": "table",
         "transform": [
          {
           "as": "goal",
           "expr": "'30%'",
           "type": "formula"
          },
          {
           "as": "goal_area",
           "expr": "'108,650,000 km²'",
           "type": "formula"
          },
          {
           "field": "value",
           "groupby": [
            "date"
           ],
           "sort": {
            "field": "country"
           },
           "type": "stack"
          },
          {
           "as": "total",
           "expr": "datum.y0 + datum.y1",
           "type": "formula"
          },
          {
           "sort": {
            "field": [
             "date",
             "country"
            ],
            "order": [
             "ascending",
             "ascending"
            ]
           },
           "type": "collect"
          }
         ]
        },
        {
         "name": "highlightedPoint",
         "source": "mpa",
         "transform": [
          {
           "expr": "(point_hover && point_hover.datum.date === datum.date) ",
           "type": "filter"
          }
         ]
        }
       ],
       "height": 200,
       "interaction_config": [
        {
         "config": {
          "fields": [
           {
            "column": "datum.country",
            "format": "",
            "property": "Area",
            "type": "text"
           },
           {
            "column": "datum.date",
            "format": "",
            "property": "Year",
            "type": "text"
           },
           {
            "column": "datum.value",
            "format": ",.0f",
            "property": "Area protected (km²)",
            "type": "number"
           },
           {
            "column": "goal",
            "format": "",
            "property": "Post-2020 global biodiversity framework target",
            "type": "text"
           },
           {
            "column": "goal_area",
            "format": "",
            "property": "Area",
            "type": "text"
           },
           {
            "column": "label",
            "format": "",
            "property": "Area",
            "type": "text"
           }
          ]
         },
         "name": "tooltip"
        }
       ],
       "legends": [
        {
         "direction": "horizontal",
         "fill": "colors",
         "labelFont": "Arial",
         "orient": "bottom",
         "symbolOpacity": 0.7,
         "titleFont": "Lato"
        },
        {
         "encode": {
          "labels": {
           "hover": {
            "fill": {
             "value": "firebrick"
            }
           },
           "interactive": true,
           "update": {
            "fill": {
             "value": "black"
            }
           }
          },
          "symbols": {
           "update": {
            "shape": {
             "value": "stroke"
            },
            "size": {
             "value": 80
            },
            "stroke": {
             "value": "gold"
            },
            "strokeDash": {
             "value": [
              4,
              2
             ]
            }
           }
          }
         },
         "fill": "goal",
         "labelFont": "Arial",
         "orient": "bottom",
         "zindex": 4
        }
       ],
       "marks": [
        {
         "from": {
          "facet": {
           "data": "mpa",
           "groupby": "country",
           "name": "series"
          }
         },
         "marks": [
          {
           "encode": {
            "enter": {
             "fill": {
              "field": "country",
              "scale": "colors"
             },
             "fillOpacity": {
              "value": 0.8
             },
             "x": {
              "field": "date",
              "scale": "x"
             },
             "y": {
              "field": "y0",
              "scale": "y"
             },
             "y2": {
              "field": "y1",
              "scale": "y"
             }
            },
            "update": {
             "fillOpacity": {
              "signal": "datum.country == active_country ? 0.85 : 0.8"
             },
             "interpolate": {
              "value": "monotone"
             }
            }
           },
           "from": {
            "data": "series"
           },
           "type": "area"
          },
          {
           "encode": {
            "enter": {
             "stroke": {
              "field": "country",
              "scale": "colors"
             },
             "strokeWidth": {
              "value": 2
             },
             "x": {
              "field": "date",
              "scale": "x"
             },
             "y": {
              "field": "y1",
              "scale": "y"
             }
            },
            "update": {
             "interpolate": {
              "value": "monotone"
             },
             "strokeOpacity": {
              "signal": "datum.country == active_country ? 1 : 0.0"
             }
            }
           },
           "from": {
            "data": "series"
           },
           "type": "line"
          },
          {
           "encode": {
            "update": {
             "fill": [
              {
               "test": "datum.country == active_country",
               "value": "white"
              },
              {
               "value": "transparent"
              }
             ],
             "shape": {
              "value": "circle"
             },
             "size": {
              "value": 30
             },
             "stroke": {
              "field": "country",
              "scale": {
               "signal": "(datum.gid_0=== 'GLB' ? 'colors' : 'color')"
              }
             },
             "strokeOpacity": {
              "signal": "datum.country == active_country ? 1 : 0.0"
             },
             "strokeWidth": {
              "value": 2
             },
             "x": {
              "field": "date",
              "scale": "x"
             },
             "y": {
              "field": "y1",
              "scale": "y"
             }
            }
           },
           "from": {
            "data": "mpa"
           },
           "name": "points",
           "type": "symbol"
          },
          {
           "encode": {
            "update": {
             "fill": {
              "value": "transparent"
             },
             "isVoronoi": {
              "value": true
             },
             "stroke": {
              "value": "transparent"
             },
             "strokeOpacity": {
              "value": 0.2
             },
             "strokeWidth": {
              "value": 0.35
             }
            }
           },
           "from": {
            "data": "points"
           },
           "name": "points_voronoi",
           "transform": [
            {
             "extent": {
              "signal": "[[0, scale('y', max)],[width, height]]"
             },
             "type": "voronoi",
             "x": "datum.x",
             "y": "datum.y"
            }
           ],
           "type": "path"
          },
          {
           "encode": {
            "update": {
             "fill": [
              {
               "field": "country",
               "scale": "colors",
               "test": "datum.country == active_country"
              },
              {
               "value": "transparent"
              }
             ],
             "fillOpacity": {
              "value": 1
             },
             "size": {
              "value": 25
             },
             "stroke": [
              {
               "field": "country",
               "scale": "colors",
               "test": "datum.country == active_country"
              },
              {
               "value": "transparent"
              }
             ],
             "strokeWidth": {
              "value": 1
             },
             "x": {
              "field": "date",
              "scale": "x"
             },
             "y": {
              "field": "y1",
              "scale": "y"
             }
            }
           },
           "from": {
            "data": "highlightedPoint"
           },
           "interactive": false,
           "type": "symbol"
          }
         ],
         "type": "group"
        },
        {
         "encode": {
          "enter": {
           "stroke": {
            "value": "transparent"
           },
           "strokeDash": {
            "value": [
             8,
             4
            ]
           },
           "strokeOpacity": [
            {
             "test": "gid === 'GLB'",
             "value": 1
            },
            {
             "value": 0
            }
           ],
           "strokeWidth": {
            "value": 3
           },
           "x": {
            "field": "date",
            "scale": "x"
           },
           "y": {
            "scale": "y",
            "value": 0.3
           }
          },
          "hover": {
           "strokeOpacity": {
            "value": 0.5
           }
          },
          "update": {
           "strokeOpacity": {
            "value": 1
           }
          }
         },
         "from": {
          "data": "mpa"
         },
         "name": "line",
         "type": "line",
         "zindex": 1
        },
        {
         "encode": {
          "enter": {
           "stroke": {
            "value": "gold"
           },
           "strokeDash": {
            "value": [
             8,
             4
            ]
           },
           "strokeWidth": {
            "value": 2
           },
           "x": {
            "field": "date",
            "scale": "x"
           },
           "y": {
            "scale": "y",
            "value": 108654490
           }
          },
          "hover": {
           "strokeOpacity": {
            "value": 0.5
           }
          },
          "update": {
           "strokeOpacity": {
            "value": 1
           }
          }
         },
         "from": {
          "data": "mpa"
         },
         "name": "goal",
         "type": "line",
         "zindex": 1
        }
       ],
       "padding": 5,
       "scales": [
        {
         "domain": {
          "data": "mpa",
          "field": "date"
         },
         "name": "x",
         "range": "width",
         "type": "point"
        },
        {
         "domain": {
          "data": "mpa",
          "field": "value"
         },
         "domainMax": 108654490,
         "name": "y",
         "nice": true,
         "range": "height",
         "type": "linear",
         "zero": true
        },
        {
         "domain": {
          "data": "mpa",
          "field": "country"
         },
         "name": "colors",
         "range": [
          "#FFAE00",
          "#5079AF"
         ],
         "type": "ordinal"
        },
        {
         "domain": [
          "Post-2020 Global Biodiversity Framework target"
         ],
         "name": "goal",
         "range": [
          "gold"
         ],
         "type": "ordinal"
        }
       ],
       "schema": "https://vega.github.io/schema/vega/v5.json",
       "signals": [
        {
         "name": "active_country",
         "on": [
          {
           "events": "*:mouseover",
           "update": "datum.datum.country"
          },
          {
           "events": "*:mouseout",
           "update": "null"
          }
         ],
         "value": ""
        },
        {
         "name": "point_hover",
         "on": [
          {
           "events": "@points_voronoi:mouseover",
           "update": "datum"
          },
          {
           "events": "@points_voronoi:mouseout",
           "update": "null"
          }
         ],
         "value": null
        },
        {
         "name": "gid",
         "update": "data('mpa')[0]['gid_0']"
        },
        {
         "name": "max",
         "update": "data('maximum')[0]['value']*3/2"
        }
       ],
       "width": 500
      },
      "image/png": "[encoded data removed]"
     },
     "metadata": {},
     "output_type": "display_data"
    }
   ],
   "source": [
    "vega_view=dict(spec)\n",
    "vega_view['height'] = widget_height\n",
    "vega_view['width'] = widget_width\n",
    "vega_view['axes'][0]['labelBaseline']= \"top\"\n",
    "vega_view['axes'][1]['titleFont'] = 'Arial'\n",
    "vega_view['legends'][0]['labelFont'] = 'Arial'\n",
    "vega_view['legends'][1]['labelFont'] = 'Arial'\n",
    "Vega(vega_view)"
   ]
  },
  {
   "cell_type": "markdown",
   "metadata": {},
   "source": [
    "# Indicator"
   ]
  },
  {
   "cell_type": "markdown",
   "metadata": {},
   "source": [
    "Proportion of the marine environment that is currently protected"
   ]
  },
  {
   "cell_type": "markdown",
   "metadata": {},
   "source": [
    "## Country/territory"
   ]
  },
  {
   "cell_type": "markdown",
   "metadata": {},
   "source": [
    "```sql\n",
    "SELECT value FROM ocn_023_rw0_marine_protection_edit \n",
    "INNER JOIN gadm36_0 gadm ON iso = gadm.gid_0 \n",
    "WHERE year = 2018 \n",
    "AND gadm.{{geostore_env}} ILIKE '{{geostore_id}}'\n",
    "```"
   ]
  },
  {
   "cell_type": "markdown",
   "metadata": {},
   "source": [
    "- ```query```: [https://wri-rw.carto.com/api/v2/sql?q=SELECT ROUND(value) FROM ocn_023_rw0_marine_protection_edit INNER JOIN gadm36_0 gadm ON iso = gadm.gid_0 WHERE year = 2021 AND gadm.{{geostore_env}} ILIKE '{{geostore_id}}'](https://wri-rw.carto.com/api/v2/sql?q=SELECT%20ROUND(value)%20FROM%20ocn_023_rw0_marine_protection_edit%20INNER%20JOIN%20gadm36_0%20gadm%20ON%20iso%20=%20gadm.gid_0%20WHERE%20year%20=%202021%20AND%20gadm.gid_0%20ILIKE%20%27MEX%27)\n"
   ]
  },
  {
   "cell_type": "markdown",
   "metadata": {},
   "source": [
    "## World"
   ]
  },
  {
   "cell_type": "markdown",
   "metadata": {},
   "source": [
    "```sql\n",
    "SELECT SUM(value) FROM ocn_023_rw0_marine_protection_edit  \n",
    "WHERE year = 2021\n",
    "AND iso IN ('ABNJ','WLD')\n",
    "```"
   ]
  },
  {
   "cell_type": "markdown",
   "metadata": {},
   "source": [
    "- ```query```: [https://wri-rw.carto.com/api/v2/sql?q=SELECT ROUND(SUM(value)) FROM ocn_023_rw0_marine_protection_edit WHERE year = 20 AND iso IN ('ABNJ','WLD')](https://wri-rw.carto.com/api/v2/sql?q=SELECT%20ROUND(SUM(value))%20FROM%20ocn_023_rw0_marine_protection_edit%20WHERE%20year%20=%202021%20AND%20iso%20IN%20(%27ABNJ%27,%27WLD%27))\n",
    "\n"
   ]
  },
  {
   "cell_type": "markdown",
   "metadata": {},
   "source": [
    "## RW Backoffice"
   ]
  },
  {
   "cell_type": "markdown",
   "metadata": {},
   "source": [
    "- parent dataset ocn.023 (unpublished)\n",
    "    - dataset id ```40c8d7b8-36b6-4f07-8941-cc61dc62fc12```\n",
    "- country widget id: ```92e5286e-b40a-4a6f-a3e5-84ac9b49d459```\n",
    "    - [api widget](https://api.resourcewatch.org/v1/widget/92e5286e-b40a-4a6f-a3e5-84ac9b49d459?env=production)\n",
    "    - [back office](https://resourcewatch.org/admin/data/widgets/92e5286e-b40a-4a6f-a3e5-84ac9b49d459/edit?dataset=40c8d7b8-36b6-4f07-8941-cc61dc62fc12)\n",
    "- global widget id: ```c8107826-440d-4c14-8f12-3fb88449f730```\n",
    "    - [api widget](https://api.resourcewatch.org/v1/widget/c8107826-440d-4c14-8f12-3fb88449f730?env=production)\n"
   ]
  },
  {
   "cell_type": "code",
   "execution_count": null,
   "metadata": {},
   "outputs": [],
   "source": []
  }
 ],
 "metadata": {
  "kernelspec": {
   "display_name": "Python 3",
   "language": "python",
   "name": "python3"
  },
  "language_info": {
   "codemirror_mode": {
    "name": "ipython",
    "version": 3
   },
   "file_extension": ".py",
   "mimetype": "text/x-python",
   "name": "python",
   "nbconvert_exporter": "python",
   "pygments_lexer": "ipython3",
   "version": "3.7.7"
  }
 },
 "nbformat": 4,
 "nbformat_minor": 4
}
