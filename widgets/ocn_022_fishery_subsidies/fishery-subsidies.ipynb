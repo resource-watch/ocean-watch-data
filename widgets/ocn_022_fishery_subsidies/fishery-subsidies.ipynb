{
 "cells": [
  {
   "cell_type": "markdown",
   "metadata": {},
   "source": [
    "# Fishery Subsidies\n",
    "Government fishing subsidies, disaggregated by category (though not fully by type), for all available countries/territories.  \n",
    "\n",
    "Note that this is a parameterized widget; the specification passed to the API will not be renderable without the geostore identifier being inserted.  \n",
    "\n",
    "_Author: Peter Kerins_  \n",
    "_Created: 17 Aug 2021_  \n",
    "_Environment: jupyterlab_  "
   ]
  },
  {
   "cell_type": "markdown",
   "metadata": {},
   "source": [
    "## Style\n",
    "- Vega chart\n",
    "- Ocean Watch country page - parameterized chart\n",
    "- Horizontal bar chart\n",
    "- Categories"
   ]
  },
  {
   "cell_type": "markdown",
   "metadata": {},
   "source": [
    "## Data\n",
    "Underlying dataset: [ocn.022 Fisheries Subsidies](https://resourcewatch.carto.com/u/wri-rw/dataset/ocn_022_rw0_fisheries_subsidies_edit)\n",
    "Widget data: [ow_widget_territory](https://resourcewatch.carto.com/u/wri-rw/dataset/ow_widget_territory) (master table for all territory-based widgets on Ocean Watch)  "
   ]
  },
  {
   "cell_type": "markdown",
   "metadata": {},
   "source": [
    "## Preparation"
   ]
  },
  {
   "cell_type": "code",
   "execution_count": 5,
   "metadata": {},
   "outputs": [],
   "source": [
    "import json\n",
    "from vega import Vega\n",
    "from IPython.display import display"
   ]
  },
  {
   "cell_type": "code",
   "execution_count": 6,
   "metadata": {},
   "outputs": [],
   "source": [
    "def Vega(spec):\n",
    "    bundle = {}\n",
    "    bundle['application/vnd.vega.v5+json'] = spec\n",
    "    display(bundle, raw=True)"
   ]
  },
  {
   "cell_type": "code",
   "execution_count": 7,
   "metadata": {
    "tags": []
   },
   "outputs": [],
   "source": [
    "widget_width = 400\n",
    "widget_height = 300"
   ]
  },
  {
   "cell_type": "markdown",
   "metadata": {},
   "source": [
    "# Widget"
   ]
  },
  {
   "cell_type": "markdown",
   "metadata": {},
   "source": [
    "## Demo Query\n",
    "`gid_0 = <territory>` used as stand-in for parameterization\n",
    "```sql\n",
    "SELECT gid_0, gadm.name_0, CONCAT(category, ', ', type ), constant_2018_usd as value FROM ocn_022_rw0_fisheries_subsidies_edit\n",
    "INNER JOIN ow_aliasing_countries alias on alias.alias = country\n",
    "INNER JOIN gadm36_0 gadm ON alias.iso = gadm.gid_0\n",
    "WHERE gid_0 = 'MEX'\n",
    "```"
   ]
  },
  {
   "cell_type": "markdown",
   "metadata": {},
   "source": [
    "## Parameterized Query\n",
    "```sql\n",
    "SELECT gid_0, gadm.name_0, CONCAT(category, ', ', type ), constant_2018_usd as value FROM ocn_022_rw0_fisheries_subsidies_edit\n",
    "INNER JOIN ow_aliasing_countries alias on alias.alias = country\n",
    "INNER JOIN gadm36_0 gadm ON alias.iso = gadm.gid_0\n",
    "WHERE gadm.{{geostore_env}}='{{geostore_id}}'\n",
    "```"
   ]
  },
  {
   "cell_type": "markdown",
   "metadata": {},
   "source": [
    "## Specification\n",
    "Vega code presumes RW-style `config` element present"
   ]
  },
  {
   "cell_type": "code",
   "execution_count": 12,
   "metadata": {},
   "outputs": [],
   "source": [
    "spec=json.loads(\"\"\"\n",
    "{\n",
    "  \"schema\": \"https://vega.github.io/schema/vega/v5.json\",\n",
    "  \"description\": \"Fishing subsidies for a given country, disaggregated by category, then type\",\n",
    "  \"padding\": 0,\n",
    "  \"autosize\": {\"type\": \"fit\", \"contains\": \"padding\"},\n",
    "  \"signals\": [],\n",
    "  \"data\": [\n",
    "    {\n",
    "      \"name\": \"table\",\n",
    "      \"url\": \"https://wri-rw.carto.com/api/v2/sql?q=SELECT gid_0, gadm.name_0, CONCAT(category, ', ', type ) as variable, constant_2018_usd as value FROM ocn_022_rw0_fisheries_subsidies_edit INNER JOIN ow_aliasing_countries alias on alias.alias = country INNER JOIN gadm36_0 gadm ON alias.iso = gadm.gid_0 WHERE {{geostore_env}}= '{{geostore_id}}'\",\n",
    "      \"format\": {\n",
    "        \"type\": \"json\",\n",
    "        \"property\": \"rows\"\n",
    "      },\n",
    "      \"transform\": [\n",
    "        {\n",
    "          \"type\": \"formula\",\n",
    "          \"expr\": \"slice(datum.variable, 0, indexof(datum.variable,','))\",\n",
    "          \"as\": \"category\"\n",
    "        },\n",
    "        {\n",
    "          \"type\": \"formula\",\n",
    "          \"expr\": \"slice(datum.variable, indexof(datum.variable,',')+2)\",\n",
    "          \"as\": \"type\"\n",
    "        },\n",
    "        {\n",
    "          \"type\": \"formula\",\n",
    "          \"expr\": \"datum.type === 'Fisheries mangt.' ? 'Fisheries management': datum.type === 'Fishery R&D' ? 'Fisheries research and development': datum.type === 'Boat constsruct. & renov.' ? 'Boat contruction and renovation': datum.type === 'MPAs' ? 'Marine Protected Areas': datum.type === 'Fisheries dev. projects' ? 'Fisheries development projects':datum.type === 'Fishing port develop.' ? 'Fishing port development': datum.type === 'Markt. & storage infrast.' ? 'Marke t & storage infrastructure':datum.type\",\n",
    "          \"as\": \"label\"\n",
    "        },\n",
    "        {\n",
    "          \"type\": \"collect\",\n",
    "          \"sort\": {\n",
    "            \"field\": [\"category\",\"type\"],\n",
    "            \"order\": [\"ascending\", \"ascending\"]\n",
    "          }\n",
    "        },\n",
    "        {\n",
    "          \"type\": \"stack\",\n",
    "          \"groupby\": [\"category\"],\n",
    "          \"field\": \"value\",\n",
    "          \"sort\": {\n",
    "            \"field\": [\"type\"],\n",
    "            \"order\": [\"ascending\"]\n",
    "          },\n",
    "          \"as\": [\"x0\", \"x1\"]\n",
    "        }\n",
    "      ]\n",
    "    },\n",
    "    {\n",
    "      \"name\": \"sums\",\n",
    "      \"source\": \"table\",\n",
    "      \"transform\": [\n",
    "        {\n",
    "          \"type\": \"aggregate\",\n",
    "          \"fields\": [\"value\"],\n",
    "          \"groupby\": [\"category\"],\n",
    "          \"ops\": [\"sum\"],\n",
    "          \"as\": [\"sum\"]\n",
    "        }\n",
    "      ]\n",
    "    }\n",
    "  ],\n",
    "  \"scales\": [\n",
    "    {\n",
    "      \"name\": \"xscale\",\n",
    "      \"type\": \"linear\",\n",
    "      \"domain\": {\"data\": \"table\", \"fields\": [\"x0\",\"x1\"]},\n",
    "      \"range\": \"width\",\n",
    "      \"padding\": 0\n",
    "    },\n",
    "    {\n",
    "      \"name\": \"yscale\",\n",
    "      \"type\": \"band\",\n",
    "      \"domain\": {\"data\": \"table\", \"field\": \"category\"},\n",
    "      \"range\": \"height\",\n",
    "      \"padding\": 0.1\n",
    "    },\n",
    "    {\n",
    "      \"name\": \"colorscale\",\n",
    "      \"type\": \"ordinal\",\n",
    "      \"domain\": [\n",
    "        \"Fisher assistance\",\n",
    "        \"Rural fisher communities\",\n",
    "        \"Vessel buyback\",\n",
    "        \"Fisheries mangt.\",\n",
    "        \"Fishery R&D\",\n",
    "        \"MPAs\",\n",
    "        \"Boat constsruct. & renov.\",\n",
    "        \"Fisheries dev. projects\",\n",
    "        \"Fishing access\",\n",
    "        \"Fishing port develop.\",\n",
    "        \"Fuel subsidies\",\n",
    "        \"Markt. & storage infrast.\",\n",
    "        \"Tax exemption\"\n",
    "      ],\n",
    "      \"range\": [\n",
    "        \"#cccccc\",\n",
    "        \"#969696\",\n",
    "        \"#636363\",\n",
    "        \"#bdd7e7\",\n",
    "        \"#6baed6\",\n",
    "        \"#3182bd\",\n",
    "        \"#fcbba1\",\n",
    "        \"#fc9272\",\n",
    "        \"#fb6a4a\",\n",
    "        \"#ef3b2c\",\n",
    "        \"#cb181d\",\n",
    "        \"#a50f15\",\n",
    "        \"#67000d\"\n",
    "      ]\n",
    "    },\n",
    "    {\n",
    "      \"name\": \"sumsscale\",\n",
    "      \"type\": \"ordinal\",\n",
    "      \"domain\": {\"data\": \"sums\", \"field\": \"category\"},\n",
    "      \"range\": {\"data\": \"sums\", \"field\": \"sum\"}\n",
    "    }\n",
    "  ],\n",
    "  \"axes\": [\n",
    "    {\n",
    "      \"orient\": \"bottom\",\n",
    "      \"scale\": \"xscale\",\n",
    "      \"labelFlush\": true,\n",
    "      \"labelOverlap\": true,\n",
    "      \"labelBaseline\": \"middle\",\n",
    "      \"domain\": false,\n",
    "      \"ticks\": false,\n",
    "      \"grid\": true,\n",
    "      \"labelFontSize\": 10,\n",
    "      \"format\": \".2s\"\n",
    "    },\n",
    "    {\n",
    "      \"orient\": \"left\",\n",
    "      \"scale\": \"yscale\",\n",
    "      \"labelBaseline\": \"middle\",\n",
    "      \"labelAlign\": \"right\",\n",
    "      \"labelPadding\": 5,\n",
    "      \"grid\": false,\n",
    "      \"gridOpacity\": 0.2,\n",
    "      \"labelFontSize\": 10,\n",
    "      \"encode\": {\n",
    "        \"ticks\": {\n",
    "          \"update\": {\n",
    "            \"stroke\": {\"value\": \"steelblue\"}\n",
    "          }\n",
    "        },\n",
    "        \"labels\": {\n",
    "          \"interactive\": true,\n",
    "          \"enter\": {\n",
    "            \"tooltip\": {\n",
    "              \"signal\": \"{'Expenditure':format(scale('sumsscale', datum.label),'$,d')}\"\n",
    "            }\n",
    "          },\n",
    "          \"update\": {\n",
    "            \"fill\": {\"value\": \"grey\"}\n",
    "          },\n",
    "          \"hover\": {\n",
    "            \"fill\": {\"value\": \"firebrick\"}\n",
    "          }\n",
    "        }\n",
    "      }\n",
    "    }\n",
    "  ],\n",
    "  \"marks\": [\n",
    "    {\n",
    "      \"type\": \"rect\",\n",
    "      \"from\": {\"data\": \"table\"},\n",
    "      \"encode\": {\n",
    "        \"enter\": {\n",
    "          \"x\": {\"scale\": \"xscale\", \"field\": \"x0\"},\n",
    "          \"x2\": {\"scale\": \"xscale\", \"field\": \"x1\"},\n",
    "          \"height\": {\"scale\": \"yscale\", \"band\": 1, \"offset\": -1},\n",
    "          \"y\": {\"scale\": \"yscale\", \"field\": \"category\"},\n",
    "          \"fill\": {\"scale\": \"colorscale\", \"field\": \"type\"},\n",
    "          \"stroke\": {\"value\": \"white\"},\n",
    "          \"strokeWidth\": {\"value\": 1}\n",
    "        },\n",
    "        \"update\": {\n",
    "          \"fillOpacity\": {\"value\": 1},\n",
    "          \"strokeOpacity\": {\"value\": 0}\n",
    "        },\n",
    "        \"hover\": {\n",
    "          \"fillOpacity\": {\"value\": 0.5},\n",
    "          \"strokeOpacity\": {\"value\": 1}\n",
    "        }\n",
    "      }\n",
    "    }\n",
    "  ],\n",
    "      \"interaction_config\": [\n",
    "    {\n",
    "      \"name\": \"tooltip\",\n",
    "      \"config\": {\n",
    "        \"fields\": [\n",
    "          {\n",
    "            \"column\": \"category\",\n",
    "            \"property\": \"Category\",\n",
    "            \"type\": \"text\",\n",
    "            \"format\": \"\"\n",
    "          },\n",
    "           {\n",
    "            \"column\": \"label\",\n",
    "            \"property\": \"Type\",\n",
    "            \"type\": \"text\",\n",
    "            \"format\": \"\"\n",
    "          },\n",
    "          {\n",
    "            \"column\": \"value\",\n",
    "            \"property\": \"Value (USD)\",\n",
    "            \"type\": \"number\",\n",
    "            \"format\": \"$,.0f\"\n",
    "          }\n",
    "        ]\n",
    "      }\n",
    "    }\n",
    "  ]\n",
    "}\n",
    "\"\"\")"
   ]
  },
  {
   "cell_type": "code",
   "execution_count": 13,
   "metadata": {},
   "outputs": [
    {
     "data": {
      "application/vnd.vega.v5+json": {
       "autosize": {
        "contains": "padding",
        "type": "fit"
       },
       "axes": [
        {
         "domain": false,
         "format": ".2s",
         "grid": true,
         "labelBaseline": "top",
         "labelFlush": true,
         "labelFontSize": 10,
         "labelOverlap": true,
         "orient": "bottom",
         "scale": "xscale",
         "ticks": false
        },
        {
         "encode": {
          "labels": {
           "enter": {
            "tooltip": {
             "signal": "{'Expenditure':format(scale('sumsscale', datum.label),'$,d')}"
            }
           },
           "hover": {
            "fill": {
             "value": "firebrick"
            }
           },
           "interactive": true,
           "update": {
            "fill": {
             "value": "grey"
            }
           }
          },
          "ticks": {
           "update": {
            "stroke": {
             "value": "steelblue"
            }
           }
          }
         },
         "grid": false,
         "gridOpacity": 0.2,
         "labelAlign": "right",
         "labelBaseline": "middle",
         "labelFontSize": 10,
         "labelPadding": 5,
         "orient": "left",
         "scale": "yscale"
        }
       ],
       "data": [
        {
         "format": {
          "property": "rows",
          "type": "json"
         },
         "name": "table",
         "transform": [
          {
           "as": "category",
           "expr": "slice(datum.variable, 0, indexof(datum.variable,','))",
           "type": "formula"
          },
          {
           "as": "type",
           "expr": "slice(datum.variable, indexof(datum.variable,',')+2)",
           "type": "formula"
          },
          {
           "as": "label",
           "expr": "datum.type === 'Fisheries mangt.' ? 'Fisheries management': datum.type === 'Fishery R&D' ? 'Fisheries research and development': datum.type === 'Boat constsruct. & renov.' ? 'Boat contruction and renovation': datum.type === 'MPAs' ? 'Marine Protected Areas': datum.type === 'Fisheries dev. projects' ? 'Fisheries development projects':datum.type === 'Fishing port develop.' ? 'Fishing port development': datum.type === 'Markt. & storage infrast.' ? 'Marke t & storage infrastructure':datum.type",
           "type": "formula"
          },
          {
           "sort": {
            "field": [
             "category",
             "type"
            ],
            "order": [
             "ascending",
             "ascending"
            ]
           },
           "type": "collect"
          },
          {
           "as": [
            "x0",
            "x1"
           ],
           "field": "value",
           "groupby": [
            "category"
           ],
           "sort": {
            "field": [
             "type"
            ],
            "order": [
             "ascending"
            ]
           },
           "type": "stack"
          }
         ],
         "url": "https://wri-rw.carto.com/api/v2/sql?q=SELECT gid_0, gadm.name_0, CONCAT(category, ', ', type ) as variable, constant_2018_usd as value FROM ocn_022_rw0_fisheries_subsidies_edit INNER JOIN ow_aliasing_countries alias on alias.alias = country INNER JOIN gadm36_0 gadm ON alias.iso = gadm.gid_0 WHERE geostore_prod= 'ca5bfde08587530e76c17fe48362a01d'"
        },
        {
         "name": "sums",
         "source": "table",
         "transform": [
          {
           "as": [
            "sum"
           ],
           "fields": [
            "value"
           ],
           "groupby": [
            "category"
           ],
           "ops": [
            "sum"
           ],
           "type": "aggregate"
          }
         ]
        }
       ],
       "description": "Fishing subsidies for a given country, disaggregated by category, then type",
       "height": 300,
       "interaction_config": [
        {
         "config": {
          "fields": [
           {
            "column": "category",
            "format": "",
            "property": "Category",
            "type": "text"
           },
           {
            "column": "label",
            "format": "",
            "property": "Type",
            "type": "text"
           },
           {
            "column": "value",
            "format": "$,.0f",
            "property": "Value (USD)",
            "type": "number"
           }
          ]
         },
         "name": "tooltip"
        }
       ],
       "marks": [
        {
         "encode": {
          "enter": {
           "fill": {
            "field": "type",
            "scale": "colorscale"
           },
           "height": {
            "band": 1,
            "offset": -1,
            "scale": "yscale"
           },
           "stroke": {
            "value": "white"
           },
           "strokeWidth": {
            "value": 1
           },
           "x": {
            "field": "x0",
            "scale": "xscale"
           },
           "x2": {
            "field": "x1",
            "scale": "xscale"
           },
           "y": {
            "field": "category",
            "scale": "yscale"
           }
          },
          "hover": {
           "fillOpacity": {
            "value": 0.5
           },
           "strokeOpacity": {
            "value": 1
           }
          },
          "update": {
           "fillOpacity": {
            "value": 1
           },
           "strokeOpacity": {
            "value": 0
           }
          }
         },
         "from": {
          "data": "table"
         },
         "type": "rect"
        }
       ],
       "padding": 0,
       "scales": [
        {
         "domain": {
          "data": "table",
          "fields": [
           "x0",
           "x1"
          ]
         },
         "name": "xscale",
         "padding": 0,
         "range": "width",
         "type": "linear"
        },
        {
         "domain": {
          "data": "table",
          "field": "category"
         },
         "name": "yscale",
         "padding": 0.1,
         "range": "height",
         "type": "band"
        },
        {
         "domain": [
          "Fisher assistance",
          "Rural fisher communities",
          "Vessel buyback",
          "Fisheries mangt.",
          "Fishery R&D",
          "MPAs",
          "Boat constsruct. & renov.",
          "Fisheries dev. projects",
          "Fishing access",
          "Fishing port develop.",
          "Fuel subsidies",
          "Markt. & storage infrast.",
          "Tax exemption"
         ],
         "name": "colorscale",
         "range": [
          "#cccccc",
          "#969696",
          "#636363",
          "#bdd7e7",
          "#6baed6",
          "#3182bd",
          "#fcbba1",
          "#fc9272",
          "#fb6a4a",
          "#ef3b2c",
          "#cb181d",
          "#a50f15",
          "#67000d"
         ],
         "type": "ordinal"
        },
        {
         "domain": {
          "data": "sums",
          "field": "category"
         },
         "name": "sumsscale",
         "range": {
          "data": "sums",
          "field": "sum"
         },
         "type": "ordinal"
        }
       ],
       "schema": "https://vega.github.io/schema/vega/v5.json",
       "signals": [],
       "width": 400
      },
      "image/png": "[encoded data removed]"
     },
     "metadata": {},
     "output_type": "display_data"
    }
   ],
   "source": [
    "vega_view=dict(spec)\n",
    "\n",
    "## DEFINE SIZE\n",
    "vega_view['height'] = widget_height\n",
    "vega_view['width'] = widget_width\n",
    "\n",
    "## PARAMETERIZE WIDGET\n",
    "vega_view['data'][0]['url']= vega_view['data'][0]['url'].replace('{{geostore_env}}','geostore_prod')\n",
    "vega_view['data'][0]['url'] = vega_view['data'][0]['url'].replace('{{geostore_id}}','ca5bfde08587530e76c17fe48362a01d')\n",
    "\n",
    "## ADJUST X AXIS\n",
    "vega_view['axes'][0]['labelBaseline']= \"top\"\n",
    "\n",
    "Vega(vega_view)"
   ]
  },
  {
   "cell_type": "markdown",
   "metadata": {},
   "source": [
    "# RW API"
   ]
  },
  {
   "cell_type": "markdown",
   "metadata": {},
   "source": [
    "Parameterized widgets created via [widget scripts](https://github.com/resource-watch/data-team-tools/tree/master/advanced_widget_writer).  "
   ]
  },
  {
   "cell_type": "markdown",
   "metadata": {},
   "source": [
    "[ocn.022.rw0 Fishing Subsidies]() ([Admin](https://resourcewatch.org/admin/data/datasets/42859b52-31f2-419c-ac14-8b0cbd6bbb6f/edit))  \n",
    "`42859b52-31f2-419c-ac14-8b0cbd6bbb6f`  \n",
    "[Dataset](https://api.resourcewatch.org/v1/dataset/42859b52-31f2-419c-ac14-8b0cbd6bbb6f/), [Widgets](https://api.resourcewatch.org/v1/dataset/42859b52-31f2-419c-ac14-8b0cbd6bbb6f/widget)"
   ]
  },
  {
   "cell_type": "code",
   "execution_count": 5,
   "metadata": {},
   "outputs": [],
   "source": [
    "dataset_id = '42859b52-31f2-419c-ac14-8b0cbd6bbb6f'\n",
    "name = 'Expenditure on Fishing Subsidies'\n",
    "description = 'Fishing subsidies in US dollars, grouped by category and disaggregated by specific type'"
   ]
  },
  {
   "cell_type": "markdown",
   "metadata": {},
   "source": [
    "- [Country](https://api.resourcewatch.org/v1/widget/2cb5af4f-2bfc-49f3-9f99-ac415e98c7db?env=production) `2cb5af4f-2bfc-49f3-9f99-ac415e98c7db`  "
   ]
  }
 ],
 "metadata": {
  "kernelspec": {
   "display_name": "Python 3",
   "language": "python",
   "name": "python3"
  },
  "language_info": {
   "codemirror_mode": {
    "name": "ipython",
    "version": 3
   },
   "file_extension": ".py",
   "mimetype": "text/x-python",
   "name": "python",
   "nbconvert_exporter": "python",
   "pygments_lexer": "ipython3",
   "version": "3.7.7"
  }
 },
 "nbformat": 4,
 "nbformat_minor": 5
}
