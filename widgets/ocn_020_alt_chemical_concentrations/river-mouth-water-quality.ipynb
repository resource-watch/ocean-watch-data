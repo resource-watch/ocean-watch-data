{
 "cells": [
  {
   "cell_type": "markdown",
   "id": "85d9b0c6",
   "metadata": {},
   "source": [
    "# Chemical Concentrations at River Mouths\n",
    "Longitudinal concentrations of various chemicals at a range of depths, for all locations where (large) rivers meet the ocean.  \n",
    "\n",
    "Note that this is a parameterized widget; the specification passed to the API will not be renderable without the geostore identifier being inserted.  \n",
    "\n",
    "_Author: Peter Kerins_  \n",
    "_Created: 4 Aug 2021_  \n",
    "_Environment: jupyterlab_  "
   ]
  },
  {
   "cell_type": "markdown",
   "id": "6106a17d",
   "metadata": {},
   "source": [
    "## Style\n",
    "- Vega chart\n",
    "- Ocean Watch country page - parameterized chart\n",
    "- Time series\n",
    "- Line or multiline"
   ]
  },
  {
   "cell_type": "markdown",
   "id": "974f506a",
   "metadata": {},
   "source": [
    "## Data\n",
    "See [explanatory notebook](../../datasets/ocn_020d_chemical_concentration_rivermouths/river-mouths_process-overview.ipynb)\n",
    " \n",
    "Carto: [ocn_020d](https://resourcewatch.carto.com/u/rw-nrt/dataset/ocn_020d_chemical_concentration_rivermouths)"
   ]
  },
  {
   "cell_type": "markdown",
   "id": "2b2f57be",
   "metadata": {},
   "source": [
    "## Preparation"
   ]
  },
  {
   "cell_type": "code",
   "execution_count": 1,
   "id": "8abf78ca",
   "metadata": {
    "jupyter": {
     "source_hidden": true
    }
   },
   "outputs": [],
   "source": [
    "import json\n",
    "from vega import Vega\n",
    "from IPython.display import display"
   ]
  },
  {
   "cell_type": "code",
   "execution_count": 2,
   "id": "2ca8785c",
   "metadata": {
    "jupyter": {
     "source_hidden": true
    }
   },
   "outputs": [],
   "source": [
    "def Vega(spec):\n",
    "    bundle = {}\n",
    "    bundle['application/vnd.vega.v5+json'] = spec\n",
    "    display(bundle, raw=True)"
   ]
  },
  {
   "cell_type": "code",
   "execution_count": 3,
   "id": "363c78fa",
   "metadata": {
    "jupyter": {
     "source_hidden": true
    },
    "tags": []
   },
   "outputs": [],
   "source": [
    "widget_width = 400\n",
    "widget_height = 300"
   ]
  },
  {
   "cell_type": "markdown",
   "id": "613f6965",
   "metadata": {},
   "source": [
    "# Widget"
   ]
  },
  {
   "cell_type": "markdown",
   "id": "15807397",
   "metadata": {},
   "source": [
    "## Demo Query\n",
    "`hybas_id_5 = <basin>` used as stand-in for parameterization\n",
    "\n",
    "```sql\n",
    "SELECT hyriv_id, hybas_id_5 AS hybas_id, ord_flow, variable, dt AS date, AVG(value) AS avg_value, osm_name AS name\n",
    "FROM ocn_020d_chemical_concentration_rivermouths \n",
    "WHERE hybas_id_5 = '1050030460' \n",
    "GROUP BY hyriv_id, hybas_id_5, ord_flow, variable, dt\n",
    "ORDER BY hyriv_id ASC, variable ASC, dt ASC\n",
    "```"
   ]
  },
  {
   "cell_type": "markdown",
   "id": "80407341",
   "metadata": {},
   "source": [
    "## Parameterized Query\n",
    "```sql\n",
    "SELECT hyriv_id, hybas_id_5 AS hybas_id, osm_name AS name, ord_flow, variable, dt AS date, AVG(value) AS avg_value\n",
    "FROM ocn_020d_chemical_concentration_rivermouths data\n",
    "LEFT OUTER JOIN wat_068_rw0_watersheds_edit AS basins ON basins.hybas_id::VARCHAR = data.hybas_id_5 \n",
    "WHERE basins.{{geostore_env}}='{{geostore_id}}' \n",
    "AND basins.level=5\n",
    "AND basins.coast=1\n",
    "GROUP BY hyriv_id, hybas_id_5, osm_name, ord_flow, variable, dt\n",
    "ORDER BY hyriv_id ASC, variable ASC, dt ASC\n",
    "```"
   ]
  },
  {
   "cell_type": "markdown",
   "id": "c8200b98",
   "metadata": {},
   "source": [
    "## Specification\n",
    "Vega code presumes RW-style `config` element present"
   ]
  },
  {
   "cell_type": "code",
   "execution_count": 9,
   "id": "72ac2e27",
   "metadata": {},
   "outputs": [],
   "source": [
    "spec=json.loads(\"\"\"\n",
    "{\n",
    "  \"schema\": \"https://vega.github.io/schema/vega/v5.json\",\n",
    "  \"description\": \"Chemical concentration of various nutrient-type molecules at river mouths in corresponding basin\",\n",
    "  \"width\": 400,\n",
    "  \"height\": 250,\n",
    "  \"padding\": 0,\n",
    "  \"autosize\": {\n",
    "    \"type\": \"fit\",\n",
    "    \"contains\": \"padding\"\n",
    "  },\n",
    "  \"signals\": [\n",
    "    {\n",
    "      \"name\": \"variable\",\n",
    "      \"description\": \"Chemical/product of interest\",\n",
    "      \"value\": \"no3\"\n",
    "    },\n",
    "    {\n",
    "      \"name\": \"active_id\",\n",
    "      \"value\": \"\",\n",
    "      \"on\": [\n",
    "        {\n",
    "          \"events\": \"*:mouseover\",\n",
    "          \"update\": \"datum.hyriv_id\"\n",
    "        }\n",
    "      ]\n",
    "    }\n",
    "  ],\n",
    "  \"data\": [\n",
    "    {\n",
    "      \"name\": \"table\",\n",
    "      \"url\": \"https://rw-nrt.carto.com/api/v2/sql?q=SELECT hyriv_id, hybas_id_5 AS hybas_id, osm_name AS name, ord_flow, variable, dt AS date, AVG(value) AS avg_value FROM ocn_020d_chemical_concentration_rivermouths WHERE {{geostore_env}}='{{geostore_id}}' GROUP BY hyriv_id, hybas_id_5, osm_name, ord_flow, variable, dt ORDER BY hyriv_id ASC, variable ASC, dt ASC\",\n",
    "      \"format\": {\n",
    "        \"type\": \"json\",\n",
    "        \"property\": \"rows\",\n",
    "        \"parse\": {\n",
    "          \"date\": \"utc:'%Y-%m-%dT%H:%M:%SZ'\"\n",
    "        }\n",
    "      },\n",
    "      \"transform\": [\n",
    "        {\n",
    "          \"type\": \"filter\",\n",
    "          \"expr\": \"datum.variable==variable\"\n",
    "        },\n",
    "        {\n",
    "          \"type\": \"collect\",\n",
    "          \"sort\": {\n",
    "            \"field\": \"date\"\n",
    "          }\n",
    "        }\n",
    "      ]\n",
    "    }\n",
    "  ],\n",
    "  \"scales\": [\n",
    "    {\n",
    "      \"name\": \"xscale\",\n",
    "      \"type\": \"time\",\n",
    "      \"domain\": {\n",
    "        \"data\": \"table\",\n",
    "        \"field\": \"date\"\n",
    "      },\n",
    "      \"range\": \"width\",\n",
    "      \"padding\": 0\n",
    "    },\n",
    "    {\n",
    "      \"name\": \"yscale\",\n",
    "      \"type\": \"linear\",\n",
    "      \"domain\": {\n",
    "        \"data\": \"table\",\n",
    "        \"field\": \"avg_value\"\n",
    "      },\n",
    "      \"nice\": true,\n",
    "      \"range\": \"height\"\n",
    "    },\n",
    "    {\n",
    "      \"name\": \"colorscale\",\n",
    "      \"type\": \"ordinal\",\n",
    "      \"range\": \"category\",\n",
    "      \"domain\": {\n",
    "        \"data\": \"table\",\n",
    "        \"field\": \"hyriv_id\"\n",
    "      }\n",
    "    },\n",
    "    {\n",
    "      \"name\": \"lineweight\",\n",
    "      \"type\": \"ordinal\",\n",
    "      \"domain\": [\n",
    "        1,\n",
    "        2,\n",
    "        3,\n",
    "        4,\n",
    "        5\n",
    "      ],\n",
    "      \"range\": [\n",
    "        4,\n",
    "        3.5,\n",
    "        3,\n",
    "        2.5,\n",
    "        2\n",
    "      ]\n",
    "    }\n",
    "  ],\n",
    "  \"axes\": [\n",
    "    {\n",
    "      \"orient\": \"bottom\",\n",
    "      \"scale\": \"xscale\",\n",
    "      \"labelFlush\": true,\n",
    "      \"labelOverlap\": true,\n",
    "      \"labelBaseline\": \"middle\",\n",
    "      \"ticks\": true,\n",
    "      \"tickSize\": 5,\n",
    "      \"labelPadding\": 8,\n",
    "      \"labelFontSize\": 10,\n",
    "      \"labelFont\": \"Arial\",\n",
    "      \"format\": \"%b %Y\"\n",
    "    },\n",
    "    {\n",
    "      \"orient\": \"left\",\n",
    "      \"scale\": \"yscale\",\n",
    "      \"title\": {\n",
    "        \"signal\": \"'Concentration (mmol/m³)'\"\n",
    "      },\n",
    "      \"labelBaseline\": \"middle\",\n",
    "      \"labelAlign\": \"right\",\n",
    "      \"labelPadding\": 3,\n",
    "      \"grid\": true,\n",
    "      \"gridOpacity\": 0.2,\n",
    "      \"labelFontSize\": 10,\n",
    "      \"labelFont\": \"Arial\"\n",
    "    }\n",
    "  ],\n",
    "  \"marks\": [\n",
    "    {\n",
    "      \"type\": \"group\",\n",
    "      \"from\": {\n",
    "        \"facet\": {\n",
    "          \"name\": \"series\",\n",
    "          \"data\": \"table\",\n",
    "          \"groupby\": \"hyriv_id\"\n",
    "        }\n",
    "      },\n",
    "      \"marks\": [\n",
    "        {\n",
    "          \"type\": \"line\",\n",
    "          \"from\": {\n",
    "            \"data\": \"series\"\n",
    "          },\n",
    "          \"encode\": {\n",
    "            \"enter\": {\n",
    "              \"interpolate\": {\n",
    "                \"value\": \"monotone\"\n",
    "              },\n",
    "              \"x\": {\n",
    "                \"scale\": \"xscale\",\n",
    "                \"field\": \"date\"\n",
    "              },\n",
    "              \"y\": {\n",
    "                \"scale\": \"yscale\",\n",
    "                \"field\": \"avg_value\"\n",
    "              },\n",
    "              \"stroke\": {\n",
    "                \"scale\": \"colorscale\",\n",
    "                \"field\": \"hyriv_id\"\n",
    "              },\n",
    "              \"strokeWidth\": {\n",
    "                \"scale\": \"lineweight\",\n",
    "                \"field\": \"ord_flow\"\n",
    "              }\n",
    "            },\n",
    "            \"update\": {\n",
    "              \"strokeOpacity\": {\n",
    "                \"value\": 1\n",
    "              }\n",
    "            },\n",
    "            \"hover\": {\n",
    "              \"strokeOpacity\": {\n",
    "                \"value\": 0.5\n",
    "              }\n",
    "            }\n",
    "          }\n",
    "        },\n",
    "        {\n",
    "          \"type\": \"symbol\",\n",
    "          \"from\": {\n",
    "            \"data\": \"series\"\n",
    "          },\n",
    "          \"encode\": {\n",
    "            \"enter\": {\n",
    "              \"x\": {\n",
    "                \"scale\": \"xscale\",\n",
    "                \"field\": \"date\"\n",
    "              },\n",
    "              \"y\": {\n",
    "                \"scale\": \"yscale\",\n",
    "                \"field\": \"avg_value\"\n",
    "              },\n",
    "              \"stroke\": {\n",
    "                \"scale\": \"colorscale\",\n",
    "                \"field\": \"hyriv_id\"\n",
    "              },\n",
    "              \"strokeWidth\": {\n",
    "                \"scale\": \"lineweight\",\n",
    "                \"field\": \"ord_flow\"\n",
    "              },\n",
    "              \"size\": {\n",
    "                \"signal\": \"width/6\"\n",
    "              },\n",
    "              \"tooltip\": {\n",
    "                \"signal\": \"{'River':isValid(datum.name) ? datum.name : '(name unavailable)','ID':datum.hyriv_id, 'Date':timeFormat(datum.date, '%B %Y'), 'Concentration':format(datum.avg_value, '.3f')+' mmol/m³'}\"\n",
    "              }\n",
    "            },\n",
    "            \"update\": {\n",
    "              \"fill\": {\n",
    "                \"value\": \"white\"\n",
    "              },\n",
    "              \"fillOpacity\": {\n",
    "                \"value\": 0\n",
    "              },\n",
    "              \"strokeOpacity\": {\n",
    "                \"signal\": \"datum.hyriv_id == active_id ? 1.0 : 0.0\"\n",
    "              }\n",
    "            },\n",
    "            \"hover\": {\n",
    "              \"fill\": {\n",
    "                \"scale\": \"colorscale\",\n",
    "                \"field\": \"hyriv_id\"\n",
    "              },\n",
    "              \"fillOpacity\": {\n",
    "                \"value\": 1\n",
    "              }\n",
    "            }\n",
    "          }\n",
    "        }\n",
    "      ]\n",
    "    }\n",
    "  ]\n",
    "}\n",
    "\"\"\")"
   ]
  },
  {
   "cell_type": "code",
   "execution_count": 11,
   "id": "b6b0f340",
   "metadata": {},
   "outputs": [
    {
     "data": {
      "application/vnd.vega.v5+json": {
       "autosize": {
        "contains": "padding",
        "type": "fit"
       },
       "axes": [
        {
         "format": "%b %Y",
         "labelBaseline": "top",
         "labelFlush": true,
         "labelFont": "Arial",
         "labelFontSize": 10,
         "labelOverlap": true,
         "labelPadding": 8,
         "orient": "bottom",
         "scale": "xscale",
         "tickSize": 5,
         "ticks": true
        },
        {
         "grid": true,
         "gridOpacity": 0.2,
         "labelAlign": "right",
         "labelBaseline": "middle",
         "labelFont": "Arial",
         "labelFontSize": 10,
         "labelPadding": 3,
         "orient": "left",
         "scale": "yscale",
         "title": {
          "signal": "'Concentration (mmol/m³)'"
         },
         "titleFont": "Arial"
        }
       ],
       "data": [
        {
         "format": {
          "parse": {
           "date": "utc:'%Y-%m-%dT%H:%M:%SZ'"
          },
          "property": "rows",
          "type": "json"
         },
         "name": "table",
         "transform": [
          {
           "expr": "datum.variable==variable",
           "type": "filter"
          },
          {
           "sort": {
            "field": "date"
           },
           "type": "collect"
          }
         ],
         "url": "https://rw-nrt.carto.com/api/v2/sql?q=SELECT hyriv_id, hybas_id_5 AS hybas_id, osm_name AS name, ord_flow, variable, dt AS date, AVG(value) AS avg_value FROM ocn_020d_chemical_concentration_rivermouths WHERE geostore_prod='4053d745654f93328e561a128aac1bba' GROUP BY hyriv_id, hybas_id_5, osm_name, ord_flow, variable, dt ORDER BY hyriv_id ASC, variable ASC, dt ASC"
        }
       ],
       "description": "Chemical concentration of various nutrient-type molecules at river mouths in corresponding basin",
       "height": 300,
       "marks": [
        {
         "from": {
          "facet": {
           "data": "table",
           "groupby": "hyriv_id",
           "name": "series"
          }
         },
         "marks": [
          {
           "encode": {
            "enter": {
             "interpolate": {
              "value": "monotone"
             },
             "stroke": {
              "field": "hyriv_id",
              "scale": "colorscale"
             },
             "strokeWidth": {
              "field": "ord_flow",
              "scale": "lineweight"
             },
             "x": {
              "field": "date",
              "scale": "xscale"
             },
             "y": {
              "field": "avg_value",
              "scale": "yscale"
             }
            },
            "hover": {
             "strokeOpacity": {
              "value": 0.5
             }
            },
            "update": {
             "strokeOpacity": {
              "value": 1
             }
            }
           },
           "from": {
            "data": "series"
           },
           "type": "line"
          },
          {
           "encode": {
            "enter": {
             "size": {
              "signal": "width/6"
             },
             "stroke": {
              "field": "hyriv_id",
              "scale": "colorscale"
             },
             "strokeWidth": {
              "field": "ord_flow",
              "scale": "lineweight"
             },
             "tooltip": {
              "signal": "{'River':isValid(datum.name) ? datum.name : '(name unavailable)','ID':datum.hyriv_id, 'Date':timeFormat(datum.date, '%B %Y'), 'Concentration':format(datum.avg_value, '.3f')+' mmol/m³'}"
             },
             "x": {
              "field": "date",
              "scale": "xscale"
             },
             "y": {
              "field": "avg_value",
              "scale": "yscale"
             }
            },
            "hover": {
             "fill": {
              "field": "hyriv_id",
              "scale": "colorscale"
             },
             "fillOpacity": {
              "value": 1
             }
            },
            "update": {
             "fill": {
              "value": "white"
             },
             "fillOpacity": {
              "value": 0
             },
             "strokeOpacity": {
              "signal": "datum.hyriv_id == active_id ? 1.0 : 0.0"
             }
            }
           },
           "from": {
            "data": "series"
           },
           "type": "symbol"
          }
         ],
         "type": "group"
        }
       ],
       "padding": 0,
       "scales": [
        {
         "domain": {
          "data": "table",
          "field": "date"
         },
         "name": "xscale",
         "padding": 0,
         "range": "width",
         "type": "time"
        },
        {
         "domain": {
          "data": "table",
          "field": "avg_value"
         },
         "name": "yscale",
         "nice": true,
         "range": "height",
         "type": "linear"
        },
        {
         "domain": {
          "data": "table",
          "field": "hyriv_id"
         },
         "name": "colorscale",
         "range": "category",
         "type": "ordinal"
        },
        {
         "domain": [
          1,
          2,
          3,
          4,
          5
         ],
         "name": "lineweight",
         "range": [
          4,
          3.5,
          3,
          2.5,
          2
         ],
         "type": "ordinal"
        }
       ],
       "schema": "https://vega.github.io/schema/vega/v5.json",
       "signals": [
        {
         "description": "Chemical/product of interest",
         "name": "variable",
         "value": "no3"
        },
        {
         "name": "active_id",
         "on": [
          {
           "events": "*:mouseover",
           "update": "datum.hyriv_id"
          }
         ],
         "value": ""
        }
       ],
       "width": 400
      }
     },
     "metadata": {},
     "output_type": "display_data"
    }
   ],
   "source": [
    "vega_view=dict(spec)\n",
    "\n",
    "## DEFINE SIZE\n",
    "vega_view['height'] = widget_height\n",
    "vega_view['width'] = widget_width\n",
    "\n",
    "## PARAMETERIZE WIDGET\n",
    "vega_view['data'][0]['url']= vega_view['data'][0]['url'].replace('{{geostore_env}}','geostore_prod')\n",
    "vega_view['data'][0]['url'] = vega_view['data'][0]['url'].replace('{{geostore_id}}','4053d745654f93328e561a128aac1bba')\n",
    "\n",
    "## ADJUST X AXIS\n",
    "vega_view['axes'][0]['labelBaseline']= \"top\"\n",
    "\n",
    "## FONT\n",
    "vega_view['axes'][1]['titleFont'] = 'Arial'\n",
    "\n",
    "Vega(vega_view)"
   ]
  },
  {
   "cell_type": "markdown",
   "id": "e31f1377",
   "metadata": {},
   "source": [
    "# RW API"
   ]
  },
  {
   "cell_type": "markdown",
   "id": "b2af5208",
   "metadata": {},
   "source": [
    "Parameterized widgets created via [widget scripts](https://github.com/resource-watch/data-team-tools/tree/master/advanced_widget_writer).  "
   ]
  },
  {
   "cell_type": "markdown",
   "id": "c439f009",
   "metadata": {},
   "source": [
    "## Nitrate\n",
    "[ocn.020a.rw0 Ocean Nitrate Concentration](https://resourcewatch.org/data/explore/ocn020a-Nitrate-Concentration) ([Admin](https://resourcewatch.org/admin/data/datasets/92327c78-a473-402b-8edf-409869823216/edit))  \n",
    "`92327c78-a473-402b-8edf-409869823216`  \n",
    "[Dataset](https://api.resourcewatch.org/v1/dataset/92327c78-a473-402b-8edf-409869823216/), [Widgets](https://api.resourcewatch.org/v1/dataset/92327c78-a473-402b-8edf-409869823216/widget)"
   ]
  },
  {
   "cell_type": "markdown",
   "id": "59d824d9",
   "metadata": {},
   "source": [
    "- OLD [Nitrate](https://api.resourcewatch.org/v1/widget/80b7addc-f6ea-4d38-808c-359e49a8b84e?env=production) `80b7addc-f6ea-4d38-808c-359e49a8b84e`  \n",
    "- NEW `b5d03901-ddf2-40cd-999c-dada8a7ac415`"
   ]
  },
  {
   "cell_type": "markdown",
   "id": "417f279b",
   "metadata": {},
   "source": [
    "## Phosphate\n",
    "[ocn.020b.rw0 Ocean Phosphate Concentration](https://resourcewatch.org/data/explore/ocn020b-Mole-Concentration-of-Nitrate) ([Admin](https://resourcewatch.org/admin/data/datasets/f1aa9ec7-c3b6-441c-b395-96fc796b7612/edit))  \n",
    "`f1aa9ec7-c3b6-441c-b395-96fc796b7612`  \n",
    "[Dataset](https://api.resourcewatch.org/v1/dataset/f1aa9ec7-c3b6-441c-b395-96fc796b7612/), [Widgets](https://api.resourcewatch.org/v1/dataset/f1aa9ec7-c3b6-441c-b395-96fc796b7612/widget)"
   ]
  },
  {
   "cell_type": "markdown",
   "id": "02e5f873",
   "metadata": {},
   "source": [
    "- OLD [Phosphate](https://api.resourcewatch.org/v1/widget/d0b57543-e771-41e1-a9b6-a9487d5c3d5b?env=production) `d0b57543-e771-41e1-a9b6-a9487d5c3d5b`  \n",
    "- NEW `e22ed0d7-9929-499c-8dda-49e0f9418f9a`"
   ]
  },
  {
   "cell_type": "markdown",
   "id": "1ce7b159",
   "metadata": {},
   "source": [
    "## Oxygen\n",
    "[ocn.020c.rw0 Ocean Dissolved Oxygen Concentration](https://resourcewatch.org/data/explore/ocn020c-Dissolved-Oxygen-Concentration) ([Admin](https://resourcewatch.org/admin/data/datasets/877cdf39-5536-409c-bcba-2220e1b72796/edit))  \n",
    "`877cdf39-5536-409c-bcba-2220e1b72796`  \n",
    "[Dataset](https://api.resourcewatch.org/v1/dataset/877cdf39-5536-409c-bcba-2220e1b72796/), [Widgets](https://api.resourcewatch.org/v1/dataset/877cdf39-5536-409c-bcba-2220e1b72796/widget)"
   ]
  },
  {
   "cell_type": "markdown",
   "id": "c40a6511",
   "metadata": {},
   "source": [
    "- OLD [Oxygen](https://api.resourcewatch.org/v1/widget/3f531725-9d1f-436f-85f8-b1494b0262c1?env=production) `3f531725-9d1f-436f-85f8-b1494b0262c1`  \n",
    "- NEW `511ab9fc-9fab-4025-95a3-415586421ab7`"
   ]
  }
 ],
 "metadata": {
  "kernelspec": {
   "display_name": "Python 3 (ipykernel)",
   "language": "python",
   "name": "python3"
  },
  "language_info": {
   "codemirror_mode": {
    "name": "ipython",
    "version": 3
   },
   "file_extension": ".py",
   "mimetype": "text/x-python",
   "name": "python",
   "nbconvert_exporter": "python",
   "pygments_lexer": "ipython3",
   "version": "3.7.7"
  }
 },
 "nbformat": 4,
 "nbformat_minor": 5
}
