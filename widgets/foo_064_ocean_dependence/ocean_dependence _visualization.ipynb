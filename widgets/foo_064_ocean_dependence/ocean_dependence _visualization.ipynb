{
 "cells": [
  {
   "cell_type": "markdown",
   "metadata": {},
   "source": [
    "# Ocean Dependence"
   ]
  },
  {
   "cell_type": "markdown",
   "metadata": {},
   "source": [
    "Visualizing marine protein consumption (as a proprotion of diet) in countries with high food insecurity."
   ]
  },
  {
   "cell_type": "markdown",
   "metadata": {},
   "source": [
    "*Author: Rachel Thoms\n",
    "<br>Created: 04 Aug 2021\n",
    "<br>Environment: jupyterlab*"
   ]
  },
  {
   "cell_type": "markdown",
   "metadata": {},
   "source": [
    "## Style"
   ]
  },
  {
   "cell_type": "markdown",
   "metadata": {},
   "source": [
    "- Vega chart\n",
    "- [Dorling Cartogram](https://vega.github.io/vega/examples/dorling-cartogram/) \n",
    "- Size is proportion of protein consumption from marine protein (%) color is food insecurity (%)"
   ]
  },
  {
   "cell_type": "markdown",
   "metadata": {},
   "source": [
    "## Data"
   ]
  },
  {
   "cell_type": "markdown",
   "metadata": {},
   "source": [
    "- Data: [foo_061_rw0_blue_food_supply](https://resourcewatch.carto.com/u/wri-rw/dataset/foo_061_rw0_blue_food_supply_edit) & [foo_064_rw0_food_insecurity](https://resourcewatch.carto.com/u/wri-rw/dataset/foo_064_rw0_food_insecurity_edit)\n",
    "- Resource Watch: [explore page](https://resourcewatch.org/data/explore/9e1b3cad-db6f-44b0-b6fb-048df7b6c680)\n",
    "- Source: [FAO Food Balance Sheet](http://www.fao.org/faostat/en/#data/FBS) & [FAO Food Security Indicators](http://www.fao.org/faostat/en/#data/FS)"
   ]
  },
  {
   "cell_type": "markdown",
   "metadata": {},
   "source": [
    "## Vega"
   ]
  },
  {
   "cell_type": "markdown",
   "metadata": {},
   "source": [
    "### Queries"
   ]
  },
  {
   "cell_type": "markdown",
   "metadata": {},
   "source": [
    "Protein Supply"
   ]
  },
  {
   "cell_type": "markdown",
   "metadata": {},
   "source": [
    "```sql\n",
    "SELECT gadm.gid_0, gadm.name_0, year, \n",
    "    SUM(CASE WHEN type = 'Grand Total' THEN value ELSE 0 END) AS total, \n",
    "    SUM(CASE WHEN type = 'Ocean-Sourced Food' THEN value ELSE 0 END) AS ocean \n",
    "    FROM foo_061_rw0_blue_food_supply_edit data \n",
    "INNER JOIN ow_aliasing_countries AS alias ON alias.alias = data.area  \n",
    "INNER JOIN gadm36_0 gadm ON alias.iso = gadm.gid_0 WHERE element = 'Protein supply quantity (g/capita/day)' AND year= 2018 \n",
    "GROUP BY gadm.gid_0, gadm.name_0, year ORDER BY gid_0\n",
    "```"
   ]
  },
  {
   "cell_type": "markdown",
   "metadata": {},
   "source": [
    "Food Insecurity"
   ]
  },
  {
   "cell_type": "markdown",
   "metadata": {},
   "source": [
    "```sql\n",
    "SELECT gadm.gid_0, gadm.name_0, item as variable, y20182020 as value \n",
    "    FROM foo_064_rw0_food_insecurity_edit data \n",
    "INNER JOIN ow_aliasing_countries AS alias ON alias.alias = data.area \n",
    "INNER JOIN gadm36_0 gadm ON alias.iso = gadm.gid_0 ORDER BY gid_0 ASC\n",
    "```"
   ]
  },
  {
   "cell_type": "markdown",
   "metadata": {},
   "source": [
    "## Preparation"
   ]
  },
  {
   "cell_type": "code",
   "execution_count": 1,
   "metadata": {},
   "outputs": [],
   "source": [
    "import json\n",
    "from vega import Vega\n",
    "from IPython.display import display"
   ]
  },
  {
   "cell_type": "code",
   "execution_count": 2,
   "metadata": {},
   "outputs": [],
   "source": [
    "def Vega(spec):\n",
    "    bundle = {}\n",
    "    bundle['application/vnd.vega.v5+json'] = spec\n",
    "    display(bundle, raw=True)"
   ]
  },
  {
   "cell_type": "code",
   "execution_count": 3,
   "metadata": {},
   "outputs": [],
   "source": [
    "widget_width = 800\n",
    "widget_height = 400"
   ]
  },
  {
   "cell_type": "markdown",
   "metadata": {},
   "source": [
    "## Resource Watch Widget Config"
   ]
  },
  {
   "cell_type": "code",
   "execution_count": 4,
   "metadata": {},
   "outputs": [],
   "source": [
    "spec=json.loads(\"\"\"{\n",
    "  \"autosize\": \"none\",\n",
    "  \"data\": [\n",
    "    {\n",
    "      \"name\": \"protein\",\n",
    "      \"format\": {\n",
    "        \"property\": \"rows\",\n",
    "        \"type\": \"json\"\n",
    "      },\n",
    "      \"transform\": [\n",
    "\n",
    "        {\n",
    "          \"as\": \"marine_protein_percent\",\n",
    "          \"expr\": \"datum.total === 0 ? null : (datum.ocean/ datum.total)\",\n",
    "          \"type\": \"formula\"\n",
    "        }\n",
    "      ],\n",
    "      \"url\": \"https://wri-rw.carto.com/api/v2/sql?q=SELECT gadm.gid_0, gadm.name_0, year, SUM(CASE WHEN type = 'Grand Total' THEN value ELSE 0 END) AS total, SUM(CASE WHEN type = 'Ocean-Sourced Food' THEN value ELSE 0 END) AS ocean FROM foo_061_rw0_blue_food_supply_edit data INNER JOIN ow_aliasing_countries AS alias ON alias.alias = data.area  INNER JOIN gadm36_0 gadm ON alias.iso = gadm.gid_0 WHERE element = 'Protein supply quantity (g/capita/day)' AND year= 2018 GROUP BY gadm.gid_0, gadm.name_0, year ORDER BY gid_0\"\n",
    "    },\n",
    "    {\n",
    "      \"format\": {\n",
    "        \"property\": \"features\",\n",
    "        \"type\": \"json\"\n",
    "      },\n",
    "      \"name\": \"source\",\n",
    "      \"url\": \"https://wri-rw.carto.com/api/v2/sql?format=GeoJSON&q=SELECT ST_Centroid(gadm.the_geom) AS the_geom, data.gid_0, data.name_0, data.variable, data.value, geostore_prod as geostore, '{{geostore_id}}' as id FROM (SELECT * FROM ow_widget_territory WHERE variable = 'FoodInsecurity_Prevalence') data INNER JOIN gadm36_0 AS gadm ON gadm.gid_0 = data.gid_0 ORDER BY gid_0 ASC\"\n",
    "    },\n",
    "    {\n",
    "      \"name\": \"centroids\",\n",
    "      \"source\": \"source\",\n",
    "      \"transform\": [\n",
    "        {\n",
    "          \"as\": \"x_cart\",\n",
    "          \"expr\": \"test(/KIR/, datum.properties.gid_0) ? 175 : test(/WSM/, datum.properties.gid_0) ? 175: test(/TON/, datum.properties.gid_0) ? 180 : datum.geometry.coordinates[0]\",\n",
    "          \"type\": \"formula\"\n",
    "        },\n",
    "        {\n",
    "          \"as\": \"y_cart\",\n",
    "          \"expr\": \"test(/KIR/, datum.properties.gid_0) ? -5: test(/WSM/, datum.properties.gid_0) ? -10: test(/TON/, datum.properties.gid_0) ? -18: datum.geometry.coordinates[1]\",\n",
    "          \"type\": \"formula\"\n",
    "        },\n",
    "\n",
    "        {\n",
    "          \"fields\": [\n",
    "            \"x_cart\",\n",
    "            \"y_cart\"\n",
    "          ],\n",
    "          \"projection\": \"projection\",\n",
    "          \"type\": \"geopoint\"\n",
    "        }\n",
    "      ]\n",
    "    },\n",
    "    {\n",
    "      \"format\": {\n",
    "        \"property\": \"rows\",\n",
    "        \"type\": \"json\"\n",
    "      },\n",
    "      \"name\": \"foodSecurity\",\n",
    "      \"url\": \"https://wri-rw.carto.com/api/v2/sql?q=SELECT gadm.gid_0, gadm.name_0, item as variable, y20182020 as value FROM foo_064_rw0_food_insecurity_edit data INNER JOIN ow_aliasing_countries AS alias ON alias.alias = data.area INNER JOIN gadm36_0 gadm ON alias.iso = gadm.gid_0 ORDER BY gid_0 ASC\",\n",
    "      \"transform\": [\n",
    "        {\n",
    "          \"as\": \"security\",\n",
    "          \"expr\": \"isValid(datum.value) ? datum.value/100 : null\",\n",
    "          \"type\": \"formula\"\n",
    "        },\n",
    "        {\n",
    "          \"as\": [\n",
    "            \"protein\"\n",
    "          ],\n",
    "          \"fields\": [\n",
    "            \"gid_0\"\n",
    "          ],\n",
    "          \"from\": \"protein\",\n",
    "          \"key\": \"gid_0\",\n",
    "          \"type\": \"lookup\",\n",
    "          \"values\": [\n",
    "            \"marine_protein_percent\"\n",
    "          ]\n",
    "        },\n",
    "        {\n",
    "          \"as\": [\"geostore\",\"id\",\n",
    "            \"x\",\"y\"\n",
    "          ],\n",
    "          \"fields\": [\n",
    "            \"gid_0\"\n",
    "          ],\n",
    "          \"from\": \"centroids\",\n",
    "          \"key\": \"properties[gid_0]\",\n",
    "          \"type\": \"lookup\",\n",
    "          \"values\": [\n",
    "            \"properties[geostore]\", \"properties[id]\",\"x\", \"y\"\n",
    "          ]\n",
    "        }\n",
    "      ]\n",
    "    },\n",
    "    {\n",
    "      \"name\": \"transformed\",\n",
    "      \"source\": \"foodSecurity\",\n",
    "      \"transform\": [\n",
    "        {\n",
    "          \"as\": \"size\",\n",
    "          \"expr\": \"3 + sqrt(scale('size', datum.security))/2.5\",\n",
    "          \"type\": \"formula\"\n",
    "        },\n",
    "        {\n",
    "          \"type\": \"force\",\n",
    "          \"forces\": [\n",
    "            {\n",
    "              \"force\": \"collide\",\n",
    "              \"radius\": {\n",
    "                \"field\": \"size\"\n",
    "              },\n",
    "              \"iterations\": 200,\n",
    "              \"strength\": 0.9\n",
    "            },\n",
    "            {\n",
    "              \"force\": \"x\",\n",
    "              \"x\": {\n",
    "                \"field\": \"x\"\n",
    "              }\n",
    "            },\n",
    "            {\n",
    "              \"force\": \"y\",\n",
    "              \"y\": {\n",
    "                \"field\": \"y\"\n",
    "              }\n",
    "            }\n",
    "          ]\n",
    "        },\n",
    "        {\n",
    "          \"as\": \"x\",\n",
    "          \"expr\": \"datum.x+datum.vx\",\n",
    "          \"type\": \"formula\"\n",
    "        },\n",
    "        {\n",
    "          \"as\": \"y\",\n",
    "          \"expr\": \"datum.y+datum.vy\",\n",
    "          \"type\": \"formula\"\n",
    "        }\n",
    "      ]\n",
    "    },\n",
    "    { \"name\": \"geom\",\n",
    "    \"url\": \"https://raw.githubusercontent.com/wri/wri-bounds/master/dist/all_countries.min.geojson\",\n",
    "    \"format\": {\n",
    "      \"property\": \"features\",\n",
    "      \"type\": \"json\"},\n",
    "      \"transform\": [\n",
    "        {\n",
    "          \"as\": [\n",
    "            \"protein\"\n",
    "          ],\n",
    "          \"fields\": [\n",
    "            \"properties[iso_a3]\"\n",
    "          ],\n",
    "          \"from\": \"protein\",\n",
    "          \"key\": \"gid_0\",\n",
    "          \"type\": \"lookup\",\n",
    "          \"values\": [\n",
    "            \"marine_protein_percent\"\n",
    "          ]\n",
    "        },\n",
    "        {\n",
    "          \"as\": [\"security\",\"geostore\",\"id\"\n",
    "          ],\n",
    "          \"fields\": [\n",
    "            \"properties[iso_a3]\"\n",
    "          ],\n",
    "          \"from\": \"foodSecurity\",\n",
    "          \"key\": \"gid_0\",\n",
    "          \"type\": \"lookup\",\n",
    "          \"values\": [\"security\",\"geostore\",\"id\"]\n",
    "        }\n",
    "      ]\n",
    "    }\n",
    "  ],\n",
    "  \"height\": 400,\n",
    "  \"legends\": [\n",
    "    {\n",
    "      \"clipHeight\": 16,\n",
    "      \"direction\": \"horizontal\",\n",
    "      \"fill\": \"color\",\n",
    "      \"gradientThickness\": 10,\n",
    "      \"labelFontSize\": 10,\n",
    "      \"labelFont\": \"Lato\",\n",
    "      \"orient\": \"bottom-left\",\n",
    "      \"size\": \"color\",\n",
    "      \"title\": [\n",
    "        \"Proportion of protein supply\",\n",
    "        \"from marine protein\"\n",
    "      ],\n",
    "      \"titleFontSize\": 10,\n",
    "      \"titleFont\": \"Lato\",\n",
    "      \"type\": \"gradient\",\n",
    "      \"format\": \"%\"\n",
    "    },\n",
    "    {\n",
    "      \"clipHeight\": 20,\n",
    "      \"direction\": \"horizontal\",\n",
    "      \"labelFontSize\":10,\n",
    "      \"labelFont\": \"Lato\",\n",
    "      \"format\": \"%\",\n",
    "      \"orient\": \"bottom-left\",\n",
    "      \"size\": \"size\",\n",
    "      \"symbolFillColor\": \"white\",\n",
    "      \"symbolStrokeColor\": \"lightgrey\",\n",
    "      \"title\": [\n",
    "        \"Prevalence of moderate to\",\n",
    "        \"severe food insecurity\"\n",
    "      ],\n",
    "       \"titleFont\": \"Lato\",\n",
    "      \"titleFontSize\": 10,\n",
    "      \"type\": \"symbol\"\n",
    "    }\n",
    "  ],\n",
    "  \"scales\": [\n",
    "    {\n",
    "      \"domain\": {\n",
    "        \"data\": \"foodSecurity\",\n",
    "        \"field\": \"security\"\n",
    "      },\n",
    "      \"name\": \"size\",\n",
    "      \"range\": {\"signal\": \"[height/4,height]\"}\n",
    "    },\n",
    "    {\n",
    "      \"domain\": {\n",
    "        \"data\": \"foodSecurity\",\n",
    "        \"field\": \"protein\"\n",
    "      },\n",
    "      \"domainMax\": 0.11,\n",
    "      \"name\": \"color\",\n",
    "      \"nice\": true,\n",
    "      \"range\": [\n",
    "        \"#bdd8ec\",\n",
    "        \"#145fa6\"\n",
    "      ],\n",
    "      \"type\": \"linear\"\n",
    "    }\n",
    "  ],\n",
    "  \"width\": 800,\n",
    "  \"marks\": [\n",
    "    {\n",
    "      \"encode\": {\n",
    "        \"enter\": {\n",
    "          \"fill\": [{\"test\": \"isValid(datum.protein) & isValid(datum.security)\", \n",
    "            \"field\": \"protein\",\n",
    "            \"scale\": \"color\"},\n",
    "            {\"value\": [\"transparent\"]}\n",
    "          ],\n",
    "          \"size\": {\n",
    "            \"field\": \"security\",\n",
    "            \"scale\": \"size\"\n",
    "          },\n",
    "          \"stroke\": [{\"test\": \"datum.id === datum.geostore\", \"value\": \"gold\"}, {\"test\": \"isValid(datum.protein) & isValid(datum.security)\", \"value\": \"white\"}, {\"value\": \"transparent\"}\n",
    "          ],\n",
    "          \"strokeWidth\": [\n",
    "            {\"test\": \"datum.id === datum.geostore\", \"value\": 2},\n",
    "            {\"value\": 0.5}],\n",
    "          \"x\": {\n",
    "            \"field\": \"x\"\n",
    "          },\n",
    "          \"y\": {\n",
    "            \"field\": \"y\"\n",
    "          }\n",
    "        }\n",
    "      },\n",
    "      \"from\": {\n",
    "        \"data\": \"transformed\"\n",
    "      },\n",
    "      \"name\": \"circles\",\n",
    "      \"type\": \"symbol\",\n",
    "      \"zindex\": 1\n",
    "    },\n",
    "    {\n",
    "      \"encode\": {\n",
    "        \"enter\": {\n",
    "          \"align\": {\n",
    "            \"value\": \"center\"\n",
    "          },\n",
    "          \"baseline\": {\n",
    "            \"value\": \"middle\"\n",
    "          },\n",
    "          \"fill\": [{\"test\": \"isValid(datum.datum.security) && isValid(datum.datum.protein)\", \"value\": \"black\"}, \n",
    "            {\"value\": \"transparent\"\n",
    "          }],\n",
    "          \"fontSize\": {\n",
    "            \"signal\": \"5\"\n",
    "          },\n",
    "          \"font\": {\n",
    "            \"value\": \"Lato\"\n",
    "          },\n",
    "          \"text\": {\n",
    "            \"field\": \"datum.gid_0\"\n",
    "          }\n",
    "        },\n",
    "        \"update\": {\n",
    "          \"x\": {\n",
    "            \"field\": \"x\"\n",
    "          },\n",
    "          \"y\": {\n",
    "            \"field\": \"y\"\n",
    "          }\n",
    "        }\n",
    "      },\n",
    "      \"from\": {\n",
    "        \"data\": \"circles\"\n",
    "      },\n",
    "      \"interactive\": false,\n",
    "      \"type\": \"text\",\n",
    "      \"zindex\": 2\n",
    "    },\n",
    "    {\n",
    "      \"encode\": {\n",
    "        \"enter\": {\n",
    "          \"fill\": {\n",
    "            \"value\": \"#f6f6f6\"\n",
    "          },\n",
    "          \"stroke\": [{\"test\": \"datum.id === datum.geostore && isValid(datum.geostore)\", \"value\": \"gold\"},{\n",
    "            \"value\": \"transparent\"\n",
    "          }],\n",
    "          \"strokeWidth\": {\n",
    "            \"value\": 0.5\n",
    "          }\n",
    "        }\n",
    "      },\n",
    "      \"from\": {\n",
    "        \"data\": \"geom\"\n",
    "      },\n",
    "      \"transform\": [\n",
    "        {\n",
    "          \"projection\": \"projection\",\n",
    "          \"type\": \"geoshape\"\n",
    "        }\n",
    "      ],\n",
    "      \"type\": \"shape\",\n",
    "      \"zindex\": 0\n",
    "    }\n",
    "  ],\n",
    "  \"projections\": [\n",
    "    {\n",
    "      \"extent\": {\n",
    "        \"signal\": \"[[-width/20,0],[width,height-height/4.5]]\"\n",
    "      },\n",
    "      \"clipExtent\": {\n",
    "        \"signal\": \"[[0,0],[width,height-height/8]]\"\n",
    "      },\n",
    "      \"fit\": {\n",
    "        \"signal\": \"data('source')\"\n",
    "      },\n",
    "      \"name\": \"projection\",\n",
    "      \"type\": \"naturalEarth1\"\n",
    "    }\n",
    "  ],\n",
    "    \"interaction_config\": [\n",
    "    {\n",
    "      \"name\": \"tooltip\",\n",
    "      \"config\": {\n",
    "        \"fields\": [\n",
    "          {\n",
    "            \"column\": \"properties.name\",\n",
    "            \"property\": \"Location\",\n",
    "            \"type\": \"text\",\n",
    "            \"format\": \"\"\n",
    "          },\n",
    "           {\n",
    "            \"column\": \"name_0\",\n",
    "            \"property\": \"Location\",\n",
    "            \"type\": \"text\",\n",
    "            \"format\": \"\"\n",
    "          },\n",
    "          {\n",
    "            \"column\": \"protein\",\n",
    "            \"property\": \"Proportion of protein supply from marine protein\",\n",
    "            \"type\": \"number\",\n",
    "            \"format\": \".2%\"\n",
    "          },\n",
    "          {\n",
    "            \"column\": \"security\",\n",
    "            \"property\": \"Prevalence of food insecurity\",\n",
    "            \"type\": \"number\",\n",
    "            \"format\": \".2%\"\n",
    "          }\n",
    "        ]\n",
    "      }\n",
    "    }\n",
    "  ]\n",
    "}\"\"\")\n",
    "vega_view=dict(spec)"
   ]
  },
  {
   "cell_type": "code",
   "execution_count": 5,
   "metadata": {},
   "outputs": [
    {
     "data": {
      "application/vnd.vega.v5+json": {
       "autosize": "none",
       "data": [
        {
         "format": {
          "property": "rows",
          "type": "json"
         },
         "name": "protein",
         "transform": [
          {
           "as": "marine_protein_percent",
           "expr": "datum.total === 0 ? null : (datum.ocean/ datum.total)",
           "type": "formula"
          }
         ],
         "url": "https://wri-rw.carto.com/api/v2/sql?q=SELECT gadm.gid_0, gadm.name_0, year, SUM(CASE WHEN type = 'Grand Total' THEN value ELSE 0 END) AS total, SUM(CASE WHEN type = 'Ocean-Sourced Food' THEN value ELSE 0 END) AS ocean FROM foo_061_rw0_blue_food_supply_edit data INNER JOIN ow_aliasing_countries AS alias ON alias.alias = data.area  INNER JOIN gadm36_0 gadm ON alias.iso = gadm.gid_0 WHERE element = 'Protein supply quantity (g/capita/day)' AND year= 2018 GROUP BY gadm.gid_0, gadm.name_0, year ORDER BY gid_0"
        },
        {
         "format": {
          "property": "features",
          "type": "json"
         },
         "name": "source",
         "url": "https://wri-rw.carto.com/api/v2/sql?format=GeoJSON&q=SELECT ST_Centroid(gadm.the_geom) AS the_geom, data.gid_0, data.name_0, data.variable, data.value, geostore_prod as geostore, '{{geostore_id}}' as id FROM (SELECT * FROM ow_widget_territory WHERE variable = 'FoodInsecurity_Prevalence') data INNER JOIN gadm36_0 AS gadm ON gadm.gid_0 = data.gid_0 ORDER BY gid_0 ASC"
        },
        {
         "name": "centroids",
         "source": "source",
         "transform": [
          {
           "as": "x_cart",
           "expr": "test(/KIR/, datum.properties.gid_0) ? 175 : test(/WSM/, datum.properties.gid_0) ? 175: test(/TON/, datum.properties.gid_0) ? 180 : datum.geometry.coordinates[0]",
           "type": "formula"
          },
          {
           "as": "y_cart",
           "expr": "test(/KIR/, datum.properties.gid_0) ? -5: test(/WSM/, datum.properties.gid_0) ? -10: test(/TON/, datum.properties.gid_0) ? -18: datum.geometry.coordinates[1]",
           "type": "formula"
          },
          {
           "fields": [
            "x_cart",
            "y_cart"
           ],
           "projection": "projection",
           "type": "geopoint"
          }
         ]
        },
        {
         "format": {
          "property": "rows",
          "type": "json"
         },
         "name": "foodSecurity",
         "transform": [
          {
           "as": "security",
           "expr": "isValid(datum.value) ? datum.value/100 : null",
           "type": "formula"
          },
          {
           "as": [
            "protein"
           ],
           "fields": [
            "gid_0"
           ],
           "from": "protein",
           "key": "gid_0",
           "type": "lookup",
           "values": [
            "marine_protein_percent"
           ]
          },
          {
           "as": [
            "geostore",
            "id",
            "x",
            "y"
           ],
           "fields": [
            "gid_0"
           ],
           "from": "centroids",
           "key": "properties[gid_0]",
           "type": "lookup",
           "values": [
            "properties[geostore]",
            "properties[id]",
            "x",
            "y"
           ]
          }
         ],
         "url": "https://wri-rw.carto.com/api/v2/sql?q=SELECT gadm.gid_0, gadm.name_0, item as variable, y20182020 as value FROM foo_064_rw0_food_insecurity_edit data INNER JOIN ow_aliasing_countries AS alias ON alias.alias = data.area INNER JOIN gadm36_0 gadm ON alias.iso = gadm.gid_0 ORDER BY gid_0 ASC"
        },
        {
         "name": "transformed",
         "source": "foodSecurity",
         "transform": [
          {
           "as": "size",
           "expr": "3 + sqrt(scale('size', datum.security))/2.5",
           "type": "formula"
          },
          {
           "forces": [
            {
             "force": "collide",
             "iterations": 200,
             "radius": {
              "field": "size"
             },
             "strength": 0.9
            },
            {
             "force": "x",
             "x": {
              "field": "x"
             }
            },
            {
             "force": "y",
             "y": {
              "field": "y"
             }
            }
           ],
           "type": "force"
          },
          {
           "as": "x",
           "expr": "datum.x+datum.vx",
           "type": "formula"
          },
          {
           "as": "y",
           "expr": "datum.y+datum.vy",
           "type": "formula"
          }
         ]
        },
        {
         "format": {
          "property": "features",
          "type": "json"
         },
         "name": "geom",
         "transform": [
          {
           "as": [
            "protein"
           ],
           "fields": [
            "properties[iso_a3]"
           ],
           "from": "protein",
           "key": "gid_0",
           "type": "lookup",
           "values": [
            "marine_protein_percent"
           ]
          },
          {
           "as": [
            "security",
            "geostore",
            "id"
           ],
           "fields": [
            "properties[iso_a3]"
           ],
           "from": "foodSecurity",
           "key": "gid_0",
           "type": "lookup",
           "values": [
            "security",
            "geostore",
            "id"
           ]
          }
         ],
         "url": "https://raw.githubusercontent.com/wri/wri-bounds/master/dist/all_countries.min.geojson"
        }
       ],
       "height": 400,
       "interaction_config": [
        {
         "config": {
          "fields": [
           {
            "column": "properties.name",
            "format": "",
            "property": "Location",
            "type": "text"
           },
           {
            "column": "name_0",
            "format": "",
            "property": "Location",
            "type": "text"
           },
           {
            "column": "protein",
            "format": ".2%",
            "property": "Proportion of protein supply from marine protein",
            "type": "number"
           },
           {
            "column": "security",
            "format": ".2%",
            "property": "Prevalence of food insecurity",
            "type": "number"
           }
          ]
         },
         "name": "tooltip"
        }
       ],
       "legends": [
        {
         "clipHeight": 16,
         "direction": "horizontal",
         "fill": "color",
         "format": "%",
         "gradientThickness": 10,
         "labelFont": "Arial",
         "labelFontSize": 10,
         "orient": "bottom-left",
         "size": "color",
         "title": [
          "Proportion of protein supply",
          "from marine protein"
         ],
         "titleFont": "Arial",
         "titleFontSize": 10,
         "type": "gradient"
        },
        {
         "clipHeight": 20,
         "direction": "horizontal",
         "format": "%",
         "labelFont": "Arial",
         "labelFontSize": 10,
         "orient": "bottom-left",
         "size": "size",
         "symbolFillColor": "white",
         "symbolStrokeColor": "lightgrey",
         "title": [
          "Prevalence of moderate to",
          "severe food insecurity"
         ],
         "titleFont": "Arial",
         "titleFontSize": 10,
         "type": "symbol"
        }
       ],
       "marks": [
        {
         "encode": {
          "enter": {
           "fill": [
            {
             "field": "protein",
             "scale": "color",
             "test": "isValid(datum.protein) & isValid(datum.security)"
            },
            {
             "value": [
              "transparent"
             ]
            }
           ],
           "size": {
            "field": "security",
            "scale": "size"
           },
           "stroke": [
            {
             "test": "datum.id === datum.geostore",
             "value": "gold"
            },
            {
             "test": "isValid(datum.protein) & isValid(datum.security)",
             "value": "white"
            },
            {
             "value": "transparent"
            }
           ],
           "strokeWidth": [
            {
             "test": "datum.id === datum.geostore",
             "value": 2
            },
            {
             "value": 0.5
            }
           ],
           "x": {
            "field": "x"
           },
           "y": {
            "field": "y"
           }
          }
         },
         "from": {
          "data": "transformed"
         },
         "name": "circles",
         "type": "symbol",
         "zindex": 1
        },
        {
         "encode": {
          "enter": {
           "align": {
            "value": "center"
           },
           "baseline": {
            "value": "middle"
           },
           "fill": [
            {
             "test": "isValid(datum.datum.security) && isValid(datum.datum.protein)",
             "value": "black"
            },
            {
             "value": "transparent"
            }
           ],
           "font": {
            "value": "Arial"
           },
           "fontSize": {
            "signal": "5"
           },
           "text": {
            "field": "datum.gid_0"
           }
          },
          "update": {
           "x": {
            "field": "x"
           },
           "y": {
            "field": "y"
           }
          }
         },
         "from": {
          "data": "circles"
         },
         "interactive": false,
         "type": "text",
         "zindex": 2
        },
        {
         "encode": {
          "enter": {
           "fill": {
            "value": "#f6f6f6"
           },
           "stroke": [
            {
             "test": "datum.id === datum.geostore && isValid(datum.geostore)",
             "value": "gold"
            },
            {
             "value": "transparent"
            }
           ],
           "strokeWidth": {
            "value": 0.5
           }
          }
         },
         "from": {
          "data": "geom"
         },
         "transform": [
          {
           "projection": "projection",
           "type": "geoshape"
          }
         ],
         "type": "shape",
         "zindex": 0
        }
       ],
       "projections": [
        {
         "clipExtent": {
          "signal": "[[0,0],[width,height-height/8]]"
         },
         "extent": {
          "signal": "[[-width/20,0],[width,height-height/4.5]]"
         },
         "fit": {
          "signal": "data('source')"
         },
         "name": "projection",
         "type": "naturalEarth1"
        }
       ],
       "scales": [
        {
         "domain": {
          "data": "foodSecurity",
          "field": "security"
         },
         "name": "size",
         "range": {
          "signal": "[height/4,height]"
         }
        },
        {
         "domain": {
          "data": "foodSecurity",
          "field": "protein"
         },
         "domainMax": 0.14,
         "name": "color",
         "nice": true,
         "range": [
          "#bdd8ec",
          "#145fa6"
         ],
         "type": "linear"
        }
       ],
       "width": 800
      },
      "image/png": "[encoded data removed]"
     },
     "metadata": {},
     "output_type": "display_data"
    }
   ],
   "source": [
    "vega_view['legends'][0]['titleFont'] = 'Arial'\n",
    "vega_view['legends'][1]['titleFont'] = 'Arial'\n",
    "vega_view['legends'][0]['labelFont'] = 'Arial'\n",
    "vega_view['legends'][1]['labelFont'] = 'Arial'\n",
    "vega_view['marks'][1]['encode']['enter']['font']['value'] = 'Arial'\n",
    "Vega(vega_view)"
   ]
  },
  {
   "cell_type": "markdown",
   "metadata": {},
   "source": [
    "# Indicator"
   ]
  },
  {
   "cell_type": "markdown",
   "metadata": {},
   "source": [
    "No global indicator"
   ]
  },
  {
   "cell_type": "markdown",
   "metadata": {},
   "source": [
    "## Country"
   ]
  },
  {
   "cell_type": "markdown",
   "metadata": {},
   "source": [
    "Proportion of the global average of marine protein consumption is consumed by the country's population"
   ]
  },
  {
   "cell_type": "markdown",
   "metadata": {},
   "source": [
    "#### Formatted\n",
    "```sql\n",
    "SELECT gid_0, SUM(value)/global_avg AS value \n",
    "FROM foo_061_rw0_blue_food_supply_edit country_data_v1\n",
    "LEFT JOIN \n",
    "\t(SELECT AVG(protein_supply) AS global_avg, 'Ocean-Sourced Food' AS type \n",
    "     FROM (SELECT area, SUM(value) as protein_supply \n",
    "           FROM foo_061_rw0_blue_food_supply_edit \n",
    "           WHERE element_code = 674 AND type = 'Ocean-Sourced Food' AND year = 2018 GROUP BY area) country_data_v2) global \n",
    "     ON global.type = country_data_v1.type\n",
    "LEFT JOIN ow_aliasing_countries AS alias ON alias.alias = country_data_v1.area\n",
    "LEFT JOIN gadm36_0 gadm ON alias.iso = gadm.gid_0\n",
    "WHERE element_code = 674 AND country_data_v1.type = 'Ocean-Sourced Food' \n",
    "AND year = 2018 AND {{geostore_env}} ILIKE '{{geostore_id}}'\n",
    "GROUP BY gid_0, global_avg\n",
    "```\n",
    "\n",
    "#### Raw\n",
    "`https://wri-rw.carto.com/api/v2/sql?q=SELECT gid_0, SUM(value)/global_avg AS value FROM foo_061_rw0_blue_food_supply_edit country_data_v1 LEFT JOIN (SELECT AVG(protein_supply) AS global_avg, 'Ocean-Sourced Food' AS type FROM (SELECT area, SUM(value) as protein_supply FROM foo_061_rw0_blue_food_supply_edit WHERE element_code = 674 AND type = 'Ocean-Sourced Food' AND year = 2018 GROUP BY area) country_data_v2) global ON global.type = country_data_v1.type LEFT JOIN ow_aliasing_countries AS alias ON alias.alias = country_data_v1.area LEFT JOIN gadm36_0 gadm ON alias.iso = gadm.gid_0 WHERE element_code = 674 AND country_data_v1.type = 'Ocean-Sourced Food' AND year = 2018 AND {{geostore_env}} ILIKE '{{geostore_id}}' GROUP BY gid_0, global_avg`\n",
    "\n",
    "#### [Demo](https://wri-rw.carto.com/api/v2/sql?q=SELECT%20gid_0,%20SUM(value)/global_avg%20AS%20value%20FROM%20foo_061_rw0_blue_food_supply_edit%20country_data_v1%20LEFT%20JOIN%20(SELECT%20AVG(protein_supply)%20AS%20global_avg,%20%27Ocean-Sourced%20Food%27%20AS%20type%20FROM%20(SELECT%20area,%20SUM(value)%20as%20protein_supply%20FROM%20foo_061_rw0_blue_food_supply_edit%20WHERE%20element_code%20=%20674%20AND%20type%20=%20%27Ocean-Sourced%20Food%27%20AND%20year%20=%202018%20GROUP%20BY%20area)%20country_data_v2)%20global%20ON%20global.type%20=%20country_data_v1.type%20LEFT%20JOIN%20ow_aliasing_countries%20AS%20alias%20ON%20alias.alias%20=%20country_data_v1.area%20LEFT%20JOIN%20gadm36_0%20gadm%20ON%20alias.iso%20=%20gadm.gid_0%20WHERE%20element_code%20=%20674%20AND%20country_data_v1.type%20=%20%27Ocean-Sourced%20Food%27%20AND%20year%20=%202018%20AND%20geostore_prod%20ILIKE%27cb7969c52812b9cd965dc2d052ff50ed%27%20GROUP%20BY%20gid_0,%20global_avg)"
   ]
  },
  {
   "cell_type": "markdown",
   "metadata": {},
   "source": [
    "# RW Backoffice"
   ]
  },
  {
   "cell_type": "markdown",
   "metadata": {},
   "source": [
    "- [back office](https://resourcewatch.org/admin/data/widgets/4a54273c-0529-4da1-a935-f3de4738ca3e/edit?dataset=dc313105-8005-4234-894b-68bfb340e80c)\n",
    "- parent dataset foo.064 (upublished) and [foo.061](https://resourcewatch.org/data/explore/9e1b3cad-db6f-44b0-b6fb-048df7b6c680)\n",
    "- dataset id ```dc313105-8005-4234-894b-68bfb340e80c```\n",
    "- widget id: ```4a54273c-0529-4da1-a935-f3de4738ca3e```\n",
    "- [api widget](https://api.resourcewatch.org/v1/widget/4a54273c-0529-4da1-a935-f3de4738ca3e?env=production)"
   ]
  },
  {
   "cell_type": "code",
   "execution_count": null,
   "metadata": {},
   "outputs": [],
   "source": []
  }
 ],
 "metadata": {
  "kernelspec": {
   "display_name": "Python 3 (ipykernel)",
   "language": "python",
   "name": "python3"
  },
  "language_info": {
   "codemirror_mode": {
    "name": "ipython",
    "version": 3
   },
   "file_extension": ".py",
   "mimetype": "text/x-python",
   "name": "python",
   "nbconvert_exporter": "python",
   "pygments_lexer": "ipython3",
   "version": "3.7.8"
  }
 },
 "nbformat": 4,
 "nbformat_minor": 4
}
