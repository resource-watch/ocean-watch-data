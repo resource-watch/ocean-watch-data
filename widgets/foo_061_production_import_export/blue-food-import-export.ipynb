{
 "cells": [
  {
   "cell_type": "markdown",
   "id": "7e80b58b",
   "metadata": {},
   "source": [
    "# Blue Food: Export, Import, Production\n",
    "Export, import, and production of \"food from the sea\", by country and by year. Intention is to highlight proportions between domestic production and import/export of blue food.\n",
    "\n",
    "Note that this is a parameterized widget; the specification passed to the API will not be renderable without the geostore identifier being inserted.  \n",
    "\n",
    "_Author: Peter Kerins_  \n",
    "_Created: 18 Aug 2021_  \n",
    "_Environment: jupyterlab_  "
   ]
  },
  {
   "cell_type": "markdown",
   "id": "55805391",
   "metadata": {},
   "source": [
    "## Style\n",
    "- Vega chart\n",
    "- Ocean Watch country page - parameterized chart\n",
    "- Time series\n",
    "- Vertical bar chart\n",
    "- Area chart"
   ]
  },
  {
   "cell_type": "markdown",
   "id": "54f800e4",
   "metadata": {},
   "source": [
    "## Data\n",
    "Underlying dataset: [foo.061 Food from the Sea](https://resourcewatch.carto.com/u/wri-rw/dataset/foo_061_rw0_blue_food_supply_edit)\n",
    "Widget data: [ow_widget_territory](https://resourcewatch.carto.com/u/wri-rw/dataset/ow_widget_territory) (master table for all territory-based widgets on Ocean Watch)  "
   ]
  },
  {
   "cell_type": "markdown",
   "id": "9fa9d6fc",
   "metadata": {},
   "source": [
    "## Preparation"
   ]
  },
  {
   "cell_type": "code",
   "execution_count": 2,
   "id": "580e2f35",
   "metadata": {},
   "outputs": [],
   "source": [
    "import json\n",
    "from vega import Vega\n",
    "from IPython.display import display"
   ]
  },
  {
   "cell_type": "code",
   "execution_count": 3,
   "id": "db138e54",
   "metadata": {},
   "outputs": [],
   "source": [
    "def Vega(spec):\n",
    "    bundle = {}\n",
    "    bundle['application/vnd.vega.v5+json'] = spec\n",
    "    display(bundle, raw=True)"
   ]
  },
  {
   "cell_type": "code",
   "execution_count": 10,
   "id": "6b71cc20",
   "metadata": {
    "tags": []
   },
   "outputs": [],
   "source": [
    "widget_width = 600\n",
    "widget_height = 300"
   ]
  },
  {
   "cell_type": "markdown",
   "id": "51d17eb0",
   "metadata": {},
   "source": [
    "# Data Exploration"
   ]
  },
  {
   "cell_type": "markdown",
   "id": "66f400ea",
   "metadata": {},
   "source": [
    "Pivot version for data inspection\n",
    "```sql\n",
    "SELECT gid_0, date,\n",
    "  SUM(CASE WHEN variable = 'Export Quantity' THEN value END) AS export,\n",
    "  SUM(CASE WHEN variable = 'Import Quantity' THEN value END) AS import,\n",
    "  SUM(CASE WHEN variable = 'Production' THEN value END) AS production\n",
    "FROM ow_widget_territory\n",
    "WHERE widget = 'net exports and imports' \n",
    "GROUP BY gid_0, date\n",
    "ORDER BY gid_0 ASC, date ASC\n",
    "```"
   ]
  },
  {
   "cell_type": "markdown",
   "id": "1c164088",
   "metadata": {},
   "source": [
    "Note that there are many instances where export exceeds production. This implies the inclusion of value-added processes, eg canning, which precludes certain comparisons or conclusions.\n",
    "```sql\n",
    "SELECT * FROM (\n",
    "  SELECT gid_0, date,\n",
    "    SUM(CASE WHEN variable = 'Export Quantity' THEN value END) AS export,\n",
    "    SUM(CASE WHEN variable = 'Import Quantity' THEN value END) AS import,\n",
    "    SUM(CASE WHEN variable = 'Production' THEN value END) AS production\n",
    "  FROM ow_widget_territory\n",
    "  WHERE widget = 'net exports and imports' \n",
    "  GROUP BY gid_0, date\n",
    "  ORDER BY gid_0 ASC, date ASC) AS subq\n",
    "WHERE export > production\n",
    "```"
   ]
  },
  {
   "cell_type": "markdown",
   "id": "b997c7f1",
   "metadata": {},
   "source": [
    "# Widget"
   ]
  },
  {
   "cell_type": "markdown",
   "id": "23f71069",
   "metadata": {},
   "source": [
    "## Demo Query\n",
    "`gid_0 = <territory>` used as stand-in for parameterization\n",
    "```sql\n",
    "SELECT gid_0, year as date,\n",
    "  SUM(CASE WHEN element = 'Export Quantity' THEN value END) AS export,\n",
    "  SUM(CASE WHEN element = 'Import Quantity' THEN value END) AS import,\n",
    "  SUM(CASE WHEN element = 'Production' THEN value END) AS production\n",
    "FROM foo_061_rw0_blue_food_supply_edit data\n",
    "LEFT OUTER JOIN ow_aliasing_countries AS alias ON alias.alias = data.area \n",
    "LEFT OUTER JOIN gadm36_0 gadm ON alias.iso = gadm.gid_0 \n",
    "WHERE gid_0= 'BRA'\n",
    "GROUP BY gid_0, date\n",
    "ORDER BY gid_0 ASC, date ASC\n",
    "```"
   ]
  },
  {
   "cell_type": "markdown",
   "id": "5cccda37",
   "metadata": {},
   "source": [
    "## Parameterized Query\n",
    "```sql\n",
    "SELECT gid_0, year as date,\n",
    "  SUM(CASE WHEN element = 'Export Quantity' THEN value END) AS export,\n",
    "  SUM(CASE WHEN element = 'Import Quantity' THEN value END) AS import,\n",
    "  SUM(CASE WHEN element = 'Production' THEN value END) AS production\n",
    "FROM foo_061_rw0_blue_food_supply_edit data\n",
    "LEFT OUTER JOIN ow_aliasing_countries AS alias ON alias.alias = data.area \n",
    "LEFT OUTER JOIN gadm36_0 gadm ON alias.iso = gadm.gid_0 \n",
    "WHERE {{geostore_env}}= '{{geostore_id}}'\n",
    "GROUP BY gid_0, date\n",
    "ORDER BY gid_0 ASC, date ASC\n",
    "```"
   ]
  },
  {
   "cell_type": "markdown",
   "id": "1e807e64",
   "metadata": {},
   "source": [
    "## Specification\n",
    "Vega code presumes RW-style `config` element present"
   ]
  },
  {
   "cell_type": "code",
   "execution_count": 11,
   "id": "08586799",
   "metadata": {},
   "outputs": [],
   "source": [
    "spec=json.loads(\"\"\"\n",
    "{\n",
    "  \"schema\": \"https://vega.github.io/schema/vega/v5.json\",\n",
    "  \"description\": \"Export, import, and production of food from the sea over time\",\n",
    "  \"padding\": 0,\n",
    "  \"autosize\": {\"type\": \"fit\", \"contains\": \"padding\"},\n",
    "  \"signals\": [],\n",
    "  \"data\": [\n",
    "    {\n",
    "      \"name\": \"reshaped\",\n",
    "      \"url\": \"https://wri-rw.carto.com/api/v2/sql?q=SELECT gid_0, year as date, SUM(CASE WHEN element = 'Export Quantity' THEN value END) AS export, SUM(CASE WHEN element = 'Import Quantity' THEN value END) AS import, SUM(CASE WHEN element = 'Production' THEN value END) AS production FROM foo_061_rw0_blue_food_supply_edit data LEFT OUTER JOIN ow_aliasing_countries AS alias ON alias.alias = data.area  LEFT OUTER JOIN gadm36_0 gadm ON alias.iso = gadm.gid_0 WHERE {{geostore_env}}= '{{geostore_id}}' GROUP BY gid_0, date ORDER BY gid_0 ASC, date ASC\",\n",
    "      \"format\": {\n",
    "        \"type\": \"json\",\n",
    "        \"property\": \"rows\",\n",
    "        \"parse\": {\"date\": \"utc:'%Y'\"}\n",
    "      },\n",
    "      \"transform\": [\n",
    "      {\n",
    "          \"type\": \"formula\",\n",
    "          \"expr\": \"utcyear(datum.date)\",\n",
    "          \"as\": \"time\"\n",
    "        },\n",
    "         {\n",
    "          \"type\": \"formula\",\n",
    "          \"expr\": \"datum.production*1000\",\n",
    "          \"as\": \"production_quantity\"\n",
    "        },\n",
    "         {\n",
    "          \"type\": \"formula\",\n",
    "          \"expr\": \"datum.export*1000\",\n",
    "          \"as\": \"export_quantity\"\n",
    "        },\n",
    "         {\n",
    "          \"type\": \"formula\",\n",
    "          \"expr\": \"datum.import*1000\",\n",
    "          \"as\": \"import_quantity\"\n",
    "        }\n",
    "        ]\n",
    "    }\n",
    "  ],\n",
    "  \"scales\": [\n",
    "    {\n",
    "      \"name\": \"datescale\",\n",
    "      \"type\": \"time\",\n",
    "      \"domain\": {\"data\": \"reshaped\", \"field\": \"date\"},\n",
    "      \"range\": \"width\"\n",
    "    },\n",
    "    {\n",
    "      \"name\": \"yscale\",\n",
    "      \"type\": \"linear\",\n",
    "      \"domain\": {\n",
    "        \"data\": \"reshaped\", \n",
    "        \"fields\": [\"import\", \"export\", \"production\"]\n",
    "      },\n",
    "      \"range\": \"height\",\n",
    "      \"padding\": 0.1\n",
    "    },\n",
    "    {\n",
    "      \"name\": \"areascale\",\n",
    "      \"type\": \"ordinal\",\n",
    "      \"domain\": [\"Production\"],\n",
    "      \"range\": [\"#668DC5\"]\n",
    "    },\n",
    "    {\n",
    "      \"name\": \"linescale\",\n",
    "      \"type\": \"ordinal\",\n",
    "      \"domain\": [\"Export\", \"Import\"],\n",
    "      \"range\": [\"#F3B229\", \"#11497A\"]\n",
    "    }\n",
    "  ],\n",
    "  \"axes\": [\n",
    "    {\n",
    "      \"orient\": \"bottom\",\n",
    "      \"scale\": \"datescale\",\n",
    "      \"domain\": true,\n",
    "      \"labelFlush\": true,\n",
    "      \"labelOverlap\": true,\n",
    "      \"labelBaseline\": \"middle\",\n",
    "      \"ticks\": true,\n",
    "      \"grid\": false,\n",
    "      \"labelFontSize\": 10,\n",
    "      \"labelPadding\": 7\n",
    "    },\n",
    "    {\n",
    "      \"orient\": \"left\",\n",
    "      \"scale\": \"yscale\",\n",
    "      \"domain\": true,\n",
    "      \"labelBaseline\": \"middle\",\n",
    "      \"labelAlign\": \"right\",\n",
    "      \"labelPadding\": 5,\n",
    "      \"grid\": true,\n",
    "      \"gridOpacity\": 0.2,\n",
    "      \"labelFontSize\": 10,\n",
    "      \"title\": \"Marine food quantitiy (1000 metric tons)\",\n",
    "      \"titleFont\": \"Lato\"\n",
    "    }\n",
    "  ],\n",
    "  \"marks\": [\n",
    "    {\n",
    "      \"type\": \"area\",\n",
    "      \"from\": {\n",
    "        \"data\": \"reshaped\"\n",
    "      },\n",
    "      \"interactive\": false,\n",
    "      \"encode\": {\n",
    "        \"enter\": {\n",
    "          \"x\": {\"scale\": \"datescale\", \"field\": \"date\"},\n",
    "          \"y\": {\"scale\": \"yscale\", \"field\": \"production\"},\n",
    "          \"y2\": {\"scale\": \"yscale\", \"value\": 0},\n",
    "          \"fill\": {\"value\": \"#668DC5\"},\n",
    "          \"tooltip\": {\n",
    "            \"signal\": \"{'Year':utcyear(datum.date), 'Production':format(datum.production*1000,',')+' tonnes', 'Export':format(datum.export*1000,',')+' tonnes', 'Import':format(datum.import*1000,',')+' tonnes'}\"\n",
    "          }\n",
    "        }\n",
    "      }\n",
    "    },\n",
    "    {\n",
    "      \"name\": \"production_points\",\n",
    "      \"type\": \"symbol\",\n",
    "      \"from\": {\"data\": \"reshaped\"},\n",
    "      \"encode\": {\n",
    "        \"enter\": {\n",
    "          \"x\": {\"scale\": \"datescale\", \"field\": \"date\"},\n",
    "          \"y\": {\"scale\": \"yscale\", \"field\": \"production\"},\n",
    "          \"size\": {\"signal\": \"(width*height)/1000\"},\n",
    "          \"stroke\": {\"value\": \"white\"},\n",
    "          \"strokeOpacity\": {\"value\": 0},\n",
    "          \"fillOpacity\": {\"value\": 0},\n",
    "          \"strokeWidth\": {\"value\": 2},\n",
    "          \"shape\": {\"value\": \"circle\"}\n",
    "        },\n",
    "        \"update\": {\"fillOpacity\": {\"value\": 0}, \"strokeOpacity\": {\"value\": 0}},\n",
    "        \"hover\": {\"fillOpacity\": {\"value\": 1}, \"fill\": {\"value\": \"#668DC5\"},\"strokeOpacity\": {\"value\": 1}}\n",
    "      }\n",
    "    },\n",
    "    {\n",
    "      \"type\": \"line\",\n",
    "      \"from\": {\"data\": \"reshaped\"},\n",
    "      \"interactive\": false,\n",
    "      \"encode\": {\n",
    "        \"enter\": {\n",
    "          \"x\": {\"scale\": \"datescale\", \"field\": \"date\"},\n",
    "          \"y\": {\"scale\": \"yscale\", \"field\": \"export\"},\n",
    "          \"stroke\": {\"value\": \"#F3B229\"},\n",
    "          \"strokeWidth\": {\"value\": 2},\n",
    "          \"interpolate\": {\"value\": \"monotone\"}\n",
    "        },\n",
    "        \"update\": {\n",
    "          \"strokeOpacity\": {\"value\": 1}\n",
    "        },\n",
    "        \"hover\": {\n",
    "          \"strokeOpacity\": {\"value\": 0.5}\n",
    "        }\n",
    "      }\n",
    "    },\n",
    "     {\n",
    "      \"name\": \"export_points\",\n",
    "      \"type\": \"symbol\",\n",
    "      \"from\": {\"data\": \"reshaped\"},\n",
    "      \"encode\": {\n",
    "        \"enter\": {\n",
    "          \"x\": {\"scale\": \"datescale\", \"field\": \"date\"},\n",
    "          \"y\": {\"scale\": \"yscale\", \"field\": \"export\"},\n",
    "          \"size\": {\"signal\": \"(width*height)/1000\"},\n",
    "          \"stroke\": {\"value\": \"white\"},\n",
    "          \"strokeOpacity\": {\"value\": 0},\n",
    "          \"fillOpacity\": {\"value\": 0},\n",
    "          \"strokeWidth\": {\"value\": 2},\n",
    "          \"shape\": {\"value\": \"circle\"}\n",
    "        },\n",
    "        \"update\": {\"fillOpacity\": {\"value\": 0}},\n",
    "        \"hover\": {\"fillOpacity\": {\"value\": 1}, \"fill\": {\"value\": \"#F3B229\"}}\n",
    "      }\n",
    "    },\n",
    "    {\n",
    "      \"type\": \"line\",\n",
    "      \"from\": {\"data\": \"reshaped\"},\n",
    "      \"interactive\": false,\n",
    "      \"encode\": {\n",
    "        \"enter\": {\n",
    "          \"x\": {\"scale\": \"datescale\", \"field\": \"date\"},\n",
    "          \"y\": {\"scale\": \"yscale\", \"field\": \"import\"},\n",
    "          \"stroke\": {\"value\": \"#11497A\"},\n",
    "          \"strokeWidth\": {\"value\": 2},\n",
    "          \"interpolate\": {\"value\": \"monotone\"}\n",
    "        },\n",
    "        \"update\": {\n",
    "          \"strokeOpacity\": {\"value\": 1}\n",
    "        },\n",
    "        \"hover\": {\n",
    "          \"strokeOpacity\": {\"value\": 0.5}\n",
    "        }\n",
    "      }\n",
    "    },\n",
    "    {\n",
    "      \"name\": \"import_points\",\n",
    "      \"type\": \"symbol\",\n",
    "      \"from\": {\"data\": \"reshaped\"},\n",
    "      \"encode\": {\n",
    "        \"enter\": {\n",
    "          \"x\": {\"scale\": \"datescale\", \"field\": \"date\"},\n",
    "          \"y\": {\"scale\": \"yscale\", \"field\": \"import\"},\n",
    "          \"size\": {\"signal\": \"(width*height)/1000\"},\n",
    "          \"stroke\": {\"value\": \"white\"},\n",
    "          \"strokeOpacity\": {\"value\": 0},\n",
    "          \"fillOpacity\": {\"value\": 0},\n",
    "          \"strokeWidth\": {\"value\": 2},\n",
    "          \"shape\": {\"value\": \"circle\"}\n",
    "        },\n",
    "        \"update\": {\"fillOpacity\": {\"value\": 0}},\n",
    "        \"hover\": {\"fillOpacity\": {\"value\": 1}, \"fill\": {\"value\": \"#11497A\"}}\n",
    "      }\n",
    "    }\n",
    "  ],\n",
    "  \"legends\": [\n",
    "    {\n",
    "      \"type\": \"symbol\",\n",
    "      \"orient\": \"right\",\n",
    "      \"fill\": \"areascale\"\n",
    "    },\n",
    "    {\n",
    "      \"type\": \"symbol\",\n",
    "      \"orient\": \"right\",\n",
    "      \"symbol\": \"stroke\",\n",
    "      \"stroke\": \"linescale\",\n",
    "      \"encode\": {\n",
    "        \"symbols\": {\n",
    "          \"update\": {\n",
    "            \"size\": {\"value\": 80},\n",
    "            \"shape\": {\"value\": \"stroke\"}\n",
    "          }\n",
    "        }\n",
    "      }\n",
    "    }\n",
    "  ],\n",
    "  \"interaction_config\": [\n",
    "    {\n",
    "      \"name\": \"tooltip\",\n",
    "      \"config\": {\n",
    "        \"fields\": [\n",
    "          {\n",
    "            \"column\": \"time\",\n",
    "            \"property\": \"Year\",\n",
    "            \"type\": \"text\",\n",
    "            \"format\": \"\"\n",
    "          },\n",
    "          {\n",
    "            \"column\": \"production_quantity\",\n",
    "            \"property\": \"Production (tons)\",\n",
    "            \"type\": \"number\",\n",
    "            \"format\": \",.0f\"\n",
    "          },\n",
    "          {\n",
    "            \"column\": \"export_quantity\",\n",
    "            \"property\": \"Export (tons)\",\n",
    "            \"type\": \"number\",\n",
    "            \"format\": \",.0f\"\n",
    "          },\n",
    "          {\n",
    "            \"column\": \"import_quantity\",\n",
    "            \"property\": \"Import (tons)\",\n",
    "            \"type\": \"number\",\n",
    "            \"format\": \",.0f\"\n",
    "          }\n",
    "        ]\n",
    "      }\n",
    "    }\n",
    "  ]\n",
    "}\n",
    "\"\"\")"
   ]
  },
  {
   "cell_type": "code",
   "execution_count": 12,
   "id": "2275c83f",
   "metadata": {},
   "outputs": [
    {
     "data": {
      "application/vnd.vega.v5+json": {
       "autosize": {
        "contains": "padding",
        "type": "fit"
       },
       "axes": [
        {
         "domain": true,
         "grid": false,
         "labelBaseline": "top",
         "labelFlush": true,
         "labelFontSize": 10,
         "labelOverlap": true,
         "labelPadding": 7,
         "orient": "bottom",
         "scale": "datescale",
         "ticks": true
        },
        {
         "domain": true,
         "grid": true,
         "gridOpacity": 0.2,
         "labelAlign": "right",
         "labelBaseline": "middle",
         "labelFontSize": 10,
         "labelPadding": 5,
         "orient": "left",
         "scale": "yscale",
         "title": "Marine food quantitiy (1000 metric tons)",
         "titleFont": "Arial"
        }
       ],
       "data": [
        {
         "format": {
          "parse": {
           "date": "utc:'%Y'"
          },
          "property": "rows",
          "type": "json"
         },
         "name": "reshaped",
         "transform": [
          {
           "as": "time",
           "expr": "utcyear(datum.date)",
           "type": "formula"
          },
          {
           "as": "production_quantity",
           "expr": "datum.production*1000",
           "type": "formula"
          },
          {
           "as": "export_quantity",
           "expr": "datum.export*1000",
           "type": "formula"
          },
          {
           "as": "import_quantity",
           "expr": "datum.import*1000",
           "type": "formula"
          }
         ],
         "url": "https://wri-rw.carto.com/api/v2/sql?q=SELECT gid_0, year as date, SUM(CASE WHEN element = 'Export Quantity' THEN value END) AS export, SUM(CASE WHEN element = 'Import Quantity' THEN value END) AS import, SUM(CASE WHEN element = 'Production' THEN value END) AS production FROM foo_061_rw0_blue_food_supply_edit data LEFT OUTER JOIN ow_aliasing_countries AS alias ON alias.alias = data.area  LEFT OUTER JOIN gadm36_0 gadm ON alias.iso = gadm.gid_0 WHERE geostore_prod= 'ca5bfde08587530e76c17fe48362a01d' GROUP BY gid_0, date ORDER BY gid_0 ASC, date ASC"
        }
       ],
       "description": "Export, import, and production of food from the sea over time",
       "height": 300,
       "interaction_config": [
        {
         "config": {
          "fields": [
           {
            "column": "time",
            "format": "",
            "property": "Year",
            "type": "text"
           },
           {
            "column": "production_quantity",
            "format": ",.0f",
            "property": "Production Quantity (tons)",
            "type": "number"
           },
           {
            "column": "export_quantity",
            "format": ",.0f",
            "property": "Export Quantity (tons)",
            "type": "number"
           },
           {
            "column": "import_quantity",
            "format": ",.0f",
            "property": "Import Quantity (tons)",
            "type": "number"
           }
          ]
         },
         "name": "tooltip"
        }
       ],
       "legends": [
        {
         "fill": "areascale",
         "labelFont": "Arial",
         "orient": "right",
         "titleFont": "Arial",
         "type": "symbol"
        },
        {
         "encode": {
          "symbols": {
           "update": {
            "shape": {
             "value": "stroke"
            },
            "size": {
             "value": 80
            }
           }
          }
         },
         "orient": "right",
         "stroke": "linescale",
         "symbol": "stroke",
         "type": "symbol"
        }
       ],
       "marks": [
        {
         "encode": {
          "enter": {
           "fill": {
            "value": "#668DC5"
           },
           "tooltip": {
            "signal": "{'Year':utcyear(datum.date), 'Production':format(datum.production*1000,',')+' tonnes', 'Export':format(datum.export*1000,',')+' tonnes', 'Import':format(datum.import*1000,',')+' tonnes'}"
           },
           "x": {
            "field": "date",
            "scale": "datescale"
           },
           "y": {
            "field": "production",
            "scale": "yscale"
           },
           "y2": {
            "scale": "yscale",
            "value": 0
           }
          }
         },
         "from": {
          "data": "reshaped"
         },
         "interactive": false,
         "type": "area"
        },
        {
         "encode": {
          "enter": {
           "fillOpacity": {
            "value": 0
           },
           "shape": {
            "value": "circle"
           },
           "size": {
            "signal": "(width*height)/1000"
           },
           "stroke": {
            "value": "white"
           },
           "strokeOpacity": {
            "value": 0
           },
           "strokeWidth": {
            "value": 2
           },
           "x": {
            "field": "date",
            "scale": "datescale"
           },
           "y": {
            "field": "production",
            "scale": "yscale"
           }
          },
          "hover": {
           "fill": {
            "value": "#668DC5"
           },
           "fillOpacity": {
            "value": 1
           },
           "strokeOpacity": {
            "value": 1
           }
          },
          "update": {
           "fillOpacity": {
            "value": 0
           },
           "strokeOpacity": {
            "value": 0
           }
          }
         },
         "from": {
          "data": "reshaped"
         },
         "name": "production_points",
         "type": "symbol"
        },
        {
         "encode": {
          "enter": {
           "interpolate": {
            "value": "monotone"
           },
           "stroke": {
            "value": "#F3B229"
           },
           "strokeWidth": {
            "value": 2
           },
           "x": {
            "field": "date",
            "scale": "datescale"
           },
           "y": {
            "field": "export",
            "scale": "yscale"
           }
          },
          "hover": {
           "strokeOpacity": {
            "value": 0.5
           }
          },
          "update": {
           "strokeOpacity": {
            "value": 1
           }
          }
         },
         "from": {
          "data": "reshaped"
         },
         "interactive": false,
         "type": "line"
        },
        {
         "encode": {
          "enter": {
           "fillOpacity": {
            "value": 0
           },
           "shape": {
            "value": "circle"
           },
           "size": {
            "signal": "(width*height)/1000"
           },
           "stroke": {
            "value": "white"
           },
           "strokeOpacity": {
            "value": 0
           },
           "strokeWidth": {
            "value": 2
           },
           "x": {
            "field": "date",
            "scale": "datescale"
           },
           "y": {
            "field": "export",
            "scale": "yscale"
           }
          },
          "hover": {
           "fill": {
            "value": "#F3B229"
           },
           "fillOpacity": {
            "value": 1
           }
          },
          "update": {
           "fillOpacity": {
            "value": 0
           }
          }
         },
         "from": {
          "data": "reshaped"
         },
         "name": "export_points",
         "type": "symbol"
        },
        {
         "encode": {
          "enter": {
           "interpolate": {
            "value": "monotone"
           },
           "stroke": {
            "value": "#11497A"
           },
           "strokeWidth": {
            "value": 2
           },
           "x": {
            "field": "date",
            "scale": "datescale"
           },
           "y": {
            "field": "import",
            "scale": "yscale"
           }
          },
          "hover": {
           "strokeOpacity": {
            "value": 0.5
           }
          },
          "update": {
           "strokeOpacity": {
            "value": 1
           }
          }
         },
         "from": {
          "data": "reshaped"
         },
         "interactive": false,
         "type": "line"
        },
        {
         "encode": {
          "enter": {
           "fillOpacity": {
            "value": 0
           },
           "shape": {
            "value": "circle"
           },
           "size": {
            "signal": "(width*height)/1000"
           },
           "stroke": {
            "value": "white"
           },
           "strokeOpacity": {
            "value": 0
           },
           "strokeWidth": {
            "value": 2
           },
           "x": {
            "field": "date",
            "scale": "datescale"
           },
           "y": {
            "field": "import",
            "scale": "yscale"
           }
          },
          "hover": {
           "fill": {
            "value": "#11497A"
           },
           "fillOpacity": {
            "value": 1
           }
          },
          "update": {
           "fillOpacity": {
            "value": 0
           }
          }
         },
         "from": {
          "data": "reshaped"
         },
         "name": "import_points",
         "type": "symbol"
        }
       ],
       "padding": 0,
       "scales": [
        {
         "domain": {
          "data": "reshaped",
          "field": "date"
         },
         "name": "datescale",
         "range": "width",
         "type": "time"
        },
        {
         "domain": {
          "data": "reshaped",
          "fields": [
           "import",
           "export",
           "production"
          ]
         },
         "name": "yscale",
         "padding": 0.1,
         "range": "height",
         "type": "linear"
        },
        {
         "domain": [
          "Production"
         ],
         "name": "areascale",
         "range": [
          "#668DC5"
         ],
         "type": "ordinal"
        },
        {
         "domain": [
          "Export",
          "Import"
         ],
         "name": "linescale",
         "range": [
          "#F3B229",
          "#11497A"
         ],
         "type": "ordinal"
        }
       ],
       "schema": "https://vega.github.io/schema/vega/v5.json",
       "signals": [],
       "width": 600
      },
      "image/png": "[encoded data removed]"
     },
     "metadata": {},
     "output_type": "display_data"
    }
   ],
   "source": [
    "vega_view=dict(spec)\n",
    "\n",
    "## DEFINE SIZE\n",
    "vega_view['height'] = widget_height\n",
    "vega_view['width'] = widget_width\n",
    "\n",
    "## PARAMETERIZE WIDGET\n",
    "vega_view['data'][0]['url']= vega_view['data'][0]['url'].replace('{{geostore_env}}','geostore_prod')\n",
    "vega_view['data'][0]['url'] = vega_view['data'][0]['url'].replace('{{geostore_id}}','ca5bfde08587530e76c17fe48362a01d')\n",
    "\n",
    "## ADJUST X AXIS\n",
    "vega_view['axes'][0]['labelBaseline']= \"top\"\n",
    "\n",
    "## FONT\n",
    "vega_view['axes'][1]['titleFont'] = 'Arial'\n",
    "vega_view['legends'][0]['labelFont'] = 'Arial'\n",
    "vega_view['legends'][0]['titleFont'] = 'Arial'\n",
    "\n",
    "Vega(vega_view)"
   ]
  },
  {
   "cell_type": "markdown",
   "id": "9a3fb4d0",
   "metadata": {},
   "source": [
    "# RW API"
   ]
  },
  {
   "cell_type": "markdown",
   "id": "58877767",
   "metadata": {},
   "source": [
    "Parameterized widgets created via [widget scripts](https://github.com/resource-watch/data-team-tools/tree/master/advanced_widget_writer).  "
   ]
  },
  {
   "cell_type": "markdown",
   "id": "62785e24",
   "metadata": {},
   "source": [
    "[foo.061.rw0 Food from the Sea](https://resourcewatch.org/data/explore/foo061rw0-Blue-Food-Supply) ([Admin](https://resourcewatch.org/admin/data/datasets/9e1b3cad-db6f-44b0-b6fb-048df7b6c680/edit))  \n",
    "`9e1b3cad-db6f-44b0-b6fb-048df7b6c680`  \n",
    "[Dataset](https://api.resourcewatch.org/v1/dataset/9e1b3cad-db6f-44b0-b6fb-048df7b6c680/), [Widgets](https://api.resourcewatch.org/v1/dataset/9e1b3cad-db6f-44b0-b6fb-048df7b6c680/widget)"
   ]
  },
  {
   "cell_type": "code",
   "execution_count": 5,
   "id": "2e1c225a",
   "metadata": {},
   "outputs": [],
   "source": [
    "dataset_id = '9e1b3cad-db6f-44b0-b6fb-048df7b6c680'\n",
    "name = 'Production, Export, and Import of Marine Food'\n",
    "description = 'Time series volumes (by weight) of production, export, and import of food originating in the sea, by country'"
   ]
  },
  {
   "cell_type": "markdown",
   "id": "e3acb4fb",
   "metadata": {},
   "source": [
    "- [Country](https://api.resourcewatch.org/v1/widget/a9c33b55-494c-4984-8bfd-0f5b008dcf24?env=production) `a9c33b55-494c-4984-8bfd-0f5b008dcf24`  "
   ]
  }
 ],
 "metadata": {
  "kernelspec": {
   "display_name": "Python 3",
   "language": "python",
   "name": "python3"
  },
  "language_info": {
   "codemirror_mode": {
    "name": "ipython",
    "version": 3
   },
   "file_extension": ".py",
   "mimetype": "text/x-python",
   "name": "python",
   "nbconvert_exporter": "python",
   "pygments_lexer": "ipython3",
   "version": "3.7.7"
  }
 },
 "nbformat": 4,
 "nbformat_minor": 5
}
