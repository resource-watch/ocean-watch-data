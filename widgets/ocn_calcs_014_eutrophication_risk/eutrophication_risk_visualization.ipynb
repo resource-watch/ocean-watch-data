{
 "cells": [
  {
   "cell_type": "markdown",
   "metadata": {},
   "source": [
    "# Eutrophication Risk"
   ]
  },
  {
   "cell_type": "markdown",
   "metadata": {},
   "source": [
    "Bar graph depicting the proportion of basins by Index of Coastal Eutrophication Potential by country or territory <br>\n",
    "\n",
    "Note that this is a parameterized widget; the specification passed to the API will not be renderable without the geostore identifier being inserted. "
   ]
  },
  {
   "cell_type": "markdown",
   "metadata": {},
   "source": [
    "*Author: Rachel Thoms\n",
    "<br>Created: 27 Aug 2021\n",
    "<br>Environment: jupyterlab*"
   ]
  },
  {
   "cell_type": "markdown",
   "metadata": {},
   "source": [
    "## Style"
   ]
  },
  {
   "cell_type": "markdown",
   "metadata": {},
   "source": [
    "- Vega chart\n",
    "- Chart type: bar graph\n",
    "- Value: Proportion of basins "
   ]
  },
  {
   "cell_type": "markdown",
   "metadata": {},
   "source": [
    "## Data"
   ]
  },
  {
   "cell_type": "markdown",
   "metadata": {},
   "source": [
    "- Processed data: [ocn_calcs_014_eutrophication_risk](https://resourcewatch.carto.com/u/wri-rw/dataset/ocn_calcs_014_eutrophication_risk)\n",
    "- Underlying dataset: \n",
    "    - [wat_059_aqueduct_coastal_eutrophication_potential](https://resourcewatch.carto.com/u/wri-rw/dataset/wat_059_aqueduct_coastal_eutrophication_potential)\n",
    "    - Resource Watch [Explore Page](https://resourcewatch.org/data/explore/wat059-Aqueduct-Coastal-Eutrophication-Potential)\n",
    "- Source: [Aqueduct](https://files.wri.org/d8/s3fs-public/aqueduct-30-updated-decision-relevant-global-water-risk-indicators_1.pdf)"
   ]
  },
  {
   "cell_type": "markdown",
   "metadata": {},
   "source": [
    "## Preparation"
   ]
  },
  {
   "cell_type": "markdown",
   "metadata": {},
   "source": [
    "Data was processed using a [python script](https://github.com/resource-watch/ocean-watch-data/blob/main/widgets/ocn_calcs_014_eutrophication_risk/ocn_calcs_014_eutrophication_risk_processing.py)"
   ]
  },
  {
   "cell_type": "code",
   "execution_count": 2,
   "metadata": {},
   "outputs": [],
   "source": [
    "import json\n",
    "from vega import Vega\n",
    "from IPython.display import display"
   ]
  },
  {
   "cell_type": "code",
   "execution_count": 3,
   "metadata": {},
   "outputs": [],
   "source": [
    "def Vega(spec):\n",
    "    bundle = {}\n",
    "    bundle['application/vnd.vega.v5+json'] = spec\n",
    "    display(bundle, raw=True)"
   ]
  },
  {
   "cell_type": "markdown",
   "metadata": {},
   "source": [
    "## Data Exploration"
   ]
  },
  {
   "cell_type": "markdown",
   "metadata": {},
   "source": [
    "### Queries"
   ]
  },
  {
   "cell_type": "markdown",
   "metadata": {},
   "source": [
    "#### Pivot version for data inspection"
   ]
  },
  {
   "cell_type": "markdown",
   "metadata": {},
   "source": [
    "```\"data\" : \"table\"```\n",
    "```sql\n",
    "SELECT gadm.gid_0, gadm.name_0, cep_label, count, proportion FROM ocn_calcs_014_eutrophication_risk AS data LEFT OUTER JOIN gadm36_0 gadm ON data.gid_0 = gadm.gid_0 WHERE gadm.geostore_prod ILIKE '4c97375ec074beb743fd972130cb1d3b' UNION SELECT gid_0, name_0, cep_label, count, proportion FROM ocn_calcs_014_eutrophication_risk WHERE gid_0= 'GLB'\n",
    "```\n",
    "```\"data\" : \"country\"```\n",
    "```sql\n",
    "SELECT gadm.gid_0, gadm.name_0, cep_label, count, proportion FROM ocn_calcs_014_eutrophication_risk AS data LEFT OUTER JOIN gadm36_0 gadm ON data.gid_0 = gadm.gid_0 WHERE gadm.geostore_prod ILIKE '4c97375ec074beb743fd972130cb1d3b'\n",
    "```"
   ]
  },
  {
   "cell_type": "markdown",
   "metadata": {},
   "source": [
    "#### Parameterized"
   ]
  },
  {
   "cell_type": "markdown",
   "metadata": {},
   "source": [
    "```\"data\" : \"table\"```\n",
    "```sql\n",
    "SELECT gadm.gid_0, gadm.name_0, cep_label, count, proportion FROM ocn_calcs_014_eutrophication_risk AS data LEFT OUTER JOIN gadm36_0 gadm ON data.gid_0 = gadm.gid_0 WHERE gadm.{{geostore_env}} ILIKE '{{geostore_id}}' UNION SELECT gid_0, name_0, cep_label, count, proportion FROM ocn_calcs_014_eutrophication_risk WHERE gid_0= 'GLB'\n",
    "```\n",
    "```\"data\" : \"country\"```\n",
    "```sql\n",
    "SELECT gadm.gid_0, gadm.name_0, cep_label, count, proportion FROM ocn_calcs_014_eutrophication_risk AS data LEFT OUTER JOIN gadm36_0 gadm ON data.gid_0 = gadm.gid_0 WHERE gadm.{{geostore_env}} ILIKE '{{geostore_id}}'\n",
    "```"
   ]
  },
  {
   "cell_type": "markdown",
   "metadata": {},
   "source": [
    "## Resource Watch Vega Config"
   ]
  },
  {
   "cell_type": "code",
   "execution_count": 23,
   "metadata": {},
   "outputs": [],
   "source": [
    "spec=json.loads(\"\"\"{\n",
    "  \"$schema\": \"https://vega.github.io/schema/vega/v5.json\",\n",
    "  \"padding\": 5,\n",
    "\n",
    "  \"data\": [\n",
    "    {\n",
    "      \"name\": \"table\",\n",
    "      \"url\": \"https://wri-rw.carto.com/api/v2/sql?q= SELECT gadm.gid_0, gadm.name_0, cep_label, count, proportion, 'country' AS tag FROM ocn_calcs_014_eutrophication_risk AS data LEFT OUTER JOIN gadm36_0 gadm ON data.gid_0 = gadm.gid_0 WHERE gadm.{{geostore_env}} ILIKE '{{geostore_id}}' UNION SELECT gid_0, name_0, cep_label, count, proportion, null as tag FROM ocn_calcs_014_eutrophication_risk WHERE gid_0= 'GLB'\",\n",
    "      \"format\": {\"type\": \"json\", \"property\": \"rows\"},\n",
    "      \"transform\": [\n",
    "        {\n",
    "          \"type\": \"formula\",\n",
    "          \"expr\": \"datum.cep_label === 'No Data' ? 'N/A' : split((split(datum.cep_label, '(')[1]),')')[0]\",\n",
    "          \"as\": \"range\"\n",
    "          },\n",
    "        {\n",
    "          \"type\": \"formula\",\n",
    "          \"expr\": \"split(datum.cep_label, '(')[0]\",\n",
    "          \"as\": \"label\"\n",
    "          },\n",
    "        {\n",
    "          \"type\": \"formula\",\n",
    "          \"expr\": \"datum.range === '<-5' ? 1 : datum.range === '-5 to 0' ? 2:  datum.range === '0 to 1' ? 3: datum.range === '1 to 5' ? 4:  datum.range === '>5' ? 5: 6 \",\n",
    "        \"as\": \"order\"},\n",
    "        {\n",
    "          \"type\": \"formula\",\n",
    "          \"expr\": \"datum.order == 2 ? 'Low to Med': datum.order == 3 ? 'Med to High' : datum.order == 5 ? 'Very High' : datum.label \",\n",
    "          \"as\": \"label\" \n",
    "          },\n",
    "        {\n",
    "          \"type\": \"collect\", \n",
    "          \"sort\": {\"field\": [\"order\",\"tag\"],\"order\": [\"ascending\"]}\n",
    "          }\n",
    "        ]\n",
    "      },\n",
    "    {\n",
    "      \"name\": \"world\",\n",
    "      \"source\": \"table\",\n",
    "      \"transform\": [\n",
    "        {\n",
    "          \"type\": \"filter\",\n",
    "          \"expr\": \"datum.gid_0 == 'GLB'\"\n",
    "          }\n",
    "        ]\n",
    "      },\n",
    "  {\n",
    "    \"name\": \"country\",\n",
    "    \"source\": \"table\",\n",
    "    \"transform\": [\n",
    "      {\n",
    "        \"type\": \"filter\",\n",
    "        \"expr\": \"isValid(datum.tag)\"\n",
    "        }\n",
    "      ]\n",
    "    }\n",
    "  ],\n",
    "  \"signals\": [\n",
    "    {\n",
    "      \"name\": \"tooltip\",\n",
    "      \"value\": {},\n",
    "      \"on\": [\n",
    "        {\"events\": \"rect:mouseover\", \"update\": \"datum\"},\n",
    "        {\"events\": \"rect:mouseout\",  \"update\": \"{}\"}\n",
    "      ]\n",
    "    },\n",
    "    {\n",
    "      \"name\": \"tag\",\n",
    "      \"update\": \"data('country')[0]['gid_0']\"\n",
    "    }\n",
    "  ],\n",
    "  \"scales\": [\n",
    "    {\n",
    "      \"name\": \"xscale\",\n",
    "      \"type\": \"band\",\n",
    "      \"domain\": {\"data\": \"table\", \"field\": \"label\"},\n",
    "      \"range\": \"width\",\n",
    "      \"padding\": 0.1,\n",
    "      \"round\": true\n",
    "    },\n",
    "    {\n",
    "      \"name\": \"yscale\",\n",
    "      \"domain\": {\"data\": \"table\", \"field\": \"proportion\"},\n",
    "      \"nice\": true,\n",
    "      \"range\": \"height\"\n",
    "    },\n",
    "    {\n",
    "      \"name\": \"color\",\n",
    "      \"type\": \"ordinal\",\n",
    "      \"domain\": {\"data\": \"world\", \"field\": \"label\"},\n",
    "      \"range\": [\"#ffed73\", \"#ffce54\", \"#ffab14\", \"#DD4A39\", \"#b21c2b\", \"#4e4e4e\"]\n",
    "    },\n",
    "    {\n",
    "      \"name\": \"line\",\n",
    "      \"type\": \"ordinal\",\n",
    "      \"domain\": [\n",
    "        \"Global avg.\"\n",
    "      ]\n",
    "    }\n",
    "  ],\n",
    "  \"axes\": [\n",
    "    { \n",
    "      \"orient\": \"bottom\", \n",
    "      \"scale\": \"xscale\",\n",
    "      \"titleFontStyle\": \"normal\",\n",
    "      \"titleFontWeight\": 600,\n",
    "      \"titlePadding\": 5,\n",
    "      \"labelFontSize\": 11,\n",
    "      \"labelOverlap\": true,\n",
    "      \"labelBaseline\": \"middle\",\n",
    "      \"zindex\": 4\n",
    "      },\n",
    "    { \n",
    "      \"orient\": \"left\", \n",
    "      \"scale\": \"yscale\",\n",
    "      \"titleFontStyle\": \"normal\",\n",
    "      \"titleFontWeight\": 600,\n",
    "      \"titlePadding\": 5,\n",
    "      \"labelBaseline\": \"middle\",\n",
    "      \"labelAlign\": \"right\",\n",
    "      \"labelPadding\": 5,\n",
    "      \"format\": \"%\",\n",
    "      \"grid\": true,\n",
    "      \"gridOpacity\": 0.1,\n",
    "      \"zindex\": 0\n",
    "      }\n",
    "  ],\n",
    "  \"marks\": [ \n",
    "    {\n",
    "      \"type\": \"text\",\n",
    "      \"zindex\": 3,\n",
    "      \"encode\": {\n",
    "        \"enter\": {\n",
    "          \"align\": {\"value\": \"center\"},\n",
    "          \"baseline\": {\"value\": \"bottom\"},\n",
    "          \"fill\": {\"value\": \"#333\"}\n",
    "        },\n",
    "        \"update\": {\n",
    "          \"x\": {\n",
    "            \"scale\": \"xscale\", \n",
    "            \"signal\": \"tooltip.label\", \n",
    "            \"band\": 0.5\n",
    "            },\n",
    "          \"y\": {\n",
    "            \"scale\": \"yscale\", \n",
    "            \"signal\": \"tooltip.proportion\", \n",
    "            \"offset\": -2\n",
    "            },\n",
    "          \"text\": {\n",
    "            \"signal\": \"isNumber(tooltip.proportion) ? format(tooltip.proportion, '.2f'): ' ' \"\n",
    "            },\n",
    "          \"fillOpacity\": [\n",
    "            {\"test\": \"datum === tooltip\", \"value\": 0},\n",
    "            {\"value\": 1}\n",
    "          ]\n",
    "        }\n",
    "      }\n",
    "    },\n",
    "    {\n",
    "      \"name\": \"outline-grey\",\n",
    "      \"type\": \"rect\",\n",
    "      \"zindex\": 2,\n",
    "      \"from\": {\"data\":\"world\"},\n",
    "      \"encode\": {\n",
    "        \"enter\": {\n",
    "          \"x\": {\"scale\": \"xscale\", \"field\": \"label\"},\n",
    "          \"width\": {\"scale\": \"xscale\", \"band\": 1},\n",
    "          \"y\": {\"scale\": \"yscale\", \"field\": \"proportion\"},\n",
    "          \"height\": {\"value\": 0},\n",
    "          \"stroke\": [\n",
    "            {\n",
    "              \"test\": \"tag == 'GLB'\", \n",
    "              \"value\": \"transparent\"\n",
    "              }, \n",
    "            {\"value\": \"grey\"}\n",
    "            ],\n",
    "          \"strokeDash\":{\"value\": [4,4]},\n",
    "          \"strokeWidth\": {\"value\": 3},\n",
    "          \"tooltip\": {\n",
    "            \"signal\": \"{'Country': datum.name_0, 'Risk level': datum.label, 'ICEP Range' : datum.range, 'Number of basins': datum.count}\"\n",
    "          }\n",
    "        },\n",
    "        \"update\": {\n",
    "          \"strokeOpacity\": {\"value\": 1}\n",
    "        },\n",
    "        \"hover\": {\n",
    "          \"strokeOpacity\": {\"value\": 0.5}\n",
    "       }\n",
    "      }\n",
    "    },\n",
    "     {\n",
    "      \"name\": \"outline-white\",\n",
    "      \"type\": \"rect\",\n",
    "      \"zindex\":2,\n",
    "      \"from\": {\"data\":\"world\"},\n",
    "      \"encode\": {\n",
    "        \"enter\": {\n",
    "          \"x\": {\"scale\": \"xscale\", \"field\": \"label\"},\n",
    "          \"width\": {\"scale\": \"xscale\", \"band\": 1},\n",
    "          \"y\": {\"scale\": \"yscale\", \"field\": \"proportion\"},\n",
    "          \"height\": {\"value\": 0},\n",
    "          \"stroke\": [\n",
    "            {\n",
    "              \"test\": \"tag == 'GLB'\", \n",
    "              \"value\": \"transparent\"\n",
    "              }, \n",
    "            {\"value\": \"white\"}\n",
    "            ],\n",
    "          \"strokeDash\":{\"value\": [4,4]},\n",
    "          \"strokeWidth\": {\"value\": 2}\n",
    "        },\n",
    "        \"update\": {\n",
    "          \"strokeOpacity\": {\"value\": 1}\n",
    "        },\n",
    "        \"hover\": {\n",
    "          \"strokeOpacity\": {\"value\": 0.5}\n",
    "       }\n",
    "      }\n",
    "    },\n",
    "    {\n",
    "      \"name\": \"bars\",\n",
    "      \"type\": \"rect\",\n",
    "      \"from\": {\"data\":\"country\"},\n",
    "      \"zindex\":1,\n",
    "      \"encode\": {\n",
    "        \"enter\": {\n",
    "          \"x\": {\"scale\": \"xscale\", \"field\": \"label\"},\n",
    "          \"width\": {\"scale\": \"xscale\", \"band\": 1},\n",
    "          \"y\": {\"scale\": \"yscale\", \"field\": \"proportion\"},\n",
    "          \"y2\": {\"scale\": \"yscale\", \"value\": 0},\n",
    "          \"fill\": {\"scale\": \"color\", \"field\": \"label\"}\n",
    "        },\n",
    "        \"update\": {\n",
    "          \"fillOpacity\": {\"value\": 1}\n",
    "        },\n",
    "        \"hover\": {\n",
    "          \"fillOpacity\": {\"value\": 0.5}\n",
    "       }\n",
    "      }\n",
    "    }\n",
    "  ],\n",
    "  \"legends\": [\n",
    "    {\n",
    "      \"fill\": \"line\",\n",
    "      \"zindex\": 4,\n",
    "      \"orient\": \"top-right\",\n",
    "      \"labelFont\": \"Lato\",\n",
    "      \"encode\": {\n",
    "        \"symbols\": {\n",
    "          \"update\": {\n",
    "            \"size\": {\"value\": 80},\n",
    "            \"stroke\": {\"value\": \"lightgrey\"},\n",
    "            \"strokeDash\":{\"value\": [4,2]},\n",
    "            \"shape\": {\n",
    "              \"value\": \"stroke\"\n",
    "            }\n",
    "          }\n",
    "        }\n",
    "      }\n",
    "    }\n",
    "  ],\n",
    "    \"interaction_config\": [\n",
    "    {\n",
    "      \"name\": \"tooltip\",\n",
    "      \"config\": {\n",
    "        \"fields\": [\n",
    "          {\n",
    "            \"column\": \"name_0\",\n",
    "            \"property\": \"Country\",\n",
    "            \"type\": \"string\",\n",
    "            \"format\": \"\"\n",
    "          },\n",
    "          {\n",
    "            \"column\": \"label\",\n",
    "            \"property\": \"Risk Level\",\n",
    "            \"type\": \"string\",\n",
    "            \"format\": \"\"\n",
    "          },\n",
    "          {\n",
    "            \"column\": \"count\",\n",
    "            \"property\": \"Number of Basins\",\n",
    "            \"type\": \"number\",\n",
    "            \"format\": \"\"\n",
    "          }\n",
    "        ]\n",
    "      }\n",
    "    }\n",
    "  ]\n",
    "}\n",
    "\"\"\")"
   ]
  },
  {
   "cell_type": "markdown",
   "metadata": {},
   "source": [
    "Adjust the spec for visualization with in the notebook"
   ]
  },
  {
   "cell_type": "code",
   "execution_count": 24,
   "metadata": {},
   "outputs": [
    {
     "data": {
      "application/vnd.vega.v5+json": {
       "$schema": "https://vega.github.io/schema/vega/v5.json",
       "axes": [
        {
         "labelBaseline": "middle",
         "labelFontSize": 11,
         "labelOverlap": true,
         "orient": "bottom",
         "scale": "xscale",
         "titleFontStyle": "normal",
         "titleFontWeight": 600,
         "titlePadding": 5,
         "zindex": 4
        },
        {
         "format": "%",
         "grid": true,
         "gridOpacity": 0.1,
         "labelAlign": "right",
         "labelBaseline": "middle",
         "labelPadding": 5,
         "orient": "left",
         "scale": "yscale",
         "titleFontStyle": "normal",
         "titleFontWeight": 600,
         "titlePadding": 5,
         "zindex": 0
        }
       ],
       "data": [
        {
         "format": {
          "property": "rows",
          "type": "json"
         },
         "name": "table",
         "transform": [
          {
           "as": "range",
           "expr": "datum.cep_label === 'No Data' ? 'N/A' : split((split(datum.cep_label, '(')[1]),')')[0]",
           "type": "formula"
          },
          {
           "as": "label",
           "expr": "split(datum.cep_label, '(')[0]",
           "type": "formula"
          },
          {
           "as": "order",
           "expr": "datum.range === '<-5' ? 1 : datum.range === '-5 to 0' ? 2:  datum.range === '0 to 1' ? 3: datum.range === '1 to 5' ? 4:  datum.range === '>5' ? 5: 6 ",
           "type": "formula"
          },
          {
           "as": "label",
           "expr": "datum.order == 2 ? 'Low to Med': datum.order == 3 ? 'Med to High' : datum.order == 5 ? 'Very High' : datum.label ",
           "type": "formula"
          },
          {
           "sort": {
            "field": [
             "order",
             "tag"
            ],
            "order": [
             "ascending"
            ]
           },
           "type": "collect"
          }
         ],
         "url": "https://wri-rw.carto.com/api/v2/sql?q= SELECT gadm.gid_0, gadm.name_0, cep_label, count, proportion, 'country' AS tag FROM ocn_calcs_014_eutrophication_risk AS data LEFT OUTER JOIN gadm36_0 gadm ON data.gid_0 = gadm.gid_0 WHERE gadm.geostore_prod ILIKE 'fe855e0073d3a7c45ccd5f653841bb8d' UNION SELECT gid_0, name_0, cep_label, count, proportion, null as tag FROM ocn_calcs_014_eutrophication_risk WHERE gid_0= 'GLB'"
        },
        {
         "name": "world",
         "source": "table",
         "transform": [
          {
           "expr": "datum.gid_0 == 'GLB'",
           "type": "filter"
          }
         ]
        },
        {
         "name": "country",
         "source": "table",
         "transform": [
          {
           "expr": "isValid(datum.tag)",
           "type": "filter"
          }
         ]
        }
       ],
       "height": 200,
       "interaction_config": [
        {
         "config": {
          "fields": [
           {
            "column": "name_0",
            "format": "",
            "property": "Country",
            "type": "string"
           },
           {
            "column": "label",
            "format": "",
            "property": "Risk Level",
            "type": "string"
           },
           {
            "column": "count",
            "format": "",
            "property": "Number of Basins",
            "type": "number"
           }
          ]
         },
         "name": "tooltip"
        }
       ],
       "legends": [
        {
         "encode": {
          "symbols": {
           "update": {
            "shape": {
             "value": "stroke"
            },
            "size": {
             "value": 80
            },
            "stroke": {
             "value": "lightgrey"
            },
            "strokeDash": {
             "value": [
              4,
              2
             ]
            }
           }
          }
         },
         "fill": "line",
         "labelFont": "Arial",
         "orient": "top-right",
         "zindex": 4
        }
       ],
       "marks": [
        {
         "encode": {
          "enter": {
           "align": {
            "value": "center"
           },
           "baseline": {
            "value": "bottom"
           },
           "fill": {
            "value": "#333"
           }
          },
          "update": {
           "fillOpacity": [
            {
             "test": "datum === tooltip",
             "value": 0
            },
            {
             "value": 1
            }
           ],
           "text": {
            "signal": "isNumber(tooltip.proportion) ? format(tooltip.proportion, '.2f'): ' ' "
           },
           "x": {
            "band": 0.5,
            "scale": "xscale",
            "signal": "tooltip.label"
           },
           "y": {
            "offset": -2,
            "scale": "yscale",
            "signal": "tooltip.proportion"
           }
          }
         },
         "type": "text",
         "zindex": 3
        },
        {
         "encode": {
          "enter": {
           "height": {
            "value": 0
           },
           "stroke": [
            {
             "test": "tag == 'GLB'",
             "value": "transparent"
            },
            {
             "value": "grey"
            }
           ],
           "strokeDash": {
            "value": [
             4,
             4
            ]
           },
           "strokeWidth": {
            "value": 3
           },
           "tooltip": {
            "signal": "{'Country': datum.name_0, 'Risk level': datum.label, 'ICEP Range' : datum.range, 'Number of basins': datum.count}"
           },
           "width": {
            "band": 1,
            "scale": "xscale"
           },
           "x": {
            "field": "label",
            "scale": "xscale"
           },
           "y": {
            "field": "proportion",
            "scale": "yscale"
           }
          },
          "hover": {
           "strokeOpacity": {
            "value": 0.5
           }
          },
          "update": {
           "strokeOpacity": {
            "value": 1
           }
          }
         },
         "from": {
          "data": "world"
         },
         "name": "outline-grey",
         "type": "rect",
         "zindex": 2
        },
        {
         "encode": {
          "enter": {
           "height": {
            "value": 0
           },
           "stroke": [
            {
             "test": "tag == 'GLB'",
             "value": "transparent"
            },
            {
             "value": "white"
            }
           ],
           "strokeDash": {
            "value": [
             4,
             4
            ]
           },
           "strokeWidth": {
            "value": 2
           },
           "width": {
            "band": 1,
            "scale": "xscale"
           },
           "x": {
            "field": "label",
            "scale": "xscale"
           },
           "y": {
            "field": "proportion",
            "scale": "yscale"
           }
          },
          "hover": {
           "strokeOpacity": {
            "value": 0.5
           }
          },
          "update": {
           "strokeOpacity": {
            "value": 1
           }
          }
         },
         "from": {
          "data": "world"
         },
         "name": "outline-white",
         "type": "rect",
         "zindex": 2
        },
        {
         "encode": {
          "enter": {
           "fill": {
            "field": "label",
            "scale": "color"
           },
           "width": {
            "band": 1,
            "scale": "xscale"
           },
           "x": {
            "field": "label",
            "scale": "xscale"
           },
           "y": {
            "field": "proportion",
            "scale": "yscale"
           },
           "y2": {
            "scale": "yscale",
            "value": 0
           }
          },
          "hover": {
           "fillOpacity": {
            "value": 0.5
           }
          },
          "update": {
           "fillOpacity": {
            "value": 1
           }
          }
         },
         "from": {
          "data": "country"
         },
         "name": "bars",
         "type": "rect",
         "zindex": 1
        }
       ],
       "padding": 5,
       "scales": [
        {
         "domain": {
          "data": "table",
          "field": "label"
         },
         "name": "xscale",
         "padding": 0.1,
         "range": "width",
         "round": true,
         "type": "band"
        },
        {
         "domain": {
          "data": "table",
          "field": "proportion"
         },
         "name": "yscale",
         "nice": true,
         "range": "height"
        },
        {
         "domain": {
          "data": "world",
          "field": "label"
         },
         "name": "color",
         "range": [
          "#ffed73",
          "#ffce54",
          "#ffab14",
          "#DD4A39",
          "#b21c2b",
          "#4e4e4e"
         ],
         "type": "ordinal"
        },
        {
         "domain": [
          "Global avg."
         ],
         "name": "line",
         "type": "ordinal"
        }
       ],
       "signals": [
        {
         "name": "tooltip",
         "on": [
          {
           "events": "rect:mouseover",
           "update": "datum"
          },
          {
           "events": "rect:mouseout",
           "update": "{}"
          }
         ],
         "value": {}
        },
        {
         "name": "tag",
         "update": "data('country')[0]['gid_0']"
        }
       ],
       "width": 500
      },
      "image/png": "[encoded data removed]"
     },
     "metadata": {},
     "output_type": "display_data"
    }
   ],
   "source": [
    "vega_view=dict(spec)\n",
    "vega_view['height'] = 200\n",
    "vega_view['width'] = 500\n",
    "vega_view['legends'][0]['labelFont'] = 'Arial'\n",
    "vega_view['data'][0]['url']= vega_view['data'][0]['url'].replace('{{geostore_env}}','geostore_prod').replace('{{geostore_id}}','fe855e0073d3a7c45ccd5f653841bb8d')\n",
    "vega_view['marks'][1]['encode']['enter']['tooltip']['signal'] = \"{'Country': datum.name_0, 'Risk level': datum.label, 'ICEP Range' : datum.range, 'Number of basins': datum.count}\"\n",
    "Vega(vega_view)"
   ]
  },
  {
   "cell_type": "markdown",
   "metadata": {},
   "source": [
    "[Open the Chart in the Vega Editor](https://vega.github.io/editor/#/url/vega/N4IgJAzgxgFgpgWwIYgFwhgF0wBwqgegIDc4BzJAOjIEtMYBXAI0poHsDp5kTykSArJQBWENgDsQAGhAB3GgBN6aABwAGNTPg0yWNABYNMnEgUKa4smgEyFSTClQBtUOKQI4aEA6YAbTzIMAE6+Xli4+ESyQTQAtEGylFBIQZhsSWwIBEg4NCQATJwAjr4A-EUAvAAEAMoAogAydQDCACpVFAoI1IoA+podpt1uHv1SVVBwOL2+SExwvuNQbAzimOM4QWw4bKns4uMA5MurmEEAnodVAII1VQ5kVQBiAEoA8gCyVWxQ4r3JvigEH6AEZ9L04AwztsYDRkph9r0YhAANY3O52BxVJpPdpvACqrTqLyqACk3gBJABygy6AGYAGz9WkIKpvGmYqi0BTM6qdbrc5n4qkU9m1RotdqCgYjOBjCZTGZzBZLFZrDZbHZ7CTjcQMXy+KpICD3JCPV6fb6-f5IQHAtRgiFQzWw+GI5FogDqAAliXUOn01NVDgBxBoAIUO0hAADNdshMGhQJhzjhPOhRBJo5ttnBUucvFtZBAQABfGRnJDiCBxoIINAubyp9Oxmi+TB56NwAAemy8AApMQwBYGqhVqic1hcqgAfGdVIcjnlqMfBsORgCUZakyebXlrCH1KBkPb76AgOF8dH7-YvV8wg-sw6Sitm80WVUO-cOG6cIIAuhuUg-j+ThqP+0bGoWVZkJ45a7mm+7xkeXa9kEXh3tei4vtMb4qp+36-uBkElugeGhPBTaIegB4oSeaFeNhQQwXAq7BgAPLEAhXKUVQglUqALk+3TMZYrHjsGXH3GwVRqDxVT5IJQmYM+omwWxn4rmkfHyXSglMSxGmHPx2ncVUvH6EpBliUZAB8Zm8QIgkMlUJFeLsCidpRKbUbGyGzKhZ4gNhHl5quCnmZ+DRsLI0lVB8cAKIc+nCZQoVBOFdKRYcCUKHF3o6DAVwpSp3TpeFAjZQAanm5xVAVujFcpz7ka5MhQWRyoUTuVEtssBpwFAiYyGIqRJq2CwKA2IDpdGDwgP+Mizc4IDGpM4jmJYC2lqW-6UbKXiyLsvhTSNKxBJMXg+P4c2iTW8YNghLYxm2HbofRQXYQ84V6gaZZ7T1B3oJOZwFmdwSXeg10BN4d0Ho9vX7q9nYfeh6CPqVPTLuFIMXFu3l7jRyPvSAp5oyANAQFVtqKBjz4PPje2LSAEA6G4vikY2QPeGwbDtjQODRsQtoMOmwDljNkjOKAcCkGspEgEEg2YKgCArBAcBsKQJMMDgmItou24y3LmAK0rQ2q+rmtQtGuv6144v-ft7gtvNgR6-YBv2Eg3645cRH-k4hzSocEHOx4Xh+0LIstuu0ZMBYU2oKAFg4Db54LMr0bbAiEicyAccyOGLzXNGFIACJUtGzRvA00Z1K03rRh8dQABpl1S5f1zUrTV96VcyCGxfRlSDRdzIrT4i80b4jUpd7btI0AnAnOuC7XjdtAtowz5LZMFWp3BZkSAWONnJXXMN0yC9k1eOR26Kyxh2KMoximJtVioGolAgjIWyrEnM4otw4tnOFvK+R9kCn2TsFb2F8-AwxvidLwOYtS50kBLcQcJ0xALgH-J+6BtC6ETCAyOfNdhzUJjNIIm1bTRgUMfaBoBz7oCOiEQ+SCk4gHvhLNS6YnAgAAMQxhjIlAA7HSaMwiYyTAEPoKRIi5hgikeXcu+hrh0gAJxSKYPkEEUB8hMCkfoOAJiTHbUBuvMiFgd5UI8hYOhthGFSwESGXwbB96GiQMQMglBtrMyQN2FeCNdg0DgGsLwTA2DYEyNGcBLZN7LzmnQfwTwJCJnQNcGIjjvApLgGktYNQUw3XQOIeMOSESYFSekz0cBCoZIZEYXJVS4AAAV34WE-jYbhXUCkZJAFkmgOTyJ9JqDQAAXumEEv8envjeNrWYgtUC4JkORcMxoFg2K8AgRQCgIHjMTj2AwlFQnhP6f4GMw0WZJPQGApJFY8l9K8IMipjz0lFPOCUkAZS6yvJaX02p9S0CNM0M0-w7SzCdOsKs3p6TnnZNCDC986yNZXnEC2HZZgIHkWuFeMgUtFZAqRQsCFH9oV+V+f0gApNGMgMRAFBFFjIOlig3gmCgHQAsX8f4yAORtI5X9F4gGQEEFEq9EZQx7FcvlnluxoDpCecQyxPLjTOZ2GBNN8XjWFr4UWkc1XoQlvvVFWyYE6r1egKJMT6wSxen9M1McvCCLpC6ssEs7ae3GnKmB8SN6+pGmzOhUNeb8xwJQe+Mh94bTQN-AQEsuWgF9bc-1LNA2hGDXzBEYbUG7HQdnERGsMmxHyBLDs3YMmJrTV4SmVJhzzCCP2NImaBaUBzdqcQG5IoHnsI2kNWbW2alzfsI4lB8gxh-IJK4VwH52t8GypAHKUwIw7BAfpi4NJNtDdHXV6Y1CUXNVM3aO1SHoBWFUmxsQ6VwDBhKxWWdeWHO9fka+Wx6wwJYXIY6U0JbhOVWLUmax1WgG9Ymm5IBEnb2jJwu+XUH7yCUDAcaSbwMpqjUnEE8akNgbuZB6+YTkHoDbXmiWRC9AOp3TGiWq6tgon4cmFe-S-bhVDBGKMMgD1XTuiYJWET92OvQFegsQrqNsFo+XY0iHyMWqcPoKQ+gAYs2hLRz0L9JOgA46gOkpa+0CyQ1W9AwBDjNDVKDZKzVhgu3lIcF4lM0T+FIL4Mz2FyJHApM0OorSqgvBYk1aysEji1oQPW74MYqjGosBAJzqUQaljde7e2PqlN0e8Axshpxpzjk-OuNjIANOwyrBeFIZyja5f4yAQT-0RpJfnYuhNpWKOoAwyRrWQHFM0bgDVzl2r+OxuPSemaUI0VwFiLIWEHZKG+XNtKx9aBn2xlfWfOBrCv0P1-WwFVMCDVeqw5B9AEGIHQc6u+ODqmdtfP2zDNDaAMMyDq8hnDB38NcKI-sB+pGK31YtXuqr7Xl2peBiZjLa5WPbotfl6s3Hit8Ya3IMbcFmYibExJ7rDWZNyYU4juAKmEMo4tSWisOmlmVvxUGkAhnjPpcuCVZ8sorM2dRFUezCwouYxc5+NzHmvM+YEuZygfCAt1rCmwUL4Xqws+fDFuLIAPXjcS796WKXV1panHVTLLHIyg9dlxorvGep5dG3QeHP3RMdfZV1qTh7mvayQ9Vs3S6LcxsoHG49liI6WpSCWCsVCptQYW++pbIAo4SxlQKmZa2Nsy0A2jYDZ2EkpsO7MhYJ2cc+rAxd+OB9ruYdT7tkAD3EFPZQYO9tD9zj5Fj14fPmvKN4ftaB3P-UKF4dvkdpP2nm1E9TST9NZPrO2cZ7LZn1Puhs8OBzzz3mxK+dSvzz8gXgvC7C8aCL4vuiS52vFz1MDZ2dft+p-jTWtAtej62A0u+6sad68e5m-hYIbXFbOu+WyH38u9bJ6hYSInBpwPEIlAG-1IbnBBZ8ykSgAy7-qsyTK47pjqBUZJbQFP7EIVZwHtbiYQBqafb8Kyb5AY4wA5D-p5aY5urX6lhAA)"
   ]
  },
  {
   "cell_type": "markdown",
   "metadata": {},
   "source": [
    "# Indicator"
   ]
  },
  {
   "cell_type": "markdown",
   "metadata": {},
   "source": [
    "% of basins that have a high or extremely high potential of driving coastal eutrophication"
   ]
  },
  {
   "cell_type": "markdown",
   "metadata": {},
   "source": [
    "#### Formatted\n",
    "```sql\n",
    "SELECT gid_0,\n",
    "\tCASE WHEN sum IS null THEN 0 \n",
    "    ELSE sum \n",
    "    END AS value\n",
    "FROM \n",
    "    (SELECT gadm.gid_0, geostore_prod, SUM(proportion) AS sum \n",
    "    FROM\n",
    "        (SELECT gid_0, proportion FROM ocn_calcs_014_eutrophication_risk \n",
    "        WHERE cep_label IN ('High (1 to 5)', 'Extremely High (>5)')) data\n",
    "    RIGHT OUTER JOIN gadm36_0 gadm ON data.gid_0 = gadm.gid_0 \n",
    "    GROUP BY gadm.gid_0, geostore_prod) sum\n",
    "WHERE {{geostore_env}} ILIKE '{{geostore_id}}'\n",
    "```\n",
    "#### Raw\n",
    "`https://wri-rw.carto.com/api/v2/sql?q=SELECT gid_0,CASE WHEN sum IS null THEN 0 ELSE sum END AS value FROM (SELECT gadm.gid_0, geostore_prod, SUM(proportion) AS sum  FROM(SELECT gid_0, proportion FROM ocn_calcs_014_eutrophication_risk  WHERE cep_label IN ('High (1 to 5)', 'Extremely High (>5)')) data RIGHT OUTER JOIN gadm36_0 gadm ON data.gid_0 = gadm.gid_0 GROUP BY gadm.gid_0, geostore_prod) sum WHERE {{geostore_env}} ILIKE '{{geostore_id}}'`\n",
    "\n",
    "#### [Demo](https://wri-rw.carto.com/api/v2/sql?q=SELECT%20gid_0,%20CASE%20WHEN%20sum%20IS%20null%20THEN%200%20ELSE%20sum%20END%20AS%20value%20FROM%20(SELECT%20gadm.gid_0,%20geostore_prod,%20SUM(proportion)%20AS%20sum%20FROM%20(SELECT%20gid_0,%20proportion%20FROM%20ocn_calcs_014_eutrophication_risk%20WHERE%20cep_label%20IN%20(%27High%20(1%20to%205)%27,%20%27Extremely%20High%20(%3E5)%27))%20data%20RIGHT%20OUTER%20JOIN%20gadm36_0%20gadm%20ON%20data.gid_0%20=%20gadm.gid_0%20GROUP%20BY%20gadm.gid_0,%20geostore_prod)%20summed%20WHERE%20geostore_prod%20ILIKE%20%27cb7969c52812b9cd965dc2d052ff50ed%27)\n",
    "(substitute `WHERE gadm.geostore_prod ILIKE 'cb7969c52812b9cd965dc2d052ff50ed'`)\n",
    "```sql\n",
    "SELECT gid_0,\n",
    "\tCASE WHEN sum IS null THEN 0 \n",
    "    ELSE sum \n",
    "    END AS value\n",
    "FROM \n",
    "    (SELECT gadm.gid_0, geostore_prod, SUM(proportion) AS sum \n",
    "    FROM\n",
    "        (SELECT gid_0, proportion FROM ocn_calcs_014_eutrophication_risk \n",
    "        WHERE cep_label IN ('High (1 to 5)', 'Extremely High (>5)')) data\n",
    "    RIGHT OUTER JOIN gadm36_0 gadm ON data.gid_0 = gadm.gid_0 \n",
    "    GROUP BY gadm.gid_0, geostore_prod) summed\n",
    "WHERE geostore_prod ILIKE 'cb7969c52812b9cd965dc2d052ff50ed'\n",
    "\n",
    "```\n"
   ]
  },
  {
   "cell_type": "markdown",
   "metadata": {},
   "source": [
    "# Resource Watch API"
   ]
  },
  {
   "cell_type": "markdown",
   "metadata": {},
   "source": [
    "- [back office](https://resourcewatch.org/admin/data/widgets/34611389-153b-4f24-a687-418e073dd6e0/edit?dataset=d5e7884d-e4dd-47dd-8f28-c5b9c2318a9f)\n",
    "- parent dataset[]() \n",
    "- dataset id ```d5e7884d-e4dd-47dd-8f28-c5b9c2318a9f```\n",
    "- widget id: ```34611389-153b-4f24-a687-418e073dd6e0```\n",
    "- [api widget](https://api.resourcewatch.org/v1/widget/34611389-153b-4f24-a687-418e073dd6e0?env=production)"
   ]
  }
 ],
 "metadata": {
  "kernelspec": {
   "display_name": "Python 3",
   "language": "python",
   "name": "python3"
  },
  "language_info": {
   "codemirror_mode": {
    "name": "ipython",
    "version": 3
   },
   "file_extension": ".py",
   "mimetype": "text/x-python",
   "name": "python",
   "nbconvert_exporter": "python",
   "pygments_lexer": "ipython3",
   "version": "3.7.7"
  }
 },
 "nbformat": 4,
 "nbformat_minor": 4
}
