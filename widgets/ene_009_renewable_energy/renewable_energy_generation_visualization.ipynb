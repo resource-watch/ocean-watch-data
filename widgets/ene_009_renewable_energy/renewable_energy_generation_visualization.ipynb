{
 "cells": [
  {
   "cell_type": "markdown",
   "metadata": {},
   "source": [
    "# Ocean-Based Renewable Energy Generation"
   ]
  },
  {
   "cell_type": "markdown",
   "metadata": {},
   "source": [
    "Visualizing electricity generation from marine and offshore wind by country over time\n",
    "\n",
    "Note that this is a parameterized widget; the specification passed to the API will not be renderable without the geostore identifier being inserted. "
   ]
  },
  {
   "cell_type": "markdown",
   "metadata": {},
   "source": [
    "*Author: Rachel Thoms\n",
    "<br>Created: 04 Aug 2021\n",
    "<br>Environment: jupyterlab*"
   ]
  },
  {
   "cell_type": "markdown",
   "metadata": {},
   "source": [
    "## Style"
   ]
  },
  {
   "cell_type": "markdown",
   "metadata": {},
   "source": [
    "- Vega chart\n",
    "- Vertical stacked bar chart\n",
    "- Value is energy generation (GWh) for each subtechnology (marine and offshore wind)"
   ]
  },
  {
   "cell_type": "markdown",
   "metadata": {},
   "source": [
    "## Data"
   ]
  },
  {
   "cell_type": "markdown",
   "metadata": {},
   "source": [
    "- Data: [ow_widget_territory](https://resourcewatch.carto.com/u/wri-rw/dataset/ow_widget_territory) (full dataset - [ene.009_renewable_generation_annually](https://resourcewatch.carto.com/u/wri-rw/dataset/ene_009_renewable_generation_annually_edit))\n",
    "- Resource Watch: [explore page](https://resourcewatch.org/data/explore/1ed420e2-9283-4ced-b7b6-d5268be7a324)\n",
    "- Source: [IRENA](https://www.irena.org/Statistics/Download-Data)"
   ]
  },
  {
   "cell_type": "markdown",
   "metadata": {},
   "source": [
    "## Preparation"
   ]
  },
  {
   "cell_type": "markdown",
   "metadata": {},
   "source": [
    "### Aliasing and Inserting Data into the Widget Table"
   ]
  },
  {
   "cell_type": "markdown",
   "metadata": {},
   "source": [
    "#### Queries"
   ]
  },
  {
   "cell_type": "markdown",
   "metadata": {},
   "source": [
    "Individual Countries"
   ]
  },
  {
   "cell_type": "markdown",
   "metadata": {},
   "source": [
    "``` SQL\n",
    "INSERT INTO ow_widget_territory(section, widget, gid_0, name_0, variable, date, value, unit)\n",
    "SELECT 'indicator' AS section, 'renewable energy generation' AS widget, alias.iso AS gid_0, alias.name_0 AS name_0, CONCAT(data.subtechnology, ' Energy') AS variable, data.year AS date, data.generation_gwh AS value, 'gWh' AS unit  \n",
    "FROM (SELECT country_name, year, subtechnology, generation_gwh FROM \"wri-rw\".ene_009_renewable_generation_annually_edit WHERE (technology = 'Wind energy' AND subtechnology = 'Offshore Wind') OR technology = 'Marine energy') AS data\n",
    "LEFT JOIN ow_aliasing_countries AS alias ON  data.country_name = alias.alias WHERE alias.iso IS NOT NULL\n",
    "```"
   ]
  },
  {
   "cell_type": "markdown",
   "metadata": {},
   "source": [
    "- countries with data: 28\n",
    "- rows before: 152724\n",
    "- rows inserted: 392\n",
    "- rows after: 153116"
   ]
  },
  {
   "cell_type": "markdown",
   "metadata": {},
   "source": [
    "World - Ocean"
   ]
  },
  {
   "cell_type": "markdown",
   "metadata": {},
   "source": [
    "```sql\n",
    "INSERT INTO ow_widget_territory(section, widget, gid_0, name_0, variable, date, value, unit)\n",
    "SELECT 'indicator' AS section, 'renewable energy generation' AS widget, 'X01' AS gid_0, 'World' AS name_0, CONCAT(subtechnology, ' Energy') AS variable, year AS date, SUM(generation_gwh) AS value, 'gWh' AS unit FROM ene_009_renewable_generation_annually_edit WHERE (technology = 'Wind energy' AND subtechnology = 'Offshore Wind') OR technology = 'Marine energy' GROUP BY year, subtechnology\n",
    "```"
   ]
  },
  {
   "cell_type": "markdown",
   "metadata": {},
   "source": [
    "- rows before: 153116\n",
    "- rows inserted: 38\n",
    "- rows after: 153154"
   ]
  },
  {
   "cell_type": "markdown",
   "metadata": {},
   "source": [
    "World - Total"
   ]
  },
  {
   "cell_type": "markdown",
   "metadata": {},
   "source": [
    "Manually entered. Data from [Global Energy Statistical Yearbook](https://yearbook.enerdata.net/electricity/world-electricity-production-statistics.html)"
   ]
  },
  {
   "cell_type": "markdown",
   "metadata": {},
   "source": [
    "- rows before: 153154\n",
    "- rows inserted: 19\n",
    "- rows after: 153173"
   ]
  },
  {
   "cell_type": "markdown",
   "metadata": {},
   "source": [
    "### Vega"
   ]
  },
  {
   "cell_type": "code",
   "execution_count": 2,
   "metadata": {},
   "outputs": [],
   "source": [
    "import json\n",
    "from vega import Vega\n",
    "from IPython.display import display"
   ]
  },
  {
   "cell_type": "code",
   "execution_count": 3,
   "metadata": {},
   "outputs": [],
   "source": [
    "def Vega(spec):\n",
    "    bundle = {}\n",
    "    bundle['application/vnd.vega.v5+json'] = spec\n",
    "    display(bundle, raw=True)"
   ]
  },
  {
   "cell_type": "code",
   "execution_count": 4,
   "metadata": {},
   "outputs": [],
   "source": [
    "widget_width = 500\n",
    "widget_height = 200"
   ]
  },
  {
   "cell_type": "markdown",
   "metadata": {},
   "source": [
    "## Global Indicator Visualization"
   ]
  },
  {
   "cell_type": "markdown",
   "metadata": {},
   "source": [
    "### Queries"
   ]
  },
  {
   "cell_type": "markdown",
   "metadata": {},
   "source": [
    "#### Testing Version"
   ]
  },
  {
   "cell_type": "markdown",
   "metadata": {},
   "source": [
    "```sql\n",
    "SELECT date AS year, value, variable \n",
    "    FROM ow_widget_territory AS data  \n",
    "LEFT OUTER JOIN  gadm36_0 gadm ON data.gid_0 = gadm.gid_0 \n",
    "WHERE section = 'indicator' AND widget = 'renewable energy generation' \n",
    "AND  variable != 'Total Energy' \n",
    "AND gadm.geostore_prod ILIKE 'f4599aaeedacb9e6ddca177a93795e4c' \n",
    "ORDER BY year ASC\n",
    "```"
   ]
  },
  {
   "cell_type": "markdown",
   "metadata": {},
   "source": [
    "#### Parameterized Version"
   ]
  },
  {
   "cell_type": "markdown",
   "metadata": {},
   "source": [
    "```sql\n",
    "SELECT date AS year, value, variable \n",
    "    FROM ow_widget_territory AS data\n",
    "LEFT OUTER JOIN  gadm36_0 gadm ON data.gid_0 = gadm.gid_0 \n",
    "WHERE  section = 'indicator' AND widget = 'renewable energy generation' \n",
    "AND  variable != 'Total Energy' \n",
    "AND gadm.{{geostore_env}} ILIKE '{{geostore_id}}' \n",
    "ORDER BY year ASC\n",
    "```"
   ]
  },
  {
   "cell_type": "markdown",
   "metadata": {},
   "source": [
    "### Resource Watch Widget Config"
   ]
  },
  {
   "cell_type": "code",
   "execution_count": 5,
   "metadata": {},
   "outputs": [],
   "source": [
    "spec=json.loads(\"\"\"\n",
    "{\n",
    "  \"autosize\": {\n",
    "    \"type\": \"fit\"\n",
    "  },\n",
    "  \"padding\": 5,\n",
    "  \"signals\": [\n",
    "    {\n",
    "      \"name\": \"hover\",\n",
    "      \"value\": null,\n",
    "      \"on\": [\n",
    "        {\n",
    "          \"events\": \"@cell:mouseover\",\n",
    "          \"update\": \"datum\"\n",
    "        },\n",
    "        {\n",
    "          \"events\": \"@cell:mouseout\",\n",
    "          \"update\": \"null\"\n",
    "        }\n",
    "      ]\n",
    "    },\n",
    "    {\"name\": \"max\", \"update\": \"data('maximum')[0]['value']\"}\n",
    "  ],\n",
    "  \"data\": [\n",
    "    {\n",
    "      \"name\": \"data\",\n",
    "      \"url\": \"https://wri-rw.carto.com/api/v2/sql?q=SELECT date AS year, value, variable FROM ow_widget_territory AS data LEFT OUTER JOIN  gadm36_0 gadm ON data.gid_0 = gadm.gid_0 WHERE  section = 'indicator' AND widget = 'renewable energy generation' AND  variable != 'Total Energy' AND gadm.{{geostore_env}} ILIKE '{{geostore_id}}' ORDER BY year ASC\",\n",
    "      \"format\": {\n",
    "        \"type\": \"json\",\n",
    "        \"property\": \"rows\"\n",
    "      }\n",
    "    },\n",
    "    {\n",
    "      \"name\": \"maximum\",\n",
    "      \"source\": \"data\",\n",
    "      \"transform\": [{\n",
    "          \"type\": \"collect\",\n",
    "          \"sort\": {\n",
    "            \"field\": [\"value\"],\n",
    "            \"order\": [\"descending\"]\n",
    "          }\n",
    "        }\n",
    "      ]\n",
    "    },\n",
    "    {\"name\": \"table\",\n",
    "    \"source\":\"data\",\n",
    "    \"transform\": [\n",
    "      {\n",
    "          \"type\": \"collect\",\n",
    "          \"sort\": {\n",
    "            \"field\": [\"year\"],\n",
    "            \"order\": [\"ascending\"]\n",
    "          }\n",
    "        },\n",
    "        {\n",
    "          \"type\": \"stack\",\n",
    "          \"groupby\": [\n",
    "            \"year\"\n",
    "          ],\n",
    "          \"sort\": {\n",
    "            \"field\": \"variable\",\n",
    "            \"order\": \"descending\"\n",
    "          },\n",
    "          \"field\": \"value\"\n",
    "        }\n",
    "      ] }\n",
    "  ],\n",
    "  \"scales\": [\n",
    "    {\n",
    "      \"name\": \"x\",\n",
    "      \"type\": \"band\",\n",
    "      \"range\": \"width\",\n",
    "      \"domain\": {\n",
    "        \"data\": \"table\",\n",
    "        \"field\": \"year\"\n",
    "      }\n",
    "    },\n",
    "    {\n",
    "      \"name\": \"y\",\n",
    "      \"type\": \"linear\",\n",
    "      \"range\": \"height\",\n",
    "      \"nice\": true,\n",
    "      \"zero\": true,\n",
    "      \"domain\": {\n",
    "        \"data\": \"table\",\n",
    "        \"field\": \"value\"\n",
    "      },\n",
    "      \"domainMax\": {\"signal\": \"max < 1 ? 10 : max\"}\n",
    "    },\n",
    "    {\n",
    "      \"name\": \"legend\",\n",
    "      \"type\": \"ordinal\",\n",
    "      \"range\": [\n",
    "        \"#84c0d0\",\n",
    "        \"#005c7e\"\n",
    "      ],\n",
    "      \"domain\": [\n",
    "        \"Marine Energy\",\n",
    "        \"Offshore Wind Energy\"\n",
    "      ]\n",
    "    }\n",
    "  ],\n",
    "  \"axes\": [\n",
    "    {\n",
    "      \"orient\": \"bottom\",\n",
    "      \"scale\": \"x\",\n",
    "      \"zindex\": 0,\n",
    "      \"labelBaseline\": \"middle\",\n",
    "      \"ticks\": true,\n",
    "      \"tickSize\": 5,\n",
    "      \"labelFontSize\": 10,\n",
    "      \"labelOverlap\": true\n",
    "    },\n",
    "    {\n",
    "      \"orient\": \"left\",\n",
    "      \"scale\": \"y\",\n",
    "      \"zindex\": 0,\n",
    "      \"title\": \"Energy Generation (GWh)\",\n",
    "      \"titleFont\": \"Lato\",\n",
    "      \"labelBaseline\": \"middle\",\n",
    "      \"labelAlign\": \"right\",\n",
    "      \"labelPadding\": 3,\n",
    "      \"grid\": true,\n",
    "      \"gridOpacity\": 0.2,\n",
    "      \"labelFontSize\": 10,\n",
    "      \"encode\": {\n",
    "        \"labels\": {\n",
    "          \"update\": {\n",
    "            \"text\": {\n",
    "              \"signal\": \"format(datum.value, '.2s')\"\n",
    "            }\n",
    "          }\n",
    "        }\n",
    "      }\n",
    "    }\n",
    "  ],\n",
    "  \"marks\": [\n",
    "    {\n",
    "      \"type\": \"rect\",\n",
    "      \"from\": {\n",
    "        \"data\": \"table\"\n",
    "      },\n",
    "      \"encode\": {\n",
    "        \"enter\": {\n",
    "          \"x\": {\n",
    "            \"scale\": \"x\",\n",
    "            \"field\": \"year\"\n",
    "          },\n",
    "          \"width\": {\n",
    "            \"scale\": \"x\",\n",
    "            \"band\": 1,\n",
    "            \"offset\": -1\n",
    "          },\n",
    "          \"y\": {\n",
    "            \"scale\": \"y\",\n",
    "            \"field\": \"y0\"\n",
    "          },\n",
    "          \"y2\": {\n",
    "            \"scale\": \"y\",\n",
    "            \"field\": \"y1\"\n",
    "          },\n",
    "          \"fill\": [\n",
    "            {\"test\": \"datum.variable === 'Offshore Wind Energy'\",\n",
    "            \"value\": \"#005c7e\"},\n",
    "            {\"value\":\"#84c0d0\" }\n",
    "          ]\n",
    "        },\n",
    "        \"update\": {\n",
    "          \"fillOpacity\": {\n",
    "            \"value\": 1\n",
    "          }\n",
    "        },\n",
    "        \"hover\": {\n",
    "          \"fillOpacity\": {\n",
    "            \"value\": 0.5\n",
    "          }\n",
    "        }\n",
    "      }\n",
    "    }\n",
    "  ],\n",
    "  \"legends\": [\n",
    "    {\n",
    "      \"title\": [\n",
    "        \"Technology:\"\n",
    "      ],\n",
    "      \"titleFont\": \"Lato\",\n",
    "      \"labelFont\": \"Lato\",\n",
    "      \"fill\": \"legend\",\n",
    "      \"orient\": \"right\"\n",
    "    }\n",
    "  ],\n",
    "  \n",
    "    \"interaction_config\": [\n",
    "    {\n",
    "      \"name\": \"tooltip\",\n",
    "      \"config\": {\n",
    "        \"fields\": [\n",
    "          {\n",
    "            \"column\": \"variable\",\n",
    "            \"property\": \"Technology\",\n",
    "            \"type\": \"text\",\n",
    "            \"format\": \"\"\n",
    "          },\n",
    "          {\n",
    "            \"column\": \"datum.date\",\n",
    "            \"property\": \"Year\",\n",
    "            \"type\": \"text\",\n",
    "            \"format\": \"\"\n",
    "          },\n",
    "          {\n",
    "            \"column\": \"value\",\n",
    "            \"property\": \"Energy generation (Gwh)\",\n",
    "            \"type\": \"number\",\n",
    "            \"format\": \",.0f\"\n",
    "          }\n",
    "\n",
    "        ]\n",
    "      }\n",
    "    }\n",
    "  ]\n",
    "}\n",
    "\"\"\")"
   ]
  },
  {
   "cell_type": "markdown",
   "metadata": {},
   "source": [
    "Due to differences in default parameters in the Resource Watch Widget Editor, some minor changes need to be made to display the chart in the notebook"
   ]
  },
  {
   "cell_type": "code",
   "execution_count": 6,
   "metadata": {},
   "outputs": [
    {
     "data": {
      "application/vnd.vega.v5+json": {
       "autosize": {
        "type": "fit"
       },
       "axes": [
        {
         "labelBaseline": "top",
         "labelFontSize": 10,
         "labelOverlap": true,
         "orient": "bottom",
         "scale": "x",
         "tickSize": 5,
         "ticks": true,
         "zindex": 0
        },
        {
         "encode": {
          "labels": {
           "update": {
            "text": {
             "signal": "format(datum.value, '.2s')"
            }
           }
          }
         },
         "grid": true,
         "gridOpacity": 0.2,
         "labelAlign": "right",
         "labelBaseline": "middle",
         "labelFontSize": 10,
         "labelPadding": 3,
         "orient": "left",
         "scale": "y",
         "title": "Energy Generation (GWh)",
         "titleFont": "Arial",
         "zindex": 0
        }
       ],
       "data": [
        {
         "format": {
          "property": "rows",
          "type": "json"
         },
         "name": "data",
         "url": "https://wri-rw.carto.com/api/v2/sql?q=SELECT date AS year, value, variable FROM ow_widget_territory AS data LEFT OUTER JOIN  gadm36_0 gadm ON data.gid_0 = gadm.gid_0 WHERE  section = 'indicator' AND widget = 'renewable energy generation' AND  variable != 'Total Energy' AND gadm.geostore_prod ILIKE 'fe855e0073d3a7c45ccd5f653841bb8d' ORDER BY year ASC"
        },
        {
         "name": "maximum",
         "source": "data",
         "transform": [
          {
           "sort": {
            "field": [
             "value"
            ],
            "order": [
             "descending"
            ]
           },
           "type": "collect"
          }
         ]
        },
        {
         "name": "table",
         "source": "data",
         "transform": [
          {
           "sort": {
            "field": [
             "year"
            ],
            "order": [
             "ascending"
            ]
           },
           "type": "collect"
          },
          {
           "field": "value",
           "groupby": [
            "year"
           ],
           "sort": {
            "field": "variable",
            "order": "descending"
           },
           "type": "stack"
          }
         ]
        }
       ],
       "height": 200,
       "interaction_config": [
        {
         "config": {
          "fields": [
           {
            "column": "variable",
            "format": "",
            "property": "Technology",
            "type": "text"
           },
           {
            "column": "datum.date",
            "format": "",
            "property": "Year",
            "type": "text"
           },
           {
            "column": "value",
            "format": ",.0f",
            "property": "Energy generation (Gwh)",
            "type": "number"
           }
          ]
         },
         "name": "tooltip"
        }
       ],
       "legends": [
        {
         "fill": "legend",
         "labelFont": "Arial",
         "orient": "right",
         "title": [
          "Technology:"
         ],
         "titleFont": "Arial"
        }
       ],
       "marks": [
        {
         "encode": {
          "enter": {
           "fill": [
            {
             "test": "datum.variable === 'Offshore Wind Energy'",
             "value": "#005c7e"
            },
            {
             "value": "#84c0d0"
            }
           ],
           "width": {
            "band": 1,
            "offset": -1,
            "scale": "x"
           },
           "x": {
            "field": "year",
            "scale": "x"
           },
           "y": {
            "field": "y0",
            "scale": "y"
           },
           "y2": {
            "field": "y1",
            "scale": "y"
           }
          },
          "hover": {
           "fillOpacity": {
            "value": 0.5
           }
          },
          "update": {
           "fillOpacity": {
            "value": 1
           }
          }
         },
         "from": {
          "data": "table"
         },
         "type": "rect"
        }
       ],
       "padding": 5,
       "scales": [
        {
         "domain": {
          "data": "table",
          "field": "year"
         },
         "name": "x",
         "range": "width",
         "type": "band"
        },
        {
         "domain": {
          "data": "table",
          "field": "value"
         },
         "domainMax": {
          "signal": "max < 1 ? 10 : max"
         },
         "name": "y",
         "nice": true,
         "range": "height",
         "type": "linear",
         "zero": true
        },
        {
         "domain": [
          "Marine Energy",
          "Offshore Wind Energy"
         ],
         "name": "legend",
         "range": [
          "#84c0d0",
          "#005c7e"
         ],
         "type": "ordinal"
        }
       ],
       "signals": [
        {
         "name": "hover",
         "on": [
          {
           "events": "@cell:mouseover",
           "update": "datum"
          },
          {
           "events": "@cell:mouseout",
           "update": "null"
          }
         ],
         "value": null
        },
        {
         "name": "max",
         "update": "data('maximum')[0]['value']"
        }
       ],
       "width": 500
      },
      "image/png": "[encoded data removed]"
     },
     "metadata": {},
     "output_type": "display_data"
    }
   ],
   "source": [
    "vega_view=dict(spec)\n",
    "vega_view['height'] = widget_height\n",
    "vega_view['width'] = widget_width\n",
    "vega_view['axes'][0]['labelBaseline']= \"top\"\n",
    "vega_view['legends'][0]['labelFont'] = 'Arial'\n",
    "vega_view['legends'][0]['titleFont'] = 'Arial'\n",
    "vega_view['axes'][1]['titleFont'] = 'Arial'\n",
    "vega_view['data'][0]['url']= vega_view['data'][0]['url'].replace('{{geostore_env}}','geostore_prod')\n",
    "vega_view['data'][0]['url'] = vega_view['data'][0]['url'].replace('{{geostore_id}}','fe855e0073d3a7c45ccd5f653841bb8d')\n",
    "Vega(vega_view)"
   ]
  },
  {
   "cell_type": "markdown",
   "metadata": {},
   "source": [
    "[Open the Chart in the Vega Editor](https://vega.github.io/editor/#/url/vega/N4IghgrgLg9gzgSwF4FMQC5RQJ4Ac3ogBmCUIAvgDQgDuCAJlABYYCsADO9UyggOZMy6AEydquMPXoIAdnzbVEfGWAA2cDAG1QKgLYEQTGADcUAJxDVjaiARkRVq6jBlbQKUzKgbCAAQDGKI7oujAQcCgm5pYgELj0YFAGCVAQuhSU7p7eGCABQaohYRFhZNRxKQb2jhQAuuS11ClgbiB6BlBgAEaqaOVmqrmCULhw6AD04zRmCAC0ZjQAdP5gZrDLMLrjYLgI48bC43AAjqoA-McAvADKAKIAMrcAwgAqAASVbwCC12-YKKtKG9rKpbEDrDNur03gAxABKAHkALJvGA0AD6dHofBQUHRSTMM1gZmw31+zTejxh7wRAFUXrc4W8AFIIgCSADk3m8+JJdABmABs6PYPL5bwRXOaiz4DBFb0uYvouhlctFAHUABKM27ciL+KAIFwKt4Aclk0hWxNN3w5ABE3licVATaazCgZCgaFCUG8PeY+KScZ6zIkjTIbV97dyIQgfW8AISK00vGCdVRvW4hwOR6O85Wq+jytn3NkAaV1poA4vcAEI2hFwu2Mt61gCafwBZjJTxiRBgZl0iQwWDwBgAVnAXDFcGYYPg1thcnOaBoqCAoKGZHB+4PWjh8Lk4J1-ABrGJ8OdxLpL9CaED-VYgRogKdrEfEBBBei5WM+mIDvQ0SEEBcCBDI0hyBkn7fr+NhoA0DSKCsvQ+NobRgPouQAB4xAeBhdGAEExFuOK5FizAxPQmxgLIH7NLknQ9H0MGqD+hCPhY5BUDomEGEu1D4bkqiyF2JFEWRhA8PwggxDICCBBgm5giAqBzkpZgqdRQ50ZgIAMYQTG9H2X5sXBoIITxGFYYQvTBj+gljrkgGyGo4lyAQ94AMQABwACz+Ow9DsDEXmcKw-gAOxoC+2m0a4d4gEiqyiZm2YCSACJEEQcBGO6bzqhaaUBku9QvmA2EoGhoADl+Xi5F0aawOkyFqAYuHUEgFooLh6BcCAqjdEEtZgBEImerkugMPQxmCQpp4+MpKBzWe1zIAQrDUINXRBDCLhQGtqAYAAjP1227ftuRfJCgxbUNqgIqYAw7BpthWbVHpCANKBEGUr4ofxMRdRBPUYP1hpQMZhBZiVbxVv6oaGsaAAUVbqkwACUMTnaoI1jaJk3TbNA33V8InKMuMl-TjAAKkiQfI6D8tQl4MK9y0gKz9AIhI-ikLe7CLMId07aoe1eIdBCnSLF31YQ11xrdIAev4MBAR+OM+KAFSJAQWA9UIoBKCogyELuQ5QMjKRpIsIJgmaQtwKaWPca7L5DmYC37k5hDugafZzukekGRu-7rirat68rXjAaAvVGwDOEmbBHFieuFEsHpYFtUn1CEcR6DHc42UREIszHeut4JznHHJ2ZHEhZXwgftnUMPnX7EPsd0EkDUd768euTWyqf7MQqlzJllOV5b6hUQcVZg5jEdsGGF7ARdFGSgCvuS+QFQWNy+sAwKohq4C3-Am7kwApig-hMDIJ8wDm6DD7bKU+pQpow4vQYI2GLhTToHNokZGV4IJW0SDbFeGMv5fwxm8AA1GaOG6NTTkAoOuHWSQPy9werzfmH4d6F24twKIFg9J4J5mAPmOAiHwTBosVgrskLfXstVDcpAob3heHfB+T9AyEBfHg4SKB7IARmJ9SmAgyCISAA)"
   ]
  },
  {
   "cell_type": "markdown",
   "metadata": {},
   "source": [
    "# Indicator Value"
   ]
  },
  {
   "cell_type": "markdown",
   "metadata": {},
   "source": [
    "## Country"
   ]
  },
  {
   "cell_type": "markdown",
   "metadata": {},
   "source": [
    "```sql\n",
    "\n",
    "SELECT CASE \n",
    "\tWHEN ratio > 1 THEN CAST(ROUND(CAST(ratio AS numeric), 2) AS text) \n",
    "    WHEN ratio < 1 AND ratio > 0 THEN '<1'\n",
    "    ELSE '0' \n",
    "    END AS value\n",
    "    FROM \n",
    "        (SELECT \n",
    "            SUM (CASE \n",
    "                WHEN subtechnology IN ('Offshore Wind', 'Marine') \n",
    "                    THEN generation_gwh \n",
    "                ELSE 0 END)\n",
    "            /SUM(generation_gwh)*100 AS ratio \n",
    "            FROM ene_009_renewable_generation_annually_edit \n",
    "INNER JOIN gadm36_0 gadm ON iso_a3 = gadm.gid_0 WHERE year=2018 \n",
    "AND gadm.{{geostore_env}} ILIKE '{{geostore_id}}' \n",
    "GROUP BY iso_a3) data\n",
    "```\n",
    "raw: `https://wri-rw.carto.com/api/v2/sql?q=SELECT CASE WHEN ratio > 1 THEN CASTCAST(ROUND(CAST(ratio AS numeric), 2) AS text) WHEN ratio < 1 AND ratio > 0 THEN '<1' ELSE '0'  END AS value FROM (SELECT SUM(CASE WHEN subtechnology IN ('Offshore Wind', 'Marine') THEN generation_gwh ELSE 0 END)/SUM(generation_gwh)*100 AS ratio FROM ene_009_renewable_generation_annually_edit INNER JOIN gadm36_0 gadm ON iso_a3 = gadm.gid_0 WHERE year=2018 AND gadm.{{geostore_env}} ILIKE '{{geostore_id}}' GROUP BY iso_a3) data`\n",
    "\n"
   ]
  },
  {
   "cell_type": "markdown",
   "metadata": {},
   "source": [
    "## World"
   ]
  },
  {
   "cell_type": "markdown",
   "metadata": {},
   "source": [
    "```sql\n",
    "SELECT  \n",
    "    SUM(CASE \n",
    "        WHEN subtechnology IN ('Offshore Wind', 'Marine') THEN generation_gwh\n",
    "        ELSE 0\n",
    "        END)\n",
    "        /SUM(generation_gwh)*100 proportion\n",
    "FROM ene_009_renewable_generation_annually_edit \n",
    "INNER JOIN gadm36_0 gadm ON iso_a3 = gadm.gid_0 \n",
    "WHERE year=2018 \n",
    "```"
   ]
  },
  {
   "cell_type": "markdown",
   "metadata": {},
   "source": [
    "```query```: [https://wri-rw.carto.com/api/v2/sql?q=SELECT SUM(CASE WHEN subtechnology IN ('Offshore Wind', 'Marine') THEN generation_gwh ELSE 0 END)/SUM(generation_gwh)*100 proportion FROM ene_009_renewable_generation_annually_edit INNER JOIN gadm36_0 gadm ON iso_a3 = gadm.gid_0 WHERE year=2018](https://wri-rw.carto.com/api/v2/sql?q=SELECT%20SUM(CASE%20WHEN%20subtechnology%20IN%20(%27Offshore%20Wind%27,%20%27Marine%27)%20THEN%20generation_gwh%20ELSE%200%20END)/SUM(generation_gwh)*100%20proportion%20FROM%20ene_009_renewable_generation_annually_edit%20INNER%20JOIN%20gadm36_0%20gadm%20ON%20iso_a3%20=%20gadm.gid_0%20WHERE%20year=2018)"
   ]
  },
  {
   "cell_type": "markdown",
   "metadata": {},
   "source": [
    "## RW Backoffice"
   ]
  },
  {
   "cell_type": "markdown",
   "metadata": {},
   "source": [
    "- [back office](https://resourcewatch.org/admin/data/widgets/3a6c3ff4-e1a5-4209-835d-40dabe37c1c5/edit?dataset=1ed420e2-9283-4ced-b7b6-d5268be7a324)\n",
    "- parent dataset [ene_009](https://resourcewatch.org/data/explore/1ed420e2-9283-4ced-b7b6-d5268be7a324) \n",
    "- dataset id ```1ed420e2-9283-4ced-b7b6-d5268be7a324```\n",
    "- widget id: ```3a6c3ff4-e1a5-4209-835d-40dabe37c1c5```"
   ]
  },
  {
   "cell_type": "code",
   "execution_count": null,
   "metadata": {},
   "outputs": [],
   "source": []
  }
 ],
 "metadata": {
  "kernelspec": {
   "display_name": "Python 3",
   "language": "python",
   "name": "python3"
  },
  "language_info": {
   "codemirror_mode": {
    "name": "ipython",
    "version": 3
   },
   "file_extension": ".py",
   "mimetype": "text/x-python",
   "name": "python",
   "nbconvert_exporter": "python",
   "pygments_lexer": "ipython3",
   "version": "3.7.7"
  }
 },
 "nbformat": 4,
 "nbformat_minor": 4
}
