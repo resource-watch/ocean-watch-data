{
 "cells": [
  {
   "cell_type": "markdown",
   "metadata": {},
   "source": [
    "# Assigning River Names to a Global River Dataset"
   ]
  },
  {
   "cell_type": "markdown",
   "metadata": {},
   "source": [
    "The purpose of this notebook is to document the workflow for havesting river locations and names from [OpenStreetMap](https://www.openstreetmap.org/) to assign names to the [HydroRivers](https://www.hydrosheds.org/page/hydrorivers) Dataset"
   ]
  },
  {
   "cell_type": "markdown",
   "metadata": {},
   "source": [
    "## Harvesting global river data from OSM"
   ]
  },
  {
   "cell_type": "markdown",
   "metadata": {},
   "source": [
    "Using the [Overpass API](https://wiki.openstreetmap.org/wiki/Overpass_API), all elements with the tag `waterway=river` were downloaded from OSM and saved to a shapefile using [a python script](https://github.com/rachelthoms/wri-projects/blob/main/ocean-watch/processing-scripts/global-rivers/harvest-rivers.py)."
   ]
  },
  {
   "cell_type": "markdown",
   "metadata": {},
   "source": [
    "The script failed to download data for 3 bouding boxes in Europe due to the high density of rivers. A modified version of the script was run to download and save this data. See code below:"
   ]
  },
  {
   "cell_type": "code",
   "execution_count": 1,
   "metadata": {},
   "outputs": [],
   "source": [
    "import osm2geojson \n",
    "import requests\n",
    "import json\n",
    "import fiona\n",
    "from fiona.crs import from_epsg\n",
    "import time\n",
    "import geopandas as gdp\n",
    "import pandas as pd\n",
    "import geojson"
   ]
  },
  {
   "cell_type": "code",
   "execution_count": 2,
   "metadata": {},
   "outputs": [],
   "source": [
    "# Define list of missing bounding boxes (note these are 1/2 the size of the bounding boxes in the original script)\n",
    "missing_bbox_list= [(40,0,45,10),(45,0,50,10),(40,10,45,20),(45,10,50,20)]\n",
    "\n",
    "# Define the progression of timeouts - increasing by 3 minutes, every 3 attempts\n",
    "time_outs=[180,180,180,360,360,360,540,540,540]\n",
    "\n",
    "# Define a list to store the river elements\n",
    "rivers=[]"
   ]
  },
  {
   "cell_type": "code",
   "execution_count": 3,
   "metadata": {},
   "outputs": [],
   "source": [
    "# Define the url to the hosted Overpass API to use\n",
    "overpass_url = \"https://overpass.openstreetmap.fr/api/interpreter\""
   ]
  },
  {
   "cell_type": "code",
   "execution_count": 4,
   "metadata": {},
   "outputs": [],
   "source": [
    "# Create a template for the Overpass QL query\n",
    "template = \"\"\"\n",
    "[out:json]\n",
    "[timeout:{time_out}];\n",
    "way{bbox}[waterway=river][\"name\"];\n",
    "(._;>;);out;\n",
    "\"\"\""
   ]
  },
  {
   "cell_type": "code",
   "execution_count": 5,
   "metadata": {},
   "outputs": [
    {
     "name": "stdout",
     "output_type": "stream",
     "text": [
      "Getting rivers for: (40, 0, 45, 10)\n",
      "8445 rivers added. Total rivers: 8445\n",
      "Getting rivers for: (45, 0, 50, 10)\n",
      "27298 rivers added. Total rivers: 35743\n",
      "Getting rivers for: (40, 10, 45, 20)\n",
      "3042 rivers added. Total rivers: 38785\n",
      "Getting rivers for: (45, 10, 50, 20)\n",
      "11924 rivers added. Total rivers: 50709\n"
     ]
    }
   ],
   "source": [
    "# Iterate through the list of missing bounding boxes, download the tagged river elements, \n",
    "# and save as a geojson object within a list: \n",
    "\n",
    "for bbox in missing_bbox_list:    \n",
    "    print(\"Getting rivers for: \" + str(bbox))\n",
    "    for attempt in range(10):                \n",
    "        try: \n",
    "            overpass_query= template.format(time_out=time_outs[attempt],bbox=bbox)\n",
    "            response = requests.get(overpass_url, params={'data': overpass_query,}, headers = {'User-agent': 'wriuser'})\n",
    "            data = response.json()  \n",
    "            geojson= osm2geojson.json2geojson(data)\n",
    "            break\n",
    "        except: \n",
    "            print(\"error \" + str(response.status_code) + \"- retrying in 3 minutes\")\n",
    "            time.sleep(180)                \n",
    "    else:\n",
    "        print(\"unable to fetch data for\" + str(bbox))\n",
    "        break            \n",
    "    for way in geojson['features']: \n",
    "        rivers.append(way)\n",
    "    print(str(len(geojson['features'])) + \" rivers added. Total rivers: \" + str(len(rivers)))"
   ]
  },
  {
   "cell_type": "code",
   "execution_count": 6,
   "metadata": {},
   "outputs": [
    {
     "name": "stdout",
     "output_type": "stream",
     "text": [
      "could not add Rio Mare Foghe\n"
     ]
    }
   ],
   "source": [
    "# for each river, convert the geojson object to an object that can be read by fiona and write to a shapefile\n",
    "schema = {'geometry': 'LineString', 'properties': {'Name':'str:80'}}\n",
    "shapeout = \"missing_osm_river_names.shp\"\n",
    "with fiona.open(shapeout, 'w',crs=from_epsg(4326),driver='ESRI Shapefile', encoding='utf-8', schema=schema) as output:\n",
    "    for way in rivers:\n",
    "        # the shapefile geometry use (lon,lat) \n",
    "        line = {'type': 'LineString', 'coordinates': way['geometry']['coordinates']}\n",
    "        prop = {'Name': way['properties']['tags']['name']}\n",
    "        try:\n",
    "            output.write({'geometry': line, 'properties':prop})  \n",
    "        except:\n",
    "            print(\"could not add \" + prop[\"Name\"])"
   ]
  },
  {
   "cell_type": "code",
   "execution_count": 7,
   "metadata": {},
   "outputs": [
    {
     "name": "stdout",
     "output_type": "stream",
     "text": [
      "could not add Rio Mare Foghe\n"
     ]
    }
   ],
   "source": [
    "schema = {'geometry': 'LineString', 'properties': {'Name':'str:80'}}\n",
    "shapeout = \"missing_osm_river_names.shp.geojson\"\n",
    "with fiona.open(shapeout, 'w',crs=from_epsg(4326),driver='GeoJSON', encoding='utf-8', schema=schema) as output:\n",
    "    for way in rivers:\n",
    "        # the shapefile geometry use (lon,lat) \n",
    "        line = {'type': 'LineString', 'coordinates': way['geometry']['coordinates']}\n",
    "        prop = {'Name': way['properties']['tags']['name']}\n",
    "        try:\n",
    "            output.write({'geometry': line, 'properties':prop})  \n",
    "        except:\n",
    "            print(\"could not add \" + prop[\"Name\"])"
   ]
  },
  {
   "cell_type": "markdown",
   "metadata": {},
   "source": [
    "The original OSM river dataset and the smaller European dataset were combined into one shapefile. See code below:"
   ]
  },
  {
   "cell_type": "code",
   "execution_count": 9,
   "metadata": {},
   "outputs": [],
   "source": [
    "# load in the two OSM river datasets\n",
    "to_add_gdf = gdp.read_file(\"missing_osm_river_names.shp\")\n",
    "rivers_gdf = gdp.read_file(\"merged_osm_river_names.shp\")"
   ]
  },
  {
   "cell_type": "code",
   "execution_count": 10,
   "metadata": {},
   "outputs": [],
   "source": [
    "# combine the datasets\n",
    "rivers_gdf = pd.concat([to_add_gdf, rivers_gdf], ignore_index=True)"
   ]
  },
  {
   "cell_type": "code",
   "execution_count": 12,
   "metadata": {},
   "outputs": [],
   "source": [
    "# save as an shapefile\n",
    "rivers_gdf.to_file(driver = 'ESRI Shapefile', encoding = 'utf-8', filename = 'osm_rivers_final.shp')"
   ]
  }
 ],
 "metadata": {
  "interpreter": {
   "hash": "ddaddeadec558af86f7229c24386d30e394b32dc3a4cc649c7f02c06d14c7e4a"
  },
  "kernelspec": {
   "display_name": "Python 3",
   "language": "python",
   "name": "python3"
  },
  "language_info": {
   "codemirror_mode": {
    "name": "ipython",
    "version": 3
   },
   "file_extension": ".py",
   "mimetype": "text/x-python",
   "name": "python",
   "nbconvert_exporter": "python",
   "pygments_lexer": "ipython3",
   "version": "3.7.10"
  }
 },
 "nbformat": 4,
 "nbformat_minor": 4
}
