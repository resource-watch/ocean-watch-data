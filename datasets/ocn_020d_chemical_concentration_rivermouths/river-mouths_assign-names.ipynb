{
 "cells": [
  {
   "cell_type": "markdown",
   "id": "e526ade1",
   "metadata": {},
   "source": [
    "## Assign names to HydroRivers in ArcMap"
   ]
  },
  {
   "cell_type": "markdown",
   "id": "0c1dbfa5",
   "metadata": {},
   "source": [
    "The following workflow was used to assign river names from OSM to the rivers in the HydroRivers dataset."
   ]
  },
  {
   "cell_type": "markdown",
   "id": "978170ef",
   "metadata": {},
   "source": [
    "1. Project the OSM and HydroRivers datasets to a [Mollewide Equal Area](https://desktop.arcgis.com/en/arcmap/latest/map/projections/mollweide.htm) projection.\n",
    "2. Subset the HydroRivers to the target rivers used for calculating the [Chemical Concentrations at River Mouths](https://github.com/pkerins/wri-projects/blob/master/ocean-watch/visualizations/river-mouth-water-quality.ipynb).\n",
    "    - ```sql \n",
    "    SELECT * WHERE ORD_CLAS = 1 AND ENDORHEIC = 0 AND ORD_FLOW <= 5 AND MAIN_RIV = HYRIV_ID\n",
    "    ```\n",
    "3. Subset the OSM dataset to rivers that are within 1 km of the target HydroRivers using [Select by Location](https://desktop.arcgis.com/en/arcmap/10.3/map/working-with-layers/using-select-by-location.htm).\n",
    "4. [Spatially join](https://desktop.arcgis.com/en/arcmap/10.3/tools/analysis-toolbox/spatial-join.htm) the subsetted OSM and target HydroRivers Dataset using `JOIN_ONE_TO_ONE`, `KEEP_COMMON`, `CLOSEST_GEODESIC`, and a `Search Radius` of 250 Meters.\n",
    "5. Upload the resulting table to Carto - [ocn_calcs_010_target_river_mouths_osm_names](https://resourcewatch.carto.com/u/wri-rw/dataset/ocn_calcs_010_target_river_mouths_osm_names)\n",
    "6. Insert the `osm_name` column into the table [ocn_calcs_010_target_river_mouths](https://resourcewatch.carto.com/u/wri-rw/dataset/ocn_calcs_010_target_river_mouths)"
   ]
  }
 ],
 "metadata": {
  "kernelspec": {
   "display_name": "",
   "name": ""
  },
  "language_info": {
   "name": ""
  }
 },
 "nbformat": 4,
 "nbformat_minor": 5
}
